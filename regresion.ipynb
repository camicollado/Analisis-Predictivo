{
 "cells": [
  {
   "cell_type": "markdown",
   "metadata": {},
   "source": [
    "# Algoritmos predictivos"
   ]
  },
  {
   "cell_type": "markdown",
   "metadata": {},
   "source": [
    "Predecir la calidad de una app (rating/estrellas)\n",
    "\n",
    "Tipo de predicción: **regresión**"
   ]
  },
  {
   "cell_type": "markdown",
   "metadata": {},
   "source": [
    "## Librerias"
   ]
  },
  {
   "cell_type": "code",
   "execution_count": 199,
   "metadata": {},
   "outputs": [],
   "source": [
    "import pandas as pd\n",
    "import numpy as np\n",
    "import matplotlib.pyplot as plt "
   ]
  },
  {
   "cell_type": "markdown",
   "metadata": {},
   "source": [
    "## Dataset"
   ]
  },
  {
   "cell_type": "code",
   "execution_count": 2,
   "metadata": {},
   "outputs": [
    {
     "name": "stderr",
     "output_type": "stream",
     "text": [
      "/var/folders/28/24dngf7d6n36_8l0n_hsjj900000gn/T/ipykernel_76101/3023763804.py:1: FutureWarning: The error_bad_lines argument has been deprecated and will be removed in a future version. Use on_bad_lines in the future.\n",
      "\n",
      "\n",
      "  df = pd.read_csv(\"GooglePlayStoreFE.csv\", engine='python', encoding='utf-8', error_bad_lines=False)\n"
     ]
    }
   ],
   "source": [
    "df = pd.read_csv(\"GooglePlayStoreFE.csv\", engine='python', encoding='utf-8', error_bad_lines=False)"
   ]
  },
  {
   "cell_type": "code",
   "execution_count": 3,
   "metadata": {},
   "outputs": [
    {
     "data": {
      "text/html": [
       "<div>\n",
       "<style scoped>\n",
       "    .dataframe tbody tr th:only-of-type {\n",
       "        vertical-align: middle;\n",
       "    }\n",
       "\n",
       "    .dataframe tbody tr th {\n",
       "        vertical-align: top;\n",
       "    }\n",
       "\n",
       "    .dataframe thead th {\n",
       "        text-align: right;\n",
       "    }\n",
       "</style>\n",
       "<table border=\"1\" class=\"dataframe\">\n",
       "  <thead>\n",
       "    <tr style=\"text-align: right;\">\n",
       "      <th></th>\n",
       "      <th>Unnamed: 0</th>\n",
       "      <th>Rating</th>\n",
       "      <th>Rating.Count</th>\n",
       "      <th>Maximum.Installs</th>\n",
       "      <th>Price</th>\n",
       "      <th>Size.mb</th>\n",
       "      <th>Free</th>\n",
       "      <th>Ad.Supported</th>\n",
       "      <th>In.App.Purchases</th>\n",
       "      <th>Editors.Choice</th>\n",
       "      <th>ReleasedDA</th>\n",
       "      <th>Last.UpdatedDA</th>\n",
       "      <th>Category</th>\n",
       "      <th>Minimum.Andorid</th>\n",
       "      <th>Developer.Id</th>\n",
       "      <th>Content.Rating</th>\n",
       "    </tr>\n",
       "  </thead>\n",
       "  <tbody>\n",
       "    <tr>\n",
       "      <th>0</th>\n",
       "      <td>1</td>\n",
       "      <td>0.0</td>\n",
       "      <td>0</td>\n",
       "      <td>15.0</td>\n",
       "      <td>0.0</td>\n",
       "      <td>10.0</td>\n",
       "      <td>1</td>\n",
       "      <td>0</td>\n",
       "      <td>0</td>\n",
       "      <td>0</td>\n",
       "      <td>490</td>\n",
       "      <td>490</td>\n",
       "      <td>Adventure</td>\n",
       "      <td>7.1</td>\n",
       "      <td>Jean Confident Irénée NIYIZIBYOSE</td>\n",
       "      <td>Everyone</td>\n",
       "    </tr>\n",
       "    <tr>\n",
       "      <th>1</th>\n",
       "      <td>2</td>\n",
       "      <td>4.4</td>\n",
       "      <td>64</td>\n",
       "      <td>7662.0</td>\n",
       "      <td>0.0</td>\n",
       "      <td>2.9</td>\n",
       "      <td>1</td>\n",
       "      <td>1</td>\n",
       "      <td>0</td>\n",
       "      <td>0</td>\n",
       "      <td>405</td>\n",
       "      <td>55</td>\n",
       "      <td>Tools</td>\n",
       "      <td>5.0</td>\n",
       "      <td>Webserveis</td>\n",
       "      <td>Everyone</td>\n",
       "    </tr>\n",
       "    <tr>\n",
       "      <th>2</th>\n",
       "      <td>3</td>\n",
       "      <td>0.0</td>\n",
       "      <td>0</td>\n",
       "      <td>58.0</td>\n",
       "      <td>0.0</td>\n",
       "      <td>3.7</td>\n",
       "      <td>1</td>\n",
       "      <td>0</td>\n",
       "      <td>0</td>\n",
       "      <td>0</td>\n",
       "      <td>691</td>\n",
       "      <td>681</td>\n",
       "      <td>Productivity</td>\n",
       "      <td>4.0.3</td>\n",
       "      <td>Cabin Crew</td>\n",
       "      <td>Everyone</td>\n",
       "    </tr>\n",
       "    <tr>\n",
       "      <th>3</th>\n",
       "      <td>4</td>\n",
       "      <td>5.0</td>\n",
       "      <td>5</td>\n",
       "      <td>19.0</td>\n",
       "      <td>0.0</td>\n",
       "      <td>1.8</td>\n",
       "      <td>1</td>\n",
       "      <td>1</td>\n",
       "      <td>0</td>\n",
       "      <td>0</td>\n",
       "      <td>1024</td>\n",
       "      <td>991</td>\n",
       "      <td>Communication</td>\n",
       "      <td>4.0.3</td>\n",
       "      <td>Climate Smart Tech2</td>\n",
       "      <td>Everyone</td>\n",
       "    </tr>\n",
       "    <tr>\n",
       "      <th>4</th>\n",
       "      <td>5</td>\n",
       "      <td>0.0</td>\n",
       "      <td>0</td>\n",
       "      <td>89.0</td>\n",
       "      <td>0.0</td>\n",
       "      <td>46.0</td>\n",
       "      <td>1</td>\n",
       "      <td>0</td>\n",
       "      <td>1</td>\n",
       "      <td>0</td>\n",
       "      <td>919</td>\n",
       "      <td>558</td>\n",
       "      <td>Social</td>\n",
       "      <td>6.0</td>\n",
       "      <td>Imocci GmbH</td>\n",
       "      <td>Teen</td>\n",
       "    </tr>\n",
       "  </tbody>\n",
       "</table>\n",
       "</div>"
      ],
      "text/plain": [
       "   Unnamed: 0  Rating  Rating.Count  Maximum.Installs  Price  Size.mb  Free  \\\n",
       "0           1     0.0             0              15.0    0.0     10.0     1   \n",
       "1           2     4.4            64            7662.0    0.0      2.9     1   \n",
       "2           3     0.0             0              58.0    0.0      3.7     1   \n",
       "3           4     5.0             5              19.0    0.0      1.8     1   \n",
       "4           5     0.0             0              89.0    0.0     46.0     1   \n",
       "\n",
       "   Ad.Supported  In.App.Purchases  Editors.Choice  ReleasedDA  Last.UpdatedDA  \\\n",
       "0             0                 0               0         490             490   \n",
       "1             1                 0               0         405              55   \n",
       "2             0                 0               0         691             681   \n",
       "3             1                 0               0        1024             991   \n",
       "4             0                 1               0         919             558   \n",
       "\n",
       "        Category Minimum.Andorid                       Developer.Id  \\\n",
       "0      Adventure             7.1  Jean Confident Irénée NIYIZIBYOSE   \n",
       "1          Tools             5.0                         Webserveis   \n",
       "2   Productivity           4.0.3                         Cabin Crew   \n",
       "3  Communication           4.0.3                Climate Smart Tech2   \n",
       "4         Social             6.0                        Imocci GmbH   \n",
       "\n",
       "  Content.Rating  \n",
       "0       Everyone  \n",
       "1       Everyone  \n",
       "2       Everyone  \n",
       "3       Everyone  \n",
       "4           Teen  "
      ]
     },
     "execution_count": 3,
     "metadata": {},
     "output_type": "execute_result"
    }
   ],
   "source": [
    "df.head()"
   ]
  },
  {
   "cell_type": "code",
   "execution_count": 4,
   "metadata": {},
   "outputs": [],
   "source": [
    "df=df.drop(['Rating.Count'], axis=1)"
   ]
  },
  {
   "cell_type": "code",
   "execution_count": 5,
   "metadata": {},
   "outputs": [
    {
     "data": {
      "text/plain": [
       "Index(['Unnamed: 0', 'Rating', 'Maximum.Installs', 'Price', 'Size.mb', 'Free',\n",
       "       'Ad.Supported', 'In.App.Purchases', 'Editors.Choice', 'ReleasedDA',\n",
       "       'Last.UpdatedDA', 'Category', 'Minimum.Andorid', 'Developer.Id',\n",
       "       'Content.Rating'],\n",
       "      dtype='object')"
      ]
     },
     "execution_count": 5,
     "metadata": {},
     "output_type": "execute_result"
    }
   ],
   "source": [
    "df.columns"
   ]
  },
  {
   "cell_type": "code",
   "execution_count": 6,
   "metadata": {},
   "outputs": [
    {
     "data": {
      "text/plain": [
       "Index(['Unnamed: 0', 'Rating', 'MaximumInstalls', 'Price', 'SizeMB', 'Free',\n",
       "       'AdSupported', 'InAppPurchases', 'EditorsChoice', 'ReleasedDA',\n",
       "       'LastUpdatedDA', 'Category', 'MinimumAndroid', 'DeveloperId',\n",
       "       'ContentRating'],\n",
       "      dtype='object')"
      ]
     },
     "execution_count": 6,
     "metadata": {},
     "output_type": "execute_result"
    }
   ],
   "source": [
    "df = df.rename(columns={'Maximum.Installs':'MaximumInstalls',\n",
    "                        'Size.mb':'SizeMB',\n",
    "                        'Ad.Supported':'AdSupported',\n",
    "                        'In.App.Purchases':'InAppPurchases',\n",
    "                        'Editors.Choice':'EditorsChoice',\n",
    "                        'Last.UpdatedDA':'LastUpdatedDA',\n",
    "                        'Minimum.Andorid':'MinimumAndroid',\n",
    "                        'Developer.Id':'DeveloperId',\n",
    "                        'Content.Rating':'ContentRating'})\n",
    "\n",
    "df.columns"
   ]
  },
  {
   "cell_type": "code",
   "execution_count": 7,
   "metadata": {},
   "outputs": [
    {
     "data": {
      "text/plain": [
       "(2225319, 15)"
      ]
     },
     "execution_count": 7,
     "metadata": {},
     "output_type": "execute_result"
    }
   ],
   "source": [
    "df.shape"
   ]
  },
  {
   "cell_type": "markdown",
   "metadata": {},
   "source": [
    "Como la variable target es Rating y el fin de este modelo es poner un rating distinto de cero a las apps que no tienen, voy a quitar todos los registros con Rating 0."
   ]
  },
  {
   "cell_type": "code",
   "execution_count": 8,
   "metadata": {},
   "outputs": [],
   "source": [
    "df = df.drop(df[df['Rating']==0].index)"
   ]
  },
  {
   "cell_type": "code",
   "execution_count": 9,
   "metadata": {},
   "outputs": [
    {
     "data": {
      "text/plain": [
       "(1196055, 15)"
      ]
     },
     "execution_count": 9,
     "metadata": {},
     "output_type": "execute_result"
    }
   ],
   "source": [
    "df.shape"
   ]
  },
  {
   "cell_type": "markdown",
   "metadata": {},
   "source": [
    "## Encoding"
   ]
  },
  {
   "cell_type": "markdown",
   "metadata": {},
   "source": [
    "**ContentRating**: Ordinal encoding\n",
    "1. Everyone\n",
    "2. Everyone 10+\n",
    "3. Teen\n",
    "4. Mature 17+\n",
    "5. Adults only 18+\n"
   ]
  },
  {
   "cell_type": "code",
   "execution_count": 10,
   "metadata": {},
   "outputs": [
    {
     "data": {
      "text/html": [
       "<div>\n",
       "<style scoped>\n",
       "    .dataframe tbody tr th:only-of-type {\n",
       "        vertical-align: middle;\n",
       "    }\n",
       "\n",
       "    .dataframe tbody tr th {\n",
       "        vertical-align: top;\n",
       "    }\n",
       "\n",
       "    .dataframe thead th {\n",
       "        text-align: right;\n",
       "    }\n",
       "</style>\n",
       "<table border=\"1\" class=\"dataframe\">\n",
       "  <thead>\n",
       "    <tr style=\"text-align: right;\">\n",
       "      <th></th>\n",
       "      <th>Unnamed: 0</th>\n",
       "      <th>Rating</th>\n",
       "      <th>MaximumInstalls</th>\n",
       "      <th>Price</th>\n",
       "      <th>SizeMB</th>\n",
       "      <th>Free</th>\n",
       "      <th>AdSupported</th>\n",
       "      <th>InAppPurchases</th>\n",
       "      <th>EditorsChoice</th>\n",
       "      <th>ReleasedDA</th>\n",
       "      <th>LastUpdatedDA</th>\n",
       "      <th>Category</th>\n",
       "      <th>MinimumAndroid</th>\n",
       "      <th>DeveloperId</th>\n",
       "      <th>ContentRating</th>\n",
       "      <th>ContentRatingOrdinal</th>\n",
       "    </tr>\n",
       "  </thead>\n",
       "  <tbody>\n",
       "    <tr>\n",
       "      <th>1</th>\n",
       "      <td>2</td>\n",
       "      <td>4.4</td>\n",
       "      <td>7662.0</td>\n",
       "      <td>0.0</td>\n",
       "      <td>2.9</td>\n",
       "      <td>1</td>\n",
       "      <td>1</td>\n",
       "      <td>0</td>\n",
       "      <td>0</td>\n",
       "      <td>405</td>\n",
       "      <td>55</td>\n",
       "      <td>Tools</td>\n",
       "      <td>5.0</td>\n",
       "      <td>Webserveis</td>\n",
       "      <td>Everyone</td>\n",
       "      <td>1</td>\n",
       "    </tr>\n",
       "    <tr>\n",
       "      <th>3</th>\n",
       "      <td>4</td>\n",
       "      <td>5.0</td>\n",
       "      <td>19.0</td>\n",
       "      <td>0.0</td>\n",
       "      <td>1.8</td>\n",
       "      <td>1</td>\n",
       "      <td>1</td>\n",
       "      <td>0</td>\n",
       "      <td>0</td>\n",
       "      <td>1024</td>\n",
       "      <td>991</td>\n",
       "      <td>Communication</td>\n",
       "      <td>4.0.3</td>\n",
       "      <td>Climate Smart Tech2</td>\n",
       "      <td>Everyone</td>\n",
       "      <td>1</td>\n",
       "    </tr>\n",
       "    <tr>\n",
       "      <th>5</th>\n",
       "      <td>6</td>\n",
       "      <td>4.5</td>\n",
       "      <td>2567.0</td>\n",
       "      <td>0.0</td>\n",
       "      <td>2.5</td>\n",
       "      <td>1</td>\n",
       "      <td>1</td>\n",
       "      <td>0</td>\n",
       "      <td>0</td>\n",
       "      <td>646</td>\n",
       "      <td>642</td>\n",
       "      <td>Libraries &amp; Demo</td>\n",
       "      <td>4.1</td>\n",
       "      <td>android developer779</td>\n",
       "      <td>Everyone</td>\n",
       "      <td>1</td>\n",
       "    </tr>\n",
       "    <tr>\n",
       "      <th>6</th>\n",
       "      <td>7</td>\n",
       "      <td>2.0</td>\n",
       "      <td>702.0</td>\n",
       "      <td>0.0</td>\n",
       "      <td>16.0</td>\n",
       "      <td>1</td>\n",
       "      <td>0</td>\n",
       "      <td>0</td>\n",
       "      <td>0</td>\n",
       "      <td>740</td>\n",
       "      <td>740</td>\n",
       "      <td>Lifestyle</td>\n",
       "      <td>5.0</td>\n",
       "      <td>Mozaix LLC</td>\n",
       "      <td>Everyone</td>\n",
       "      <td>1</td>\n",
       "    </tr>\n",
       "    <tr>\n",
       "      <th>7</th>\n",
       "      <td>8</td>\n",
       "      <td>4.7</td>\n",
       "      <td>62433.0</td>\n",
       "      <td>0.0</td>\n",
       "      <td>3.5</td>\n",
       "      <td>1</td>\n",
       "      <td>1</td>\n",
       "      <td>0</td>\n",
       "      <td>0</td>\n",
       "      <td>647</td>\n",
       "      <td>266</td>\n",
       "      <td>Personalization</td>\n",
       "      <td>4.1</td>\n",
       "      <td>Free 2021 Themes for Emoji keyboard</td>\n",
       "      <td>Everyone</td>\n",
       "      <td>1</td>\n",
       "    </tr>\n",
       "    <tr>\n",
       "      <th>...</th>\n",
       "      <td>...</td>\n",
       "      <td>...</td>\n",
       "      <td>...</td>\n",
       "      <td>...</td>\n",
       "      <td>...</td>\n",
       "      <td>...</td>\n",
       "      <td>...</td>\n",
       "      <td>...</td>\n",
       "      <td>...</td>\n",
       "      <td>...</td>\n",
       "      <td>...</td>\n",
       "      <td>...</td>\n",
       "      <td>...</td>\n",
       "      <td>...</td>\n",
       "      <td>...</td>\n",
       "      <td>...</td>\n",
       "    </tr>\n",
       "    <tr>\n",
       "      <th>2225309</th>\n",
       "      <td>2225310</td>\n",
       "      <td>4.3</td>\n",
       "      <td>7274660.0</td>\n",
       "      <td>0.0</td>\n",
       "      <td>37.0</td>\n",
       "      <td>1</td>\n",
       "      <td>1</td>\n",
       "      <td>1</td>\n",
       "      <td>0</td>\n",
       "      <td>2071</td>\n",
       "      <td>1577</td>\n",
       "      <td>Action</td>\n",
       "      <td>4.0.3</td>\n",
       "      <td>Upopa Games</td>\n",
       "      <td>Teen</td>\n",
       "      <td>3</td>\n",
       "    </tr>\n",
       "    <tr>\n",
       "      <th>2225310</th>\n",
       "      <td>2225311</td>\n",
       "      <td>4.0</td>\n",
       "      <td>814548.0</td>\n",
       "      <td>0.0</td>\n",
       "      <td>4.1</td>\n",
       "      <td>1</td>\n",
       "      <td>0</td>\n",
       "      <td>0</td>\n",
       "      <td>0</td>\n",
       "      <td>2393</td>\n",
       "      <td>2393</td>\n",
       "      <td>Music &amp; Audio</td>\n",
       "      <td>2.2</td>\n",
       "      <td>Single Cell Software</td>\n",
       "      <td>Everyone</td>\n",
       "      <td>1</td>\n",
       "    </tr>\n",
       "    <tr>\n",
       "      <th>2225314</th>\n",
       "      <td>2225315</td>\n",
       "      <td>3.4</td>\n",
       "      <td>1980.0</td>\n",
       "      <td>0.0</td>\n",
       "      <td>10.0</td>\n",
       "      <td>1</td>\n",
       "      <td>1</td>\n",
       "      <td>0</td>\n",
       "      <td>0</td>\n",
       "      <td>1135</td>\n",
       "      <td>929</td>\n",
       "      <td>Education</td>\n",
       "      <td>4.1</td>\n",
       "      <td>Julio Augusto Vera</td>\n",
       "      <td>Everyone</td>\n",
       "      <td>1</td>\n",
       "    </tr>\n",
       "    <tr>\n",
       "      <th>2225317</th>\n",
       "      <td>2225318</td>\n",
       "      <td>3.5</td>\n",
       "      <td>2635.0</td>\n",
       "      <td>0.0</td>\n",
       "      <td>10.0</td>\n",
       "      <td>1</td>\n",
       "      <td>1</td>\n",
       "      <td>0</td>\n",
       "      <td>0</td>\n",
       "      <td>1794</td>\n",
       "      <td>56</td>\n",
       "      <td>Music &amp; Audio</td>\n",
       "      <td>5.0</td>\n",
       "      <td>Bhakti</td>\n",
       "      <td>Everyone</td>\n",
       "      <td>1</td>\n",
       "    </tr>\n",
       "    <tr>\n",
       "      <th>2225318</th>\n",
       "      <td>2225319</td>\n",
       "      <td>5.0</td>\n",
       "      <td>354.0</td>\n",
       "      <td>0.0</td>\n",
       "      <td>5.2</td>\n",
       "      <td>1</td>\n",
       "      <td>1</td>\n",
       "      <td>0</td>\n",
       "      <td>0</td>\n",
       "      <td>691</td>\n",
       "      <td>681</td>\n",
       "      <td>Trivia</td>\n",
       "      <td>5.0</td>\n",
       "      <td>Y Yazılım</td>\n",
       "      <td>Everyone</td>\n",
       "      <td>1</td>\n",
       "    </tr>\n",
       "  </tbody>\n",
       "</table>\n",
       "<p>1196055 rows × 16 columns</p>\n",
       "</div>"
      ],
      "text/plain": [
       "         Unnamed: 0  Rating  MaximumInstalls  Price  SizeMB  Free  \\\n",
       "1                 2     4.4           7662.0    0.0     2.9     1   \n",
       "3                 4     5.0             19.0    0.0     1.8     1   \n",
       "5                 6     4.5           2567.0    0.0     2.5     1   \n",
       "6                 7     2.0            702.0    0.0    16.0     1   \n",
       "7                 8     4.7          62433.0    0.0     3.5     1   \n",
       "...             ...     ...              ...    ...     ...   ...   \n",
       "2225309     2225310     4.3        7274660.0    0.0    37.0     1   \n",
       "2225310     2225311     4.0         814548.0    0.0     4.1     1   \n",
       "2225314     2225315     3.4           1980.0    0.0    10.0     1   \n",
       "2225317     2225318     3.5           2635.0    0.0    10.0     1   \n",
       "2225318     2225319     5.0            354.0    0.0     5.2     1   \n",
       "\n",
       "         AdSupported  InAppPurchases  EditorsChoice  ReleasedDA  \\\n",
       "1                  1               0              0         405   \n",
       "3                  1               0              0        1024   \n",
       "5                  1               0              0         646   \n",
       "6                  0               0              0         740   \n",
       "7                  1               0              0         647   \n",
       "...              ...             ...            ...         ...   \n",
       "2225309            1               1              0        2071   \n",
       "2225310            0               0              0        2393   \n",
       "2225314            1               0              0        1135   \n",
       "2225317            1               0              0        1794   \n",
       "2225318            1               0              0         691   \n",
       "\n",
       "         LastUpdatedDA          Category MinimumAndroid  \\\n",
       "1                   55             Tools            5.0   \n",
       "3                  991     Communication          4.0.3   \n",
       "5                  642  Libraries & Demo            4.1   \n",
       "6                  740         Lifestyle            5.0   \n",
       "7                  266   Personalization            4.1   \n",
       "...                ...               ...            ...   \n",
       "2225309           1577            Action          4.0.3   \n",
       "2225310           2393     Music & Audio            2.2   \n",
       "2225314            929         Education            4.1   \n",
       "2225317             56     Music & Audio            5.0   \n",
       "2225318            681            Trivia            5.0   \n",
       "\n",
       "                                 DeveloperId ContentRating  \\\n",
       "1                                 Webserveis      Everyone   \n",
       "3                        Climate Smart Tech2      Everyone   \n",
       "5                       android developer779      Everyone   \n",
       "6                                 Mozaix LLC      Everyone   \n",
       "7        Free 2021 Themes for Emoji keyboard      Everyone   \n",
       "...                                      ...           ...   \n",
       "2225309                          Upopa Games          Teen   \n",
       "2225310                 Single Cell Software      Everyone   \n",
       "2225314                   Julio Augusto Vera      Everyone   \n",
       "2225317                               Bhakti      Everyone   \n",
       "2225318                            Y Yazılım      Everyone   \n",
       "\n",
       "         ContentRatingOrdinal  \n",
       "1                           1  \n",
       "3                           1  \n",
       "5                           1  \n",
       "6                           1  \n",
       "7                           1  \n",
       "...                       ...  \n",
       "2225309                     3  \n",
       "2225310                     1  \n",
       "2225314                     1  \n",
       "2225317                     1  \n",
       "2225318                     1  \n",
       "\n",
       "[1196055 rows x 16 columns]"
      ]
     },
     "execution_count": 10,
     "metadata": {},
     "output_type": "execute_result"
    }
   ],
   "source": [
    "cont = {'Everyone' : 1,\n",
    "        'Everyone 10+' : 2,\n",
    "        'Teen' : 3,\n",
    "        'Mature 17+' : 4,\n",
    "        'Adults only 18+' : 5}\n",
    "df['ContentRatingOrdinal']=df.ContentRating.map(cont)\n",
    "df"
   ]
  },
  {
   "cell_type": "markdown",
   "metadata": {},
   "source": [
    "**DeveloperId**: Frenquency encoding"
   ]
  },
  {
   "cell_type": "code",
   "execution_count": 11,
   "metadata": {},
   "outputs": [
    {
     "data": {
      "text/html": [
       "<div>\n",
       "<style scoped>\n",
       "    .dataframe tbody tr th:only-of-type {\n",
       "        vertical-align: middle;\n",
       "    }\n",
       "\n",
       "    .dataframe tbody tr th {\n",
       "        vertical-align: top;\n",
       "    }\n",
       "\n",
       "    .dataframe thead th {\n",
       "        text-align: right;\n",
       "    }\n",
       "</style>\n",
       "<table border=\"1\" class=\"dataframe\">\n",
       "  <thead>\n",
       "    <tr style=\"text-align: right;\">\n",
       "      <th></th>\n",
       "      <th>Unnamed: 0</th>\n",
       "      <th>Rating</th>\n",
       "      <th>MaximumInstalls</th>\n",
       "      <th>Price</th>\n",
       "      <th>SizeMB</th>\n",
       "      <th>Free</th>\n",
       "      <th>AdSupported</th>\n",
       "      <th>InAppPurchases</th>\n",
       "      <th>EditorsChoice</th>\n",
       "      <th>ReleasedDA</th>\n",
       "      <th>LastUpdatedDA</th>\n",
       "      <th>Category</th>\n",
       "      <th>MinimumAndroid</th>\n",
       "      <th>DeveloperId</th>\n",
       "      <th>ContentRating</th>\n",
       "      <th>ContentRatingOrdinal</th>\n",
       "      <th>Dev_freq_encode</th>\n",
       "    </tr>\n",
       "  </thead>\n",
       "  <tbody>\n",
       "    <tr>\n",
       "      <th>1</th>\n",
       "      <td>2</td>\n",
       "      <td>4.4</td>\n",
       "      <td>7662.0</td>\n",
       "      <td>0.0</td>\n",
       "      <td>2.9</td>\n",
       "      <td>1</td>\n",
       "      <td>1</td>\n",
       "      <td>0</td>\n",
       "      <td>0</td>\n",
       "      <td>405</td>\n",
       "      <td>55</td>\n",
       "      <td>Tools</td>\n",
       "      <td>5.0</td>\n",
       "      <td>Webserveis</td>\n",
       "      <td>Everyone</td>\n",
       "      <td>1</td>\n",
       "      <td>7.524738e-06</td>\n",
       "    </tr>\n",
       "    <tr>\n",
       "      <th>3</th>\n",
       "      <td>4</td>\n",
       "      <td>5.0</td>\n",
       "      <td>19.0</td>\n",
       "      <td>0.0</td>\n",
       "      <td>1.8</td>\n",
       "      <td>1</td>\n",
       "      <td>1</td>\n",
       "      <td>0</td>\n",
       "      <td>0</td>\n",
       "      <td>1024</td>\n",
       "      <td>991</td>\n",
       "      <td>Communication</td>\n",
       "      <td>4.0.3</td>\n",
       "      <td>Climate Smart Tech2</td>\n",
       "      <td>Everyone</td>\n",
       "      <td>1</td>\n",
       "      <td>1.672164e-06</td>\n",
       "    </tr>\n",
       "    <tr>\n",
       "      <th>5</th>\n",
       "      <td>6</td>\n",
       "      <td>4.5</td>\n",
       "      <td>2567.0</td>\n",
       "      <td>0.0</td>\n",
       "      <td>2.5</td>\n",
       "      <td>1</td>\n",
       "      <td>1</td>\n",
       "      <td>0</td>\n",
       "      <td>0</td>\n",
       "      <td>646</td>\n",
       "      <td>642</td>\n",
       "      <td>Libraries &amp; Demo</td>\n",
       "      <td>4.1</td>\n",
       "      <td>android developer779</td>\n",
       "      <td>Everyone</td>\n",
       "      <td>1</td>\n",
       "      <td>1.672164e-06</td>\n",
       "    </tr>\n",
       "    <tr>\n",
       "      <th>6</th>\n",
       "      <td>7</td>\n",
       "      <td>2.0</td>\n",
       "      <td>702.0</td>\n",
       "      <td>0.0</td>\n",
       "      <td>16.0</td>\n",
       "      <td>1</td>\n",
       "      <td>0</td>\n",
       "      <td>0</td>\n",
       "      <td>0</td>\n",
       "      <td>740</td>\n",
       "      <td>740</td>\n",
       "      <td>Lifestyle</td>\n",
       "      <td>5.0</td>\n",
       "      <td>Mozaix LLC</td>\n",
       "      <td>Everyone</td>\n",
       "      <td>1</td>\n",
       "      <td>8.360820e-07</td>\n",
       "    </tr>\n",
       "    <tr>\n",
       "      <th>7</th>\n",
       "      <td>8</td>\n",
       "      <td>4.7</td>\n",
       "      <td>62433.0</td>\n",
       "      <td>0.0</td>\n",
       "      <td>3.5</td>\n",
       "      <td>1</td>\n",
       "      <td>1</td>\n",
       "      <td>0</td>\n",
       "      <td>0</td>\n",
       "      <td>647</td>\n",
       "      <td>266</td>\n",
       "      <td>Personalization</td>\n",
       "      <td>4.1</td>\n",
       "      <td>Free 2021 Themes for Emoji keyboard</td>\n",
       "      <td>Everyone</td>\n",
       "      <td>1</td>\n",
       "      <td>1.555112e-04</td>\n",
       "    </tr>\n",
       "    <tr>\n",
       "      <th>...</th>\n",
       "      <td>...</td>\n",
       "      <td>...</td>\n",
       "      <td>...</td>\n",
       "      <td>...</td>\n",
       "      <td>...</td>\n",
       "      <td>...</td>\n",
       "      <td>...</td>\n",
       "      <td>...</td>\n",
       "      <td>...</td>\n",
       "      <td>...</td>\n",
       "      <td>...</td>\n",
       "      <td>...</td>\n",
       "      <td>...</td>\n",
       "      <td>...</td>\n",
       "      <td>...</td>\n",
       "      <td>...</td>\n",
       "      <td>...</td>\n",
       "    </tr>\n",
       "    <tr>\n",
       "      <th>2225309</th>\n",
       "      <td>2225310</td>\n",
       "      <td>4.3</td>\n",
       "      <td>7274660.0</td>\n",
       "      <td>0.0</td>\n",
       "      <td>37.0</td>\n",
       "      <td>1</td>\n",
       "      <td>1</td>\n",
       "      <td>1</td>\n",
       "      <td>0</td>\n",
       "      <td>2071</td>\n",
       "      <td>1577</td>\n",
       "      <td>Action</td>\n",
       "      <td>4.0.3</td>\n",
       "      <td>Upopa Games</td>\n",
       "      <td>Teen</td>\n",
       "      <td>3</td>\n",
       "      <td>4.180410e-06</td>\n",
       "    </tr>\n",
       "    <tr>\n",
       "      <th>2225310</th>\n",
       "      <td>2225311</td>\n",
       "      <td>4.0</td>\n",
       "      <td>814548.0</td>\n",
       "      <td>0.0</td>\n",
       "      <td>4.1</td>\n",
       "      <td>1</td>\n",
       "      <td>0</td>\n",
       "      <td>0</td>\n",
       "      <td>0</td>\n",
       "      <td>2393</td>\n",
       "      <td>2393</td>\n",
       "      <td>Music &amp; Audio</td>\n",
       "      <td>2.2</td>\n",
       "      <td>Single Cell Software</td>\n",
       "      <td>Everyone</td>\n",
       "      <td>1</td>\n",
       "      <td>5.852574e-06</td>\n",
       "    </tr>\n",
       "    <tr>\n",
       "      <th>2225314</th>\n",
       "      <td>2225315</td>\n",
       "      <td>3.4</td>\n",
       "      <td>1980.0</td>\n",
       "      <td>0.0</td>\n",
       "      <td>10.0</td>\n",
       "      <td>1</td>\n",
       "      <td>1</td>\n",
       "      <td>0</td>\n",
       "      <td>0</td>\n",
       "      <td>1135</td>\n",
       "      <td>929</td>\n",
       "      <td>Education</td>\n",
       "      <td>4.1</td>\n",
       "      <td>Julio Augusto Vera</td>\n",
       "      <td>Everyone</td>\n",
       "      <td>1</td>\n",
       "      <td>8.360820e-07</td>\n",
       "    </tr>\n",
       "    <tr>\n",
       "      <th>2225317</th>\n",
       "      <td>2225318</td>\n",
       "      <td>3.5</td>\n",
       "      <td>2635.0</td>\n",
       "      <td>0.0</td>\n",
       "      <td>10.0</td>\n",
       "      <td>1</td>\n",
       "      <td>1</td>\n",
       "      <td>0</td>\n",
       "      <td>0</td>\n",
       "      <td>1794</td>\n",
       "      <td>56</td>\n",
       "      <td>Music &amp; Audio</td>\n",
       "      <td>5.0</td>\n",
       "      <td>Bhakti</td>\n",
       "      <td>Everyone</td>\n",
       "      <td>1</td>\n",
       "      <td>7.859170e-05</td>\n",
       "    </tr>\n",
       "    <tr>\n",
       "      <th>2225318</th>\n",
       "      <td>2225319</td>\n",
       "      <td>5.0</td>\n",
       "      <td>354.0</td>\n",
       "      <td>0.0</td>\n",
       "      <td>5.2</td>\n",
       "      <td>1</td>\n",
       "      <td>1</td>\n",
       "      <td>0</td>\n",
       "      <td>0</td>\n",
       "      <td>691</td>\n",
       "      <td>681</td>\n",
       "      <td>Trivia</td>\n",
       "      <td>5.0</td>\n",
       "      <td>Y Yazılım</td>\n",
       "      <td>Everyone</td>\n",
       "      <td>1</td>\n",
       "      <td>8.360820e-07</td>\n",
       "    </tr>\n",
       "  </tbody>\n",
       "</table>\n",
       "<p>1196055 rows × 17 columns</p>\n",
       "</div>"
      ],
      "text/plain": [
       "         Unnamed: 0  Rating  MaximumInstalls  Price  SizeMB  Free  \\\n",
       "1                 2     4.4           7662.0    0.0     2.9     1   \n",
       "3                 4     5.0             19.0    0.0     1.8     1   \n",
       "5                 6     4.5           2567.0    0.0     2.5     1   \n",
       "6                 7     2.0            702.0    0.0    16.0     1   \n",
       "7                 8     4.7          62433.0    0.0     3.5     1   \n",
       "...             ...     ...              ...    ...     ...   ...   \n",
       "2225309     2225310     4.3        7274660.0    0.0    37.0     1   \n",
       "2225310     2225311     4.0         814548.0    0.0     4.1     1   \n",
       "2225314     2225315     3.4           1980.0    0.0    10.0     1   \n",
       "2225317     2225318     3.5           2635.0    0.0    10.0     1   \n",
       "2225318     2225319     5.0            354.0    0.0     5.2     1   \n",
       "\n",
       "         AdSupported  InAppPurchases  EditorsChoice  ReleasedDA  \\\n",
       "1                  1               0              0         405   \n",
       "3                  1               0              0        1024   \n",
       "5                  1               0              0         646   \n",
       "6                  0               0              0         740   \n",
       "7                  1               0              0         647   \n",
       "...              ...             ...            ...         ...   \n",
       "2225309            1               1              0        2071   \n",
       "2225310            0               0              0        2393   \n",
       "2225314            1               0              0        1135   \n",
       "2225317            1               0              0        1794   \n",
       "2225318            1               0              0         691   \n",
       "\n",
       "         LastUpdatedDA          Category MinimumAndroid  \\\n",
       "1                   55             Tools            5.0   \n",
       "3                  991     Communication          4.0.3   \n",
       "5                  642  Libraries & Demo            4.1   \n",
       "6                  740         Lifestyle            5.0   \n",
       "7                  266   Personalization            4.1   \n",
       "...                ...               ...            ...   \n",
       "2225309           1577            Action          4.0.3   \n",
       "2225310           2393     Music & Audio            2.2   \n",
       "2225314            929         Education            4.1   \n",
       "2225317             56     Music & Audio            5.0   \n",
       "2225318            681            Trivia            5.0   \n",
       "\n",
       "                                 DeveloperId ContentRating  \\\n",
       "1                                 Webserveis      Everyone   \n",
       "3                        Climate Smart Tech2      Everyone   \n",
       "5                       android developer779      Everyone   \n",
       "6                                 Mozaix LLC      Everyone   \n",
       "7        Free 2021 Themes for Emoji keyboard      Everyone   \n",
       "...                                      ...           ...   \n",
       "2225309                          Upopa Games          Teen   \n",
       "2225310                 Single Cell Software      Everyone   \n",
       "2225314                   Julio Augusto Vera      Everyone   \n",
       "2225317                               Bhakti      Everyone   \n",
       "2225318                            Y Yazılım      Everyone   \n",
       "\n",
       "         ContentRatingOrdinal  Dev_freq_encode  \n",
       "1                           1     7.524738e-06  \n",
       "3                           1     1.672164e-06  \n",
       "5                           1     1.672164e-06  \n",
       "6                           1     8.360820e-07  \n",
       "7                           1     1.555112e-04  \n",
       "...                       ...              ...  \n",
       "2225309                     3     4.180410e-06  \n",
       "2225310                     1     5.852574e-06  \n",
       "2225314                     1     8.360820e-07  \n",
       "2225317                     1     7.859170e-05  \n",
       "2225318                     1     8.360820e-07  \n",
       "\n",
       "[1196055 rows x 17 columns]"
      ]
     },
     "execution_count": 11,
     "metadata": {},
     "output_type": "execute_result"
    }
   ],
   "source": [
    "fe=df.groupby('DeveloperId').size()/len(df)\n",
    "df.loc[:,'Dev_freq_encode']=df['DeveloperId'].map(fe)\n",
    "df"
   ]
  },
  {
   "cell_type": "code",
   "execution_count": 12,
   "metadata": {},
   "outputs": [
    {
     "name": "stdout",
     "output_type": "stream",
     "text": [
      "0.001990711129504914\n",
      "8.360819527530089e-07\n"
     ]
    }
   ],
   "source": [
    "print(df.Dev_freq_encode.max())\n",
    "print(df.Dev_freq_encode.min())"
   ]
  },
  {
   "cell_type": "markdown",
   "metadata": {},
   "source": [
    "**MinimumAndroid**: frenquency encoding"
   ]
  },
  {
   "cell_type": "code",
   "execution_count": 13,
   "metadata": {},
   "outputs": [
    {
     "data": {
      "text/html": [
       "<div>\n",
       "<style scoped>\n",
       "    .dataframe tbody tr th:only-of-type {\n",
       "        vertical-align: middle;\n",
       "    }\n",
       "\n",
       "    .dataframe tbody tr th {\n",
       "        vertical-align: top;\n",
       "    }\n",
       "\n",
       "    .dataframe thead th {\n",
       "        text-align: right;\n",
       "    }\n",
       "</style>\n",
       "<table border=\"1\" class=\"dataframe\">\n",
       "  <thead>\n",
       "    <tr style=\"text-align: right;\">\n",
       "      <th></th>\n",
       "      <th>Unnamed: 0</th>\n",
       "      <th>Rating</th>\n",
       "      <th>MaximumInstalls</th>\n",
       "      <th>Price</th>\n",
       "      <th>SizeMB</th>\n",
       "      <th>Free</th>\n",
       "      <th>AdSupported</th>\n",
       "      <th>InAppPurchases</th>\n",
       "      <th>EditorsChoice</th>\n",
       "      <th>ReleasedDA</th>\n",
       "      <th>LastUpdatedDA</th>\n",
       "      <th>Category</th>\n",
       "      <th>MinimumAndroid</th>\n",
       "      <th>DeveloperId</th>\n",
       "      <th>ContentRating</th>\n",
       "      <th>ContentRatingOrdinal</th>\n",
       "      <th>Dev_freq_encode</th>\n",
       "      <th>Android_freq_encode</th>\n",
       "    </tr>\n",
       "  </thead>\n",
       "  <tbody>\n",
       "    <tr>\n",
       "      <th>1</th>\n",
       "      <td>2</td>\n",
       "      <td>4.4</td>\n",
       "      <td>7662.0</td>\n",
       "      <td>0.0</td>\n",
       "      <td>2.9</td>\n",
       "      <td>1</td>\n",
       "      <td>1</td>\n",
       "      <td>0</td>\n",
       "      <td>0</td>\n",
       "      <td>405</td>\n",
       "      <td>55</td>\n",
       "      <td>Tools</td>\n",
       "      <td>5.0</td>\n",
       "      <td>Webserveis</td>\n",
       "      <td>Everyone</td>\n",
       "      <td>1</td>\n",
       "      <td>7.524738e-06</td>\n",
       "      <td>0.162943</td>\n",
       "    </tr>\n",
       "    <tr>\n",
       "      <th>3</th>\n",
       "      <td>4</td>\n",
       "      <td>5.0</td>\n",
       "      <td>19.0</td>\n",
       "      <td>0.0</td>\n",
       "      <td>1.8</td>\n",
       "      <td>1</td>\n",
       "      <td>1</td>\n",
       "      <td>0</td>\n",
       "      <td>0</td>\n",
       "      <td>1024</td>\n",
       "      <td>991</td>\n",
       "      <td>Communication</td>\n",
       "      <td>4.0.3</td>\n",
       "      <td>Climate Smart Tech2</td>\n",
       "      <td>Everyone</td>\n",
       "      <td>1</td>\n",
       "      <td>1.672164e-06</td>\n",
       "      <td>0.079761</td>\n",
       "    </tr>\n",
       "    <tr>\n",
       "      <th>5</th>\n",
       "      <td>6</td>\n",
       "      <td>4.5</td>\n",
       "      <td>2567.0</td>\n",
       "      <td>0.0</td>\n",
       "      <td>2.5</td>\n",
       "      <td>1</td>\n",
       "      <td>1</td>\n",
       "      <td>0</td>\n",
       "      <td>0</td>\n",
       "      <td>646</td>\n",
       "      <td>642</td>\n",
       "      <td>Libraries &amp; Demo</td>\n",
       "      <td>4.1</td>\n",
       "      <td>android developer779</td>\n",
       "      <td>Everyone</td>\n",
       "      <td>1</td>\n",
       "      <td>1.672164e-06</td>\n",
       "      <td>0.284611</td>\n",
       "    </tr>\n",
       "    <tr>\n",
       "      <th>6</th>\n",
       "      <td>7</td>\n",
       "      <td>2.0</td>\n",
       "      <td>702.0</td>\n",
       "      <td>0.0</td>\n",
       "      <td>16.0</td>\n",
       "      <td>1</td>\n",
       "      <td>0</td>\n",
       "      <td>0</td>\n",
       "      <td>0</td>\n",
       "      <td>740</td>\n",
       "      <td>740</td>\n",
       "      <td>Lifestyle</td>\n",
       "      <td>5.0</td>\n",
       "      <td>Mozaix LLC</td>\n",
       "      <td>Everyone</td>\n",
       "      <td>1</td>\n",
       "      <td>8.360820e-07</td>\n",
       "      <td>0.162943</td>\n",
       "    </tr>\n",
       "    <tr>\n",
       "      <th>7</th>\n",
       "      <td>8</td>\n",
       "      <td>4.7</td>\n",
       "      <td>62433.0</td>\n",
       "      <td>0.0</td>\n",
       "      <td>3.5</td>\n",
       "      <td>1</td>\n",
       "      <td>1</td>\n",
       "      <td>0</td>\n",
       "      <td>0</td>\n",
       "      <td>647</td>\n",
       "      <td>266</td>\n",
       "      <td>Personalization</td>\n",
       "      <td>4.1</td>\n",
       "      <td>Free 2021 Themes for Emoji keyboard</td>\n",
       "      <td>Everyone</td>\n",
       "      <td>1</td>\n",
       "      <td>1.555112e-04</td>\n",
       "      <td>0.284611</td>\n",
       "    </tr>\n",
       "    <tr>\n",
       "      <th>...</th>\n",
       "      <td>...</td>\n",
       "      <td>...</td>\n",
       "      <td>...</td>\n",
       "      <td>...</td>\n",
       "      <td>...</td>\n",
       "      <td>...</td>\n",
       "      <td>...</td>\n",
       "      <td>...</td>\n",
       "      <td>...</td>\n",
       "      <td>...</td>\n",
       "      <td>...</td>\n",
       "      <td>...</td>\n",
       "      <td>...</td>\n",
       "      <td>...</td>\n",
       "      <td>...</td>\n",
       "      <td>...</td>\n",
       "      <td>...</td>\n",
       "      <td>...</td>\n",
       "    </tr>\n",
       "    <tr>\n",
       "      <th>2225309</th>\n",
       "      <td>2225310</td>\n",
       "      <td>4.3</td>\n",
       "      <td>7274660.0</td>\n",
       "      <td>0.0</td>\n",
       "      <td>37.0</td>\n",
       "      <td>1</td>\n",
       "      <td>1</td>\n",
       "      <td>1</td>\n",
       "      <td>0</td>\n",
       "      <td>2071</td>\n",
       "      <td>1577</td>\n",
       "      <td>Action</td>\n",
       "      <td>4.0.3</td>\n",
       "      <td>Upopa Games</td>\n",
       "      <td>Teen</td>\n",
       "      <td>3</td>\n",
       "      <td>4.180410e-06</td>\n",
       "      <td>0.079761</td>\n",
       "    </tr>\n",
       "    <tr>\n",
       "      <th>2225310</th>\n",
       "      <td>2225311</td>\n",
       "      <td>4.0</td>\n",
       "      <td>814548.0</td>\n",
       "      <td>0.0</td>\n",
       "      <td>4.1</td>\n",
       "      <td>1</td>\n",
       "      <td>0</td>\n",
       "      <td>0</td>\n",
       "      <td>0</td>\n",
       "      <td>2393</td>\n",
       "      <td>2393</td>\n",
       "      <td>Music &amp; Audio</td>\n",
       "      <td>2.2</td>\n",
       "      <td>Single Cell Software</td>\n",
       "      <td>Everyone</td>\n",
       "      <td>1</td>\n",
       "      <td>5.852574e-06</td>\n",
       "      <td>0.013077</td>\n",
       "    </tr>\n",
       "    <tr>\n",
       "      <th>2225314</th>\n",
       "      <td>2225315</td>\n",
       "      <td>3.4</td>\n",
       "      <td>1980.0</td>\n",
       "      <td>0.0</td>\n",
       "      <td>10.0</td>\n",
       "      <td>1</td>\n",
       "      <td>1</td>\n",
       "      <td>0</td>\n",
       "      <td>0</td>\n",
       "      <td>1135</td>\n",
       "      <td>929</td>\n",
       "      <td>Education</td>\n",
       "      <td>4.1</td>\n",
       "      <td>Julio Augusto Vera</td>\n",
       "      <td>Everyone</td>\n",
       "      <td>1</td>\n",
       "      <td>8.360820e-07</td>\n",
       "      <td>0.284611</td>\n",
       "    </tr>\n",
       "    <tr>\n",
       "      <th>2225317</th>\n",
       "      <td>2225318</td>\n",
       "      <td>3.5</td>\n",
       "      <td>2635.0</td>\n",
       "      <td>0.0</td>\n",
       "      <td>10.0</td>\n",
       "      <td>1</td>\n",
       "      <td>1</td>\n",
       "      <td>0</td>\n",
       "      <td>0</td>\n",
       "      <td>1794</td>\n",
       "      <td>56</td>\n",
       "      <td>Music &amp; Audio</td>\n",
       "      <td>5.0</td>\n",
       "      <td>Bhakti</td>\n",
       "      <td>Everyone</td>\n",
       "      <td>1</td>\n",
       "      <td>7.859170e-05</td>\n",
       "      <td>0.162943</td>\n",
       "    </tr>\n",
       "    <tr>\n",
       "      <th>2225318</th>\n",
       "      <td>2225319</td>\n",
       "      <td>5.0</td>\n",
       "      <td>354.0</td>\n",
       "      <td>0.0</td>\n",
       "      <td>5.2</td>\n",
       "      <td>1</td>\n",
       "      <td>1</td>\n",
       "      <td>0</td>\n",
       "      <td>0</td>\n",
       "      <td>691</td>\n",
       "      <td>681</td>\n",
       "      <td>Trivia</td>\n",
       "      <td>5.0</td>\n",
       "      <td>Y Yazılım</td>\n",
       "      <td>Everyone</td>\n",
       "      <td>1</td>\n",
       "      <td>8.360820e-07</td>\n",
       "      <td>0.162943</td>\n",
       "    </tr>\n",
       "  </tbody>\n",
       "</table>\n",
       "<p>1196055 rows × 18 columns</p>\n",
       "</div>"
      ],
      "text/plain": [
       "         Unnamed: 0  Rating  MaximumInstalls  Price  SizeMB  Free  \\\n",
       "1                 2     4.4           7662.0    0.0     2.9     1   \n",
       "3                 4     5.0             19.0    0.0     1.8     1   \n",
       "5                 6     4.5           2567.0    0.0     2.5     1   \n",
       "6                 7     2.0            702.0    0.0    16.0     1   \n",
       "7                 8     4.7          62433.0    0.0     3.5     1   \n",
       "...             ...     ...              ...    ...     ...   ...   \n",
       "2225309     2225310     4.3        7274660.0    0.0    37.0     1   \n",
       "2225310     2225311     4.0         814548.0    0.0     4.1     1   \n",
       "2225314     2225315     3.4           1980.0    0.0    10.0     1   \n",
       "2225317     2225318     3.5           2635.0    0.0    10.0     1   \n",
       "2225318     2225319     5.0            354.0    0.0     5.2     1   \n",
       "\n",
       "         AdSupported  InAppPurchases  EditorsChoice  ReleasedDA  \\\n",
       "1                  1               0              0         405   \n",
       "3                  1               0              0        1024   \n",
       "5                  1               0              0         646   \n",
       "6                  0               0              0         740   \n",
       "7                  1               0              0         647   \n",
       "...              ...             ...            ...         ...   \n",
       "2225309            1               1              0        2071   \n",
       "2225310            0               0              0        2393   \n",
       "2225314            1               0              0        1135   \n",
       "2225317            1               0              0        1794   \n",
       "2225318            1               0              0         691   \n",
       "\n",
       "         LastUpdatedDA          Category MinimumAndroid  \\\n",
       "1                   55             Tools            5.0   \n",
       "3                  991     Communication          4.0.3   \n",
       "5                  642  Libraries & Demo            4.1   \n",
       "6                  740         Lifestyle            5.0   \n",
       "7                  266   Personalization            4.1   \n",
       "...                ...               ...            ...   \n",
       "2225309           1577            Action          4.0.3   \n",
       "2225310           2393     Music & Audio            2.2   \n",
       "2225314            929         Education            4.1   \n",
       "2225317             56     Music & Audio            5.0   \n",
       "2225318            681            Trivia            5.0   \n",
       "\n",
       "                                 DeveloperId ContentRating  \\\n",
       "1                                 Webserveis      Everyone   \n",
       "3                        Climate Smart Tech2      Everyone   \n",
       "5                       android developer779      Everyone   \n",
       "6                                 Mozaix LLC      Everyone   \n",
       "7        Free 2021 Themes for Emoji keyboard      Everyone   \n",
       "...                                      ...           ...   \n",
       "2225309                          Upopa Games          Teen   \n",
       "2225310                 Single Cell Software      Everyone   \n",
       "2225314                   Julio Augusto Vera      Everyone   \n",
       "2225317                               Bhakti      Everyone   \n",
       "2225318                            Y Yazılım      Everyone   \n",
       "\n",
       "         ContentRatingOrdinal  Dev_freq_encode  Android_freq_encode  \n",
       "1                           1     7.524738e-06             0.162943  \n",
       "3                           1     1.672164e-06             0.079761  \n",
       "5                           1     1.672164e-06             0.284611  \n",
       "6                           1     8.360820e-07             0.162943  \n",
       "7                           1     1.555112e-04             0.284611  \n",
       "...                       ...              ...                  ...  \n",
       "2225309                     3     4.180410e-06             0.079761  \n",
       "2225310                     1     5.852574e-06             0.013077  \n",
       "2225314                     1     8.360820e-07             0.284611  \n",
       "2225317                     1     7.859170e-05             0.162943  \n",
       "2225318                     1     8.360820e-07             0.162943  \n",
       "\n",
       "[1196055 rows x 18 columns]"
      ]
     },
     "execution_count": 13,
     "metadata": {},
     "output_type": "execute_result"
    }
   ],
   "source": [
    "fe2=df.groupby('MinimumAndroid').size()/len(df)\n",
    "df.loc[:,'Android_freq_encode']=df['MinimumAndroid'].map(fe2)\n",
    "df"
   ]
  },
  {
   "cell_type": "code",
   "execution_count": 14,
   "metadata": {},
   "outputs": [
    {
     "name": "stdout",
     "output_type": "stream",
     "text": [
      "0.2846114936186045\n",
      "8.026386746428885e-05\n"
     ]
    }
   ],
   "source": [
    "print(df.Android_freq_encode.max())\n",
    "print(df.Android_freq_encode.min())"
   ]
  },
  {
   "cell_type": "markdown",
   "metadata": {},
   "source": [
    "**Category**: Binary encoding"
   ]
  },
  {
   "cell_type": "code",
   "execution_count": 15,
   "metadata": {},
   "outputs": [],
   "source": [
    "#conda install -c conda-forge category_encoders"
   ]
  },
  {
   "cell_type": "code",
   "execution_count": 16,
   "metadata": {},
   "outputs": [
    {
     "data": {
      "text/html": [
       "<div>\n",
       "<style scoped>\n",
       "    .dataframe tbody tr th:only-of-type {\n",
       "        vertical-align: middle;\n",
       "    }\n",
       "\n",
       "    .dataframe tbody tr th {\n",
       "        vertical-align: top;\n",
       "    }\n",
       "\n",
       "    .dataframe thead th {\n",
       "        text-align: right;\n",
       "    }\n",
       "</style>\n",
       "<table border=\"1\" class=\"dataframe\">\n",
       "  <thead>\n",
       "    <tr style=\"text-align: right;\">\n",
       "      <th></th>\n",
       "      <th>Unnamed: 0</th>\n",
       "      <th>Rating</th>\n",
       "      <th>MaximumInstalls</th>\n",
       "      <th>Price</th>\n",
       "      <th>SizeMB</th>\n",
       "      <th>Free</th>\n",
       "      <th>AdSupported</th>\n",
       "      <th>InAppPurchases</th>\n",
       "      <th>EditorsChoice</th>\n",
       "      <th>ReleasedDA</th>\n",
       "      <th>...</th>\n",
       "      <th>ContentRating</th>\n",
       "      <th>ContentRatingOrdinal</th>\n",
       "      <th>Dev_freq_encode</th>\n",
       "      <th>Android_freq_encode</th>\n",
       "      <th>Category_0</th>\n",
       "      <th>Category_1</th>\n",
       "      <th>Category_2</th>\n",
       "      <th>Category_3</th>\n",
       "      <th>Category_4</th>\n",
       "      <th>Category_5</th>\n",
       "    </tr>\n",
       "  </thead>\n",
       "  <tbody>\n",
       "    <tr>\n",
       "      <th>1</th>\n",
       "      <td>2</td>\n",
       "      <td>4.4</td>\n",
       "      <td>7662.0</td>\n",
       "      <td>0.0</td>\n",
       "      <td>2.9</td>\n",
       "      <td>1</td>\n",
       "      <td>1</td>\n",
       "      <td>0</td>\n",
       "      <td>0</td>\n",
       "      <td>405</td>\n",
       "      <td>...</td>\n",
       "      <td>Everyone</td>\n",
       "      <td>1</td>\n",
       "      <td>7.524738e-06</td>\n",
       "      <td>0.162943</td>\n",
       "      <td>0</td>\n",
       "      <td>0</td>\n",
       "      <td>0</td>\n",
       "      <td>0</td>\n",
       "      <td>0</td>\n",
       "      <td>1</td>\n",
       "    </tr>\n",
       "    <tr>\n",
       "      <th>3</th>\n",
       "      <td>4</td>\n",
       "      <td>5.0</td>\n",
       "      <td>19.0</td>\n",
       "      <td>0.0</td>\n",
       "      <td>1.8</td>\n",
       "      <td>1</td>\n",
       "      <td>1</td>\n",
       "      <td>0</td>\n",
       "      <td>0</td>\n",
       "      <td>1024</td>\n",
       "      <td>...</td>\n",
       "      <td>Everyone</td>\n",
       "      <td>1</td>\n",
       "      <td>1.672164e-06</td>\n",
       "      <td>0.079761</td>\n",
       "      <td>0</td>\n",
       "      <td>0</td>\n",
       "      <td>0</td>\n",
       "      <td>0</td>\n",
       "      <td>1</td>\n",
       "      <td>0</td>\n",
       "    </tr>\n",
       "    <tr>\n",
       "      <th>5</th>\n",
       "      <td>6</td>\n",
       "      <td>4.5</td>\n",
       "      <td>2567.0</td>\n",
       "      <td>0.0</td>\n",
       "      <td>2.5</td>\n",
       "      <td>1</td>\n",
       "      <td>1</td>\n",
       "      <td>0</td>\n",
       "      <td>0</td>\n",
       "      <td>646</td>\n",
       "      <td>...</td>\n",
       "      <td>Everyone</td>\n",
       "      <td>1</td>\n",
       "      <td>1.672164e-06</td>\n",
       "      <td>0.284611</td>\n",
       "      <td>0</td>\n",
       "      <td>0</td>\n",
       "      <td>0</td>\n",
       "      <td>0</td>\n",
       "      <td>1</td>\n",
       "      <td>1</td>\n",
       "    </tr>\n",
       "    <tr>\n",
       "      <th>6</th>\n",
       "      <td>7</td>\n",
       "      <td>2.0</td>\n",
       "      <td>702.0</td>\n",
       "      <td>0.0</td>\n",
       "      <td>16.0</td>\n",
       "      <td>1</td>\n",
       "      <td>0</td>\n",
       "      <td>0</td>\n",
       "      <td>0</td>\n",
       "      <td>740</td>\n",
       "      <td>...</td>\n",
       "      <td>Everyone</td>\n",
       "      <td>1</td>\n",
       "      <td>8.360820e-07</td>\n",
       "      <td>0.162943</td>\n",
       "      <td>0</td>\n",
       "      <td>0</td>\n",
       "      <td>0</td>\n",
       "      <td>1</td>\n",
       "      <td>0</td>\n",
       "      <td>0</td>\n",
       "    </tr>\n",
       "    <tr>\n",
       "      <th>7</th>\n",
       "      <td>8</td>\n",
       "      <td>4.7</td>\n",
       "      <td>62433.0</td>\n",
       "      <td>0.0</td>\n",
       "      <td>3.5</td>\n",
       "      <td>1</td>\n",
       "      <td>1</td>\n",
       "      <td>0</td>\n",
       "      <td>0</td>\n",
       "      <td>647</td>\n",
       "      <td>...</td>\n",
       "      <td>Everyone</td>\n",
       "      <td>1</td>\n",
       "      <td>1.555112e-04</td>\n",
       "      <td>0.284611</td>\n",
       "      <td>0</td>\n",
       "      <td>0</td>\n",
       "      <td>0</td>\n",
       "      <td>1</td>\n",
       "      <td>0</td>\n",
       "      <td>1</td>\n",
       "    </tr>\n",
       "    <tr>\n",
       "      <th>...</th>\n",
       "      <td>...</td>\n",
       "      <td>...</td>\n",
       "      <td>...</td>\n",
       "      <td>...</td>\n",
       "      <td>...</td>\n",
       "      <td>...</td>\n",
       "      <td>...</td>\n",
       "      <td>...</td>\n",
       "      <td>...</td>\n",
       "      <td>...</td>\n",
       "      <td>...</td>\n",
       "      <td>...</td>\n",
       "      <td>...</td>\n",
       "      <td>...</td>\n",
       "      <td>...</td>\n",
       "      <td>...</td>\n",
       "      <td>...</td>\n",
       "      <td>...</td>\n",
       "      <td>...</td>\n",
       "      <td>...</td>\n",
       "      <td>...</td>\n",
       "    </tr>\n",
       "    <tr>\n",
       "      <th>2225309</th>\n",
       "      <td>2225310</td>\n",
       "      <td>4.3</td>\n",
       "      <td>7274660.0</td>\n",
       "      <td>0.0</td>\n",
       "      <td>37.0</td>\n",
       "      <td>1</td>\n",
       "      <td>1</td>\n",
       "      <td>1</td>\n",
       "      <td>0</td>\n",
       "      <td>2071</td>\n",
       "      <td>...</td>\n",
       "      <td>Teen</td>\n",
       "      <td>3</td>\n",
       "      <td>4.180410e-06</td>\n",
       "      <td>0.079761</td>\n",
       "      <td>1</td>\n",
       "      <td>0</td>\n",
       "      <td>1</td>\n",
       "      <td>0</td>\n",
       "      <td>0</td>\n",
       "      <td>0</td>\n",
       "    </tr>\n",
       "    <tr>\n",
       "      <th>2225310</th>\n",
       "      <td>2225311</td>\n",
       "      <td>4.0</td>\n",
       "      <td>814548.0</td>\n",
       "      <td>0.0</td>\n",
       "      <td>4.1</td>\n",
       "      <td>1</td>\n",
       "      <td>0</td>\n",
       "      <td>0</td>\n",
       "      <td>0</td>\n",
       "      <td>2393</td>\n",
       "      <td>...</td>\n",
       "      <td>Everyone</td>\n",
       "      <td>1</td>\n",
       "      <td>5.852574e-06</td>\n",
       "      <td>0.013077</td>\n",
       "      <td>0</td>\n",
       "      <td>1</td>\n",
       "      <td>0</td>\n",
       "      <td>1</td>\n",
       "      <td>0</td>\n",
       "      <td>0</td>\n",
       "    </tr>\n",
       "    <tr>\n",
       "      <th>2225314</th>\n",
       "      <td>2225315</td>\n",
       "      <td>3.4</td>\n",
       "      <td>1980.0</td>\n",
       "      <td>0.0</td>\n",
       "      <td>10.0</td>\n",
       "      <td>1</td>\n",
       "      <td>1</td>\n",
       "      <td>0</td>\n",
       "      <td>0</td>\n",
       "      <td>1135</td>\n",
       "      <td>...</td>\n",
       "      <td>Everyone</td>\n",
       "      <td>1</td>\n",
       "      <td>8.360820e-07</td>\n",
       "      <td>0.284611</td>\n",
       "      <td>0</td>\n",
       "      <td>1</td>\n",
       "      <td>1</td>\n",
       "      <td>0</td>\n",
       "      <td>0</td>\n",
       "      <td>0</td>\n",
       "    </tr>\n",
       "    <tr>\n",
       "      <th>2225317</th>\n",
       "      <td>2225318</td>\n",
       "      <td>3.5</td>\n",
       "      <td>2635.0</td>\n",
       "      <td>0.0</td>\n",
       "      <td>10.0</td>\n",
       "      <td>1</td>\n",
       "      <td>1</td>\n",
       "      <td>0</td>\n",
       "      <td>0</td>\n",
       "      <td>1794</td>\n",
       "      <td>...</td>\n",
       "      <td>Everyone</td>\n",
       "      <td>1</td>\n",
       "      <td>7.859170e-05</td>\n",
       "      <td>0.162943</td>\n",
       "      <td>0</td>\n",
       "      <td>1</td>\n",
       "      <td>0</td>\n",
       "      <td>1</td>\n",
       "      <td>0</td>\n",
       "      <td>0</td>\n",
       "    </tr>\n",
       "    <tr>\n",
       "      <th>2225318</th>\n",
       "      <td>2225319</td>\n",
       "      <td>5.0</td>\n",
       "      <td>354.0</td>\n",
       "      <td>0.0</td>\n",
       "      <td>5.2</td>\n",
       "      <td>1</td>\n",
       "      <td>1</td>\n",
       "      <td>0</td>\n",
       "      <td>0</td>\n",
       "      <td>691</td>\n",
       "      <td>...</td>\n",
       "      <td>Everyone</td>\n",
       "      <td>1</td>\n",
       "      <td>8.360820e-07</td>\n",
       "      <td>0.162943</td>\n",
       "      <td>0</td>\n",
       "      <td>1</td>\n",
       "      <td>1</td>\n",
       "      <td>1</td>\n",
       "      <td>1</td>\n",
       "      <td>0</td>\n",
       "    </tr>\n",
       "  </tbody>\n",
       "</table>\n",
       "<p>1196055 rows × 24 columns</p>\n",
       "</div>"
      ],
      "text/plain": [
       "         Unnamed: 0  Rating  MaximumInstalls  Price  SizeMB  Free  \\\n",
       "1                 2     4.4           7662.0    0.0     2.9     1   \n",
       "3                 4     5.0             19.0    0.0     1.8     1   \n",
       "5                 6     4.5           2567.0    0.0     2.5     1   \n",
       "6                 7     2.0            702.0    0.0    16.0     1   \n",
       "7                 8     4.7          62433.0    0.0     3.5     1   \n",
       "...             ...     ...              ...    ...     ...   ...   \n",
       "2225309     2225310     4.3        7274660.0    0.0    37.0     1   \n",
       "2225310     2225311     4.0         814548.0    0.0     4.1     1   \n",
       "2225314     2225315     3.4           1980.0    0.0    10.0     1   \n",
       "2225317     2225318     3.5           2635.0    0.0    10.0     1   \n",
       "2225318     2225319     5.0            354.0    0.0     5.2     1   \n",
       "\n",
       "         AdSupported  InAppPurchases  EditorsChoice  ReleasedDA  ...  \\\n",
       "1                  1               0              0         405  ...   \n",
       "3                  1               0              0        1024  ...   \n",
       "5                  1               0              0         646  ...   \n",
       "6                  0               0              0         740  ...   \n",
       "7                  1               0              0         647  ...   \n",
       "...              ...             ...            ...         ...  ...   \n",
       "2225309            1               1              0        2071  ...   \n",
       "2225310            0               0              0        2393  ...   \n",
       "2225314            1               0              0        1135  ...   \n",
       "2225317            1               0              0        1794  ...   \n",
       "2225318            1               0              0         691  ...   \n",
       "\n",
       "         ContentRating ContentRatingOrdinal Dev_freq_encode  \\\n",
       "1             Everyone                    1    7.524738e-06   \n",
       "3             Everyone                    1    1.672164e-06   \n",
       "5             Everyone                    1    1.672164e-06   \n",
       "6             Everyone                    1    8.360820e-07   \n",
       "7             Everyone                    1    1.555112e-04   \n",
       "...                ...                  ...             ...   \n",
       "2225309           Teen                    3    4.180410e-06   \n",
       "2225310       Everyone                    1    5.852574e-06   \n",
       "2225314       Everyone                    1    8.360820e-07   \n",
       "2225317       Everyone                    1    7.859170e-05   \n",
       "2225318       Everyone                    1    8.360820e-07   \n",
       "\n",
       "        Android_freq_encode Category_0  Category_1  Category_2  Category_3  \\\n",
       "1                  0.162943          0           0           0           0   \n",
       "3                  0.079761          0           0           0           0   \n",
       "5                  0.284611          0           0           0           0   \n",
       "6                  0.162943          0           0           0           1   \n",
       "7                  0.284611          0           0           0           1   \n",
       "...                     ...        ...         ...         ...         ...   \n",
       "2225309            0.079761          1           0           1           0   \n",
       "2225310            0.013077          0           1           0           1   \n",
       "2225314            0.284611          0           1           1           0   \n",
       "2225317            0.162943          0           1           0           1   \n",
       "2225318            0.162943          0           1           1           1   \n",
       "\n",
       "         Category_4  Category_5  \n",
       "1                 0           1  \n",
       "3                 1           0  \n",
       "5                 1           1  \n",
       "6                 0           0  \n",
       "7                 0           1  \n",
       "...             ...         ...  \n",
       "2225309           0           0  \n",
       "2225310           0           0  \n",
       "2225314           0           0  \n",
       "2225317           0           0  \n",
       "2225318           1           0  \n",
       "\n",
       "[1196055 rows x 24 columns]"
      ]
     },
     "execution_count": 16,
     "metadata": {},
     "output_type": "execute_result"
    }
   ],
   "source": [
    "import category_encoders as ce\n",
    "encoder = ce.BinaryEncoder(cols=['Category'])\n",
    "dfbin = encoder.fit_transform(df['Category'])\n",
    "df = pd.concat([df,dfbin], axis=1)\n",
    "df"
   ]
  },
  {
   "cell_type": "code",
   "execution_count": 17,
   "metadata": {},
   "outputs": [],
   "source": [
    "df_original = df"
   ]
  },
  {
   "cell_type": "code",
   "execution_count": 18,
   "metadata": {},
   "outputs": [
    {
     "data": {
      "text/plain": [
       "Index(['Unnamed: 0', 'Rating', 'MaximumInstalls', 'Price', 'SizeMB', 'Free',\n",
       "       'AdSupported', 'InAppPurchases', 'EditorsChoice', 'ReleasedDA',\n",
       "       'LastUpdatedDA', 'Category', 'MinimumAndroid', 'DeveloperId',\n",
       "       'ContentRating', 'ContentRatingOrdinal', 'Dev_freq_encode',\n",
       "       'Android_freq_encode', 'Category_0', 'Category_1', 'Category_2',\n",
       "       'Category_3', 'Category_4', 'Category_5'],\n",
       "      dtype='object')"
      ]
     },
     "execution_count": 18,
     "metadata": {},
     "output_type": "execute_result"
    }
   ],
   "source": [
    "df_original.columns"
   ]
  },
  {
   "cell_type": "code",
   "execution_count": 19,
   "metadata": {},
   "outputs": [],
   "source": [
    "df= df.drop(['Unnamed: 0', 'Category', 'MinimumAndroid', 'DeveloperId', 'ContentRating'], axis=1)"
   ]
  },
  {
   "cell_type": "markdown",
   "metadata": {},
   "source": [
    "## Separación Test & Train"
   ]
  },
  {
   "cell_type": "code",
   "execution_count": 20,
   "metadata": {},
   "outputs": [],
   "source": [
    "from sklearn.model_selection import train_test_split"
   ]
  },
  {
   "cell_type": "code",
   "execution_count": 21,
   "metadata": {},
   "outputs": [],
   "source": [
    "X= df[['MaximumInstalls',\n",
    "       'Price',\n",
    "       'SizeMB', 'Free', 'AdSupported', 'InAppPurchases', 'EditorsChoice',\n",
    "       'ReleasedDA', 'LastUpdatedDA','ContentRatingOrdinal',\n",
    "       'Dev_freq_encode', 'Android_freq_encode', 'Category_0', 'Category_1',\n",
    "       'Category_2', 'Category_3', 'Category_4', 'Category_5']]\n",
    "y= df[['Rating']]\n",
    "X_train, X_test, y_train, y_test = train_test_split(X, y, test_size=0.2)"
   ]
  },
  {
   "cell_type": "code",
   "execution_count": 22,
   "metadata": {},
   "outputs": [
    {
     "name": "stdout",
     "output_type": "stream",
     "text": [
      "(956844, 18)\n",
      "(956844, 1)\n",
      "(239211, 18)\n",
      "(239211, 1)\n"
     ]
    }
   ],
   "source": [
    "print(X_train.shape)\n",
    "print(y_train.shape)\n",
    "print(X_test.shape)\n",
    "print(y_test.shape)"
   ]
  },
  {
   "cell_type": "markdown",
   "metadata": {},
   "source": [
    "## Matriz de correlación"
   ]
  },
  {
   "cell_type": "code",
   "execution_count": 48,
   "metadata": {},
   "outputs": [
    {
     "data": {
      "text/html": [
       "<style type=\"text/css\">\n",
       "#T_b3ffd_row0_col0, #T_b3ffd_row1_col1, #T_b3ffd_row2_col2, #T_b3ffd_row3_col3, #T_b3ffd_row4_col4, #T_b3ffd_row5_col5, #T_b3ffd_row6_col6, #T_b3ffd_row7_col7, #T_b3ffd_row8_col8, #T_b3ffd_row9_col9, #T_b3ffd_row10_col10, #T_b3ffd_row11_col11, #T_b3ffd_row12_col12, #T_b3ffd_row13_col13, #T_b3ffd_row14_col14, #T_b3ffd_row15_col15, #T_b3ffd_row16_col16, #T_b3ffd_row17_col17, #T_b3ffd_row18_col18 {\n",
       "  background-color: #b40426;\n",
       "  color: #f1f1f1;\n",
       "}\n",
       "#T_b3ffd_row0_col1, #T_b3ffd_row4_col1, #T_b3ffd_row4_col7, #T_b3ffd_row5_col1, #T_b3ffd_row11_col1, #T_b3ffd_row11_col7, #T_b3ffd_row14_col7, #T_b3ffd_row16_col1, #T_b3ffd_row18_col1, #T_b3ffd_row18_col7 {\n",
       "  background-color: #3e51c5;\n",
       "  color: #f1f1f1;\n",
       "}\n",
       "#T_b3ffd_row0_col2, #T_b3ffd_row1_col4, #T_b3ffd_row2_col14, #T_b3ffd_row7_col2, #T_b3ffd_row10_col2, #T_b3ffd_row15_col13, #T_b3ffd_row18_col2 {\n",
       "  background-color: #8fb1fe;\n",
       "  color: #000000;\n",
       "}\n",
       "#T_b3ffd_row0_col3, #T_b3ffd_row2_col18, #T_b3ffd_row7_col8 {\n",
       "  background-color: #7093f3;\n",
       "  color: #f1f1f1;\n",
       "}\n",
       "#T_b3ffd_row0_col4, #T_b3ffd_row0_col12, #T_b3ffd_row4_col12, #T_b3ffd_row6_col12, #T_b3ffd_row7_col14, #T_b3ffd_row11_col2, #T_b3ffd_row12_col2, #T_b3ffd_row16_col12 {\n",
       "  background-color: #8caffe;\n",
       "  color: #000000;\n",
       "}\n",
       "#T_b3ffd_row0_col5, #T_b3ffd_row3_col11, #T_b3ffd_row4_col10, #T_b3ffd_row5_col18, #T_b3ffd_row7_col10, #T_b3ffd_row12_col0 {\n",
       "  background-color: #5f7fe8;\n",
       "  color: #f1f1f1;\n",
       "}\n",
       "#T_b3ffd_row0_col6, #T_b3ffd_row3_col9, #T_b3ffd_row13_col11, #T_b3ffd_row15_col0 {\n",
       "  background-color: #4c66d6;\n",
       "  color: #f1f1f1;\n",
       "}\n",
       "#T_b3ffd_row0_col7, #T_b3ffd_row6_col1, #T_b3ffd_row15_col7 {\n",
       "  background-color: #4358cb;\n",
       "  color: #f1f1f1;\n",
       "}\n",
       "#T_b3ffd_row0_col8, #T_b3ffd_row3_col5, #T_b3ffd_row3_col7, #T_b3ffd_row6_col0, #T_b3ffd_row7_col1, #T_b3ffd_row10_col17 {\n",
       "  background-color: #506bda;\n",
       "  color: #f1f1f1;\n",
       "}\n",
       "#T_b3ffd_row0_col9, #T_b3ffd_row9_col18, #T_b3ffd_row10_col5, #T_b3ffd_row12_col3, #T_b3ffd_row12_col5 {\n",
       "  background-color: #7699f6;\n",
       "  color: #f1f1f1;\n",
       "}\n",
       "#T_b3ffd_row0_col10, #T_b3ffd_row8_col17, #T_b3ffd_row14_col11, #T_b3ffd_row16_col0 {\n",
       "  background-color: #5977e3;\n",
       "  color: #f1f1f1;\n",
       "}\n",
       "#T_b3ffd_row0_col11, #T_b3ffd_row1_col18, #T_b3ffd_row8_col15, #T_b3ffd_row10_col14, #T_b3ffd_row11_col0, #T_b3ffd_row18_col14 {\n",
       "  background-color: #6f92f3;\n",
       "  color: #f1f1f1;\n",
       "}\n",
       "#T_b3ffd_row0_col13, #T_b3ffd_row7_col15, #T_b3ffd_row8_col18, #T_b3ffd_row9_col14, #T_b3ffd_row14_col12, #T_b3ffd_row15_col12 {\n",
       "  background-color: #82a6fb;\n",
       "  color: #f1f1f1;\n",
       "}\n",
       "#T_b3ffd_row0_col14, #T_b3ffd_row5_col13 {\n",
       "  background-color: #a2c1ff;\n",
       "  color: #000000;\n",
       "}\n",
       "#T_b3ffd_row0_col15, #T_b3ffd_row5_col14, #T_b3ffd_row6_col10, #T_b3ffd_row9_col4, #T_b3ffd_row13_col18, #T_b3ffd_row14_col9, #T_b3ffd_row15_col14, #T_b3ffd_row18_col16 {\n",
       "  background-color: #779af7;\n",
       "  color: #f1f1f1;\n",
       "}\n",
       "#T_b3ffd_row0_col16, #T_b3ffd_row6_col16, #T_b3ffd_row7_col12, #T_b3ffd_row9_col16, #T_b3ffd_row10_col16, #T_b3ffd_row13_col6, #T_b3ffd_row13_col9 {\n",
       "  background-color: #84a7fc;\n",
       "  color: #f1f1f1;\n",
       "}\n",
       "#T_b3ffd_row0_col17, #T_b3ffd_row2_col7, #T_b3ffd_row3_col1, #T_b3ffd_row12_col1, #T_b3ffd_row16_col7, #T_b3ffd_row17_col0, #T_b3ffd_row17_col5 {\n",
       "  background-color: #4055c8;\n",
       "  color: #f1f1f1;\n",
       "}\n",
       "#T_b3ffd_row0_col18 {\n",
       "  background-color: #6a8bef;\n",
       "  color: #f1f1f1;\n",
       "}\n",
       "#T_b3ffd_row1_col0, #T_b3ffd_row1_col5, #T_b3ffd_row1_col6, #T_b3ffd_row1_col11, #T_b3ffd_row2_col0, #T_b3ffd_row5_col11, #T_b3ffd_row11_col5, #T_b3ffd_row16_col6, #T_b3ffd_row17_col6, #T_b3ffd_row17_col10 {\n",
       "  background-color: #5673e0;\n",
       "  color: #f1f1f1;\n",
       "}\n",
       "#T_b3ffd_row1_col2, #T_b3ffd_row1_col14, #T_b3ffd_row6_col2, #T_b3ffd_row7_col4, #T_b3ffd_row12_col14, #T_b3ffd_row14_col2, #T_b3ffd_row15_col2, #T_b3ffd_row16_col2, #T_b3ffd_row17_col2 {\n",
       "  background-color: #8db0fe;\n",
       "  color: #000000;\n",
       "}\n",
       "#T_b3ffd_row1_col3, #T_b3ffd_row2_col3, #T_b3ffd_row3_col10, #T_b3ffd_row17_col14 {\n",
       "  background-color: #7597f6;\n",
       "  color: #f1f1f1;\n",
       "}\n",
       "#T_b3ffd_row1_col7, #T_b3ffd_row4_col0, #T_b3ffd_row8_col12, #T_b3ffd_row9_col11, #T_b3ffd_row9_col17, #T_b3ffd_row10_col0, #T_b3ffd_row12_col17 {\n",
       "  background-color: #536edd;\n",
       "  color: #f1f1f1;\n",
       "}\n",
       "#T_b3ffd_row1_col8, #T_b3ffd_row6_col8, #T_b3ffd_row6_col18, #T_b3ffd_row10_col9, #T_b3ffd_row13_col16 {\n",
       "  background-color: #7295f4;\n",
       "  color: #f1f1f1;\n",
       "}\n",
       "#T_b3ffd_row1_col9, #T_b3ffd_row1_col15, #T_b3ffd_row1_col16, #T_b3ffd_row2_col15, #T_b3ffd_row2_col16, #T_b3ffd_row5_col15, #T_b3ffd_row11_col8, #T_b3ffd_row11_col9, #T_b3ffd_row11_col15, #T_b3ffd_row12_col15, #T_b3ffd_row17_col12 {\n",
       "  background-color: #80a3fa;\n",
       "  color: #f1f1f1;\n",
       "}\n",
       "#T_b3ffd_row1_col10, #T_b3ffd_row3_col18, #T_b3ffd_row13_col8, #T_b3ffd_row16_col11 {\n",
       "  background-color: #5d7ce6;\n",
       "  color: #f1f1f1;\n",
       "}\n",
       "#T_b3ffd_row1_col12, #T_b3ffd_row3_col14, #T_b3ffd_row4_col15 {\n",
       "  background-color: #85a8fc;\n",
       "  color: #f1f1f1;\n",
       "}\n",
       "#T_b3ffd_row1_col13, #T_b3ffd_row8_col16, #T_b3ffd_row9_col13, #T_b3ffd_row13_col2, #T_b3ffd_row17_col13 {\n",
       "  background-color: #90b2fe;\n",
       "  color: #000000;\n",
       "}\n",
       "#T_b3ffd_row1_col17, #T_b3ffd_row7_col0, #T_b3ffd_row7_col5, #T_b3ffd_row8_col6, #T_b3ffd_row13_col17 {\n",
       "  background-color: #5875e1;\n",
       "  color: #f1f1f1;\n",
       "}\n",
       "#T_b3ffd_row2_col1, #T_b3ffd_row14_col5, #T_b3ffd_row15_col1 {\n",
       "  background-color: #3d50c3;\n",
       "  color: #f1f1f1;\n",
       "}\n",
       "#T_b3ffd_row2_col4, #T_b3ffd_row4_col2, #T_b3ffd_row8_col0, #T_b3ffd_row8_col5, #T_b3ffd_row9_col1, #T_b3ffd_row9_col3, #T_b3ffd_row9_col6, #T_b3ffd_row9_col7, #T_b3ffd_row9_col12, #T_b3ffd_row11_col17, #T_b3ffd_row12_col8, #T_b3ffd_row12_col9, #T_b3ffd_row13_col14, #T_b3ffd_row14_col10, #T_b3ffd_row14_col13, #T_b3ffd_row14_col17, #T_b3ffd_row15_col16, #T_b3ffd_row15_col18, #T_b3ffd_row16_col15, #T_b3ffd_row17_col11 {\n",
       "  background-color: #3b4cc0;\n",
       "  color: #f1f1f1;\n",
       "}\n",
       "#T_b3ffd_row2_col5, #T_b3ffd_row3_col8, #T_b3ffd_row9_col0 {\n",
       "  background-color: #485fd1;\n",
       "  color: #f1f1f1;\n",
       "}\n",
       "#T_b3ffd_row2_col6, #T_b3ffd_row6_col11, #T_b3ffd_row9_col5, #T_b3ffd_row18_col10 {\n",
       "  background-color: #516ddb;\n",
       "  color: #f1f1f1;\n",
       "}\n",
       "#T_b3ffd_row2_col8, #T_b3ffd_row16_col3 {\n",
       "  background-color: #799cf8;\n",
       "  color: #f1f1f1;\n",
       "}\n",
       "#T_b3ffd_row2_col9, #T_b3ffd_row3_col16, #T_b3ffd_row4_col5, #T_b3ffd_row11_col13, #T_b3ffd_row11_col16, #T_b3ffd_row16_col9 {\n",
       "  background-color: #86a9fc;\n",
       "  color: #f1f1f1;\n",
       "}\n",
       "#T_b3ffd_row2_col10, #T_b3ffd_row4_col17, #T_b3ffd_row12_col6 {\n",
       "  background-color: #5b7ae5;\n",
       "  color: #f1f1f1;\n",
       "}\n",
       "#T_b3ffd_row2_col11, #T_b3ffd_row3_col0, #T_b3ffd_row7_col11 {\n",
       "  background-color: #5470de;\n",
       "  color: #f1f1f1;\n",
       "}\n",
       "#T_b3ffd_row2_col12, #T_b3ffd_row5_col2, #T_b3ffd_row7_col3, #T_b3ffd_row7_col16, #T_b3ffd_row8_col13, #T_b3ffd_row13_col15, #T_b3ffd_row15_col9, #T_b3ffd_row15_col17, #T_b3ffd_row16_col13, #T_b3ffd_row17_col9 {\n",
       "  background-color: #81a4fb;\n",
       "  color: #f1f1f1;\n",
       "}\n",
       "#T_b3ffd_row2_col13, #T_b3ffd_row3_col2, #T_b3ffd_row6_col4, #T_b3ffd_row6_col15, #T_b3ffd_row9_col2, #T_b3ffd_row10_col4, #T_b3ffd_row11_col14 {\n",
       "  background-color: #92b4fe;\n",
       "  color: #000000;\n",
       "}\n",
       "#T_b3ffd_row2_col17, #T_b3ffd_row4_col6, #T_b3ffd_row7_col17, #T_b3ffd_row15_col5, #T_b3ffd_row15_col11, #T_b3ffd_row18_col6 {\n",
       "  background-color: #5572df;\n",
       "  color: #f1f1f1;\n",
       "}\n",
       "#T_b3ffd_row3_col4, #T_b3ffd_row10_col12 {\n",
       "  background-color: #8badfd;\n",
       "  color: #000000;\n",
       "}\n",
       "#T_b3ffd_row3_col6, #T_b3ffd_row5_col16, #T_b3ffd_row7_col13, #T_b3ffd_row12_col13 {\n",
       "  background-color: #94b6ff;\n",
       "  color: #000000;\n",
       "}\n",
       "#T_b3ffd_row3_col12, #T_b3ffd_row4_col13, #T_b3ffd_row13_col4, #T_b3ffd_row17_col16, #T_b3ffd_row18_col4 {\n",
       "  background-color: #88abfd;\n",
       "  color: #000000;\n",
       "}\n",
       "#T_b3ffd_row3_col13 {\n",
       "  background-color: #bed2f6;\n",
       "  color: #000000;\n",
       "}\n",
       "#T_b3ffd_row3_col15, #T_b3ffd_row4_col14, #T_b3ffd_row12_col4, #T_b3ffd_row14_col4 {\n",
       "  background-color: #97b8ff;\n",
       "  color: #000000;\n",
       "}\n",
       "#T_b3ffd_row3_col17, #T_b3ffd_row18_col17 {\n",
       "  background-color: #6282ea;\n",
       "  color: #f1f1f1;\n",
       "}\n",
       "#T_b3ffd_row4_col3, #T_b3ffd_row7_col18, #T_b3ffd_row17_col8 {\n",
       "  background-color: #6e90f2;\n",
       "  color: #f1f1f1;\n",
       "}\n",
       "#T_b3ffd_row4_col8, #T_b3ffd_row13_col7, #T_b3ffd_row18_col5 {\n",
       "  background-color: #465ecf;\n",
       "  color: #f1f1f1;\n",
       "}\n",
       "#T_b3ffd_row4_col9, #T_b3ffd_row6_col9, #T_b3ffd_row10_col6, #T_b3ffd_row11_col10, #T_b3ffd_row13_col5, #T_b3ffd_row14_col0, #T_b3ffd_row14_col16, #T_b3ffd_row16_col5 {\n",
       "  background-color: #6c8ff1;\n",
       "  color: #f1f1f1;\n",
       "}\n",
       "#T_b3ffd_row4_col11, #T_b3ffd_row6_col17, #T_b3ffd_row10_col8, #T_b3ffd_row15_col8, #T_b3ffd_row15_col10 {\n",
       "  background-color: #5a78e4;\n",
       "  color: #f1f1f1;\n",
       "}\n",
       "#T_b3ffd_row4_col16, #T_b3ffd_row5_col6, #T_b3ffd_row6_col14 {\n",
       "  background-color: #7a9df8;\n",
       "  color: #f1f1f1;\n",
       "}\n",
       "#T_b3ffd_row4_col18, #T_b3ffd_row14_col15 {\n",
       "  background-color: #688aef;\n",
       "  color: #f1f1f1;\n",
       "}\n",
       "#T_b3ffd_row5_col0, #T_b3ffd_row16_col17, #T_b3ffd_row18_col3 {\n",
       "  background-color: #5e7de7;\n",
       "  color: #f1f1f1;\n",
       "}\n",
       "#T_b3ffd_row5_col3, #T_b3ffd_row8_col4, #T_b3ffd_row8_col11 {\n",
       "  background-color: #6b8df0;\n",
       "  color: #f1f1f1;\n",
       "}\n",
       "#T_b3ffd_row5_col4 {\n",
       "  background-color: #b6cefa;\n",
       "  color: #000000;\n",
       "}\n",
       "#T_b3ffd_row5_col7, #T_b3ffd_row12_col7 {\n",
       "  background-color: #4257c9;\n",
       "  color: #f1f1f1;\n",
       "}\n",
       "#T_b3ffd_row5_col8, #T_b3ffd_row6_col7, #T_b3ffd_row14_col18, #T_b3ffd_row18_col0 {\n",
       "  background-color: #4f69d9;\n",
       "  color: #f1f1f1;\n",
       "}\n",
       "#T_b3ffd_row5_col9, #T_b3ffd_row6_col5, #T_b3ffd_row10_col15, #T_b3ffd_row18_col8 {\n",
       "  background-color: #7ea1fa;\n",
       "  color: #f1f1f1;\n",
       "}\n",
       "#T_b3ffd_row5_col10, #T_b3ffd_row11_col3, #T_b3ffd_row16_col8, #T_b3ffd_row16_col14, #T_b3ffd_row17_col18, #T_b3ffd_row18_col12 {\n",
       "  background-color: #7b9ff9;\n",
       "  color: #f1f1f1;\n",
       "}\n",
       "#T_b3ffd_row5_col12 {\n",
       "  background-color: #9fbfff;\n",
       "  color: #000000;\n",
       "}\n",
       "#T_b3ffd_row5_col17, #T_b3ffd_row10_col1, #T_b3ffd_row13_col1, #T_b3ffd_row17_col1, #T_b3ffd_row17_col7 {\n",
       "  background-color: #3f53c6;\n",
       "  color: #f1f1f1;\n",
       "}\n",
       "#T_b3ffd_row6_col3 {\n",
       "  background-color: #aec9fc;\n",
       "  color: #000000;\n",
       "}\n",
       "#T_b3ffd_row6_col13 {\n",
       "  background-color: #b7cff9;\n",
       "  color: #000000;\n",
       "}\n",
       "#T_b3ffd_row7_col6, #T_b3ffd_row16_col10 {\n",
       "  background-color: #6180e9;\n",
       "  color: #f1f1f1;\n",
       "}\n",
       "#T_b3ffd_row7_col9, #T_b3ffd_row9_col15, #T_b3ffd_row17_col3 {\n",
       "  background-color: #7da0f9;\n",
       "  color: #f1f1f1;\n",
       "}\n",
       "#T_b3ffd_row8_col1, #T_b3ffd_row8_col7, #T_b3ffd_row12_col11 {\n",
       "  background-color: #455cce;\n",
       "  color: #f1f1f1;\n",
       "}\n",
       "#T_b3ffd_row8_col2 {\n",
       "  background-color: #9abbff;\n",
       "  color: #000000;\n",
       "}\n",
       "#T_b3ffd_row8_col3, #T_b3ffd_row11_col6 {\n",
       "  background-color: #4e68d8;\n",
       "  color: #f1f1f1;\n",
       "}\n",
       "#T_b3ffd_row8_col9 {\n",
       "  background-color: #f2cbb7;\n",
       "  color: #000000;\n",
       "}\n",
       "#T_b3ffd_row8_col10, #T_b3ffd_row9_col10 {\n",
       "  background-color: #4a63d3;\n",
       "  color: #f1f1f1;\n",
       "}\n",
       "#T_b3ffd_row8_col14, #T_b3ffd_row18_col13 {\n",
       "  background-color: #96b7ff;\n",
       "  color: #000000;\n",
       "}\n",
       "#T_b3ffd_row9_col8 {\n",
       "  background-color: #ecd3c5;\n",
       "  color: #000000;\n",
       "}\n",
       "#T_b3ffd_row10_col3, #T_b3ffd_row12_col16, #T_b3ffd_row13_col12, #T_b3ffd_row15_col3, #T_b3ffd_row16_col4, #T_b3ffd_row18_col9 {\n",
       "  background-color: #89acfd;\n",
       "  color: #000000;\n",
       "}\n",
       "#T_b3ffd_row10_col7 {\n",
       "  background-color: #445acc;\n",
       "  color: #f1f1f1;\n",
       "}\n",
       "#T_b3ffd_row10_col11, #T_b3ffd_row12_col18, #T_b3ffd_row14_col3 {\n",
       "  background-color: #6788ee;\n",
       "  color: #f1f1f1;\n",
       "}\n",
       "#T_b3ffd_row10_col13 {\n",
       "  background-color: #cad8ef;\n",
       "  color: #000000;\n",
       "}\n",
       "#T_b3ffd_row10_col18, #T_b3ffd_row16_col18 {\n",
       "  background-color: #6687ed;\n",
       "  color: #f1f1f1;\n",
       "}\n",
       "#T_b3ffd_row11_col4, #T_b3ffd_row15_col4, #T_b3ffd_row17_col4 {\n",
       "  background-color: #93b5fe;\n",
       "  color: #000000;\n",
       "}\n",
       "#T_b3ffd_row11_col12, #T_b3ffd_row14_col8 {\n",
       "  background-color: #7396f5;\n",
       "  color: #f1f1f1;\n",
       "}\n",
       "#T_b3ffd_row11_col18, #T_b3ffd_row12_col10 {\n",
       "  background-color: #6384eb;\n",
       "  color: #f1f1f1;\n",
       "}\n",
       "#T_b3ffd_row13_col0, #T_b3ffd_row18_col11 {\n",
       "  background-color: #4961d2;\n",
       "  color: #f1f1f1;\n",
       "}\n",
       "#T_b3ffd_row13_col3, #T_b3ffd_row17_col15 {\n",
       "  background-color: #a7c5fe;\n",
       "  color: #000000;\n",
       "}\n",
       "#T_b3ffd_row13_col10 {\n",
       "  background-color: #a5c3fe;\n",
       "  color: #000000;\n",
       "}\n",
       "#T_b3ffd_row14_col1, #T_b3ffd_row14_col6 {\n",
       "  background-color: #3c4ec2;\n",
       "  color: #f1f1f1;\n",
       "}\n",
       "#T_b3ffd_row15_col6 {\n",
       "  background-color: #6485ec;\n",
       "  color: #f1f1f1;\n",
       "}\n",
       "#T_b3ffd_row18_col15 {\n",
       "  background-color: #4b64d5;\n",
       "  color: #f1f1f1;\n",
       "}\n",
       "</style>\n",
       "<table id=\"T_b3ffd\">\n",
       "  <thead>\n",
       "    <tr>\n",
       "      <th class=\"blank level0\" >&nbsp;</th>\n",
       "      <th id=\"T_b3ffd_level0_col0\" class=\"col_heading level0 col0\" >Rating</th>\n",
       "      <th id=\"T_b3ffd_level0_col1\" class=\"col_heading level0 col1\" >MaximumInstalls</th>\n",
       "      <th id=\"T_b3ffd_level0_col2\" class=\"col_heading level0 col2\" >Price</th>\n",
       "      <th id=\"T_b3ffd_level0_col3\" class=\"col_heading level0 col3\" >SizeMB</th>\n",
       "      <th id=\"T_b3ffd_level0_col4\" class=\"col_heading level0 col4\" >Free</th>\n",
       "      <th id=\"T_b3ffd_level0_col5\" class=\"col_heading level0 col5\" >AdSupported</th>\n",
       "      <th id=\"T_b3ffd_level0_col6\" class=\"col_heading level0 col6\" >InAppPurchases</th>\n",
       "      <th id=\"T_b3ffd_level0_col7\" class=\"col_heading level0 col7\" >EditorsChoice</th>\n",
       "      <th id=\"T_b3ffd_level0_col8\" class=\"col_heading level0 col8\" >ReleasedDA</th>\n",
       "      <th id=\"T_b3ffd_level0_col9\" class=\"col_heading level0 col9\" >LastUpdatedDA</th>\n",
       "      <th id=\"T_b3ffd_level0_col10\" class=\"col_heading level0 col10\" >ContentRatingOrdinal</th>\n",
       "      <th id=\"T_b3ffd_level0_col11\" class=\"col_heading level0 col11\" >Dev_freq_encode</th>\n",
       "      <th id=\"T_b3ffd_level0_col12\" class=\"col_heading level0 col12\" >Android_freq_encode</th>\n",
       "      <th id=\"T_b3ffd_level0_col13\" class=\"col_heading level0 col13\" >Category_0</th>\n",
       "      <th id=\"T_b3ffd_level0_col14\" class=\"col_heading level0 col14\" >Category_1</th>\n",
       "      <th id=\"T_b3ffd_level0_col15\" class=\"col_heading level0 col15\" >Category_2</th>\n",
       "      <th id=\"T_b3ffd_level0_col16\" class=\"col_heading level0 col16\" >Category_3</th>\n",
       "      <th id=\"T_b3ffd_level0_col17\" class=\"col_heading level0 col17\" >Category_4</th>\n",
       "      <th id=\"T_b3ffd_level0_col18\" class=\"col_heading level0 col18\" >Category_5</th>\n",
       "    </tr>\n",
       "  </thead>\n",
       "  <tbody>\n",
       "    <tr>\n",
       "      <th id=\"T_b3ffd_level0_row0\" class=\"row_heading level0 row0\" >Rating</th>\n",
       "      <td id=\"T_b3ffd_row0_col0\" class=\"data row0 col0\" >1.000000</td>\n",
       "      <td id=\"T_b3ffd_row0_col1\" class=\"data row0 col1\" >0.002017</td>\n",
       "      <td id=\"T_b3ffd_row0_col2\" class=\"data row0 col2\" >0.002722</td>\n",
       "      <td id=\"T_b3ffd_row0_col3\" class=\"data row0 col3\" >-0.002780</td>\n",
       "      <td id=\"T_b3ffd_row0_col4\" class=\"data row0 col4\" >-0.008937</td>\n",
       "      <td id=\"T_b3ffd_row0_col5\" class=\"data row0 col5\" >0.027852</td>\n",
       "      <td id=\"T_b3ffd_row0_col6\" class=\"data row0 col6\" >-0.016847</td>\n",
       "      <td id=\"T_b3ffd_row0_col7\" class=\"data row0 col7\" >0.008726</td>\n",
       "      <td id=\"T_b3ffd_row0_col8\" class=\"data row0 col8\" >-0.096612</td>\n",
       "      <td id=\"T_b3ffd_row0_col9\" class=\"data row0 col9\" >-0.045949</td>\n",
       "      <td id=\"T_b3ffd_row0_col10\" class=\"data row0 col10\" >-0.008975</td>\n",
       "      <td id=\"T_b3ffd_row0_col11\" class=\"data row0 col11\" >0.083737</td>\n",
       "      <td id=\"T_b3ffd_row0_col12\" class=\"data row0 col12\" >0.032665</td>\n",
       "      <td id=\"T_b3ffd_row0_col13\" class=\"data row0 col13\" >-0.044932</td>\n",
       "      <td id=\"T_b3ffd_row0_col14\" class=\"data row0 col14\" >0.075634</td>\n",
       "      <td id=\"T_b3ffd_row0_col15\" class=\"data row0 col15\" >-0.029518</td>\n",
       "      <td id=\"T_b3ffd_row0_col16\" class=\"data row0 col16\" >0.010692</td>\n",
       "      <td id=\"T_b3ffd_row0_col17\" class=\"data row0 col17\" >-0.073633</td>\n",
       "      <td id=\"T_b3ffd_row0_col18\" class=\"data row0 col18\" >-0.022201</td>\n",
       "    </tr>\n",
       "    <tr>\n",
       "      <th id=\"T_b3ffd_level0_row1\" class=\"row_heading level0 row1\" >MaximumInstalls</th>\n",
       "      <td id=\"T_b3ffd_row1_col0\" class=\"data row1 col0\" >0.002017</td>\n",
       "      <td id=\"T_b3ffd_row1_col1\" class=\"data row1 col1\" >1.000000</td>\n",
       "      <td id=\"T_b3ffd_row1_col2\" class=\"data row1 col2\" >-0.000909</td>\n",
       "      <td id=\"T_b3ffd_row1_col3\" class=\"data row1 col3\" >0.009618</td>\n",
       "      <td id=\"T_b3ffd_row1_col4\" class=\"data row1 col4\" >0.002636</td>\n",
       "      <td id=\"T_b3ffd_row1_col5\" class=\"data row1 col5\" >0.000947</td>\n",
       "      <td id=\"T_b3ffd_row1_col6\" class=\"data row1 col6\" >0.017027</td>\n",
       "      <td id=\"T_b3ffd_row1_col7\" class=\"data row1 col7\" >0.060023</td>\n",
       "      <td id=\"T_b3ffd_row1_col8\" class=\"data row1 col8\" >0.023770</td>\n",
       "      <td id=\"T_b3ffd_row1_col9\" class=\"data row1 col9\" >-0.012238</td>\n",
       "      <td id=\"T_b3ffd_row1_col10\" class=\"data row1 col10\" >0.005953</td>\n",
       "      <td id=\"T_b3ffd_row1_col11\" class=\"data row1 col11\" >0.002032</td>\n",
       "      <td id=\"T_b3ffd_row1_col12\" class=\"data row1 col12\" >0.008830</td>\n",
       "      <td id=\"T_b3ffd_row1_col13\" class=\"data row1 col13\" >0.005417</td>\n",
       "      <td id=\"T_b3ffd_row1_col14\" class=\"data row1 col14\" >-0.007298</td>\n",
       "      <td id=\"T_b3ffd_row1_col15\" class=\"data row1 col15\" >-0.004052</td>\n",
       "      <td id=\"T_b3ffd_row1_col16\" class=\"data row1 col16\" >0.000129</td>\n",
       "      <td id=\"T_b3ffd_row1_col17\" class=\"data row1 col17\" >0.004471</td>\n",
       "      <td id=\"T_b3ffd_row1_col18\" class=\"data row1 col18\" >0.000993</td>\n",
       "    </tr>\n",
       "    <tr>\n",
       "      <th id=\"T_b3ffd_level0_row2\" class=\"row_heading level0 row2\" >Price</th>\n",
       "      <td id=\"T_b3ffd_row2_col0\" class=\"data row2 col0\" >0.002722</td>\n",
       "      <td id=\"T_b3ffd_row2_col1\" class=\"data row2 col1\" >-0.000909</td>\n",
       "      <td id=\"T_b3ffd_row2_col2\" class=\"data row2 col2\" >1.000000</td>\n",
       "      <td id=\"T_b3ffd_row2_col3\" class=\"data row2 col3\" >0.009910</td>\n",
       "      <td id=\"T_b3ffd_row2_col4\" class=\"data row2 col4\" >-0.341353</td>\n",
       "      <td id=\"T_b3ffd_row2_col5\" class=\"data row2 col5\" >-0.053055</td>\n",
       "      <td id=\"T_b3ffd_row2_col6\" class=\"data row2 col6\" >-0.002822</td>\n",
       "      <td id=\"T_b3ffd_row2_col7\" class=\"data row2 col7\" >0.001267</td>\n",
       "      <td id=\"T_b3ffd_row2_col8\" class=\"data row2 col8\" >0.045388</td>\n",
       "      <td id=\"T_b3ffd_row2_col9\" class=\"data row2 col9\" >0.014300</td>\n",
       "      <td id=\"T_b3ffd_row2_col10\" class=\"data row2 col10\" >-0.000362</td>\n",
       "      <td id=\"T_b3ffd_row2_col11\" class=\"data row2 col11\" >-0.006511</td>\n",
       "      <td id=\"T_b3ffd_row2_col12\" class=\"data row2 col12\" >-0.007288</td>\n",
       "      <td id=\"T_b3ffd_row2_col13\" class=\"data row2 col13\" >0.009506</td>\n",
       "      <td id=\"T_b3ffd_row2_col14\" class=\"data row2 col14\" >-0.001860</td>\n",
       "      <td id=\"T_b3ffd_row2_col15\" class=\"data row2 col15\" >-0.003782</td>\n",
       "      <td id=\"T_b3ffd_row2_col16\" class=\"data row2 col16\" >-0.001992</td>\n",
       "      <td id=\"T_b3ffd_row2_col17\" class=\"data row2 col17\" >-0.001468</td>\n",
       "      <td id=\"T_b3ffd_row2_col18\" class=\"data row2 col18\" >0.002344</td>\n",
       "    </tr>\n",
       "    <tr>\n",
       "      <th id=\"T_b3ffd_level0_row3\" class=\"row_heading level0 row3\" >SizeMB</th>\n",
       "      <td id=\"T_b3ffd_row3_col0\" class=\"data row3 col0\" >-0.002780</td>\n",
       "      <td id=\"T_b3ffd_row3_col1\" class=\"data row3 col1\" >0.009618</td>\n",
       "      <td id=\"T_b3ffd_row3_col2\" class=\"data row3 col2\" >0.009910</td>\n",
       "      <td id=\"T_b3ffd_row3_col3\" class=\"data row3 col3\" >1.000000</td>\n",
       "      <td id=\"T_b3ffd_row3_col4\" class=\"data row3 col4\" >-0.011549</td>\n",
       "      <td id=\"T_b3ffd_row3_col5\" class=\"data row3 col5\" >-0.023571</td>\n",
       "      <td id=\"T_b3ffd_row3_col6\" class=\"data row3 col6\" >0.209427</td>\n",
       "      <td id=\"T_b3ffd_row3_col7\" class=\"data row3 col7\" >0.052595</td>\n",
       "      <td id=\"T_b3ffd_row3_col8\" class=\"data row3 col8\" >-0.128679</td>\n",
       "      <td id=\"T_b3ffd_row3_col9\" class=\"data row3 col9\" >-0.208097</td>\n",
       "      <td id=\"T_b3ffd_row3_col10\" class=\"data row3 col10\" >0.080840</td>\n",
       "      <td id=\"T_b3ffd_row3_col11\" class=\"data row3 col11\" >0.033601</td>\n",
       "      <td id=\"T_b3ffd_row3_col12\" class=\"data row3 col12\" >0.017020</td>\n",
       "      <td id=\"T_b3ffd_row3_col13\" class=\"data row3 col13\" >0.184343</td>\n",
       "      <td id=\"T_b3ffd_row3_col14\" class=\"data row3 col14\" >-0.035297</td>\n",
       "      <td id=\"T_b3ffd_row3_col15\" class=\"data row3 col15\" >0.081268</td>\n",
       "      <td id=\"T_b3ffd_row3_col16\" class=\"data row3 col16\" >0.023983</td>\n",
       "      <td id=\"T_b3ffd_row3_col17\" class=\"data row3 col17\" >0.040892</td>\n",
       "      <td id=\"T_b3ffd_row3_col18\" class=\"data row3 col18\" >-0.068356</td>\n",
       "    </tr>\n",
       "    <tr>\n",
       "      <th id=\"T_b3ffd_level0_row4\" class=\"row_heading level0 row4\" >Free</th>\n",
       "      <td id=\"T_b3ffd_row4_col0\" class=\"data row4 col0\" >-0.008937</td>\n",
       "      <td id=\"T_b3ffd_row4_col1\" class=\"data row4 col1\" >0.002636</td>\n",
       "      <td id=\"T_b3ffd_row4_col2\" class=\"data row4 col2\" >-0.341353</td>\n",
       "      <td id=\"T_b3ffd_row4_col3\" class=\"data row4 col3\" >-0.011549</td>\n",
       "      <td id=\"T_b3ffd_row4_col4\" class=\"data row4 col4\" >1.000000</td>\n",
       "      <td id=\"T_b3ffd_row4_col5\" class=\"data row4 col5\" >0.153578</td>\n",
       "      <td id=\"T_b3ffd_row4_col6\" class=\"data row4 col6\" >0.009944</td>\n",
       "      <td id=\"T_b3ffd_row4_col7\" class=\"data row4 col7\" >-0.004504</td>\n",
       "      <td id=\"T_b3ffd_row4_col8\" class=\"data row4 col8\" >-0.134704</td>\n",
       "      <td id=\"T_b3ffd_row4_col9\" class=\"data row4 col9\" >-0.085210</td>\n",
       "      <td id=\"T_b3ffd_row4_col10\" class=\"data row4 col10\" >0.010992</td>\n",
       "      <td id=\"T_b3ffd_row4_col11\" class=\"data row4 col11\" >0.014987</td>\n",
       "      <td id=\"T_b3ffd_row4_col12\" class=\"data row4 col12\" >0.033357</td>\n",
       "      <td id=\"T_b3ffd_row4_col13\" class=\"data row4 col13\" >-0.026121</td>\n",
       "      <td id=\"T_b3ffd_row4_col14\" class=\"data row4 col14\" >0.032376</td>\n",
       "      <td id=\"T_b3ffd_row4_col15\" class=\"data row4 col15\" >0.015884</td>\n",
       "      <td id=\"T_b3ffd_row4_col16\" class=\"data row4 col16\" >-0.021355</td>\n",
       "      <td id=\"T_b3ffd_row4_col17\" class=\"data row4 col17\" >0.018918</td>\n",
       "      <td id=\"T_b3ffd_row4_col18\" class=\"data row4 col18\" >-0.022487</td>\n",
       "    </tr>\n",
       "    <tr>\n",
       "      <th id=\"T_b3ffd_level0_row5\" class=\"row_heading level0 row5\" >AdSupported</th>\n",
       "      <td id=\"T_b3ffd_row5_col0\" class=\"data row5 col0\" >0.027852</td>\n",
       "      <td id=\"T_b3ffd_row5_col1\" class=\"data row5 col1\" >0.000947</td>\n",
       "      <td id=\"T_b3ffd_row5_col2\" class=\"data row5 col2\" >-0.053055</td>\n",
       "      <td id=\"T_b3ffd_row5_col3\" class=\"data row5 col3\" >-0.023571</td>\n",
       "      <td id=\"T_b3ffd_row5_col4\" class=\"data row5 col4\" >0.153578</td>\n",
       "      <td id=\"T_b3ffd_row5_col5\" class=\"data row5 col5\" >1.000000</td>\n",
       "      <td id=\"T_b3ffd_row5_col6\" class=\"data row5 col6\" >0.130675</td>\n",
       "      <td id=\"T_b3ffd_row5_col7\" class=\"data row5 col7\" >0.004134</td>\n",
       "      <td id=\"T_b3ffd_row5_col8\" class=\"data row5 col8\" >-0.101391</td>\n",
       "      <td id=\"T_b3ffd_row5_col9\" class=\"data row5 col9\" >-0.019023</td>\n",
       "      <td id=\"T_b3ffd_row5_col10\" class=\"data row5 col10\" >0.105060</td>\n",
       "      <td id=\"T_b3ffd_row5_col11\" class=\"data row5 col11\" >0.000906</td>\n",
       "      <td id=\"T_b3ffd_row5_col12\" class=\"data row5 col12\" >0.105027</td>\n",
       "      <td id=\"T_b3ffd_row5_col13\" class=\"data row5 col13\" >0.074593</td>\n",
       "      <td id=\"T_b3ffd_row5_col14\" class=\"data row5 col14\" >-0.088689</td>\n",
       "      <td id=\"T_b3ffd_row5_col15\" class=\"data row5 col15\" >-0.003754</td>\n",
       "      <td id=\"T_b3ffd_row5_col16\" class=\"data row5 col16\" >0.071637</td>\n",
       "      <td id=\"T_b3ffd_row5_col17\" class=\"data row5 col17\" >-0.079205</td>\n",
       "      <td id=\"T_b3ffd_row5_col18\" class=\"data row5 col18\" >-0.056173</td>\n",
       "    </tr>\n",
       "    <tr>\n",
       "      <th id=\"T_b3ffd_level0_row6\" class=\"row_heading level0 row6\" >InAppPurchases</th>\n",
       "      <td id=\"T_b3ffd_row6_col0\" class=\"data row6 col0\" >-0.016847</td>\n",
       "      <td id=\"T_b3ffd_row6_col1\" class=\"data row6 col1\" >0.017027</td>\n",
       "      <td id=\"T_b3ffd_row6_col2\" class=\"data row6 col2\" >-0.002822</td>\n",
       "      <td id=\"T_b3ffd_row6_col3\" class=\"data row6 col3\" >0.209427</td>\n",
       "      <td id=\"T_b3ffd_row6_col4\" class=\"data row6 col4\" >0.009944</td>\n",
       "      <td id=\"T_b3ffd_row6_col5\" class=\"data row6 col5\" >0.130675</td>\n",
       "      <td id=\"T_b3ffd_row6_col6\" class=\"data row6 col6\" >1.000000</td>\n",
       "      <td id=\"T_b3ffd_row6_col7\" class=\"data row6 col7\" >0.050169</td>\n",
       "      <td id=\"T_b3ffd_row6_col8\" class=\"data row6 col8\" >0.020585</td>\n",
       "      <td id=\"T_b3ffd_row6_col9\" class=\"data row6 col9\" >-0.083685</td>\n",
       "      <td id=\"T_b3ffd_row6_col10\" class=\"data row6 col10\" >0.089527</td>\n",
       "      <td id=\"T_b3ffd_row6_col11\" class=\"data row6 col11\" >-0.014584</td>\n",
       "      <td id=\"T_b3ffd_row6_col12\" class=\"data row6 col12\" >0.030942</td>\n",
       "      <td id=\"T_b3ffd_row6_col13\" class=\"data row6 col13\" >0.160079</td>\n",
       "      <td id=\"T_b3ffd_row6_col14\" class=\"data row6 col14\" >-0.077724</td>\n",
       "      <td id=\"T_b3ffd_row6_col15\" class=\"data row6 col15\" >0.063608</td>\n",
       "      <td id=\"T_b3ffd_row6_col16\" class=\"data row6 col16\" >0.015257</td>\n",
       "      <td id=\"T_b3ffd_row6_col17\" class=\"data row6 col17\" >0.017094</td>\n",
       "      <td id=\"T_b3ffd_row6_col18\" class=\"data row6 col18\" >0.010089</td>\n",
       "    </tr>\n",
       "    <tr>\n",
       "      <th id=\"T_b3ffd_level0_row7\" class=\"row_heading level0 row7\" >EditorsChoice</th>\n",
       "      <td id=\"T_b3ffd_row7_col0\" class=\"data row7 col0\" >0.008726</td>\n",
       "      <td id=\"T_b3ffd_row7_col1\" class=\"data row7 col1\" >0.060023</td>\n",
       "      <td id=\"T_b3ffd_row7_col2\" class=\"data row7 col2\" >0.001267</td>\n",
       "      <td id=\"T_b3ffd_row7_col3\" class=\"data row7 col3\" >0.052595</td>\n",
       "      <td id=\"T_b3ffd_row7_col4\" class=\"data row7 col4\" >-0.004504</td>\n",
       "      <td id=\"T_b3ffd_row7_col5\" class=\"data row7 col5\" >0.004134</td>\n",
       "      <td id=\"T_b3ffd_row7_col6\" class=\"data row7 col6\" >0.050169</td>\n",
       "      <td id=\"T_b3ffd_row7_col7\" class=\"data row7 col7\" >1.000000</td>\n",
       "      <td id=\"T_b3ffd_row7_col8\" class=\"data row7 col8\" >0.019356</td>\n",
       "      <td id=\"T_b3ffd_row7_col9\" class=\"data row7 col9\" >-0.020168</td>\n",
       "      <td id=\"T_b3ffd_row7_col10\" class=\"data row7 col10\" >0.014404</td>\n",
       "      <td id=\"T_b3ffd_row7_col11\" class=\"data row7 col11\" >-0.004416</td>\n",
       "      <td id=\"T_b3ffd_row7_col12\" class=\"data row7 col12\" >0.003974</td>\n",
       "      <td id=\"T_b3ffd_row7_col13\" class=\"data row7 col13\" >0.019937</td>\n",
       "      <td id=\"T_b3ffd_row7_col14\" class=\"data row7 col14\" >-0.007350</td>\n",
       "      <td id=\"T_b3ffd_row7_col15\" class=\"data row7 col15\" >0.007926</td>\n",
       "      <td id=\"T_b3ffd_row7_col16\" class=\"data row7 col16\" >0.001246</td>\n",
       "      <td id=\"T_b3ffd_row7_col17\" class=\"data row7 col17\" >-0.001121</td>\n",
       "      <td id=\"T_b3ffd_row7_col18\" class=\"data row7 col18\" >-0.005318</td>\n",
       "    </tr>\n",
       "    <tr>\n",
       "      <th id=\"T_b3ffd_level0_row8\" class=\"row_heading level0 row8\" >ReleasedDA</th>\n",
       "      <td id=\"T_b3ffd_row8_col0\" class=\"data row8 col0\" >-0.096612</td>\n",
       "      <td id=\"T_b3ffd_row8_col1\" class=\"data row8 col1\" >0.023770</td>\n",
       "      <td id=\"T_b3ffd_row8_col2\" class=\"data row8 col2\" >0.045388</td>\n",
       "      <td id=\"T_b3ffd_row8_col3\" class=\"data row8 col3\" >-0.128679</td>\n",
       "      <td id=\"T_b3ffd_row8_col4\" class=\"data row8 col4\" >-0.134704</td>\n",
       "      <td id=\"T_b3ffd_row8_col5\" class=\"data row8 col5\" >-0.101391</td>\n",
       "      <td id=\"T_b3ffd_row8_col6\" class=\"data row8 col6\" >0.020585</td>\n",
       "      <td id=\"T_b3ffd_row8_col7\" class=\"data row8 col7\" >0.019356</td>\n",
       "      <td id=\"T_b3ffd_row8_col8\" class=\"data row8 col8\" >1.000000</td>\n",
       "      <td id=\"T_b3ffd_row8_col9\" class=\"data row8 col9\" >0.482669</td>\n",
       "      <td id=\"T_b3ffd_row8_col10\" class=\"data row8 col10\" >-0.060191</td>\n",
       "      <td id=\"T_b3ffd_row8_col11\" class=\"data row8 col11\" >0.069195</td>\n",
       "      <td id=\"T_b3ffd_row8_col12\" class=\"data row8 col12\" >-0.183475</td>\n",
       "      <td id=\"T_b3ffd_row8_col13\" class=\"data row8 col13\" >-0.050222</td>\n",
       "      <td id=\"T_b3ffd_row8_col14\" class=\"data row8 col14\" >0.025170</td>\n",
       "      <td id=\"T_b3ffd_row8_col15\" class=\"data row8 col15\" >-0.062341</td>\n",
       "      <td id=\"T_b3ffd_row8_col16\" class=\"data row8 col16\" >0.056577</td>\n",
       "      <td id=\"T_b3ffd_row8_col17\" class=\"data row8 col17\" >0.009551</td>\n",
       "      <td id=\"T_b3ffd_row8_col18\" class=\"data row8 col18\" >0.063057</td>\n",
       "    </tr>\n",
       "    <tr>\n",
       "      <th id=\"T_b3ffd_level0_row9\" class=\"row_heading level0 row9\" >LastUpdatedDA</th>\n",
       "      <td id=\"T_b3ffd_row9_col0\" class=\"data row9 col0\" >-0.045949</td>\n",
       "      <td id=\"T_b3ffd_row9_col1\" class=\"data row9 col1\" >-0.012238</td>\n",
       "      <td id=\"T_b3ffd_row9_col2\" class=\"data row9 col2\" >0.014300</td>\n",
       "      <td id=\"T_b3ffd_row9_col3\" class=\"data row9 col3\" >-0.208097</td>\n",
       "      <td id=\"T_b3ffd_row9_col4\" class=\"data row9 col4\" >-0.085210</td>\n",
       "      <td id=\"T_b3ffd_row9_col5\" class=\"data row9 col5\" >-0.019023</td>\n",
       "      <td id=\"T_b3ffd_row9_col6\" class=\"data row9 col6\" >-0.083685</td>\n",
       "      <td id=\"T_b3ffd_row9_col7\" class=\"data row9 col7\" >-0.020168</td>\n",
       "      <td id=\"T_b3ffd_row9_col8\" class=\"data row9 col8\" >0.482669</td>\n",
       "      <td id=\"T_b3ffd_row9_col9\" class=\"data row9 col9\" >1.000000</td>\n",
       "      <td id=\"T_b3ffd_row9_col10\" class=\"data row9 col10\" >-0.063768</td>\n",
       "      <td id=\"T_b3ffd_row9_col11\" class=\"data row9 col11\" >-0.011701</td>\n",
       "      <td id=\"T_b3ffd_row9_col12\" class=\"data row9 col12\" >-0.286371</td>\n",
       "      <td id=\"T_b3ffd_row9_col13\" class=\"data row9 col13\" >0.003584</td>\n",
       "      <td id=\"T_b3ffd_row9_col14\" class=\"data row9 col14\" >-0.045093</td>\n",
       "      <td id=\"T_b3ffd_row9_col15\" class=\"data row9 col15\" >-0.009966</td>\n",
       "      <td id=\"T_b3ffd_row9_col16\" class=\"data row9 col16\" >0.013997</td>\n",
       "      <td id=\"T_b3ffd_row9_col17\" class=\"data row9 col17\" >-0.009326</td>\n",
       "      <td id=\"T_b3ffd_row9_col18\" class=\"data row9 col18\" >0.023640</td>\n",
       "    </tr>\n",
       "    <tr>\n",
       "      <th id=\"T_b3ffd_level0_row10\" class=\"row_heading level0 row10\" >ContentRatingOrdinal</th>\n",
       "      <td id=\"T_b3ffd_row10_col0\" class=\"data row10 col0\" >-0.008975</td>\n",
       "      <td id=\"T_b3ffd_row10_col1\" class=\"data row10 col1\" >0.005953</td>\n",
       "      <td id=\"T_b3ffd_row10_col2\" class=\"data row10 col2\" >-0.000362</td>\n",
       "      <td id=\"T_b3ffd_row10_col3\" class=\"data row10 col3\" >0.080840</td>\n",
       "      <td id=\"T_b3ffd_row10_col4\" class=\"data row10 col4\" >0.010992</td>\n",
       "      <td id=\"T_b3ffd_row10_col5\" class=\"data row10 col5\" >0.105060</td>\n",
       "      <td id=\"T_b3ffd_row10_col6\" class=\"data row10 col6\" >0.089527</td>\n",
       "      <td id=\"T_b3ffd_row10_col7\" class=\"data row10 col7\" >0.014404</td>\n",
       "      <td id=\"T_b3ffd_row10_col8\" class=\"data row10 col8\" >-0.060191</td>\n",
       "      <td id=\"T_b3ffd_row10_col9\" class=\"data row10 col9\" >-0.063768</td>\n",
       "      <td id=\"T_b3ffd_row10_col10\" class=\"data row10 col10\" >1.000000</td>\n",
       "      <td id=\"T_b3ffd_row10_col11\" class=\"data row10 col11\" >0.056913</td>\n",
       "      <td id=\"T_b3ffd_row10_col12\" class=\"data row10 col12\" >0.027725</td>\n",
       "      <td id=\"T_b3ffd_row10_col13\" class=\"data row10 col13\" >0.236427</td>\n",
       "      <td id=\"T_b3ffd_row10_col14\" class=\"data row10 col14\" >-0.121013</td>\n",
       "      <td id=\"T_b3ffd_row10_col15\" class=\"data row10 col15\" >-0.006648</td>\n",
       "      <td id=\"T_b3ffd_row10_col16\" class=\"data row10 col16\" >0.015107</td>\n",
       "      <td id=\"T_b3ffd_row10_col17\" class=\"data row10 col17\" >-0.019894</td>\n",
       "      <td id=\"T_b3ffd_row10_col18\" class=\"data row10 col18\" >-0.035972</td>\n",
       "    </tr>\n",
       "    <tr>\n",
       "      <th id=\"T_b3ffd_level0_row11\" class=\"row_heading level0 row11\" >Dev_freq_encode</th>\n",
       "      <td id=\"T_b3ffd_row11_col0\" class=\"data row11 col0\" >0.083737</td>\n",
       "      <td id=\"T_b3ffd_row11_col1\" class=\"data row11 col1\" >0.002032</td>\n",
       "      <td id=\"T_b3ffd_row11_col2\" class=\"data row11 col2\" >-0.006511</td>\n",
       "      <td id=\"T_b3ffd_row11_col3\" class=\"data row11 col3\" >0.033601</td>\n",
       "      <td id=\"T_b3ffd_row11_col4\" class=\"data row11 col4\" >0.014987</td>\n",
       "      <td id=\"T_b3ffd_row11_col5\" class=\"data row11 col5\" >0.000906</td>\n",
       "      <td id=\"T_b3ffd_row11_col6\" class=\"data row11 col6\" >-0.014584</td>\n",
       "      <td id=\"T_b3ffd_row11_col7\" class=\"data row11 col7\" >-0.004416</td>\n",
       "      <td id=\"T_b3ffd_row11_col8\" class=\"data row11 col8\" >0.069195</td>\n",
       "      <td id=\"T_b3ffd_row11_col9\" class=\"data row11 col9\" >-0.011701</td>\n",
       "      <td id=\"T_b3ffd_row11_col10\" class=\"data row11 col10\" >0.056913</td>\n",
       "      <td id=\"T_b3ffd_row11_col11\" class=\"data row11 col11\" >1.000000</td>\n",
       "      <td id=\"T_b3ffd_row11_col12\" class=\"data row11 col12\" >-0.059015</td>\n",
       "      <td id=\"T_b3ffd_row11_col13\" class=\"data row11 col13\" >-0.032619</td>\n",
       "      <td id=\"T_b3ffd_row11_col14\" class=\"data row11 col14\" >0.011837</td>\n",
       "      <td id=\"T_b3ffd_row11_col15\" class=\"data row11 col15\" >-0.000806</td>\n",
       "      <td id=\"T_b3ffd_row11_col16\" class=\"data row11 col16\" >0.025000</td>\n",
       "      <td id=\"T_b3ffd_row11_col17\" class=\"data row11 col17\" >-0.098574</td>\n",
       "      <td id=\"T_b3ffd_row11_col18\" class=\"data row11 col18\" >-0.044550</td>\n",
       "    </tr>\n",
       "    <tr>\n",
       "      <th id=\"T_b3ffd_level0_row12\" class=\"row_heading level0 row12\" >Android_freq_encode</th>\n",
       "      <td id=\"T_b3ffd_row12_col0\" class=\"data row12 col0\" >0.032665</td>\n",
       "      <td id=\"T_b3ffd_row12_col1\" class=\"data row12 col1\" >0.008830</td>\n",
       "      <td id=\"T_b3ffd_row12_col2\" class=\"data row12 col2\" >-0.007288</td>\n",
       "      <td id=\"T_b3ffd_row12_col3\" class=\"data row12 col3\" >0.017020</td>\n",
       "      <td id=\"T_b3ffd_row12_col4\" class=\"data row12 col4\" >0.033357</td>\n",
       "      <td id=\"T_b3ffd_row12_col5\" class=\"data row12 col5\" >0.105027</td>\n",
       "      <td id=\"T_b3ffd_row12_col6\" class=\"data row12 col6\" >0.030942</td>\n",
       "      <td id=\"T_b3ffd_row12_col7\" class=\"data row12 col7\" >0.003974</td>\n",
       "      <td id=\"T_b3ffd_row12_col8\" class=\"data row12 col8\" >-0.183475</td>\n",
       "      <td id=\"T_b3ffd_row12_col9\" class=\"data row12 col9\" >-0.286371</td>\n",
       "      <td id=\"T_b3ffd_row12_col10\" class=\"data row12 col10\" >0.027725</td>\n",
       "      <td id=\"T_b3ffd_row12_col11\" class=\"data row12 col11\" >-0.059015</td>\n",
       "      <td id=\"T_b3ffd_row12_col12\" class=\"data row12 col12\" >1.000000</td>\n",
       "      <td id=\"T_b3ffd_row12_col13\" class=\"data row12 col13\" >0.021038</td>\n",
       "      <td id=\"T_b3ffd_row12_col14\" class=\"data row12 col14\" >-0.004681</td>\n",
       "      <td id=\"T_b3ffd_row12_col15\" class=\"data row12 col15\" >-0.003716</td>\n",
       "      <td id=\"T_b3ffd_row12_col16\" class=\"data row12 col16\" >0.030681</td>\n",
       "      <td id=\"T_b3ffd_row12_col17\" class=\"data row12 col17\" >-0.011580</td>\n",
       "      <td id=\"T_b3ffd_row12_col18\" class=\"data row12 col18\" >-0.027963</td>\n",
       "    </tr>\n",
       "    <tr>\n",
       "      <th id=\"T_b3ffd_level0_row13\" class=\"row_heading level0 row13\" >Category_0</th>\n",
       "      <td id=\"T_b3ffd_row13_col0\" class=\"data row13 col0\" >-0.044932</td>\n",
       "      <td id=\"T_b3ffd_row13_col1\" class=\"data row13 col1\" >0.005417</td>\n",
       "      <td id=\"T_b3ffd_row13_col2\" class=\"data row13 col2\" >0.009506</td>\n",
       "      <td id=\"T_b3ffd_row13_col3\" class=\"data row13 col3\" >0.184343</td>\n",
       "      <td id=\"T_b3ffd_row13_col4\" class=\"data row13 col4\" >-0.026121</td>\n",
       "      <td id=\"T_b3ffd_row13_col5\" class=\"data row13 col5\" >0.074593</td>\n",
       "      <td id=\"T_b3ffd_row13_col6\" class=\"data row13 col6\" >0.160079</td>\n",
       "      <td id=\"T_b3ffd_row13_col7\" class=\"data row13 col7\" >0.019937</td>\n",
       "      <td id=\"T_b3ffd_row13_col8\" class=\"data row13 col8\" >-0.050222</td>\n",
       "      <td id=\"T_b3ffd_row13_col9\" class=\"data row13 col9\" >0.003584</td>\n",
       "      <td id=\"T_b3ffd_row13_col10\" class=\"data row13 col10\" >0.236427</td>\n",
       "      <td id=\"T_b3ffd_row13_col11\" class=\"data row13 col11\" >-0.032619</td>\n",
       "      <td id=\"T_b3ffd_row13_col12\" class=\"data row13 col12\" >0.021038</td>\n",
       "      <td id=\"T_b3ffd_row13_col13\" class=\"data row13 col13\" >1.000000</td>\n",
       "      <td id=\"T_b3ffd_row13_col14\" class=\"data row13 col14\" >-0.343079</td>\n",
       "      <td id=\"T_b3ffd_row13_col15\" class=\"data row13 col15\" >0.001886</td>\n",
       "      <td id=\"T_b3ffd_row13_col16\" class=\"data row13 col16\" >-0.051628</td>\n",
       "      <td id=\"T_b3ffd_row13_col17\" class=\"data row13 col17\" >0.008165</td>\n",
       "      <td id=\"T_b3ffd_row13_col18\" class=\"data row13 col18\" >0.026837</td>\n",
       "    </tr>\n",
       "    <tr>\n",
       "      <th id=\"T_b3ffd_level0_row14\" class=\"row_heading level0 row14\" >Category_1</th>\n",
       "      <td id=\"T_b3ffd_row14_col0\" class=\"data row14 col0\" >0.075634</td>\n",
       "      <td id=\"T_b3ffd_row14_col1\" class=\"data row14 col1\" >-0.007298</td>\n",
       "      <td id=\"T_b3ffd_row14_col2\" class=\"data row14 col2\" >-0.001860</td>\n",
       "      <td id=\"T_b3ffd_row14_col3\" class=\"data row14 col3\" >-0.035297</td>\n",
       "      <td id=\"T_b3ffd_row14_col4\" class=\"data row14 col4\" >0.032376</td>\n",
       "      <td id=\"T_b3ffd_row14_col5\" class=\"data row14 col5\" >-0.088689</td>\n",
       "      <td id=\"T_b3ffd_row14_col6\" class=\"data row14 col6\" >-0.077724</td>\n",
       "      <td id=\"T_b3ffd_row14_col7\" class=\"data row14 col7\" >-0.007350</td>\n",
       "      <td id=\"T_b3ffd_row14_col8\" class=\"data row14 col8\" >0.025170</td>\n",
       "      <td id=\"T_b3ffd_row14_col9\" class=\"data row14 col9\" >-0.045093</td>\n",
       "      <td id=\"T_b3ffd_row14_col10\" class=\"data row14 col10\" >-0.121013</td>\n",
       "      <td id=\"T_b3ffd_row14_col11\" class=\"data row14 col11\" >0.011837</td>\n",
       "      <td id=\"T_b3ffd_row14_col12\" class=\"data row14 col12\" >-0.004681</td>\n",
       "      <td id=\"T_b3ffd_row14_col13\" class=\"data row14 col13\" >-0.343079</td>\n",
       "      <td id=\"T_b3ffd_row14_col14\" class=\"data row14 col14\" >1.000000</td>\n",
       "      <td id=\"T_b3ffd_row14_col15\" class=\"data row14 col15\" >-0.088147</td>\n",
       "      <td id=\"T_b3ffd_row14_col16\" class=\"data row14 col16\" >-0.072458</td>\n",
       "      <td id=\"T_b3ffd_row14_col17\" class=\"data row14 col17\" >-0.096800</td>\n",
       "      <td id=\"T_b3ffd_row14_col18\" class=\"data row14 col18\" >-0.120556</td>\n",
       "    </tr>\n",
       "    <tr>\n",
       "      <th id=\"T_b3ffd_level0_row15\" class=\"row_heading level0 row15\" >Category_2</th>\n",
       "      <td id=\"T_b3ffd_row15_col0\" class=\"data row15 col0\" >-0.029518</td>\n",
       "      <td id=\"T_b3ffd_row15_col1\" class=\"data row15 col1\" >-0.004052</td>\n",
       "      <td id=\"T_b3ffd_row15_col2\" class=\"data row15 col2\" >-0.003782</td>\n",
       "      <td id=\"T_b3ffd_row15_col3\" class=\"data row15 col3\" >0.081268</td>\n",
       "      <td id=\"T_b3ffd_row15_col4\" class=\"data row15 col4\" >0.015884</td>\n",
       "      <td id=\"T_b3ffd_row15_col5\" class=\"data row15 col5\" >-0.003754</td>\n",
       "      <td id=\"T_b3ffd_row15_col6\" class=\"data row15 col6\" >0.063608</td>\n",
       "      <td id=\"T_b3ffd_row15_col7\" class=\"data row15 col7\" >0.007926</td>\n",
       "      <td id=\"T_b3ffd_row15_col8\" class=\"data row15 col8\" >-0.062341</td>\n",
       "      <td id=\"T_b3ffd_row15_col9\" class=\"data row15 col9\" >-0.009966</td>\n",
       "      <td id=\"T_b3ffd_row15_col10\" class=\"data row15 col10\" >-0.006648</td>\n",
       "      <td id=\"T_b3ffd_row15_col11\" class=\"data row15 col11\" >-0.000806</td>\n",
       "      <td id=\"T_b3ffd_row15_col12\" class=\"data row15 col12\" >-0.003716</td>\n",
       "      <td id=\"T_b3ffd_row15_col13\" class=\"data row15 col13\" >0.001886</td>\n",
       "      <td id=\"T_b3ffd_row15_col14\" class=\"data row15 col14\" >-0.088147</td>\n",
       "      <td id=\"T_b3ffd_row15_col15\" class=\"data row15 col15\" >1.000000</td>\n",
       "      <td id=\"T_b3ffd_row15_col16\" class=\"data row15 col16\" >-0.272837</td>\n",
       "      <td id=\"T_b3ffd_row15_col17\" class=\"data row15 col17\" >0.141659</td>\n",
       "      <td id=\"T_b3ffd_row15_col18\" class=\"data row15 col18\" >-0.200487</td>\n",
       "    </tr>\n",
       "    <tr>\n",
       "      <th id=\"T_b3ffd_level0_row16\" class=\"row_heading level0 row16\" >Category_3</th>\n",
       "      <td id=\"T_b3ffd_row16_col0\" class=\"data row16 col0\" >0.010692</td>\n",
       "      <td id=\"T_b3ffd_row16_col1\" class=\"data row16 col1\" >0.000129</td>\n",
       "      <td id=\"T_b3ffd_row16_col2\" class=\"data row16 col2\" >-0.001992</td>\n",
       "      <td id=\"T_b3ffd_row16_col3\" class=\"data row16 col3\" >0.023983</td>\n",
       "      <td id=\"T_b3ffd_row16_col4\" class=\"data row16 col4\" >-0.021355</td>\n",
       "      <td id=\"T_b3ffd_row16_col5\" class=\"data row16 col5\" >0.071637</td>\n",
       "      <td id=\"T_b3ffd_row16_col6\" class=\"data row16 col6\" >0.015257</td>\n",
       "      <td id=\"T_b3ffd_row16_col7\" class=\"data row16 col7\" >0.001246</td>\n",
       "      <td id=\"T_b3ffd_row16_col8\" class=\"data row16 col8\" >0.056577</td>\n",
       "      <td id=\"T_b3ffd_row16_col9\" class=\"data row16 col9\" >0.013997</td>\n",
       "      <td id=\"T_b3ffd_row16_col10\" class=\"data row16 col10\" >0.015107</td>\n",
       "      <td id=\"T_b3ffd_row16_col11\" class=\"data row16 col11\" >0.025000</td>\n",
       "      <td id=\"T_b3ffd_row16_col12\" class=\"data row16 col12\" >0.030681</td>\n",
       "      <td id=\"T_b3ffd_row16_col13\" class=\"data row16 col13\" >-0.051628</td>\n",
       "      <td id=\"T_b3ffd_row16_col14\" class=\"data row16 col14\" >-0.072458</td>\n",
       "      <td id=\"T_b3ffd_row16_col15\" class=\"data row16 col15\" >-0.272837</td>\n",
       "      <td id=\"T_b3ffd_row16_col16\" class=\"data row16 col16\" >1.000000</td>\n",
       "      <td id=\"T_b3ffd_row16_col17\" class=\"data row16 col17\" >0.028460</td>\n",
       "      <td id=\"T_b3ffd_row16_col18\" class=\"data row16 col18\" >-0.033073</td>\n",
       "    </tr>\n",
       "    <tr>\n",
       "      <th id=\"T_b3ffd_level0_row17\" class=\"row_heading level0 row17\" >Category_4</th>\n",
       "      <td id=\"T_b3ffd_row17_col0\" class=\"data row17 col0\" >-0.073633</td>\n",
       "      <td id=\"T_b3ffd_row17_col1\" class=\"data row17 col1\" >0.004471</td>\n",
       "      <td id=\"T_b3ffd_row17_col2\" class=\"data row17 col2\" >-0.001468</td>\n",
       "      <td id=\"T_b3ffd_row17_col3\" class=\"data row17 col3\" >0.040892</td>\n",
       "      <td id=\"T_b3ffd_row17_col4\" class=\"data row17 col4\" >0.018918</td>\n",
       "      <td id=\"T_b3ffd_row17_col5\" class=\"data row17 col5\" >-0.079205</td>\n",
       "      <td id=\"T_b3ffd_row17_col6\" class=\"data row17 col6\" >0.017094</td>\n",
       "      <td id=\"T_b3ffd_row17_col7\" class=\"data row17 col7\" >-0.001121</td>\n",
       "      <td id=\"T_b3ffd_row17_col8\" class=\"data row17 col8\" >0.009551</td>\n",
       "      <td id=\"T_b3ffd_row17_col9\" class=\"data row17 col9\" >-0.009326</td>\n",
       "      <td id=\"T_b3ffd_row17_col10\" class=\"data row17 col10\" >-0.019894</td>\n",
       "      <td id=\"T_b3ffd_row17_col11\" class=\"data row17 col11\" >-0.098574</td>\n",
       "      <td id=\"T_b3ffd_row17_col12\" class=\"data row17 col12\" >-0.011580</td>\n",
       "      <td id=\"T_b3ffd_row17_col13\" class=\"data row17 col13\" >0.008165</td>\n",
       "      <td id=\"T_b3ffd_row17_col14\" class=\"data row17 col14\" >-0.096800</td>\n",
       "      <td id=\"T_b3ffd_row17_col15\" class=\"data row17 col15\" >0.141659</td>\n",
       "      <td id=\"T_b3ffd_row17_col16\" class=\"data row17 col16\" >0.028460</td>\n",
       "      <td id=\"T_b3ffd_row17_col17\" class=\"data row17 col17\" >1.000000</td>\n",
       "      <td id=\"T_b3ffd_row17_col18\" class=\"data row17 col18\" >0.041737</td>\n",
       "    </tr>\n",
       "    <tr>\n",
       "      <th id=\"T_b3ffd_level0_row18\" class=\"row_heading level0 row18\" >Category_5</th>\n",
       "      <td id=\"T_b3ffd_row18_col0\" class=\"data row18 col0\" >-0.022201</td>\n",
       "      <td id=\"T_b3ffd_row18_col1\" class=\"data row18 col1\" >0.000993</td>\n",
       "      <td id=\"T_b3ffd_row18_col2\" class=\"data row18 col2\" >0.002344</td>\n",
       "      <td id=\"T_b3ffd_row18_col3\" class=\"data row18 col3\" >-0.068356</td>\n",
       "      <td id=\"T_b3ffd_row18_col4\" class=\"data row18 col4\" >-0.022487</td>\n",
       "      <td id=\"T_b3ffd_row18_col5\" class=\"data row18 col5\" >-0.056173</td>\n",
       "      <td id=\"T_b3ffd_row18_col6\" class=\"data row18 col6\" >0.010089</td>\n",
       "      <td id=\"T_b3ffd_row18_col7\" class=\"data row18 col7\" >-0.005318</td>\n",
       "      <td id=\"T_b3ffd_row18_col8\" class=\"data row18 col8\" >0.063057</td>\n",
       "      <td id=\"T_b3ffd_row18_col9\" class=\"data row18 col9\" >0.023640</td>\n",
       "      <td id=\"T_b3ffd_row18_col10\" class=\"data row18 col10\" >-0.035972</td>\n",
       "      <td id=\"T_b3ffd_row18_col11\" class=\"data row18 col11\" >-0.044550</td>\n",
       "      <td id=\"T_b3ffd_row18_col12\" class=\"data row18 col12\" >-0.027963</td>\n",
       "      <td id=\"T_b3ffd_row18_col13\" class=\"data row18 col13\" >0.026837</td>\n",
       "      <td id=\"T_b3ffd_row18_col14\" class=\"data row18 col14\" >-0.120556</td>\n",
       "      <td id=\"T_b3ffd_row18_col15\" class=\"data row18 col15\" >-0.200487</td>\n",
       "      <td id=\"T_b3ffd_row18_col16\" class=\"data row18 col16\" >-0.033073</td>\n",
       "      <td id=\"T_b3ffd_row18_col17\" class=\"data row18 col17\" >0.041737</td>\n",
       "      <td id=\"T_b3ffd_row18_col18\" class=\"data row18 col18\" >1.000000</td>\n",
       "    </tr>\n",
       "  </tbody>\n",
       "</table>\n"
      ],
      "text/plain": [
       "<pandas.io.formats.style.Styler at 0x13778ed60>"
      ]
     },
     "execution_count": 48,
     "metadata": {},
     "output_type": "execute_result"
    }
   ],
   "source": [
    "corr_df = df.corr(method='pearson')\n",
    "corr_df.style.background_gradient(cmap='coolwarm')"
   ]
  },
  {
   "cell_type": "code",
   "execution_count": 49,
   "metadata": {},
   "outputs": [
    {
     "data": {
      "image/png": "[encoded data removed]",
      "text/plain": [
       "<Figure size 288x288 with 1 Axes>"
      ]
     },
     "metadata": {
      "needs_background": "light"
     },
     "output_type": "display_data"
    }
   ],
   "source": [
    "plt.matshow(corr_df)\n",
    "plt.show()"
   ]
  },
  {
   "cell_type": "markdown",
   "metadata": {},
   "source": [
    "## Modelos a probar\n",
    "+ Histogram gradient boosting\n",
    "+ Light GBM\n",
    "+ Arbol simple\n",
    "+ Extra trees\n",
    "+ Random Forrest\n",
    "+ KNN"
   ]
  },
  {
   "cell_type": "markdown",
   "metadata": {},
   "source": [
    "## Histogram Gradient Boosting"
   ]
  },
  {
   "cell_type": "code",
   "execution_count": 109,
   "metadata": {},
   "outputs": [],
   "source": [
    "from sklearn.ensemble import HistGradientBoostingRegressor"
   ]
  },
  {
   "cell_type": "code",
   "execution_count": 110,
   "metadata": {},
   "outputs": [],
   "source": [
    "m=HistGradientBoostingRegressor(random_state=0)"
   ]
  },
  {
   "cell_type": "code",
   "execution_count": 111,
   "metadata": {},
   "outputs": [
    {
     "name": "stderr",
     "output_type": "stream",
     "text": [
      "/Users/camilacollado/opt/miniconda3/envs/myenv/lib/python3.9/site-packages/sklearn/utils/validation.py:993: DataConversionWarning: A column-vector y was passed when a 1d array was expected. Please change the shape of y to (n_samples, ), for example using ravel().\n",
      "  y = column_or_1d(y, warn=True)\n"
     ]
    },
    {
     "data": {
      "text/plain": [
       "HistGradientBoostingRegressor(random_state=0)"
      ]
     },
     "execution_count": 111,
     "metadata": {},
     "output_type": "execute_result"
    }
   ],
   "source": [
    "m.fit(X_train, y_train)"
   ]
  },
  {
   "cell_type": "code",
   "execution_count": 112,
   "metadata": {},
   "outputs": [
    {
     "data": {
      "text/plain": [
       "0.1887794810340513"
      ]
     },
     "execution_count": 112,
     "metadata": {},
     "output_type": "execute_result"
    }
   ],
   "source": [
    "m.score(X_test,y_test)"
   ]
  },
  {
   "cell_type": "code",
   "execution_count": 97,
   "metadata": {},
   "outputs": [
    {
     "data": {
      "text/plain": [
       "{'categorical_features': None,\n",
       " 'early_stopping': 'auto',\n",
       " 'l2_regularization': 0.0,\n",
       " 'learning_rate': 0.1,\n",
       " 'loss': 'squared_error',\n",
       " 'max_bins': 255,\n",
       " 'max_depth': None,\n",
       " 'max_iter': 100,\n",
       " 'max_leaf_nodes': 31,\n",
       " 'min_samples_leaf': 20,\n",
       " 'monotonic_cst': None,\n",
       " 'n_iter_no_change': 10,\n",
       " 'random_state': 0,\n",
       " 'scoring': 'loss',\n",
       " 'tol': 1e-07,\n",
       " 'validation_fraction': 0.1,\n",
       " 'verbose': 0,\n",
       " 'warm_start': False}"
      ]
     },
     "execution_count": 97,
     "metadata": {},
     "output_type": "execute_result"
    }
   ],
   "source": [
    "m.get_params()"
   ]
  },
  {
   "cell_type": "markdown",
   "metadata": {},
   "source": [
    "#### Ajuste de hiperparametros"
   ]
  },
  {
   "cell_type": "code",
   "execution_count": 96,
   "metadata": {},
   "outputs": [
    {
     "name": "stderr",
     "output_type": "stream",
     "text": [
      "/Users/camilacollado/opt/miniconda3/envs/myenv/lib/python3.9/site-packages/sklearn/utils/validation.py:993: DataConversionWarning: A column-vector y was passed when a 1d array was expected. Please change the shape of y to (n_samples, ), for example using ravel().\n",
      "  y = column_or_1d(y, warn=True)\n",
      "/Users/camilacollado/opt/miniconda3/envs/myenv/lib/python3.9/site-packages/sklearn/utils/validation.py:993: DataConversionWarning: A column-vector y was passed when a 1d array was expected. Please change the shape of y to (n_samples, ), for example using ravel().\n",
      "  y = column_or_1d(y, warn=True)\n",
      "/Users/camilacollado/opt/miniconda3/envs/myenv/lib/python3.9/site-packages/sklearn/utils/validation.py:993: DataConversionWarning: A column-vector y was passed when a 1d array was expected. Please change the shape of y to (n_samples, ), for example using ravel().\n",
      "  y = column_or_1d(y, warn=True)\n",
      "/Users/camilacollado/opt/miniconda3/envs/myenv/lib/python3.9/site-packages/sklearn/utils/validation.py:993: DataConversionWarning: A column-vector y was passed when a 1d array was expected. Please change the shape of y to (n_samples, ), for example using ravel().\n",
      "  y = column_or_1d(y, warn=True)\n",
      "/Users/camilacollado/opt/miniconda3/envs/myenv/lib/python3.9/site-packages/sklearn/utils/validation.py:993: DataConversionWarning: A column-vector y was passed when a 1d array was expected. Please change the shape of y to (n_samples, ), for example using ravel().\n",
      "  y = column_or_1d(y, warn=True)\n",
      "/Users/camilacollado/opt/miniconda3/envs/myenv/lib/python3.9/site-packages/sklearn/utils/validation.py:993: DataConversionWarning: A column-vector y was passed when a 1d array was expected. Please change the shape of y to (n_samples, ), for example using ravel().\n",
      "  y = column_or_1d(y, warn=True)\n",
      "/Users/camilacollado/opt/miniconda3/envs/myenv/lib/python3.9/site-packages/sklearn/utils/validation.py:993: DataConversionWarning: A column-vector y was passed when a 1d array was expected. Please change the shape of y to (n_samples, ), for example using ravel().\n",
      "  y = column_or_1d(y, warn=True)\n",
      "/Users/camilacollado/opt/miniconda3/envs/myenv/lib/python3.9/site-packages/sklearn/utils/validation.py:993: DataConversionWarning: A column-vector y was passed when a 1d array was expected. Please change the shape of y to (n_samples, ), for example using ravel().\n",
      "  y = column_or_1d(y, warn=True)\n",
      "/Users/camilacollado/opt/miniconda3/envs/myenv/lib/python3.9/site-packages/sklearn/utils/validation.py:993: DataConversionWarning: A column-vector y was passed when a 1d array was expected. Please change the shape of y to (n_samples, ), for example using ravel().\n",
      "  y = column_or_1d(y, warn=True)\n",
      "/Users/camilacollado/opt/miniconda3/envs/myenv/lib/python3.9/site-packages/sklearn/utils/validation.py:993: DataConversionWarning: A column-vector y was passed when a 1d array was expected. Please change the shape of y to (n_samples, ), for example using ravel().\n",
      "  y = column_or_1d(y, warn=True)\n",
      "/Users/camilacollado/opt/miniconda3/envs/myenv/lib/python3.9/site-packages/sklearn/utils/validation.py:993: DataConversionWarning: A column-vector y was passed when a 1d array was expected. Please change the shape of y to (n_samples, ), for example using ravel().\n",
      "  y = column_or_1d(y, warn=True)\n",
      "/Users/camilacollado/opt/miniconda3/envs/myenv/lib/python3.9/site-packages/sklearn/utils/validation.py:993: DataConversionWarning: A column-vector y was passed when a 1d array was expected. Please change the shape of y to (n_samples, ), for example using ravel().\n",
      "  y = column_or_1d(y, warn=True)\n",
      "/Users/camilacollado/opt/miniconda3/envs/myenv/lib/python3.9/site-packages/sklearn/utils/validation.py:993: DataConversionWarning: A column-vector y was passed when a 1d array was expected. Please change the shape of y to (n_samples, ), for example using ravel().\n",
      "  y = column_or_1d(y, warn=True)\n",
      "/Users/camilacollado/opt/miniconda3/envs/myenv/lib/python3.9/site-packages/sklearn/utils/validation.py:993: DataConversionWarning: A column-vector y was passed when a 1d array was expected. Please change the shape of y to (n_samples, ), for example using ravel().\n",
      "  y = column_or_1d(y, warn=True)\n",
      "/Users/camilacollado/opt/miniconda3/envs/myenv/lib/python3.9/site-packages/sklearn/utils/validation.py:993: DataConversionWarning: A column-vector y was passed when a 1d array was expected. Please change the shape of y to (n_samples, ), for example using ravel().\n",
      "  y = column_or_1d(y, warn=True)\n",
      "/Users/camilacollado/opt/miniconda3/envs/myenv/lib/python3.9/site-packages/sklearn/utils/validation.py:993: DataConversionWarning: A column-vector y was passed when a 1d array was expected. Please change the shape of y to (n_samples, ), for example using ravel().\n",
      "  y = column_or_1d(y, warn=True)\n",
      "/Users/camilacollado/opt/miniconda3/envs/myenv/lib/python3.9/site-packages/sklearn/utils/validation.py:993: DataConversionWarning: A column-vector y was passed when a 1d array was expected. Please change the shape of y to (n_samples, ), for example using ravel().\n",
      "  y = column_or_1d(y, warn=True)\n",
      "/Users/camilacollado/opt/miniconda3/envs/myenv/lib/python3.9/site-packages/sklearn/utils/validation.py:993: DataConversionWarning: A column-vector y was passed when a 1d array was expected. Please change the shape of y to (n_samples, ), for example using ravel().\n",
      "  y = column_or_1d(y, warn=True)\n",
      "/Users/camilacollado/opt/miniconda3/envs/myenv/lib/python3.9/site-packages/sklearn/utils/validation.py:993: DataConversionWarning: A column-vector y was passed when a 1d array was expected. Please change the shape of y to (n_samples, ), for example using ravel().\n",
      "  y = column_or_1d(y, warn=True)\n",
      "/Users/camilacollado/opt/miniconda3/envs/myenv/lib/python3.9/site-packages/sklearn/utils/validation.py:993: DataConversionWarning: A column-vector y was passed when a 1d array was expected. Please change the shape of y to (n_samples, ), for example using ravel().\n",
      "  y = column_or_1d(y, warn=True)\n",
      "/Users/camilacollado/opt/miniconda3/envs/myenv/lib/python3.9/site-packages/sklearn/utils/validation.py:993: DataConversionWarning: A column-vector y was passed when a 1d array was expected. Please change the shape of y to (n_samples, ), for example using ravel().\n",
      "  y = column_or_1d(y, warn=True)\n",
      "/Users/camilacollado/opt/miniconda3/envs/myenv/lib/python3.9/site-packages/sklearn/utils/validation.py:993: DataConversionWarning: A column-vector y was passed when a 1d array was expected. Please change the shape of y to (n_samples, ), for example using ravel().\n",
      "  y = column_or_1d(y, warn=True)\n",
      "/Users/camilacollado/opt/miniconda3/envs/myenv/lib/python3.9/site-packages/sklearn/utils/validation.py:993: DataConversionWarning: A column-vector y was passed when a 1d array was expected. Please change the shape of y to (n_samples, ), for example using ravel().\n",
      "  y = column_or_1d(y, warn=True)\n",
      "/Users/camilacollado/opt/miniconda3/envs/myenv/lib/python3.9/site-packages/sklearn/utils/validation.py:993: DataConversionWarning: A column-vector y was passed when a 1d array was expected. Please change the shape of y to (n_samples, ), for example using ravel().\n",
      "  y = column_or_1d(y, warn=True)\n",
      "/Users/camilacollado/opt/miniconda3/envs/myenv/lib/python3.9/site-packages/sklearn/utils/validation.py:993: DataConversionWarning: A column-vector y was passed when a 1d array was expected. Please change the shape of y to (n_samples, ), for example using ravel().\n",
      "  y = column_or_1d(y, warn=True)\n",
      "/Users/camilacollado/opt/miniconda3/envs/myenv/lib/python3.9/site-packages/sklearn/utils/validation.py:993: DataConversionWarning: A column-vector y was passed when a 1d array was expected. Please change the shape of y to (n_samples, ), for example using ravel().\n",
      "  y = column_or_1d(y, warn=True)\n",
      "/Users/camilacollado/opt/miniconda3/envs/myenv/lib/python3.9/site-packages/sklearn/utils/validation.py:993: DataConversionWarning: A column-vector y was passed when a 1d array was expected. Please change the shape of y to (n_samples, ), for example using ravel().\n",
      "  y = column_or_1d(y, warn=True)\n",
      "/Users/camilacollado/opt/miniconda3/envs/myenv/lib/python3.9/site-packages/sklearn/utils/validation.py:993: DataConversionWarning: A column-vector y was passed when a 1d array was expected. Please change the shape of y to (n_samples, ), for example using ravel().\n",
      "  y = column_or_1d(y, warn=True)\n",
      "/Users/camilacollado/opt/miniconda3/envs/myenv/lib/python3.9/site-packages/sklearn/utils/validation.py:993: DataConversionWarning: A column-vector y was passed when a 1d array was expected. Please change the shape of y to (n_samples, ), for example using ravel().\n",
      "  y = column_or_1d(y, warn=True)\n",
      "/Users/camilacollado/opt/miniconda3/envs/myenv/lib/python3.9/site-packages/sklearn/utils/validation.py:993: DataConversionWarning: A column-vector y was passed when a 1d array was expected. Please change the shape of y to (n_samples, ), for example using ravel().\n",
      "  y = column_or_1d(y, warn=True)\n",
      "/Users/camilacollado/opt/miniconda3/envs/myenv/lib/python3.9/site-packages/sklearn/utils/validation.py:993: DataConversionWarning: A column-vector y was passed when a 1d array was expected. Please change the shape of y to (n_samples, ), for example using ravel().\n",
      "  y = column_or_1d(y, warn=True)\n",
      "/Users/camilacollado/opt/miniconda3/envs/myenv/lib/python3.9/site-packages/sklearn/utils/validation.py:993: DataConversionWarning: A column-vector y was passed when a 1d array was expected. Please change the shape of y to (n_samples, ), for example using ravel().\n",
      "  y = column_or_1d(y, warn=True)\n",
      "/Users/camilacollado/opt/miniconda3/envs/myenv/lib/python3.9/site-packages/sklearn/utils/validation.py:993: DataConversionWarning: A column-vector y was passed when a 1d array was expected. Please change the shape of y to (n_samples, ), for example using ravel().\n",
      "  y = column_or_1d(y, warn=True)\n",
      "/Users/camilacollado/opt/miniconda3/envs/myenv/lib/python3.9/site-packages/sklearn/utils/validation.py:993: DataConversionWarning: A column-vector y was passed when a 1d array was expected. Please change the shape of y to (n_samples, ), for example using ravel().\n",
      "  y = column_or_1d(y, warn=True)\n",
      "/Users/camilacollado/opt/miniconda3/envs/myenv/lib/python3.9/site-packages/sklearn/utils/validation.py:993: DataConversionWarning: A column-vector y was passed when a 1d array was expected. Please change the shape of y to (n_samples, ), for example using ravel().\n",
      "  y = column_or_1d(y, warn=True)\n",
      "/Users/camilacollado/opt/miniconda3/envs/myenv/lib/python3.9/site-packages/sklearn/utils/validation.py:993: DataConversionWarning: A column-vector y was passed when a 1d array was expected. Please change the shape of y to (n_samples, ), for example using ravel().\n",
      "  y = column_or_1d(y, warn=True)\n",
      "/Users/camilacollado/opt/miniconda3/envs/myenv/lib/python3.9/site-packages/sklearn/utils/validation.py:993: DataConversionWarning: A column-vector y was passed when a 1d array was expected. Please change the shape of y to (n_samples, ), for example using ravel().\n",
      "  y = column_or_1d(y, warn=True)\n",
      "/Users/camilacollado/opt/miniconda3/envs/myenv/lib/python3.9/site-packages/sklearn/utils/validation.py:993: DataConversionWarning: A column-vector y was passed when a 1d array was expected. Please change the shape of y to (n_samples, ), for example using ravel().\n",
      "  y = column_or_1d(y, warn=True)\n",
      "/Users/camilacollado/opt/miniconda3/envs/myenv/lib/python3.9/site-packages/sklearn/utils/validation.py:993: DataConversionWarning: A column-vector y was passed when a 1d array was expected. Please change the shape of y to (n_samples, ), for example using ravel().\n",
      "  y = column_or_1d(y, warn=True)\n",
      "/Users/camilacollado/opt/miniconda3/envs/myenv/lib/python3.9/site-packages/sklearn/utils/validation.py:993: DataConversionWarning: A column-vector y was passed when a 1d array was expected. Please change the shape of y to (n_samples, ), for example using ravel().\n",
      "  y = column_or_1d(y, warn=True)\n",
      "/Users/camilacollado/opt/miniconda3/envs/myenv/lib/python3.9/site-packages/sklearn/utils/validation.py:993: DataConversionWarning: A column-vector y was passed when a 1d array was expected. Please change the shape of y to (n_samples, ), for example using ravel().\n",
      "  y = column_or_1d(y, warn=True)\n",
      "/Users/camilacollado/opt/miniconda3/envs/myenv/lib/python3.9/site-packages/sklearn/utils/validation.py:993: DataConversionWarning: A column-vector y was passed when a 1d array was expected. Please change the shape of y to (n_samples, ), for example using ravel().\n",
      "  y = column_or_1d(y, warn=True)\n",
      "/Users/camilacollado/opt/miniconda3/envs/myenv/lib/python3.9/site-packages/sklearn/utils/validation.py:993: DataConversionWarning: A column-vector y was passed when a 1d array was expected. Please change the shape of y to (n_samples, ), for example using ravel().\n",
      "  y = column_or_1d(y, warn=True)\n",
      "/Users/camilacollado/opt/miniconda3/envs/myenv/lib/python3.9/site-packages/sklearn/utils/validation.py:993: DataConversionWarning: A column-vector y was passed when a 1d array was expected. Please change the shape of y to (n_samples, ), for example using ravel().\n",
      "  y = column_or_1d(y, warn=True)\n",
      "/Users/camilacollado/opt/miniconda3/envs/myenv/lib/python3.9/site-packages/sklearn/utils/validation.py:993: DataConversionWarning: A column-vector y was passed when a 1d array was expected. Please change the shape of y to (n_samples, ), for example using ravel().\n",
      "  y = column_or_1d(y, warn=True)\n",
      "/Users/camilacollado/opt/miniconda3/envs/myenv/lib/python3.9/site-packages/sklearn/utils/validation.py:993: DataConversionWarning: A column-vector y was passed when a 1d array was expected. Please change the shape of y to (n_samples, ), for example using ravel().\n",
      "  y = column_or_1d(y, warn=True)\n",
      "/Users/camilacollado/opt/miniconda3/envs/myenv/lib/python3.9/site-packages/sklearn/utils/validation.py:993: DataConversionWarning: A column-vector y was passed when a 1d array was expected. Please change the shape of y to (n_samples, ), for example using ravel().\n",
      "  y = column_or_1d(y, warn=True)\n",
      "/Users/camilacollado/opt/miniconda3/envs/myenv/lib/python3.9/site-packages/sklearn/utils/validation.py:993: DataConversionWarning: A column-vector y was passed when a 1d array was expected. Please change the shape of y to (n_samples, ), for example using ravel().\n",
      "  y = column_or_1d(y, warn=True)\n",
      "/Users/camilacollado/opt/miniconda3/envs/myenv/lib/python3.9/site-packages/sklearn/utils/validation.py:993: DataConversionWarning: A column-vector y was passed when a 1d array was expected. Please change the shape of y to (n_samples, ), for example using ravel().\n",
      "  y = column_or_1d(y, warn=True)\n",
      "/Users/camilacollado/opt/miniconda3/envs/myenv/lib/python3.9/site-packages/sklearn/utils/validation.py:993: DataConversionWarning: A column-vector y was passed when a 1d array was expected. Please change the shape of y to (n_samples, ), for example using ravel().\n",
      "  y = column_or_1d(y, warn=True)\n",
      "/Users/camilacollado/opt/miniconda3/envs/myenv/lib/python3.9/site-packages/sklearn/utils/validation.py:993: DataConversionWarning: A column-vector y was passed when a 1d array was expected. Please change the shape of y to (n_samples, ), for example using ravel().\n",
      "  y = column_or_1d(y, warn=True)\n",
      "/Users/camilacollado/opt/miniconda3/envs/myenv/lib/python3.9/site-packages/sklearn/utils/validation.py:993: DataConversionWarning: A column-vector y was passed when a 1d array was expected. Please change the shape of y to (n_samples, ), for example using ravel().\n",
      "  y = column_or_1d(y, warn=True)\n",
      "/Users/camilacollado/opt/miniconda3/envs/myenv/lib/python3.9/site-packages/sklearn/utils/validation.py:993: DataConversionWarning: A column-vector y was passed when a 1d array was expected. Please change the shape of y to (n_samples, ), for example using ravel().\n",
      "  y = column_or_1d(y, warn=True)\n",
      "/Users/camilacollado/opt/miniconda3/envs/myenv/lib/python3.9/site-packages/sklearn/utils/validation.py:993: DataConversionWarning: A column-vector y was passed when a 1d array was expected. Please change the shape of y to (n_samples, ), for example using ravel().\n",
      "  y = column_or_1d(y, warn=True)\n",
      "/Users/camilacollado/opt/miniconda3/envs/myenv/lib/python3.9/site-packages/sklearn/utils/validation.py:993: DataConversionWarning: A column-vector y was passed when a 1d array was expected. Please change the shape of y to (n_samples, ), for example using ravel().\n",
      "  y = column_or_1d(y, warn=True)\n",
      "/Users/camilacollado/opt/miniconda3/envs/myenv/lib/python3.9/site-packages/sklearn/utils/validation.py:993: DataConversionWarning: A column-vector y was passed when a 1d array was expected. Please change the shape of y to (n_samples, ), for example using ravel().\n",
      "  y = column_or_1d(y, warn=True)\n",
      "/Users/camilacollado/opt/miniconda3/envs/myenv/lib/python3.9/site-packages/sklearn/utils/validation.py:993: DataConversionWarning: A column-vector y was passed when a 1d array was expected. Please change the shape of y to (n_samples, ), for example using ravel().\n",
      "  y = column_or_1d(y, warn=True)\n",
      "/Users/camilacollado/opt/miniconda3/envs/myenv/lib/python3.9/site-packages/sklearn/utils/validation.py:993: DataConversionWarning: A column-vector y was passed when a 1d array was expected. Please change the shape of y to (n_samples, ), for example using ravel().\n",
      "  y = column_or_1d(y, warn=True)\n",
      "/Users/camilacollado/opt/miniconda3/envs/myenv/lib/python3.9/site-packages/sklearn/utils/validation.py:993: DataConversionWarning: A column-vector y was passed when a 1d array was expected. Please change the shape of y to (n_samples, ), for example using ravel().\n",
      "  y = column_or_1d(y, warn=True)\n",
      "/Users/camilacollado/opt/miniconda3/envs/myenv/lib/python3.9/site-packages/sklearn/utils/validation.py:993: DataConversionWarning: A column-vector y was passed when a 1d array was expected. Please change the shape of y to (n_samples, ), for example using ravel().\n",
      "  y = column_or_1d(y, warn=True)\n",
      "/Users/camilacollado/opt/miniconda3/envs/myenv/lib/python3.9/site-packages/sklearn/utils/validation.py:993: DataConversionWarning: A column-vector y was passed when a 1d array was expected. Please change the shape of y to (n_samples, ), for example using ravel().\n",
      "  y = column_or_1d(y, warn=True)\n",
      "/Users/camilacollado/opt/miniconda3/envs/myenv/lib/python3.9/site-packages/sklearn/utils/validation.py:993: DataConversionWarning: A column-vector y was passed when a 1d array was expected. Please change the shape of y to (n_samples, ), for example using ravel().\n",
      "  y = column_or_1d(y, warn=True)\n",
      "/Users/camilacollado/opt/miniconda3/envs/myenv/lib/python3.9/site-packages/sklearn/utils/validation.py:993: DataConversionWarning: A column-vector y was passed when a 1d array was expected. Please change the shape of y to (n_samples, ), for example using ravel().\n",
      "  y = column_or_1d(y, warn=True)\n",
      "/Users/camilacollado/opt/miniconda3/envs/myenv/lib/python3.9/site-packages/sklearn/utils/validation.py:993: DataConversionWarning: A column-vector y was passed when a 1d array was expected. Please change the shape of y to (n_samples, ), for example using ravel().\n",
      "  y = column_or_1d(y, warn=True)\n",
      "/Users/camilacollado/opt/miniconda3/envs/myenv/lib/python3.9/site-packages/sklearn/utils/validation.py:993: DataConversionWarning: A column-vector y was passed when a 1d array was expected. Please change the shape of y to (n_samples, ), for example using ravel().\n",
      "  y = column_or_1d(y, warn=True)\n",
      "/Users/camilacollado/opt/miniconda3/envs/myenv/lib/python3.9/site-packages/sklearn/utils/validation.py:993: DataConversionWarning: A column-vector y was passed when a 1d array was expected. Please change the shape of y to (n_samples, ), for example using ravel().\n",
      "  y = column_or_1d(y, warn=True)\n",
      "/Users/camilacollado/opt/miniconda3/envs/myenv/lib/python3.9/site-packages/sklearn/utils/validation.py:993: DataConversionWarning: A column-vector y was passed when a 1d array was expected. Please change the shape of y to (n_samples, ), for example using ravel().\n",
      "  y = column_or_1d(y, warn=True)\n",
      "/Users/camilacollado/opt/miniconda3/envs/myenv/lib/python3.9/site-packages/sklearn/utils/validation.py:993: DataConversionWarning: A column-vector y was passed when a 1d array was expected. Please change the shape of y to (n_samples, ), for example using ravel().\n",
      "  y = column_or_1d(y, warn=True)\n",
      "/Users/camilacollado/opt/miniconda3/envs/myenv/lib/python3.9/site-packages/sklearn/utils/validation.py:993: DataConversionWarning: A column-vector y was passed when a 1d array was expected. Please change the shape of y to (n_samples, ), for example using ravel().\n",
      "  y = column_or_1d(y, warn=True)\n",
      "/Users/camilacollado/opt/miniconda3/envs/myenv/lib/python3.9/site-packages/sklearn/utils/validation.py:993: DataConversionWarning: A column-vector y was passed when a 1d array was expected. Please change the shape of y to (n_samples, ), for example using ravel().\n",
      "  y = column_or_1d(y, warn=True)\n",
      "/Users/camilacollado/opt/miniconda3/envs/myenv/lib/python3.9/site-packages/sklearn/utils/validation.py:993: DataConversionWarning: A column-vector y was passed when a 1d array was expected. Please change the shape of y to (n_samples, ), for example using ravel().\n",
      "  y = column_or_1d(y, warn=True)\n",
      "/Users/camilacollado/opt/miniconda3/envs/myenv/lib/python3.9/site-packages/sklearn/utils/validation.py:993: DataConversionWarning: A column-vector y was passed when a 1d array was expected. Please change the shape of y to (n_samples, ), for example using ravel().\n",
      "  y = column_or_1d(y, warn=True)\n",
      "/Users/camilacollado/opt/miniconda3/envs/myenv/lib/python3.9/site-packages/sklearn/utils/validation.py:993: DataConversionWarning: A column-vector y was passed when a 1d array was expected. Please change the shape of y to (n_samples, ), for example using ravel().\n",
      "  y = column_or_1d(y, warn=True)\n",
      "/Users/camilacollado/opt/miniconda3/envs/myenv/lib/python3.9/site-packages/sklearn/utils/validation.py:993: DataConversionWarning: A column-vector y was passed when a 1d array was expected. Please change the shape of y to (n_samples, ), for example using ravel().\n",
      "  y = column_or_1d(y, warn=True)\n",
      "/Users/camilacollado/opt/miniconda3/envs/myenv/lib/python3.9/site-packages/sklearn/utils/validation.py:993: DataConversionWarning: A column-vector y was passed when a 1d array was expected. Please change the shape of y to (n_samples, ), for example using ravel().\n",
      "  y = column_or_1d(y, warn=True)\n",
      "/Users/camilacollado/opt/miniconda3/envs/myenv/lib/python3.9/site-packages/sklearn/utils/validation.py:993: DataConversionWarning: A column-vector y was passed when a 1d array was expected. Please change the shape of y to (n_samples, ), for example using ravel().\n",
      "  y = column_or_1d(y, warn=True)\n",
      "/Users/camilacollado/opt/miniconda3/envs/myenv/lib/python3.9/site-packages/sklearn/utils/validation.py:993: DataConversionWarning: A column-vector y was passed when a 1d array was expected. Please change the shape of y to (n_samples, ), for example using ravel().\n",
      "  y = column_or_1d(y, warn=True)\n",
      "/Users/camilacollado/opt/miniconda3/envs/myenv/lib/python3.9/site-packages/sklearn/utils/validation.py:993: DataConversionWarning: A column-vector y was passed when a 1d array was expected. Please change the shape of y to (n_samples, ), for example using ravel().\n",
      "  y = column_or_1d(y, warn=True)\n",
      "/Users/camilacollado/opt/miniconda3/envs/myenv/lib/python3.9/site-packages/sklearn/utils/validation.py:993: DataConversionWarning: A column-vector y was passed when a 1d array was expected. Please change the shape of y to (n_samples, ), for example using ravel().\n",
      "  y = column_or_1d(y, warn=True)\n",
      "/Users/camilacollado/opt/miniconda3/envs/myenv/lib/python3.9/site-packages/sklearn/utils/validation.py:993: DataConversionWarning: A column-vector y was passed when a 1d array was expected. Please change the shape of y to (n_samples, ), for example using ravel().\n",
      "  y = column_or_1d(y, warn=True)\n",
      "/Users/camilacollado/opt/miniconda3/envs/myenv/lib/python3.9/site-packages/sklearn/utils/validation.py:993: DataConversionWarning: A column-vector y was passed when a 1d array was expected. Please change the shape of y to (n_samples, ), for example using ravel().\n",
      "  y = column_or_1d(y, warn=True)\n",
      "/Users/camilacollado/opt/miniconda3/envs/myenv/lib/python3.9/site-packages/sklearn/utils/validation.py:993: DataConversionWarning: A column-vector y was passed when a 1d array was expected. Please change the shape of y to (n_samples, ), for example using ravel().\n",
      "  y = column_or_1d(y, warn=True)\n",
      "/Users/camilacollado/opt/miniconda3/envs/myenv/lib/python3.9/site-packages/sklearn/utils/validation.py:993: DataConversionWarning: A column-vector y was passed when a 1d array was expected. Please change the shape of y to (n_samples, ), for example using ravel().\n",
      "  y = column_or_1d(y, warn=True)\n",
      "/Users/camilacollado/opt/miniconda3/envs/myenv/lib/python3.9/site-packages/sklearn/utils/validation.py:993: DataConversionWarning: A column-vector y was passed when a 1d array was expected. Please change the shape of y to (n_samples, ), for example using ravel().\n",
      "  y = column_or_1d(y, warn=True)\n",
      "/Users/camilacollado/opt/miniconda3/envs/myenv/lib/python3.9/site-packages/sklearn/utils/validation.py:993: DataConversionWarning: A column-vector y was passed when a 1d array was expected. Please change the shape of y to (n_samples, ), for example using ravel().\n",
      "  y = column_or_1d(y, warn=True)\n",
      "/Users/camilacollado/opt/miniconda3/envs/myenv/lib/python3.9/site-packages/sklearn/utils/validation.py:993: DataConversionWarning: A column-vector y was passed when a 1d array was expected. Please change the shape of y to (n_samples, ), for example using ravel().\n",
      "  y = column_or_1d(y, warn=True)\n",
      "/Users/camilacollado/opt/miniconda3/envs/myenv/lib/python3.9/site-packages/sklearn/utils/validation.py:993: DataConversionWarning: A column-vector y was passed when a 1d array was expected. Please change the shape of y to (n_samples, ), for example using ravel().\n",
      "  y = column_or_1d(y, warn=True)\n",
      "/Users/camilacollado/opt/miniconda3/envs/myenv/lib/python3.9/site-packages/sklearn/utils/validation.py:993: DataConversionWarning: A column-vector y was passed when a 1d array was expected. Please change the shape of y to (n_samples, ), for example using ravel().\n",
      "  y = column_or_1d(y, warn=True)\n",
      "/Users/camilacollado/opt/miniconda3/envs/myenv/lib/python3.9/site-packages/sklearn/utils/validation.py:993: DataConversionWarning: A column-vector y was passed when a 1d array was expected. Please change the shape of y to (n_samples, ), for example using ravel().\n",
      "  y = column_or_1d(y, warn=True)\n",
      "/Users/camilacollado/opt/miniconda3/envs/myenv/lib/python3.9/site-packages/sklearn/utils/validation.py:993: DataConversionWarning: A column-vector y was passed when a 1d array was expected. Please change the shape of y to (n_samples, ), for example using ravel().\n",
      "  y = column_or_1d(y, warn=True)\n",
      "/Users/camilacollado/opt/miniconda3/envs/myenv/lib/python3.9/site-packages/sklearn/utils/validation.py:993: DataConversionWarning: A column-vector y was passed when a 1d array was expected. Please change the shape of y to (n_samples, ), for example using ravel().\n",
      "  y = column_or_1d(y, warn=True)\n",
      "/Users/camilacollado/opt/miniconda3/envs/myenv/lib/python3.9/site-packages/sklearn/utils/validation.py:993: DataConversionWarning: A column-vector y was passed when a 1d array was expected. Please change the shape of y to (n_samples, ), for example using ravel().\n",
      "  y = column_or_1d(y, warn=True)\n",
      "/Users/camilacollado/opt/miniconda3/envs/myenv/lib/python3.9/site-packages/sklearn/utils/validation.py:993: DataConversionWarning: A column-vector y was passed when a 1d array was expected. Please change the shape of y to (n_samples, ), for example using ravel().\n",
      "  y = column_or_1d(y, warn=True)\n",
      "/Users/camilacollado/opt/miniconda3/envs/myenv/lib/python3.9/site-packages/sklearn/utils/validation.py:993: DataConversionWarning: A column-vector y was passed when a 1d array was expected. Please change the shape of y to (n_samples, ), for example using ravel().\n",
      "  y = column_or_1d(y, warn=True)\n",
      "/Users/camilacollado/opt/miniconda3/envs/myenv/lib/python3.9/site-packages/sklearn/utils/validation.py:993: DataConversionWarning: A column-vector y was passed when a 1d array was expected. Please change the shape of y to (n_samples, ), for example using ravel().\n",
      "  y = column_or_1d(y, warn=True)\n",
      "/Users/camilacollado/opt/miniconda3/envs/myenv/lib/python3.9/site-packages/sklearn/utils/validation.py:993: DataConversionWarning: A column-vector y was passed when a 1d array was expected. Please change the shape of y to (n_samples, ), for example using ravel().\n",
      "  y = column_or_1d(y, warn=True)\n",
      "/Users/camilacollado/opt/miniconda3/envs/myenv/lib/python3.9/site-packages/sklearn/utils/validation.py:993: DataConversionWarning: A column-vector y was passed when a 1d array was expected. Please change the shape of y to (n_samples, ), for example using ravel().\n",
      "  y = column_or_1d(y, warn=True)\n",
      "/Users/camilacollado/opt/miniconda3/envs/myenv/lib/python3.9/site-packages/sklearn/utils/validation.py:993: DataConversionWarning: A column-vector y was passed when a 1d array was expected. Please change the shape of y to (n_samples, ), for example using ravel().\n",
      "  y = column_or_1d(y, warn=True)\n",
      "/Users/camilacollado/opt/miniconda3/envs/myenv/lib/python3.9/site-packages/sklearn/utils/validation.py:993: DataConversionWarning: A column-vector y was passed when a 1d array was expected. Please change the shape of y to (n_samples, ), for example using ravel().\n",
      "  y = column_or_1d(y, warn=True)\n",
      "/Users/camilacollado/opt/miniconda3/envs/myenv/lib/python3.9/site-packages/sklearn/utils/validation.py:993: DataConversionWarning: A column-vector y was passed when a 1d array was expected. Please change the shape of y to (n_samples, ), for example using ravel().\n",
      "  y = column_or_1d(y, warn=True)\n",
      "/Users/camilacollado/opt/miniconda3/envs/myenv/lib/python3.9/site-packages/sklearn/utils/validation.py:993: DataConversionWarning: A column-vector y was passed when a 1d array was expected. Please change the shape of y to (n_samples, ), for example using ravel().\n",
      "  y = column_or_1d(y, warn=True)\n",
      "/Users/camilacollado/opt/miniconda3/envs/myenv/lib/python3.9/site-packages/sklearn/utils/validation.py:993: DataConversionWarning: A column-vector y was passed when a 1d array was expected. Please change the shape of y to (n_samples, ), for example using ravel().\n",
      "  y = column_or_1d(y, warn=True)\n",
      "/Users/camilacollado/opt/miniconda3/envs/myenv/lib/python3.9/site-packages/sklearn/utils/validation.py:993: DataConversionWarning: A column-vector y was passed when a 1d array was expected. Please change the shape of y to (n_samples, ), for example using ravel().\n",
      "  y = column_or_1d(y, warn=True)\n",
      "/Users/camilacollado/opt/miniconda3/envs/myenv/lib/python3.9/site-packages/sklearn/utils/validation.py:993: DataConversionWarning: A column-vector y was passed when a 1d array was expected. Please change the shape of y to (n_samples, ), for example using ravel().\n",
      "  y = column_or_1d(y, warn=True)\n",
      "/Users/camilacollado/opt/miniconda3/envs/myenv/lib/python3.9/site-packages/sklearn/utils/validation.py:993: DataConversionWarning: A column-vector y was passed when a 1d array was expected. Please change the shape of y to (n_samples, ), for example using ravel().\n",
      "  y = column_or_1d(y, warn=True)\n",
      "/Users/camilacollado/opt/miniconda3/envs/myenv/lib/python3.9/site-packages/sklearn/utils/validation.py:993: DataConversionWarning: A column-vector y was passed when a 1d array was expected. Please change the shape of y to (n_samples, ), for example using ravel().\n",
      "  y = column_or_1d(y, warn=True)\n",
      "/Users/camilacollado/opt/miniconda3/envs/myenv/lib/python3.9/site-packages/sklearn/utils/validation.py:993: DataConversionWarning: A column-vector y was passed when a 1d array was expected. Please change the shape of y to (n_samples, ), for example using ravel().\n",
      "  y = column_or_1d(y, warn=True)\n",
      "/Users/camilacollado/opt/miniconda3/envs/myenv/lib/python3.9/site-packages/sklearn/utils/validation.py:993: DataConversionWarning: A column-vector y was passed when a 1d array was expected. Please change the shape of y to (n_samples, ), for example using ravel().\n",
      "  y = column_or_1d(y, warn=True)\n",
      "/Users/camilacollado/opt/miniconda3/envs/myenv/lib/python3.9/site-packages/sklearn/utils/validation.py:993: DataConversionWarning: A column-vector y was passed when a 1d array was expected. Please change the shape of y to (n_samples, ), for example using ravel().\n",
      "  y = column_or_1d(y, warn=True)\n",
      "/Users/camilacollado/opt/miniconda3/envs/myenv/lib/python3.9/site-packages/sklearn/utils/validation.py:993: DataConversionWarning: A column-vector y was passed when a 1d array was expected. Please change the shape of y to (n_samples, ), for example using ravel().\n",
      "  y = column_or_1d(y, warn=True)\n",
      "/Users/camilacollado/opt/miniconda3/envs/myenv/lib/python3.9/site-packages/sklearn/utils/validation.py:993: DataConversionWarning: A column-vector y was passed when a 1d array was expected. Please change the shape of y to (n_samples, ), for example using ravel().\n",
      "  y = column_or_1d(y, warn=True)\n",
      "/Users/camilacollado/opt/miniconda3/envs/myenv/lib/python3.9/site-packages/sklearn/utils/validation.py:993: DataConversionWarning: A column-vector y was passed when a 1d array was expected. Please change the shape of y to (n_samples, ), for example using ravel().\n",
      "  y = column_or_1d(y, warn=True)\n",
      "/Users/camilacollado/opt/miniconda3/envs/myenv/lib/python3.9/site-packages/sklearn/utils/validation.py:993: DataConversionWarning: A column-vector y was passed when a 1d array was expected. Please change the shape of y to (n_samples, ), for example using ravel().\n",
      "  y = column_or_1d(y, warn=True)\n",
      "/Users/camilacollado/opt/miniconda3/envs/myenv/lib/python3.9/site-packages/sklearn/utils/validation.py:993: DataConversionWarning: A column-vector y was passed when a 1d array was expected. Please change the shape of y to (n_samples, ), for example using ravel().\n",
      "  y = column_or_1d(y, warn=True)\n",
      "/Users/camilacollado/opt/miniconda3/envs/myenv/lib/python3.9/site-packages/sklearn/utils/validation.py:993: DataConversionWarning: A column-vector y was passed when a 1d array was expected. Please change the shape of y to (n_samples, ), for example using ravel().\n",
      "  y = column_or_1d(y, warn=True)\n",
      "/Users/camilacollado/opt/miniconda3/envs/myenv/lib/python3.9/site-packages/sklearn/utils/validation.py:993: DataConversionWarning: A column-vector y was passed when a 1d array was expected. Please change the shape of y to (n_samples, ), for example using ravel().\n",
      "  y = column_or_1d(y, warn=True)\n",
      "/Users/camilacollado/opt/miniconda3/envs/myenv/lib/python3.9/site-packages/sklearn/utils/validation.py:993: DataConversionWarning: A column-vector y was passed when a 1d array was expected. Please change the shape of y to (n_samples, ), for example using ravel().\n",
      "  y = column_or_1d(y, warn=True)\n",
      "/Users/camilacollado/opt/miniconda3/envs/myenv/lib/python3.9/site-packages/sklearn/utils/validation.py:993: DataConversionWarning: A column-vector y was passed when a 1d array was expected. Please change the shape of y to (n_samples, ), for example using ravel().\n",
      "  y = column_or_1d(y, warn=True)\n",
      "/Users/camilacollado/opt/miniconda3/envs/myenv/lib/python3.9/site-packages/sklearn/utils/validation.py:993: DataConversionWarning: A column-vector y was passed when a 1d array was expected. Please change the shape of y to (n_samples, ), for example using ravel().\n",
      "  y = column_or_1d(y, warn=True)\n",
      "/Users/camilacollado/opt/miniconda3/envs/myenv/lib/python3.9/site-packages/sklearn/utils/validation.py:993: DataConversionWarning: A column-vector y was passed when a 1d array was expected. Please change the shape of y to (n_samples, ), for example using ravel().\n",
      "  y = column_or_1d(y, warn=True)\n",
      "/Users/camilacollado/opt/miniconda3/envs/myenv/lib/python3.9/site-packages/sklearn/utils/validation.py:993: DataConversionWarning: A column-vector y was passed when a 1d array was expected. Please change the shape of y to (n_samples, ), for example using ravel().\n",
      "  y = column_or_1d(y, warn=True)\n",
      "/Users/camilacollado/opt/miniconda3/envs/myenv/lib/python3.9/site-packages/sklearn/utils/validation.py:993: DataConversionWarning: A column-vector y was passed when a 1d array was expected. Please change the shape of y to (n_samples, ), for example using ravel().\n",
      "  y = column_or_1d(y, warn=True)\n",
      "/Users/camilacollado/opt/miniconda3/envs/myenv/lib/python3.9/site-packages/sklearn/utils/validation.py:993: DataConversionWarning: A column-vector y was passed when a 1d array was expected. Please change the shape of y to (n_samples, ), for example using ravel().\n",
      "  y = column_or_1d(y, warn=True)\n",
      "/Users/camilacollado/opt/miniconda3/envs/myenv/lib/python3.9/site-packages/sklearn/utils/validation.py:993: DataConversionWarning: A column-vector y was passed when a 1d array was expected. Please change the shape of y to (n_samples, ), for example using ravel().\n",
      "  y = column_or_1d(y, warn=True)\n",
      "/Users/camilacollado/opt/miniconda3/envs/myenv/lib/python3.9/site-packages/sklearn/utils/validation.py:993: DataConversionWarning: A column-vector y was passed when a 1d array was expected. Please change the shape of y to (n_samples, ), for example using ravel().\n",
      "  y = column_or_1d(y, warn=True)\n",
      "/Users/camilacollado/opt/miniconda3/envs/myenv/lib/python3.9/site-packages/sklearn/utils/validation.py:993: DataConversionWarning: A column-vector y was passed when a 1d array was expected. Please change the shape of y to (n_samples, ), for example using ravel().\n",
      "  y = column_or_1d(y, warn=True)\n",
      "/Users/camilacollado/opt/miniconda3/envs/myenv/lib/python3.9/site-packages/sklearn/utils/validation.py:993: DataConversionWarning: A column-vector y was passed when a 1d array was expected. Please change the shape of y to (n_samples, ), for example using ravel().\n",
      "  y = column_or_1d(y, warn=True)\n",
      "/Users/camilacollado/opt/miniconda3/envs/myenv/lib/python3.9/site-packages/sklearn/utils/validation.py:993: DataConversionWarning: A column-vector y was passed when a 1d array was expected. Please change the shape of y to (n_samples, ), for example using ravel().\n",
      "  y = column_or_1d(y, warn=True)\n",
      "/Users/camilacollado/opt/miniconda3/envs/myenv/lib/python3.9/site-packages/sklearn/utils/validation.py:993: DataConversionWarning: A column-vector y was passed when a 1d array was expected. Please change the shape of y to (n_samples, ), for example using ravel().\n",
      "  y = column_or_1d(y, warn=True)\n",
      "/Users/camilacollado/opt/miniconda3/envs/myenv/lib/python3.9/site-packages/sklearn/utils/validation.py:993: DataConversionWarning: A column-vector y was passed when a 1d array was expected. Please change the shape of y to (n_samples, ), for example using ravel().\n",
      "  y = column_or_1d(y, warn=True)\n",
      "/Users/camilacollado/opt/miniconda3/envs/myenv/lib/python3.9/site-packages/sklearn/utils/validation.py:993: DataConversionWarning: A column-vector y was passed when a 1d array was expected. Please change the shape of y to (n_samples, ), for example using ravel().\n",
      "  y = column_or_1d(y, warn=True)\n",
      "/Users/camilacollado/opt/miniconda3/envs/myenv/lib/python3.9/site-packages/sklearn/utils/validation.py:993: DataConversionWarning: A column-vector y was passed when a 1d array was expected. Please change the shape of y to (n_samples, ), for example using ravel().\n",
      "  y = column_or_1d(y, warn=True)\n",
      "/Users/camilacollado/opt/miniconda3/envs/myenv/lib/python3.9/site-packages/sklearn/utils/validation.py:993: DataConversionWarning: A column-vector y was passed when a 1d array was expected. Please change the shape of y to (n_samples, ), for example using ravel().\n",
      "  y = column_or_1d(y, warn=True)\n",
      "/Users/camilacollado/opt/miniconda3/envs/myenv/lib/python3.9/site-packages/sklearn/utils/validation.py:993: DataConversionWarning: A column-vector y was passed when a 1d array was expected. Please change the shape of y to (n_samples, ), for example using ravel().\n",
      "  y = column_or_1d(y, warn=True)\n",
      "/Users/camilacollado/opt/miniconda3/envs/myenv/lib/python3.9/site-packages/sklearn/utils/validation.py:993: DataConversionWarning: A column-vector y was passed when a 1d array was expected. Please change the shape of y to (n_samples, ), for example using ravel().\n",
      "  y = column_or_1d(y, warn=True)\n",
      "/Users/camilacollado/opt/miniconda3/envs/myenv/lib/python3.9/site-packages/sklearn/utils/validation.py:993: DataConversionWarning: A column-vector y was passed when a 1d array was expected. Please change the shape of y to (n_samples, ), for example using ravel().\n",
      "  y = column_or_1d(y, warn=True)\n",
      "/Users/camilacollado/opt/miniconda3/envs/myenv/lib/python3.9/site-packages/sklearn/utils/validation.py:993: DataConversionWarning: A column-vector y was passed when a 1d array was expected. Please change the shape of y to (n_samples, ), for example using ravel().\n",
      "  y = column_or_1d(y, warn=True)\n",
      "/Users/camilacollado/opt/miniconda3/envs/myenv/lib/python3.9/site-packages/sklearn/utils/validation.py:993: DataConversionWarning: A column-vector y was passed when a 1d array was expected. Please change the shape of y to (n_samples, ), for example using ravel().\n",
      "  y = column_or_1d(y, warn=True)\n",
      "/Users/camilacollado/opt/miniconda3/envs/myenv/lib/python3.9/site-packages/sklearn/utils/validation.py:993: DataConversionWarning: A column-vector y was passed when a 1d array was expected. Please change the shape of y to (n_samples, ), for example using ravel().\n",
      "  y = column_or_1d(y, warn=True)\n",
      "/Users/camilacollado/opt/miniconda3/envs/myenv/lib/python3.9/site-packages/sklearn/utils/validation.py:993: DataConversionWarning: A column-vector y was passed when a 1d array was expected. Please change the shape of y to (n_samples, ), for example using ravel().\n",
      "  y = column_or_1d(y, warn=True)\n",
      "/Users/camilacollado/opt/miniconda3/envs/myenv/lib/python3.9/site-packages/sklearn/utils/validation.py:993: DataConversionWarning: A column-vector y was passed when a 1d array was expected. Please change the shape of y to (n_samples, ), for example using ravel().\n",
      "  y = column_or_1d(y, warn=True)\n",
      "/Users/camilacollado/opt/miniconda3/envs/myenv/lib/python3.9/site-packages/sklearn/utils/validation.py:993: DataConversionWarning: A column-vector y was passed when a 1d array was expected. Please change the shape of y to (n_samples, ), for example using ravel().\n",
      "  y = column_or_1d(y, warn=True)\n",
      "/Users/camilacollado/opt/miniconda3/envs/myenv/lib/python3.9/site-packages/sklearn/utils/validation.py:993: DataConversionWarning: A column-vector y was passed when a 1d array was expected. Please change the shape of y to (n_samples, ), for example using ravel().\n",
      "  y = column_or_1d(y, warn=True)\n",
      "/Users/camilacollado/opt/miniconda3/envs/myenv/lib/python3.9/site-packages/sklearn/utils/validation.py:993: DataConversionWarning: A column-vector y was passed when a 1d array was expected. Please change the shape of y to (n_samples, ), for example using ravel().\n",
      "  y = column_or_1d(y, warn=True)\n",
      "/Users/camilacollado/opt/miniconda3/envs/myenv/lib/python3.9/site-packages/sklearn/utils/validation.py:993: DataConversionWarning: A column-vector y was passed when a 1d array was expected. Please change the shape of y to (n_samples, ), for example using ravel().\n",
      "  y = column_or_1d(y, warn=True)\n",
      "/Users/camilacollado/opt/miniconda3/envs/myenv/lib/python3.9/site-packages/sklearn/utils/validation.py:993: DataConversionWarning: A column-vector y was passed when a 1d array was expected. Please change the shape of y to (n_samples, ), for example using ravel().\n",
      "  y = column_or_1d(y, warn=True)\n",
      "/Users/camilacollado/opt/miniconda3/envs/myenv/lib/python3.9/site-packages/sklearn/utils/validation.py:993: DataConversionWarning: A column-vector y was passed when a 1d array was expected. Please change the shape of y to (n_samples, ), for example using ravel().\n",
      "  y = column_or_1d(y, warn=True)\n",
      "/Users/camilacollado/opt/miniconda3/envs/myenv/lib/python3.9/site-packages/sklearn/utils/validation.py:993: DataConversionWarning: A column-vector y was passed when a 1d array was expected. Please change the shape of y to (n_samples, ), for example using ravel().\n",
      "  y = column_or_1d(y, warn=True)\n",
      "/Users/camilacollado/opt/miniconda3/envs/myenv/lib/python3.9/site-packages/sklearn/utils/validation.py:993: DataConversionWarning: A column-vector y was passed when a 1d array was expected. Please change the shape of y to (n_samples, ), for example using ravel().\n",
      "  y = column_or_1d(y, warn=True)\n",
      "/Users/camilacollado/opt/miniconda3/envs/myenv/lib/python3.9/site-packages/sklearn/utils/validation.py:993: DataConversionWarning: A column-vector y was passed when a 1d array was expected. Please change the shape of y to (n_samples, ), for example using ravel().\n",
      "  y = column_or_1d(y, warn=True)\n",
      "/Users/camilacollado/opt/miniconda3/envs/myenv/lib/python3.9/site-packages/sklearn/utils/validation.py:993: DataConversionWarning: A column-vector y was passed when a 1d array was expected. Please change the shape of y to (n_samples, ), for example using ravel().\n",
      "  y = column_or_1d(y, warn=True)\n",
      "/Users/camilacollado/opt/miniconda3/envs/myenv/lib/python3.9/site-packages/sklearn/utils/validation.py:993: DataConversionWarning: A column-vector y was passed when a 1d array was expected. Please change the shape of y to (n_samples, ), for example using ravel().\n",
      "  y = column_or_1d(y, warn=True)\n",
      "/Users/camilacollado/opt/miniconda3/envs/myenv/lib/python3.9/site-packages/sklearn/utils/validation.py:993: DataConversionWarning: A column-vector y was passed when a 1d array was expected. Please change the shape of y to (n_samples, ), for example using ravel().\n",
      "  y = column_or_1d(y, warn=True)\n",
      "/Users/camilacollado/opt/miniconda3/envs/myenv/lib/python3.9/site-packages/sklearn/utils/validation.py:993: DataConversionWarning: A column-vector y was passed when a 1d array was expected. Please change the shape of y to (n_samples, ), for example using ravel().\n",
      "  y = column_or_1d(y, warn=True)\n",
      "/Users/camilacollado/opt/miniconda3/envs/myenv/lib/python3.9/site-packages/sklearn/utils/validation.py:993: DataConversionWarning: A column-vector y was passed when a 1d array was expected. Please change the shape of y to (n_samples, ), for example using ravel().\n",
      "  y = column_or_1d(y, warn=True)\n",
      "/Users/camilacollado/opt/miniconda3/envs/myenv/lib/python3.9/site-packages/sklearn/utils/validation.py:993: DataConversionWarning: A column-vector y was passed when a 1d array was expected. Please change the shape of y to (n_samples, ), for example using ravel().\n",
      "  y = column_or_1d(y, warn=True)\n",
      "/Users/camilacollado/opt/miniconda3/envs/myenv/lib/python3.9/site-packages/sklearn/utils/validation.py:993: DataConversionWarning: A column-vector y was passed when a 1d array was expected. Please change the shape of y to (n_samples, ), for example using ravel().\n",
      "  y = column_or_1d(y, warn=True)\n",
      "/Users/camilacollado/opt/miniconda3/envs/myenv/lib/python3.9/site-packages/sklearn/utils/validation.py:993: DataConversionWarning: A column-vector y was passed when a 1d array was expected. Please change the shape of y to (n_samples, ), for example using ravel().\n",
      "  y = column_or_1d(y, warn=True)\n",
      "/Users/camilacollado/opt/miniconda3/envs/myenv/lib/python3.9/site-packages/sklearn/utils/validation.py:993: DataConversionWarning: A column-vector y was passed when a 1d array was expected. Please change the shape of y to (n_samples, ), for example using ravel().\n",
      "  y = column_or_1d(y, warn=True)\n",
      "/Users/camilacollado/opt/miniconda3/envs/myenv/lib/python3.9/site-packages/sklearn/utils/validation.py:993: DataConversionWarning: A column-vector y was passed when a 1d array was expected. Please change the shape of y to (n_samples, ), for example using ravel().\n",
      "  y = column_or_1d(y, warn=True)\n",
      "/Users/camilacollado/opt/miniconda3/envs/myenv/lib/python3.9/site-packages/sklearn/utils/validation.py:993: DataConversionWarning: A column-vector y was passed when a 1d array was expected. Please change the shape of y to (n_samples, ), for example using ravel().\n",
      "  y = column_or_1d(y, warn=True)\n",
      "/Users/camilacollado/opt/miniconda3/envs/myenv/lib/python3.9/site-packages/sklearn/utils/validation.py:993: DataConversionWarning: A column-vector y was passed when a 1d array was expected. Please change the shape of y to (n_samples, ), for example using ravel().\n",
      "  y = column_or_1d(y, warn=True)\n",
      "/Users/camilacollado/opt/miniconda3/envs/myenv/lib/python3.9/site-packages/sklearn/utils/validation.py:993: DataConversionWarning: A column-vector y was passed when a 1d array was expected. Please change the shape of y to (n_samples, ), for example using ravel().\n",
      "  y = column_or_1d(y, warn=True)\n",
      "/Users/camilacollado/opt/miniconda3/envs/myenv/lib/python3.9/site-packages/sklearn/utils/validation.py:993: DataConversionWarning: A column-vector y was passed when a 1d array was expected. Please change the shape of y to (n_samples, ), for example using ravel().\n",
      "  y = column_or_1d(y, warn=True)\n",
      "/Users/camilacollado/opt/miniconda3/envs/myenv/lib/python3.9/site-packages/sklearn/utils/validation.py:993: DataConversionWarning: A column-vector y was passed when a 1d array was expected. Please change the shape of y to (n_samples, ), for example using ravel().\n",
      "  y = column_or_1d(y, warn=True)\n",
      "/Users/camilacollado/opt/miniconda3/envs/myenv/lib/python3.9/site-packages/sklearn/utils/validation.py:993: DataConversionWarning: A column-vector y was passed when a 1d array was expected. Please change the shape of y to (n_samples, ), for example using ravel().\n",
      "  y = column_or_1d(y, warn=True)\n",
      "/Users/camilacollado/opt/miniconda3/envs/myenv/lib/python3.9/site-packages/sklearn/utils/validation.py:993: DataConversionWarning: A column-vector y was passed when a 1d array was expected. Please change the shape of y to (n_samples, ), for example using ravel().\n",
      "  y = column_or_1d(y, warn=True)\n",
      "/Users/camilacollado/opt/miniconda3/envs/myenv/lib/python3.9/site-packages/sklearn/utils/validation.py:993: DataConversionWarning: A column-vector y was passed when a 1d array was expected. Please change the shape of y to (n_samples, ), for example using ravel().\n",
      "  y = column_or_1d(y, warn=True)\n",
      "/Users/camilacollado/opt/miniconda3/envs/myenv/lib/python3.9/site-packages/sklearn/utils/validation.py:993: DataConversionWarning: A column-vector y was passed when a 1d array was expected. Please change the shape of y to (n_samples, ), for example using ravel().\n",
      "  y = column_or_1d(y, warn=True)\n",
      "/Users/camilacollado/opt/miniconda3/envs/myenv/lib/python3.9/site-packages/sklearn/utils/validation.py:993: DataConversionWarning: A column-vector y was passed when a 1d array was expected. Please change the shape of y to (n_samples, ), for example using ravel().\n",
      "  y = column_or_1d(y, warn=True)\n",
      "/Users/camilacollado/opt/miniconda3/envs/myenv/lib/python3.9/site-packages/sklearn/utils/validation.py:993: DataConversionWarning: A column-vector y was passed when a 1d array was expected. Please change the shape of y to (n_samples, ), for example using ravel().\n",
      "  y = column_or_1d(y, warn=True)\n",
      "/Users/camilacollado/opt/miniconda3/envs/myenv/lib/python3.9/site-packages/sklearn/utils/validation.py:993: DataConversionWarning: A column-vector y was passed when a 1d array was expected. Please change the shape of y to (n_samples, ), for example using ravel().\n",
      "  y = column_or_1d(y, warn=True)\n",
      "/Users/camilacollado/opt/miniconda3/envs/myenv/lib/python3.9/site-packages/sklearn/utils/validation.py:993: DataConversionWarning: A column-vector y was passed when a 1d array was expected. Please change the shape of y to (n_samples, ), for example using ravel().\n",
      "  y = column_or_1d(y, warn=True)\n",
      "/Users/camilacollado/opt/miniconda3/envs/myenv/lib/python3.9/site-packages/sklearn/utils/validation.py:993: DataConversionWarning: A column-vector y was passed when a 1d array was expected. Please change the shape of y to (n_samples, ), for example using ravel().\n",
      "  y = column_or_1d(y, warn=True)\n",
      "/Users/camilacollado/opt/miniconda3/envs/myenv/lib/python3.9/site-packages/sklearn/utils/validation.py:993: DataConversionWarning: A column-vector y was passed when a 1d array was expected. Please change the shape of y to (n_samples, ), for example using ravel().\n",
      "  y = column_or_1d(y, warn=True)\n",
      "/Users/camilacollado/opt/miniconda3/envs/myenv/lib/python3.9/site-packages/sklearn/utils/validation.py:993: DataConversionWarning: A column-vector y was passed when a 1d array was expected. Please change the shape of y to (n_samples, ), for example using ravel().\n",
      "  y = column_or_1d(y, warn=True)\n",
      "/Users/camilacollado/opt/miniconda3/envs/myenv/lib/python3.9/site-packages/sklearn/utils/validation.py:993: DataConversionWarning: A column-vector y was passed when a 1d array was expected. Please change the shape of y to (n_samples, ), for example using ravel().\n",
      "  y = column_or_1d(y, warn=True)\n",
      "/Users/camilacollado/opt/miniconda3/envs/myenv/lib/python3.9/site-packages/sklearn/utils/validation.py:993: DataConversionWarning: A column-vector y was passed when a 1d array was expected. Please change the shape of y to (n_samples, ), for example using ravel().\n",
      "  y = column_or_1d(y, warn=True)\n",
      "/Users/camilacollado/opt/miniconda3/envs/myenv/lib/python3.9/site-packages/sklearn/utils/validation.py:993: DataConversionWarning: A column-vector y was passed when a 1d array was expected. Please change the shape of y to (n_samples, ), for example using ravel().\n",
      "  y = column_or_1d(y, warn=True)\n",
      "/Users/camilacollado/opt/miniconda3/envs/myenv/lib/python3.9/site-packages/sklearn/utils/validation.py:993: DataConversionWarning: A column-vector y was passed when a 1d array was expected. Please change the shape of y to (n_samples, ), for example using ravel().\n",
      "  y = column_or_1d(y, warn=True)\n",
      "/Users/camilacollado/opt/miniconda3/envs/myenv/lib/python3.9/site-packages/sklearn/utils/validation.py:993: DataConversionWarning: A column-vector y was passed when a 1d array was expected. Please change the shape of y to (n_samples, ), for example using ravel().\n",
      "  y = column_or_1d(y, warn=True)\n",
      "/Users/camilacollado/opt/miniconda3/envs/myenv/lib/python3.9/site-packages/sklearn/utils/validation.py:993: DataConversionWarning: A column-vector y was passed when a 1d array was expected. Please change the shape of y to (n_samples, ), for example using ravel().\n",
      "  y = column_or_1d(y, warn=True)\n",
      "/Users/camilacollado/opt/miniconda3/envs/myenv/lib/python3.9/site-packages/sklearn/utils/validation.py:993: DataConversionWarning: A column-vector y was passed when a 1d array was expected. Please change the shape of y to (n_samples, ), for example using ravel().\n",
      "  y = column_or_1d(y, warn=True)\n",
      "/Users/camilacollado/opt/miniconda3/envs/myenv/lib/python3.9/site-packages/sklearn/utils/validation.py:993: DataConversionWarning: A column-vector y was passed when a 1d array was expected. Please change the shape of y to (n_samples, ), for example using ravel().\n",
      "  y = column_or_1d(y, warn=True)\n",
      "/Users/camilacollado/opt/miniconda3/envs/myenv/lib/python3.9/site-packages/sklearn/utils/validation.py:993: DataConversionWarning: A column-vector y was passed when a 1d array was expected. Please change the shape of y to (n_samples, ), for example using ravel().\n",
      "  y = column_or_1d(y, warn=True)\n",
      "/Users/camilacollado/opt/miniconda3/envs/myenv/lib/python3.9/site-packages/sklearn/utils/validation.py:993: DataConversionWarning: A column-vector y was passed when a 1d array was expected. Please change the shape of y to (n_samples, ), for example using ravel().\n",
      "  y = column_or_1d(y, warn=True)\n",
      "/Users/camilacollado/opt/miniconda3/envs/myenv/lib/python3.9/site-packages/sklearn/utils/validation.py:993: DataConversionWarning: A column-vector y was passed when a 1d array was expected. Please change the shape of y to (n_samples, ), for example using ravel().\n",
      "  y = column_or_1d(y, warn=True)\n",
      "/Users/camilacollado/opt/miniconda3/envs/myenv/lib/python3.9/site-packages/sklearn/utils/validation.py:993: DataConversionWarning: A column-vector y was passed when a 1d array was expected. Please change the shape of y to (n_samples, ), for example using ravel().\n",
      "  y = column_or_1d(y, warn=True)\n",
      "/Users/camilacollado/opt/miniconda3/envs/myenv/lib/python3.9/site-packages/sklearn/utils/validation.py:993: DataConversionWarning: A column-vector y was passed when a 1d array was expected. Please change the shape of y to (n_samples, ), for example using ravel().\n",
      "  y = column_or_1d(y, warn=True)\n",
      "/Users/camilacollado/opt/miniconda3/envs/myenv/lib/python3.9/site-packages/sklearn/utils/validation.py:993: DataConversionWarning: A column-vector y was passed when a 1d array was expected. Please change the shape of y to (n_samples, ), for example using ravel().\n",
      "  y = column_or_1d(y, warn=True)\n",
      "/Users/camilacollado/opt/miniconda3/envs/myenv/lib/python3.9/site-packages/sklearn/utils/validation.py:993: DataConversionWarning: A column-vector y was passed when a 1d array was expected. Please change the shape of y to (n_samples, ), for example using ravel().\n",
      "  y = column_or_1d(y, warn=True)\n",
      "/Users/camilacollado/opt/miniconda3/envs/myenv/lib/python3.9/site-packages/sklearn/utils/validation.py:993: DataConversionWarning: A column-vector y was passed when a 1d array was expected. Please change the shape of y to (n_samples, ), for example using ravel().\n",
      "  y = column_or_1d(y, warn=True)\n",
      "/Users/camilacollado/opt/miniconda3/envs/myenv/lib/python3.9/site-packages/sklearn/utils/validation.py:993: DataConversionWarning: A column-vector y was passed when a 1d array was expected. Please change the shape of y to (n_samples, ), for example using ravel().\n",
      "  y = column_or_1d(y, warn=True)\n",
      "/Users/camilacollado/opt/miniconda3/envs/myenv/lib/python3.9/site-packages/sklearn/utils/validation.py:993: DataConversionWarning: A column-vector y was passed when a 1d array was expected. Please change the shape of y to (n_samples, ), for example using ravel().\n",
      "  y = column_or_1d(y, warn=True)\n",
      "/Users/camilacollado/opt/miniconda3/envs/myenv/lib/python3.9/site-packages/sklearn/utils/validation.py:993: DataConversionWarning: A column-vector y was passed when a 1d array was expected. Please change the shape of y to (n_samples, ), for example using ravel().\n",
      "  y = column_or_1d(y, warn=True)\n",
      "/Users/camilacollado/opt/miniconda3/envs/myenv/lib/python3.9/site-packages/sklearn/utils/validation.py:993: DataConversionWarning: A column-vector y was passed when a 1d array was expected. Please change the shape of y to (n_samples, ), for example using ravel().\n",
      "  y = column_or_1d(y, warn=True)\n",
      "/Users/camilacollado/opt/miniconda3/envs/myenv/lib/python3.9/site-packages/sklearn/utils/validation.py:993: DataConversionWarning: A column-vector y was passed when a 1d array was expected. Please change the shape of y to (n_samples, ), for example using ravel().\n",
      "  y = column_or_1d(y, warn=True)\n",
      "/Users/camilacollado/opt/miniconda3/envs/myenv/lib/python3.9/site-packages/sklearn/utils/validation.py:993: DataConversionWarning: A column-vector y was passed when a 1d array was expected. Please change the shape of y to (n_samples, ), for example using ravel().\n",
      "  y = column_or_1d(y, warn=True)\n",
      "/Users/camilacollado/opt/miniconda3/envs/myenv/lib/python3.9/site-packages/sklearn/utils/validation.py:993: DataConversionWarning: A column-vector y was passed when a 1d array was expected. Please change the shape of y to (n_samples, ), for example using ravel().\n",
      "  y = column_or_1d(y, warn=True)\n",
      "/Users/camilacollado/opt/miniconda3/envs/myenv/lib/python3.9/site-packages/sklearn/utils/validation.py:993: DataConversionWarning: A column-vector y was passed when a 1d array was expected. Please change the shape of y to (n_samples, ), for example using ravel().\n",
      "  y = column_or_1d(y, warn=True)\n",
      "/Users/camilacollado/opt/miniconda3/envs/myenv/lib/python3.9/site-packages/sklearn/utils/validation.py:993: DataConversionWarning: A column-vector y was passed when a 1d array was expected. Please change the shape of y to (n_samples, ), for example using ravel().\n",
      "  y = column_or_1d(y, warn=True)\n",
      "/Users/camilacollado/opt/miniconda3/envs/myenv/lib/python3.9/site-packages/sklearn/utils/validation.py:993: DataConversionWarning: A column-vector y was passed when a 1d array was expected. Please change the shape of y to (n_samples, ), for example using ravel().\n",
      "  y = column_or_1d(y, warn=True)\n",
      "/Users/camilacollado/opt/miniconda3/envs/myenv/lib/python3.9/site-packages/sklearn/utils/validation.py:993: DataConversionWarning: A column-vector y was passed when a 1d array was expected. Please change the shape of y to (n_samples, ), for example using ravel().\n",
      "  y = column_or_1d(y, warn=True)\n",
      "/Users/camilacollado/opt/miniconda3/envs/myenv/lib/python3.9/site-packages/sklearn/utils/validation.py:993: DataConversionWarning: A column-vector y was passed when a 1d array was expected. Please change the shape of y to (n_samples, ), for example using ravel().\n",
      "  y = column_or_1d(y, warn=True)\n",
      "/Users/camilacollado/opt/miniconda3/envs/myenv/lib/python3.9/site-packages/sklearn/utils/validation.py:993: DataConversionWarning: A column-vector y was passed when a 1d array was expected. Please change the shape of y to (n_samples, ), for example using ravel().\n",
      "  y = column_or_1d(y, warn=True)\n",
      "/Users/camilacollado/opt/miniconda3/envs/myenv/lib/python3.9/site-packages/sklearn/utils/validation.py:993: DataConversionWarning: A column-vector y was passed when a 1d array was expected. Please change the shape of y to (n_samples, ), for example using ravel().\n",
      "  y = column_or_1d(y, warn=True)\n",
      "/Users/camilacollado/opt/miniconda3/envs/myenv/lib/python3.9/site-packages/sklearn/utils/validation.py:993: DataConversionWarning: A column-vector y was passed when a 1d array was expected. Please change the shape of y to (n_samples, ), for example using ravel().\n",
      "  y = column_or_1d(y, warn=True)\n",
      "/Users/camilacollado/opt/miniconda3/envs/myenv/lib/python3.9/site-packages/sklearn/utils/validation.py:993: DataConversionWarning: A column-vector y was passed when a 1d array was expected. Please change the shape of y to (n_samples, ), for example using ravel().\n",
      "  y = column_or_1d(y, warn=True)\n",
      "/Users/camilacollado/opt/miniconda3/envs/myenv/lib/python3.9/site-packages/sklearn/utils/validation.py:993: DataConversionWarning: A column-vector y was passed when a 1d array was expected. Please change the shape of y to (n_samples, ), for example using ravel().\n",
      "  y = column_or_1d(y, warn=True)\n",
      "/Users/camilacollado/opt/miniconda3/envs/myenv/lib/python3.9/site-packages/sklearn/utils/validation.py:993: DataConversionWarning: A column-vector y was passed when a 1d array was expected. Please change the shape of y to (n_samples, ), for example using ravel().\n",
      "  y = column_or_1d(y, warn=True)\n",
      "/Users/camilacollado/opt/miniconda3/envs/myenv/lib/python3.9/site-packages/sklearn/utils/validation.py:993: DataConversionWarning: A column-vector y was passed when a 1d array was expected. Please change the shape of y to (n_samples, ), for example using ravel().\n",
      "  y = column_or_1d(y, warn=True)\n",
      "/Users/camilacollado/opt/miniconda3/envs/myenv/lib/python3.9/site-packages/sklearn/utils/validation.py:993: DataConversionWarning: A column-vector y was passed when a 1d array was expected. Please change the shape of y to (n_samples, ), for example using ravel().\n",
      "  y = column_or_1d(y, warn=True)\n",
      "/Users/camilacollado/opt/miniconda3/envs/myenv/lib/python3.9/site-packages/sklearn/utils/validation.py:993: DataConversionWarning: A column-vector y was passed when a 1d array was expected. Please change the shape of y to (n_samples, ), for example using ravel().\n",
      "  y = column_or_1d(y, warn=True)\n",
      "/Users/camilacollado/opt/miniconda3/envs/myenv/lib/python3.9/site-packages/sklearn/utils/validation.py:993: DataConversionWarning: A column-vector y was passed when a 1d array was expected. Please change the shape of y to (n_samples, ), for example using ravel().\n",
      "  y = column_or_1d(y, warn=True)\n",
      "/Users/camilacollado/opt/miniconda3/envs/myenv/lib/python3.9/site-packages/sklearn/utils/validation.py:993: DataConversionWarning: A column-vector y was passed when a 1d array was expected. Please change the shape of y to (n_samples, ), for example using ravel().\n",
      "  y = column_or_1d(y, warn=True)\n",
      "/Users/camilacollado/opt/miniconda3/envs/myenv/lib/python3.9/site-packages/sklearn/utils/validation.py:993: DataConversionWarning: A column-vector y was passed when a 1d array was expected. Please change the shape of y to (n_samples, ), for example using ravel().\n",
      "  y = column_or_1d(y, warn=True)\n",
      "/Users/camilacollado/opt/miniconda3/envs/myenv/lib/python3.9/site-packages/sklearn/utils/validation.py:993: DataConversionWarning: A column-vector y was passed when a 1d array was expected. Please change the shape of y to (n_samples, ), for example using ravel().\n",
      "  y = column_or_1d(y, warn=True)\n",
      "/Users/camilacollado/opt/miniconda3/envs/myenv/lib/python3.9/site-packages/sklearn/utils/validation.py:993: DataConversionWarning: A column-vector y was passed when a 1d array was expected. Please change the shape of y to (n_samples, ), for example using ravel().\n",
      "  y = column_or_1d(y, warn=True)\n",
      "/Users/camilacollado/opt/miniconda3/envs/myenv/lib/python3.9/site-packages/sklearn/utils/validation.py:993: DataConversionWarning: A column-vector y was passed when a 1d array was expected. Please change the shape of y to (n_samples, ), for example using ravel().\n",
      "  y = column_or_1d(y, warn=True)\n",
      "/Users/camilacollado/opt/miniconda3/envs/myenv/lib/python3.9/site-packages/sklearn/utils/validation.py:993: DataConversionWarning: A column-vector y was passed when a 1d array was expected. Please change the shape of y to (n_samples, ), for example using ravel().\n",
      "  y = column_or_1d(y, warn=True)\n",
      "/Users/camilacollado/opt/miniconda3/envs/myenv/lib/python3.9/site-packages/sklearn/utils/validation.py:993: DataConversionWarning: A column-vector y was passed when a 1d array was expected. Please change the shape of y to (n_samples, ), for example using ravel().\n",
      "  y = column_or_1d(y, warn=True)\n",
      "/Users/camilacollado/opt/miniconda3/envs/myenv/lib/python3.9/site-packages/sklearn/utils/validation.py:993: DataConversionWarning: A column-vector y was passed when a 1d array was expected. Please change the shape of y to (n_samples, ), for example using ravel().\n",
      "  y = column_or_1d(y, warn=True)\n",
      "/Users/camilacollado/opt/miniconda3/envs/myenv/lib/python3.9/site-packages/sklearn/utils/validation.py:993: DataConversionWarning: A column-vector y was passed when a 1d array was expected. Please change the shape of y to (n_samples, ), for example using ravel().\n",
      "  y = column_or_1d(y, warn=True)\n",
      "/Users/camilacollado/opt/miniconda3/envs/myenv/lib/python3.9/site-packages/sklearn/utils/validation.py:993: DataConversionWarning: A column-vector y was passed when a 1d array was expected. Please change the shape of y to (n_samples, ), for example using ravel().\n",
      "  y = column_or_1d(y, warn=True)\n",
      "/Users/camilacollado/opt/miniconda3/envs/myenv/lib/python3.9/site-packages/sklearn/utils/validation.py:993: DataConversionWarning: A column-vector y was passed when a 1d array was expected. Please change the shape of y to (n_samples, ), for example using ravel().\n",
      "  y = column_or_1d(y, warn=True)\n",
      "/Users/camilacollado/opt/miniconda3/envs/myenv/lib/python3.9/site-packages/sklearn/utils/validation.py:993: DataConversionWarning: A column-vector y was passed when a 1d array was expected. Please change the shape of y to (n_samples, ), for example using ravel().\n",
      "  y = column_or_1d(y, warn=True)\n",
      "/Users/camilacollado/opt/miniconda3/envs/myenv/lib/python3.9/site-packages/sklearn/utils/validation.py:993: DataConversionWarning: A column-vector y was passed when a 1d array was expected. Please change the shape of y to (n_samples, ), for example using ravel().\n",
      "  y = column_or_1d(y, warn=True)\n",
      "/Users/camilacollado/opt/miniconda3/envs/myenv/lib/python3.9/site-packages/sklearn/utils/validation.py:993: DataConversionWarning: A column-vector y was passed when a 1d array was expected. Please change the shape of y to (n_samples, ), for example using ravel().\n",
      "  y = column_or_1d(y, warn=True)\n",
      "/Users/camilacollado/opt/miniconda3/envs/myenv/lib/python3.9/site-packages/sklearn/utils/validation.py:993: DataConversionWarning: A column-vector y was passed when a 1d array was expected. Please change the shape of y to (n_samples, ), for example using ravel().\n",
      "  y = column_or_1d(y, warn=True)\n",
      "/Users/camilacollado/opt/miniconda3/envs/myenv/lib/python3.9/site-packages/sklearn/utils/validation.py:993: DataConversionWarning: A column-vector y was passed when a 1d array was expected. Please change the shape of y to (n_samples, ), for example using ravel().\n",
      "  y = column_or_1d(y, warn=True)\n",
      "/Users/camilacollado/opt/miniconda3/envs/myenv/lib/python3.9/site-packages/sklearn/utils/validation.py:993: DataConversionWarning: A column-vector y was passed when a 1d array was expected. Please change the shape of y to (n_samples, ), for example using ravel().\n",
      "  y = column_or_1d(y, warn=True)\n",
      "/Users/camilacollado/opt/miniconda3/envs/myenv/lib/python3.9/site-packages/sklearn/utils/validation.py:993: DataConversionWarning: A column-vector y was passed when a 1d array was expected. Please change the shape of y to (n_samples, ), for example using ravel().\n",
      "  y = column_or_1d(y, warn=True)\n",
      "/Users/camilacollado/opt/miniconda3/envs/myenv/lib/python3.9/site-packages/sklearn/utils/validation.py:993: DataConversionWarning: A column-vector y was passed when a 1d array was expected. Please change the shape of y to (n_samples, ), for example using ravel().\n",
      "  y = column_or_1d(y, warn=True)\n",
      "/Users/camilacollado/opt/miniconda3/envs/myenv/lib/python3.9/site-packages/sklearn/utils/validation.py:993: DataConversionWarning: A column-vector y was passed when a 1d array was expected. Please change the shape of y to (n_samples, ), for example using ravel().\n",
      "  y = column_or_1d(y, warn=True)\n",
      "/Users/camilacollado/opt/miniconda3/envs/myenv/lib/python3.9/site-packages/sklearn/utils/validation.py:993: DataConversionWarning: A column-vector y was passed when a 1d array was expected. Please change the shape of y to (n_samples, ), for example using ravel().\n",
      "  y = column_or_1d(y, warn=True)\n",
      "/Users/camilacollado/opt/miniconda3/envs/myenv/lib/python3.9/site-packages/sklearn/utils/validation.py:993: DataConversionWarning: A column-vector y was passed when a 1d array was expected. Please change the shape of y to (n_samples, ), for example using ravel().\n",
      "  y = column_or_1d(y, warn=True)\n",
      "/Users/camilacollado/opt/miniconda3/envs/myenv/lib/python3.9/site-packages/sklearn/utils/validation.py:993: DataConversionWarning: A column-vector y was passed when a 1d array was expected. Please change the shape of y to (n_samples, ), for example using ravel().\n",
      "  y = column_or_1d(y, warn=True)\n",
      "/Users/camilacollado/opt/miniconda3/envs/myenv/lib/python3.9/site-packages/sklearn/utils/validation.py:993: DataConversionWarning: A column-vector y was passed when a 1d array was expected. Please change the shape of y to (n_samples, ), for example using ravel().\n",
      "  y = column_or_1d(y, warn=True)\n",
      "/Users/camilacollado/opt/miniconda3/envs/myenv/lib/python3.9/site-packages/sklearn/utils/validation.py:993: DataConversionWarning: A column-vector y was passed when a 1d array was expected. Please change the shape of y to (n_samples, ), for example using ravel().\n",
      "  y = column_or_1d(y, warn=True)\n",
      "/Users/camilacollado/opt/miniconda3/envs/myenv/lib/python3.9/site-packages/sklearn/utils/validation.py:993: DataConversionWarning: A column-vector y was passed when a 1d array was expected. Please change the shape of y to (n_samples, ), for example using ravel().\n",
      "  y = column_or_1d(y, warn=True)\n",
      "/Users/camilacollado/opt/miniconda3/envs/myenv/lib/python3.9/site-packages/sklearn/utils/validation.py:993: DataConversionWarning: A column-vector y was passed when a 1d array was expected. Please change the shape of y to (n_samples, ), for example using ravel().\n",
      "  y = column_or_1d(y, warn=True)\n",
      "/Users/camilacollado/opt/miniconda3/envs/myenv/lib/python3.9/site-packages/sklearn/utils/validation.py:993: DataConversionWarning: A column-vector y was passed when a 1d array was expected. Please change the shape of y to (n_samples, ), for example using ravel().\n",
      "  y = column_or_1d(y, warn=True)\n",
      "/Users/camilacollado/opt/miniconda3/envs/myenv/lib/python3.9/site-packages/sklearn/utils/validation.py:993: DataConversionWarning: A column-vector y was passed when a 1d array was expected. Please change the shape of y to (n_samples, ), for example using ravel().\n",
      "  y = column_or_1d(y, warn=True)\n",
      "/Users/camilacollado/opt/miniconda3/envs/myenv/lib/python3.9/site-packages/sklearn/utils/validation.py:993: DataConversionWarning: A column-vector y was passed when a 1d array was expected. Please change the shape of y to (n_samples, ), for example using ravel().\n",
      "  y = column_or_1d(y, warn=True)\n",
      "/Users/camilacollado/opt/miniconda3/envs/myenv/lib/python3.9/site-packages/sklearn/utils/validation.py:993: DataConversionWarning: A column-vector y was passed when a 1d array was expected. Please change the shape of y to (n_samples, ), for example using ravel().\n",
      "  y = column_or_1d(y, warn=True)\n",
      "/Users/camilacollado/opt/miniconda3/envs/myenv/lib/python3.9/site-packages/sklearn/utils/validation.py:993: DataConversionWarning: A column-vector y was passed when a 1d array was expected. Please change the shape of y to (n_samples, ), for example using ravel().\n",
      "  y = column_or_1d(y, warn=True)\n",
      "/Users/camilacollado/opt/miniconda3/envs/myenv/lib/python3.9/site-packages/sklearn/utils/validation.py:993: DataConversionWarning: A column-vector y was passed when a 1d array was expected. Please change the shape of y to (n_samples, ), for example using ravel().\n",
      "  y = column_or_1d(y, warn=True)\n",
      "/Users/camilacollado/opt/miniconda3/envs/myenv/lib/python3.9/site-packages/sklearn/utils/validation.py:993: DataConversionWarning: A column-vector y was passed when a 1d array was expected. Please change the shape of y to (n_samples, ), for example using ravel().\n",
      "  y = column_or_1d(y, warn=True)\n",
      "/Users/camilacollado/opt/miniconda3/envs/myenv/lib/python3.9/site-packages/sklearn/utils/validation.py:993: DataConversionWarning: A column-vector y was passed when a 1d array was expected. Please change the shape of y to (n_samples, ), for example using ravel().\n",
      "  y = column_or_1d(y, warn=True)\n",
      "/Users/camilacollado/opt/miniconda3/envs/myenv/lib/python3.9/site-packages/sklearn/utils/validation.py:993: DataConversionWarning: A column-vector y was passed when a 1d array was expected. Please change the shape of y to (n_samples, ), for example using ravel().\n",
      "  y = column_or_1d(y, warn=True)\n",
      "/Users/camilacollado/opt/miniconda3/envs/myenv/lib/python3.9/site-packages/sklearn/utils/validation.py:993: DataConversionWarning: A column-vector y was passed when a 1d array was expected. Please change the shape of y to (n_samples, ), for example using ravel().\n",
      "  y = column_or_1d(y, warn=True)\n",
      "/Users/camilacollado/opt/miniconda3/envs/myenv/lib/python3.9/site-packages/sklearn/utils/validation.py:993: DataConversionWarning: A column-vector y was passed when a 1d array was expected. Please change the shape of y to (n_samples, ), for example using ravel().\n",
      "  y = column_or_1d(y, warn=True)\n",
      "/Users/camilacollado/opt/miniconda3/envs/myenv/lib/python3.9/site-packages/sklearn/utils/validation.py:993: DataConversionWarning: A column-vector y was passed when a 1d array was expected. Please change the shape of y to (n_samples, ), for example using ravel().\n",
      "  y = column_or_1d(y, warn=True)\n",
      "/Users/camilacollado/opt/miniconda3/envs/myenv/lib/python3.9/site-packages/sklearn/utils/validation.py:993: DataConversionWarning: A column-vector y was passed when a 1d array was expected. Please change the shape of y to (n_samples, ), for example using ravel().\n",
      "  y = column_or_1d(y, warn=True)\n",
      "/Users/camilacollado/opt/miniconda3/envs/myenv/lib/python3.9/site-packages/sklearn/utils/validation.py:993: DataConversionWarning: A column-vector y was passed when a 1d array was expected. Please change the shape of y to (n_samples, ), for example using ravel().\n",
      "  y = column_or_1d(y, warn=True)\n",
      "/Users/camilacollado/opt/miniconda3/envs/myenv/lib/python3.9/site-packages/sklearn/utils/validation.py:993: DataConversionWarning: A column-vector y was passed when a 1d array was expected. Please change the shape of y to (n_samples, ), for example using ravel().\n",
      "  y = column_or_1d(y, warn=True)\n",
      "/Users/camilacollado/opt/miniconda3/envs/myenv/lib/python3.9/site-packages/sklearn/utils/validation.py:993: DataConversionWarning: A column-vector y was passed when a 1d array was expected. Please change the shape of y to (n_samples, ), for example using ravel().\n",
      "  y = column_or_1d(y, warn=True)\n",
      "/Users/camilacollado/opt/miniconda3/envs/myenv/lib/python3.9/site-packages/sklearn/utils/validation.py:993: DataConversionWarning: A column-vector y was passed when a 1d array was expected. Please change the shape of y to (n_samples, ), for example using ravel().\n",
      "  y = column_or_1d(y, warn=True)\n",
      "/Users/camilacollado/opt/miniconda3/envs/myenv/lib/python3.9/site-packages/sklearn/utils/validation.py:993: DataConversionWarning: A column-vector y was passed when a 1d array was expected. Please change the shape of y to (n_samples, ), for example using ravel().\n",
      "  y = column_or_1d(y, warn=True)\n",
      "/Users/camilacollado/opt/miniconda3/envs/myenv/lib/python3.9/site-packages/sklearn/utils/validation.py:993: DataConversionWarning: A column-vector y was passed when a 1d array was expected. Please change the shape of y to (n_samples, ), for example using ravel().\n",
      "  y = column_or_1d(y, warn=True)\n",
      "/Users/camilacollado/opt/miniconda3/envs/myenv/lib/python3.9/site-packages/sklearn/utils/validation.py:993: DataConversionWarning: A column-vector y was passed when a 1d array was expected. Please change the shape of y to (n_samples, ), for example using ravel().\n",
      "  y = column_or_1d(y, warn=True)\n",
      "/Users/camilacollado/opt/miniconda3/envs/myenv/lib/python3.9/site-packages/sklearn/utils/validation.py:993: DataConversionWarning: A column-vector y was passed when a 1d array was expected. Please change the shape of y to (n_samples, ), for example using ravel().\n",
      "  y = column_or_1d(y, warn=True)\n",
      "/Users/camilacollado/opt/miniconda3/envs/myenv/lib/python3.9/site-packages/sklearn/utils/validation.py:993: DataConversionWarning: A column-vector y was passed when a 1d array was expected. Please change the shape of y to (n_samples, ), for example using ravel().\n",
      "  y = column_or_1d(y, warn=True)\n",
      "/Users/camilacollado/opt/miniconda3/envs/myenv/lib/python3.9/site-packages/sklearn/utils/validation.py:993: DataConversionWarning: A column-vector y was passed when a 1d array was expected. Please change the shape of y to (n_samples, ), for example using ravel().\n",
      "  y = column_or_1d(y, warn=True)\n",
      "/Users/camilacollado/opt/miniconda3/envs/myenv/lib/python3.9/site-packages/sklearn/utils/validation.py:993: DataConversionWarning: A column-vector y was passed when a 1d array was expected. Please change the shape of y to (n_samples, ), for example using ravel().\n",
      "  y = column_or_1d(y, warn=True)\n",
      "/Users/camilacollado/opt/miniconda3/envs/myenv/lib/python3.9/site-packages/sklearn/utils/validation.py:993: DataConversionWarning: A column-vector y was passed when a 1d array was expected. Please change the shape of y to (n_samples, ), for example using ravel().\n",
      "  y = column_or_1d(y, warn=True)\n",
      "/Users/camilacollado/opt/miniconda3/envs/myenv/lib/python3.9/site-packages/sklearn/utils/validation.py:993: DataConversionWarning: A column-vector y was passed when a 1d array was expected. Please change the shape of y to (n_samples, ), for example using ravel().\n",
      "  y = column_or_1d(y, warn=True)\n",
      "/Users/camilacollado/opt/miniconda3/envs/myenv/lib/python3.9/site-packages/sklearn/utils/validation.py:993: DataConversionWarning: A column-vector y was passed when a 1d array was expected. Please change the shape of y to (n_samples, ), for example using ravel().\n",
      "  y = column_or_1d(y, warn=True)\n",
      "/Users/camilacollado/opt/miniconda3/envs/myenv/lib/python3.9/site-packages/sklearn/utils/validation.py:993: DataConversionWarning: A column-vector y was passed when a 1d array was expected. Please change the shape of y to (n_samples, ), for example using ravel().\n",
      "  y = column_or_1d(y, warn=True)\n",
      "/Users/camilacollado/opt/miniconda3/envs/myenv/lib/python3.9/site-packages/sklearn/utils/validation.py:993: DataConversionWarning: A column-vector y was passed when a 1d array was expected. Please change the shape of y to (n_samples, ), for example using ravel().\n",
      "  y = column_or_1d(y, warn=True)\n",
      "/Users/camilacollado/opt/miniconda3/envs/myenv/lib/python3.9/site-packages/sklearn/utils/validation.py:993: DataConversionWarning: A column-vector y was passed when a 1d array was expected. Please change the shape of y to (n_samples, ), for example using ravel().\n",
      "  y = column_or_1d(y, warn=True)\n",
      "/Users/camilacollado/opt/miniconda3/envs/myenv/lib/python3.9/site-packages/sklearn/utils/validation.py:993: DataConversionWarning: A column-vector y was passed when a 1d array was expected. Please change the shape of y to (n_samples, ), for example using ravel().\n",
      "  y = column_or_1d(y, warn=True)\n",
      "/Users/camilacollado/opt/miniconda3/envs/myenv/lib/python3.9/site-packages/sklearn/utils/validation.py:993: DataConversionWarning: A column-vector y was passed when a 1d array was expected. Please change the shape of y to (n_samples, ), for example using ravel().\n",
      "  y = column_or_1d(y, warn=True)\n",
      "/Users/camilacollado/opt/miniconda3/envs/myenv/lib/python3.9/site-packages/sklearn/utils/validation.py:993: DataConversionWarning: A column-vector y was passed when a 1d array was expected. Please change the shape of y to (n_samples, ), for example using ravel().\n",
      "  y = column_or_1d(y, warn=True)\n",
      "/Users/camilacollado/opt/miniconda3/envs/myenv/lib/python3.9/site-packages/sklearn/utils/validation.py:993: DataConversionWarning: A column-vector y was passed when a 1d array was expected. Please change the shape of y to (n_samples, ), for example using ravel().\n",
      "  y = column_or_1d(y, warn=True)\n",
      "/Users/camilacollado/opt/miniconda3/envs/myenv/lib/python3.9/site-packages/sklearn/utils/validation.py:993: DataConversionWarning: A column-vector y was passed when a 1d array was expected. Please change the shape of y to (n_samples, ), for example using ravel().\n",
      "  y = column_or_1d(y, warn=True)\n",
      "/Users/camilacollado/opt/miniconda3/envs/myenv/lib/python3.9/site-packages/sklearn/utils/validation.py:993: DataConversionWarning: A column-vector y was passed when a 1d array was expected. Please change the shape of y to (n_samples, ), for example using ravel().\n",
      "  y = column_or_1d(y, warn=True)\n",
      "/Users/camilacollado/opt/miniconda3/envs/myenv/lib/python3.9/site-packages/sklearn/utils/validation.py:993: DataConversionWarning: A column-vector y was passed when a 1d array was expected. Please change the shape of y to (n_samples, ), for example using ravel().\n",
      "  y = column_or_1d(y, warn=True)\n",
      "/Users/camilacollado/opt/miniconda3/envs/myenv/lib/python3.9/site-packages/sklearn/utils/validation.py:993: DataConversionWarning: A column-vector y was passed when a 1d array was expected. Please change the shape of y to (n_samples, ), for example using ravel().\n",
      "  y = column_or_1d(y, warn=True)\n",
      "/Users/camilacollado/opt/miniconda3/envs/myenv/lib/python3.9/site-packages/sklearn/utils/validation.py:993: DataConversionWarning: A column-vector y was passed when a 1d array was expected. Please change the shape of y to (n_samples, ), for example using ravel().\n",
      "  y = column_or_1d(y, warn=True)\n",
      "/Users/camilacollado/opt/miniconda3/envs/myenv/lib/python3.9/site-packages/sklearn/utils/validation.py:993: DataConversionWarning: A column-vector y was passed when a 1d array was expected. Please change the shape of y to (n_samples, ), for example using ravel().\n",
      "  y = column_or_1d(y, warn=True)\n",
      "/Users/camilacollado/opt/miniconda3/envs/myenv/lib/python3.9/site-packages/sklearn/utils/validation.py:993: DataConversionWarning: A column-vector y was passed when a 1d array was expected. Please change the shape of y to (n_samples, ), for example using ravel().\n",
      "  y = column_or_1d(y, warn=True)\n",
      "/Users/camilacollado/opt/miniconda3/envs/myenv/lib/python3.9/site-packages/sklearn/utils/validation.py:993: DataConversionWarning: A column-vector y was passed when a 1d array was expected. Please change the shape of y to (n_samples, ), for example using ravel().\n",
      "  y = column_or_1d(y, warn=True)\n",
      "/Users/camilacollado/opt/miniconda3/envs/myenv/lib/python3.9/site-packages/sklearn/utils/validation.py:993: DataConversionWarning: A column-vector y was passed when a 1d array was expected. Please change the shape of y to (n_samples, ), for example using ravel().\n",
      "  y = column_or_1d(y, warn=True)\n",
      "/Users/camilacollado/opt/miniconda3/envs/myenv/lib/python3.9/site-packages/sklearn/utils/validation.py:993: DataConversionWarning: A column-vector y was passed when a 1d array was expected. Please change the shape of y to (n_samples, ), for example using ravel().\n",
      "  y = column_or_1d(y, warn=True)\n",
      "/Users/camilacollado/opt/miniconda3/envs/myenv/lib/python3.9/site-packages/sklearn/utils/validation.py:993: DataConversionWarning: A column-vector y was passed when a 1d array was expected. Please change the shape of y to (n_samples, ), for example using ravel().\n",
      "  y = column_or_1d(y, warn=True)\n",
      "/Users/camilacollado/opt/miniconda3/envs/myenv/lib/python3.9/site-packages/sklearn/utils/validation.py:993: DataConversionWarning: A column-vector y was passed when a 1d array was expected. Please change the shape of y to (n_samples, ), for example using ravel().\n",
      "  y = column_or_1d(y, warn=True)\n",
      "/Users/camilacollado/opt/miniconda3/envs/myenv/lib/python3.9/site-packages/sklearn/utils/validation.py:993: DataConversionWarning: A column-vector y was passed when a 1d array was expected. Please change the shape of y to (n_samples, ), for example using ravel().\n",
      "  y = column_or_1d(y, warn=True)\n",
      "/Users/camilacollado/opt/miniconda3/envs/myenv/lib/python3.9/site-packages/sklearn/utils/validation.py:993: DataConversionWarning: A column-vector y was passed when a 1d array was expected. Please change the shape of y to (n_samples, ), for example using ravel().\n",
      "  y = column_or_1d(y, warn=True)\n",
      "/Users/camilacollado/opt/miniconda3/envs/myenv/lib/python3.9/site-packages/sklearn/utils/validation.py:993: DataConversionWarning: A column-vector y was passed when a 1d array was expected. Please change the shape of y to (n_samples, ), for example using ravel().\n",
      "  y = column_or_1d(y, warn=True)\n",
      "/Users/camilacollado/opt/miniconda3/envs/myenv/lib/python3.9/site-packages/sklearn/utils/validation.py:993: DataConversionWarning: A column-vector y was passed when a 1d array was expected. Please change the shape of y to (n_samples, ), for example using ravel().\n",
      "  y = column_or_1d(y, warn=True)\n",
      "/Users/camilacollado/opt/miniconda3/envs/myenv/lib/python3.9/site-packages/sklearn/utils/validation.py:993: DataConversionWarning: A column-vector y was passed when a 1d array was expected. Please change the shape of y to (n_samples, ), for example using ravel().\n",
      "  y = column_or_1d(y, warn=True)\n",
      "/Users/camilacollado/opt/miniconda3/envs/myenv/lib/python3.9/site-packages/sklearn/utils/validation.py:993: DataConversionWarning: A column-vector y was passed when a 1d array was expected. Please change the shape of y to (n_samples, ), for example using ravel().\n",
      "  y = column_or_1d(y, warn=True)\n",
      "/Users/camilacollado/opt/miniconda3/envs/myenv/lib/python3.9/site-packages/sklearn/utils/validation.py:993: DataConversionWarning: A column-vector y was passed when a 1d array was expected. Please change the shape of y to (n_samples, ), for example using ravel().\n",
      "  y = column_or_1d(y, warn=True)\n",
      "/Users/camilacollado/opt/miniconda3/envs/myenv/lib/python3.9/site-packages/sklearn/utils/validation.py:993: DataConversionWarning: A column-vector y was passed when a 1d array was expected. Please change the shape of y to (n_samples, ), for example using ravel().\n",
      "  y = column_or_1d(y, warn=True)\n",
      "/Users/camilacollado/opt/miniconda3/envs/myenv/lib/python3.9/site-packages/sklearn/utils/validation.py:993: DataConversionWarning: A column-vector y was passed when a 1d array was expected. Please change the shape of y to (n_samples, ), for example using ravel().\n",
      "  y = column_or_1d(y, warn=True)\n",
      "/Users/camilacollado/opt/miniconda3/envs/myenv/lib/python3.9/site-packages/sklearn/utils/validation.py:993: DataConversionWarning: A column-vector y was passed when a 1d array was expected. Please change the shape of y to (n_samples, ), for example using ravel().\n",
      "  y = column_or_1d(y, warn=True)\n",
      "/Users/camilacollado/opt/miniconda3/envs/myenv/lib/python3.9/site-packages/sklearn/utils/validation.py:993: DataConversionWarning: A column-vector y was passed when a 1d array was expected. Please change the shape of y to (n_samples, ), for example using ravel().\n",
      "  y = column_or_1d(y, warn=True)\n",
      "/Users/camilacollado/opt/miniconda3/envs/myenv/lib/python3.9/site-packages/sklearn/utils/validation.py:993: DataConversionWarning: A column-vector y was passed when a 1d array was expected. Please change the shape of y to (n_samples, ), for example using ravel().\n",
      "  y = column_or_1d(y, warn=True)\n",
      "/Users/camilacollado/opt/miniconda3/envs/myenv/lib/python3.9/site-packages/sklearn/utils/validation.py:993: DataConversionWarning: A column-vector y was passed when a 1d array was expected. Please change the shape of y to (n_samples, ), for example using ravel().\n",
      "  y = column_or_1d(y, warn=True)\n",
      "/Users/camilacollado/opt/miniconda3/envs/myenv/lib/python3.9/site-packages/sklearn/utils/validation.py:993: DataConversionWarning: A column-vector y was passed when a 1d array was expected. Please change the shape of y to (n_samples, ), for example using ravel().\n",
      "  y = column_or_1d(y, warn=True)\n",
      "/Users/camilacollado/opt/miniconda3/envs/myenv/lib/python3.9/site-packages/sklearn/utils/validation.py:993: DataConversionWarning: A column-vector y was passed when a 1d array was expected. Please change the shape of y to (n_samples, ), for example using ravel().\n",
      "  y = column_or_1d(y, warn=True)\n",
      "/Users/camilacollado/opt/miniconda3/envs/myenv/lib/python3.9/site-packages/sklearn/utils/validation.py:993: DataConversionWarning: A column-vector y was passed when a 1d array was expected. Please change the shape of y to (n_samples, ), for example using ravel().\n",
      "  y = column_or_1d(y, warn=True)\n",
      "/Users/camilacollado/opt/miniconda3/envs/myenv/lib/python3.9/site-packages/sklearn/utils/validation.py:993: DataConversionWarning: A column-vector y was passed when a 1d array was expected. Please change the shape of y to (n_samples, ), for example using ravel().\n",
      "  y = column_or_1d(y, warn=True)\n",
      "/Users/camilacollado/opt/miniconda3/envs/myenv/lib/python3.9/site-packages/sklearn/utils/validation.py:993: DataConversionWarning: A column-vector y was passed when a 1d array was expected. Please change the shape of y to (n_samples, ), for example using ravel().\n",
      "  y = column_or_1d(y, warn=True)\n",
      "/Users/camilacollado/opt/miniconda3/envs/myenv/lib/python3.9/site-packages/sklearn/utils/validation.py:993: DataConversionWarning: A column-vector y was passed when a 1d array was expected. Please change the shape of y to (n_samples, ), for example using ravel().\n",
      "  y = column_or_1d(y, warn=True)\n",
      "/Users/camilacollado/opt/miniconda3/envs/myenv/lib/python3.9/site-packages/sklearn/utils/validation.py:993: DataConversionWarning: A column-vector y was passed when a 1d array was expected. Please change the shape of y to (n_samples, ), for example using ravel().\n",
      "  y = column_or_1d(y, warn=True)\n",
      "/Users/camilacollado/opt/miniconda3/envs/myenv/lib/python3.9/site-packages/sklearn/utils/validation.py:993: DataConversionWarning: A column-vector y was passed when a 1d array was expected. Please change the shape of y to (n_samples, ), for example using ravel().\n",
      "  y = column_or_1d(y, warn=True)\n",
      "/Users/camilacollado/opt/miniconda3/envs/myenv/lib/python3.9/site-packages/sklearn/utils/validation.py:993: DataConversionWarning: A column-vector y was passed when a 1d array was expected. Please change the shape of y to (n_samples, ), for example using ravel().\n",
      "  y = column_or_1d(y, warn=True)\n",
      "/Users/camilacollado/opt/miniconda3/envs/myenv/lib/python3.9/site-packages/sklearn/utils/validation.py:993: DataConversionWarning: A column-vector y was passed when a 1d array was expected. Please change the shape of y to (n_samples, ), for example using ravel().\n",
      "  y = column_or_1d(y, warn=True)\n",
      "/Users/camilacollado/opt/miniconda3/envs/myenv/lib/python3.9/site-packages/sklearn/utils/validation.py:993: DataConversionWarning: A column-vector y was passed when a 1d array was expected. Please change the shape of y to (n_samples, ), for example using ravel().\n",
      "  y = column_or_1d(y, warn=True)\n",
      "/Users/camilacollado/opt/miniconda3/envs/myenv/lib/python3.9/site-packages/sklearn/utils/validation.py:993: DataConversionWarning: A column-vector y was passed when a 1d array was expected. Please change the shape of y to (n_samples, ), for example using ravel().\n",
      "  y = column_or_1d(y, warn=True)\n",
      "/Users/camilacollado/opt/miniconda3/envs/myenv/lib/python3.9/site-packages/sklearn/utils/validation.py:993: DataConversionWarning: A column-vector y was passed when a 1d array was expected. Please change the shape of y to (n_samples, ), for example using ravel().\n",
      "  y = column_or_1d(y, warn=True)\n",
      "/Users/camilacollado/opt/miniconda3/envs/myenv/lib/python3.9/site-packages/sklearn/utils/validation.py:993: DataConversionWarning: A column-vector y was passed when a 1d array was expected. Please change the shape of y to (n_samples, ), for example using ravel().\n",
      "  y = column_or_1d(y, warn=True)\n",
      "/Users/camilacollado/opt/miniconda3/envs/myenv/lib/python3.9/site-packages/sklearn/utils/validation.py:993: DataConversionWarning: A column-vector y was passed when a 1d array was expected. Please change the shape of y to (n_samples, ), for example using ravel().\n",
      "  y = column_or_1d(y, warn=True)\n",
      "/Users/camilacollado/opt/miniconda3/envs/myenv/lib/python3.9/site-packages/sklearn/utils/validation.py:993: DataConversionWarning: A column-vector y was passed when a 1d array was expected. Please change the shape of y to (n_samples, ), for example using ravel().\n",
      "  y = column_or_1d(y, warn=True)\n",
      "/Users/camilacollado/opt/miniconda3/envs/myenv/lib/python3.9/site-packages/sklearn/utils/validation.py:993: DataConversionWarning: A column-vector y was passed when a 1d array was expected. Please change the shape of y to (n_samples, ), for example using ravel().\n",
      "  y = column_or_1d(y, warn=True)\n",
      "/Users/camilacollado/opt/miniconda3/envs/myenv/lib/python3.9/site-packages/sklearn/utils/validation.py:993: DataConversionWarning: A column-vector y was passed when a 1d array was expected. Please change the shape of y to (n_samples, ), for example using ravel().\n",
      "  y = column_or_1d(y, warn=True)\n",
      "/Users/camilacollado/opt/miniconda3/envs/myenv/lib/python3.9/site-packages/sklearn/utils/validation.py:993: DataConversionWarning: A column-vector y was passed when a 1d array was expected. Please change the shape of y to (n_samples, ), for example using ravel().\n",
      "  y = column_or_1d(y, warn=True)\n",
      "/Users/camilacollado/opt/miniconda3/envs/myenv/lib/python3.9/site-packages/sklearn/utils/validation.py:993: DataConversionWarning: A column-vector y was passed when a 1d array was expected. Please change the shape of y to (n_samples, ), for example using ravel().\n",
      "  y = column_or_1d(y, warn=True)\n",
      "/Users/camilacollado/opt/miniconda3/envs/myenv/lib/python3.9/site-packages/sklearn/utils/validation.py:993: DataConversionWarning: A column-vector y was passed when a 1d array was expected. Please change the shape of y to (n_samples, ), for example using ravel().\n",
      "  y = column_or_1d(y, warn=True)\n",
      "/Users/camilacollado/opt/miniconda3/envs/myenv/lib/python3.9/site-packages/sklearn/utils/validation.py:993: DataConversionWarning: A column-vector y was passed when a 1d array was expected. Please change the shape of y to (n_samples, ), for example using ravel().\n",
      "  y = column_or_1d(y, warn=True)\n",
      "/Users/camilacollado/opt/miniconda3/envs/myenv/lib/python3.9/site-packages/sklearn/utils/validation.py:993: DataConversionWarning: A column-vector y was passed when a 1d array was expected. Please change the shape of y to (n_samples, ), for example using ravel().\n",
      "  y = column_or_1d(y, warn=True)\n",
      "/Users/camilacollado/opt/miniconda3/envs/myenv/lib/python3.9/site-packages/sklearn/utils/validation.py:993: DataConversionWarning: A column-vector y was passed when a 1d array was expected. Please change the shape of y to (n_samples, ), for example using ravel().\n",
      "  y = column_or_1d(y, warn=True)\n",
      "/Users/camilacollado/opt/miniconda3/envs/myenv/lib/python3.9/site-packages/sklearn/utils/validation.py:993: DataConversionWarning: A column-vector y was passed when a 1d array was expected. Please change the shape of y to (n_samples, ), for example using ravel().\n",
      "  y = column_or_1d(y, warn=True)\n",
      "/Users/camilacollado/opt/miniconda3/envs/myenv/lib/python3.9/site-packages/sklearn/utils/validation.py:993: DataConversionWarning: A column-vector y was passed when a 1d array was expected. Please change the shape of y to (n_samples, ), for example using ravel().\n",
      "  y = column_or_1d(y, warn=True)\n",
      "/Users/camilacollado/opt/miniconda3/envs/myenv/lib/python3.9/site-packages/sklearn/utils/validation.py:993: DataConversionWarning: A column-vector y was passed when a 1d array was expected. Please change the shape of y to (n_samples, ), for example using ravel().\n",
      "  y = column_or_1d(y, warn=True)\n",
      "/Users/camilacollado/opt/miniconda3/envs/myenv/lib/python3.9/site-packages/sklearn/utils/validation.py:993: DataConversionWarning: A column-vector y was passed when a 1d array was expected. Please change the shape of y to (n_samples, ), for example using ravel().\n",
      "  y = column_or_1d(y, warn=True)\n",
      "/Users/camilacollado/opt/miniconda3/envs/myenv/lib/python3.9/site-packages/sklearn/utils/validation.py:993: DataConversionWarning: A column-vector y was passed when a 1d array was expected. Please change the shape of y to (n_samples, ), for example using ravel().\n",
      "  y = column_or_1d(y, warn=True)\n",
      "/Users/camilacollado/opt/miniconda3/envs/myenv/lib/python3.9/site-packages/sklearn/utils/validation.py:993: DataConversionWarning: A column-vector y was passed when a 1d array was expected. Please change the shape of y to (n_samples, ), for example using ravel().\n",
      "  y = column_or_1d(y, warn=True)\n",
      "/Users/camilacollado/opt/miniconda3/envs/myenv/lib/python3.9/site-packages/sklearn/utils/validation.py:993: DataConversionWarning: A column-vector y was passed when a 1d array was expected. Please change the shape of y to (n_samples, ), for example using ravel().\n",
      "  y = column_or_1d(y, warn=True)\n",
      "/Users/camilacollado/opt/miniconda3/envs/myenv/lib/python3.9/site-packages/sklearn/utils/validation.py:993: DataConversionWarning: A column-vector y was passed when a 1d array was expected. Please change the shape of y to (n_samples, ), for example using ravel().\n",
      "  y = column_or_1d(y, warn=True)\n",
      "/Users/camilacollado/opt/miniconda3/envs/myenv/lib/python3.9/site-packages/sklearn/utils/validation.py:993: DataConversionWarning: A column-vector y was passed when a 1d array was expected. Please change the shape of y to (n_samples, ), for example using ravel().\n",
      "  y = column_or_1d(y, warn=True)\n",
      "/Users/camilacollado/opt/miniconda3/envs/myenv/lib/python3.9/site-packages/sklearn/utils/validation.py:993: DataConversionWarning: A column-vector y was passed when a 1d array was expected. Please change the shape of y to (n_samples, ), for example using ravel().\n",
      "  y = column_or_1d(y, warn=True)\n",
      "/Users/camilacollado/opt/miniconda3/envs/myenv/lib/python3.9/site-packages/sklearn/utils/validation.py:993: DataConversionWarning: A column-vector y was passed when a 1d array was expected. Please change the shape of y to (n_samples, ), for example using ravel().\n",
      "  y = column_or_1d(y, warn=True)\n",
      "/Users/camilacollado/opt/miniconda3/envs/myenv/lib/python3.9/site-packages/sklearn/utils/validation.py:993: DataConversionWarning: A column-vector y was passed when a 1d array was expected. Please change the shape of y to (n_samples, ), for example using ravel().\n",
      "  y = column_or_1d(y, warn=True)\n",
      "/Users/camilacollado/opt/miniconda3/envs/myenv/lib/python3.9/site-packages/sklearn/utils/validation.py:993: DataConversionWarning: A column-vector y was passed when a 1d array was expected. Please change the shape of y to (n_samples, ), for example using ravel().\n",
      "  y = column_or_1d(y, warn=True)\n",
      "/Users/camilacollado/opt/miniconda3/envs/myenv/lib/python3.9/site-packages/sklearn/utils/validation.py:993: DataConversionWarning: A column-vector y was passed when a 1d array was expected. Please change the shape of y to (n_samples, ), for example using ravel().\n",
      "  y = column_or_1d(y, warn=True)\n",
      "/Users/camilacollado/opt/miniconda3/envs/myenv/lib/python3.9/site-packages/sklearn/utils/validation.py:993: DataConversionWarning: A column-vector y was passed when a 1d array was expected. Please change the shape of y to (n_samples, ), for example using ravel().\n",
      "  y = column_or_1d(y, warn=True)\n",
      "/Users/camilacollado/opt/miniconda3/envs/myenv/lib/python3.9/site-packages/sklearn/utils/validation.py:993: DataConversionWarning: A column-vector y was passed when a 1d array was expected. Please change the shape of y to (n_samples, ), for example using ravel().\n",
      "  y = column_or_1d(y, warn=True)\n",
      "/Users/camilacollado/opt/miniconda3/envs/myenv/lib/python3.9/site-packages/sklearn/utils/validation.py:993: DataConversionWarning: A column-vector y was passed when a 1d array was expected. Please change the shape of y to (n_samples, ), for example using ravel().\n",
      "  y = column_or_1d(y, warn=True)\n",
      "/Users/camilacollado/opt/miniconda3/envs/myenv/lib/python3.9/site-packages/sklearn/utils/validation.py:993: DataConversionWarning: A column-vector y was passed when a 1d array was expected. Please change the shape of y to (n_samples, ), for example using ravel().\n",
      "  y = column_or_1d(y, warn=True)\n",
      "/Users/camilacollado/opt/miniconda3/envs/myenv/lib/python3.9/site-packages/sklearn/utils/validation.py:993: DataConversionWarning: A column-vector y was passed when a 1d array was expected. Please change the shape of y to (n_samples, ), for example using ravel().\n",
      "  y = column_or_1d(y, warn=True)\n",
      "/Users/camilacollado/opt/miniconda3/envs/myenv/lib/python3.9/site-packages/sklearn/utils/validation.py:993: DataConversionWarning: A column-vector y was passed when a 1d array was expected. Please change the shape of y to (n_samples, ), for example using ravel().\n",
      "  y = column_or_1d(y, warn=True)\n",
      "/Users/camilacollado/opt/miniconda3/envs/myenv/lib/python3.9/site-packages/sklearn/utils/validation.py:993: DataConversionWarning: A column-vector y was passed when a 1d array was expected. Please change the shape of y to (n_samples, ), for example using ravel().\n",
      "  y = column_or_1d(y, warn=True)\n",
      "/Users/camilacollado/opt/miniconda3/envs/myenv/lib/python3.9/site-packages/sklearn/utils/validation.py:993: DataConversionWarning: A column-vector y was passed when a 1d array was expected. Please change the shape of y to (n_samples, ), for example using ravel().\n",
      "  y = column_or_1d(y, warn=True)\n",
      "/Users/camilacollado/opt/miniconda3/envs/myenv/lib/python3.9/site-packages/sklearn/utils/validation.py:993: DataConversionWarning: A column-vector y was passed when a 1d array was expected. Please change the shape of y to (n_samples, ), for example using ravel().\n",
      "  y = column_or_1d(y, warn=True)\n",
      "/Users/camilacollado/opt/miniconda3/envs/myenv/lib/python3.9/site-packages/sklearn/utils/validation.py:993: DataConversionWarning: A column-vector y was passed when a 1d array was expected. Please change the shape of y to (n_samples, ), for example using ravel().\n",
      "  y = column_or_1d(y, warn=True)\n",
      "/Users/camilacollado/opt/miniconda3/envs/myenv/lib/python3.9/site-packages/sklearn/utils/validation.py:993: DataConversionWarning: A column-vector y was passed when a 1d array was expected. Please change the shape of y to (n_samples, ), for example using ravel().\n",
      "  y = column_or_1d(y, warn=True)\n",
      "/Users/camilacollado/opt/miniconda3/envs/myenv/lib/python3.9/site-packages/sklearn/utils/validation.py:993: DataConversionWarning: A column-vector y was passed when a 1d array was expected. Please change the shape of y to (n_samples, ), for example using ravel().\n",
      "  y = column_or_1d(y, warn=True)\n",
      "/Users/camilacollado/opt/miniconda3/envs/myenv/lib/python3.9/site-packages/sklearn/utils/validation.py:993: DataConversionWarning: A column-vector y was passed when a 1d array was expected. Please change the shape of y to (n_samples, ), for example using ravel().\n",
      "  y = column_or_1d(y, warn=True)\n",
      "/Users/camilacollado/opt/miniconda3/envs/myenv/lib/python3.9/site-packages/sklearn/utils/validation.py:993: DataConversionWarning: A column-vector y was passed when a 1d array was expected. Please change the shape of y to (n_samples, ), for example using ravel().\n",
      "  y = column_or_1d(y, warn=True)\n",
      "/Users/camilacollado/opt/miniconda3/envs/myenv/lib/python3.9/site-packages/sklearn/utils/validation.py:993: DataConversionWarning: A column-vector y was passed when a 1d array was expected. Please change the shape of y to (n_samples, ), for example using ravel().\n",
      "  y = column_or_1d(y, warn=True)\n",
      "/Users/camilacollado/opt/miniconda3/envs/myenv/lib/python3.9/site-packages/sklearn/utils/validation.py:993: DataConversionWarning: A column-vector y was passed when a 1d array was expected. Please change the shape of y to (n_samples, ), for example using ravel().\n",
      "  y = column_or_1d(y, warn=True)\n",
      "/Users/camilacollado/opt/miniconda3/envs/myenv/lib/python3.9/site-packages/sklearn/utils/validation.py:993: DataConversionWarning: A column-vector y was passed when a 1d array was expected. Please change the shape of y to (n_samples, ), for example using ravel().\n",
      "  y = column_or_1d(y, warn=True)\n",
      "/Users/camilacollado/opt/miniconda3/envs/myenv/lib/python3.9/site-packages/sklearn/utils/validation.py:993: DataConversionWarning: A column-vector y was passed when a 1d array was expected. Please change the shape of y to (n_samples, ), for example using ravel().\n",
      "  y = column_or_1d(y, warn=True)\n",
      "/Users/camilacollado/opt/miniconda3/envs/myenv/lib/python3.9/site-packages/sklearn/utils/validation.py:993: DataConversionWarning: A column-vector y was passed when a 1d array was expected. Please change the shape of y to (n_samples, ), for example using ravel().\n",
      "  y = column_or_1d(y, warn=True)\n",
      "/Users/camilacollado/opt/miniconda3/envs/myenv/lib/python3.9/site-packages/sklearn/utils/validation.py:993: DataConversionWarning: A column-vector y was passed when a 1d array was expected. Please change the shape of y to (n_samples, ), for example using ravel().\n",
      "  y = column_or_1d(y, warn=True)\n",
      "/Users/camilacollado/opt/miniconda3/envs/myenv/lib/python3.9/site-packages/sklearn/utils/validation.py:993: DataConversionWarning: A column-vector y was passed when a 1d array was expected. Please change the shape of y to (n_samples, ), for example using ravel().\n",
      "  y = column_or_1d(y, warn=True)\n",
      "/Users/camilacollado/opt/miniconda3/envs/myenv/lib/python3.9/site-packages/sklearn/utils/validation.py:993: DataConversionWarning: A column-vector y was passed when a 1d array was expected. Please change the shape of y to (n_samples, ), for example using ravel().\n",
      "  y = column_or_1d(y, warn=True)\n",
      "/Users/camilacollado/opt/miniconda3/envs/myenv/lib/python3.9/site-packages/sklearn/utils/validation.py:993: DataConversionWarning: A column-vector y was passed when a 1d array was expected. Please change the shape of y to (n_samples, ), for example using ravel().\n",
      "  y = column_or_1d(y, warn=True)\n",
      "/Users/camilacollado/opt/miniconda3/envs/myenv/lib/python3.9/site-packages/sklearn/utils/validation.py:993: DataConversionWarning: A column-vector y was passed when a 1d array was expected. Please change the shape of y to (n_samples, ), for example using ravel().\n",
      "  y = column_or_1d(y, warn=True)\n",
      "/Users/camilacollado/opt/miniconda3/envs/myenv/lib/python3.9/site-packages/sklearn/utils/validation.py:993: DataConversionWarning: A column-vector y was passed when a 1d array was expected. Please change the shape of y to (n_samples, ), for example using ravel().\n",
      "  y = column_or_1d(y, warn=True)\n",
      "/Users/camilacollado/opt/miniconda3/envs/myenv/lib/python3.9/site-packages/sklearn/utils/validation.py:993: DataConversionWarning: A column-vector y was passed when a 1d array was expected. Please change the shape of y to (n_samples, ), for example using ravel().\n",
      "  y = column_or_1d(y, warn=True)\n",
      "/Users/camilacollado/opt/miniconda3/envs/myenv/lib/python3.9/site-packages/sklearn/utils/validation.py:993: DataConversionWarning: A column-vector y was passed when a 1d array was expected. Please change the shape of y to (n_samples, ), for example using ravel().\n",
      "  y = column_or_1d(y, warn=True)\n",
      "/Users/camilacollado/opt/miniconda3/envs/myenv/lib/python3.9/site-packages/sklearn/utils/validation.py:993: DataConversionWarning: A column-vector y was passed when a 1d array was expected. Please change the shape of y to (n_samples, ), for example using ravel().\n",
      "  y = column_or_1d(y, warn=True)\n",
      "/Users/camilacollado/opt/miniconda3/envs/myenv/lib/python3.9/site-packages/sklearn/utils/validation.py:993: DataConversionWarning: A column-vector y was passed when a 1d array was expected. Please change the shape of y to (n_samples, ), for example using ravel().\n",
      "  y = column_or_1d(y, warn=True)\n",
      "/Users/camilacollado/opt/miniconda3/envs/myenv/lib/python3.9/site-packages/sklearn/utils/validation.py:993: DataConversionWarning: A column-vector y was passed when a 1d array was expected. Please change the shape of y to (n_samples, ), for example using ravel().\n",
      "  y = column_or_1d(y, warn=True)\n",
      "/Users/camilacollado/opt/miniconda3/envs/myenv/lib/python3.9/site-packages/sklearn/utils/validation.py:993: DataConversionWarning: A column-vector y was passed when a 1d array was expected. Please change the shape of y to (n_samples, ), for example using ravel().\n",
      "  y = column_or_1d(y, warn=True)\n",
      "/Users/camilacollado/opt/miniconda3/envs/myenv/lib/python3.9/site-packages/sklearn/utils/validation.py:993: DataConversionWarning: A column-vector y was passed when a 1d array was expected. Please change the shape of y to (n_samples, ), for example using ravel().\n",
      "  y = column_or_1d(y, warn=True)\n",
      "/Users/camilacollado/opt/miniconda3/envs/myenv/lib/python3.9/site-packages/sklearn/utils/validation.py:993: DataConversionWarning: A column-vector y was passed when a 1d array was expected. Please change the shape of y to (n_samples, ), for example using ravel().\n",
      "  y = column_or_1d(y, warn=True)\n",
      "/Users/camilacollado/opt/miniconda3/envs/myenv/lib/python3.9/site-packages/sklearn/utils/validation.py:993: DataConversionWarning: A column-vector y was passed when a 1d array was expected. Please change the shape of y to (n_samples, ), for example using ravel().\n",
      "  y = column_or_1d(y, warn=True)\n",
      "/Users/camilacollado/opt/miniconda3/envs/myenv/lib/python3.9/site-packages/sklearn/utils/validation.py:993: DataConversionWarning: A column-vector y was passed when a 1d array was expected. Please change the shape of y to (n_samples, ), for example using ravel().\n",
      "  y = column_or_1d(y, warn=True)\n",
      "/Users/camilacollado/opt/miniconda3/envs/myenv/lib/python3.9/site-packages/sklearn/utils/validation.py:993: DataConversionWarning: A column-vector y was passed when a 1d array was expected. Please change the shape of y to (n_samples, ), for example using ravel().\n",
      "  y = column_or_1d(y, warn=True)\n",
      "/Users/camilacollado/opt/miniconda3/envs/myenv/lib/python3.9/site-packages/sklearn/utils/validation.py:993: DataConversionWarning: A column-vector y was passed when a 1d array was expected. Please change the shape of y to (n_samples, ), for example using ravel().\n",
      "  y = column_or_1d(y, warn=True)\n",
      "/Users/camilacollado/opt/miniconda3/envs/myenv/lib/python3.9/site-packages/sklearn/utils/validation.py:993: DataConversionWarning: A column-vector y was passed when a 1d array was expected. Please change the shape of y to (n_samples, ), for example using ravel().\n",
      "  y = column_or_1d(y, warn=True)\n",
      "/Users/camilacollado/opt/miniconda3/envs/myenv/lib/python3.9/site-packages/sklearn/utils/validation.py:993: DataConversionWarning: A column-vector y was passed when a 1d array was expected. Please change the shape of y to (n_samples, ), for example using ravel().\n",
      "  y = column_or_1d(y, warn=True)\n",
      "/Users/camilacollado/opt/miniconda3/envs/myenv/lib/python3.9/site-packages/sklearn/utils/validation.py:993: DataConversionWarning: A column-vector y was passed when a 1d array was expected. Please change the shape of y to (n_samples, ), for example using ravel().\n",
      "  y = column_or_1d(y, warn=True)\n",
      "/Users/camilacollado/opt/miniconda3/envs/myenv/lib/python3.9/site-packages/sklearn/utils/validation.py:993: DataConversionWarning: A column-vector y was passed when a 1d array was expected. Please change the shape of y to (n_samples, ), for example using ravel().\n",
      "  y = column_or_1d(y, warn=True)\n",
      "/Users/camilacollado/opt/miniconda3/envs/myenv/lib/python3.9/site-packages/sklearn/utils/validation.py:993: DataConversionWarning: A column-vector y was passed when a 1d array was expected. Please change the shape of y to (n_samples, ), for example using ravel().\n",
      "  y = column_or_1d(y, warn=True)\n",
      "/Users/camilacollado/opt/miniconda3/envs/myenv/lib/python3.9/site-packages/sklearn/utils/validation.py:993: DataConversionWarning: A column-vector y was passed when a 1d array was expected. Please change the shape of y to (n_samples, ), for example using ravel().\n",
      "  y = column_or_1d(y, warn=True)\n",
      "/Users/camilacollado/opt/miniconda3/envs/myenv/lib/python3.9/site-packages/sklearn/utils/validation.py:993: DataConversionWarning: A column-vector y was passed when a 1d array was expected. Please change the shape of y to (n_samples, ), for example using ravel().\n",
      "  y = column_or_1d(y, warn=True)\n",
      "/Users/camilacollado/opt/miniconda3/envs/myenv/lib/python3.9/site-packages/sklearn/utils/validation.py:993: DataConversionWarning: A column-vector y was passed when a 1d array was expected. Please change the shape of y to (n_samples, ), for example using ravel().\n",
      "  y = column_or_1d(y, warn=True)\n",
      "/Users/camilacollado/opt/miniconda3/envs/myenv/lib/python3.9/site-packages/sklearn/utils/validation.py:993: DataConversionWarning: A column-vector y was passed when a 1d array was expected. Please change the shape of y to (n_samples, ), for example using ravel().\n",
      "  y = column_or_1d(y, warn=True)\n",
      "/Users/camilacollado/opt/miniconda3/envs/myenv/lib/python3.9/site-packages/sklearn/utils/validation.py:993: DataConversionWarning: A column-vector y was passed when a 1d array was expected. Please change the shape of y to (n_samples, ), for example using ravel().\n",
      "  y = column_or_1d(y, warn=True)\n",
      "/Users/camilacollado/opt/miniconda3/envs/myenv/lib/python3.9/site-packages/sklearn/utils/validation.py:993: DataConversionWarning: A column-vector y was passed when a 1d array was expected. Please change the shape of y to (n_samples, ), for example using ravel().\n",
      "  y = column_or_1d(y, warn=True)\n",
      "/Users/camilacollado/opt/miniconda3/envs/myenv/lib/python3.9/site-packages/sklearn/utils/validation.py:993: DataConversionWarning: A column-vector y was passed when a 1d array was expected. Please change the shape of y to (n_samples, ), for example using ravel().\n",
      "  y = column_or_1d(y, warn=True)\n",
      "/Users/camilacollado/opt/miniconda3/envs/myenv/lib/python3.9/site-packages/sklearn/utils/validation.py:993: DataConversionWarning: A column-vector y was passed when a 1d array was expected. Please change the shape of y to (n_samples, ), for example using ravel().\n",
      "  y = column_or_1d(y, warn=True)\n",
      "/Users/camilacollado/opt/miniconda3/envs/myenv/lib/python3.9/site-packages/sklearn/utils/validation.py:993: DataConversionWarning: A column-vector y was passed when a 1d array was expected. Please change the shape of y to (n_samples, ), for example using ravel().\n",
      "  y = column_or_1d(y, warn=True)\n",
      "/Users/camilacollado/opt/miniconda3/envs/myenv/lib/python3.9/site-packages/sklearn/utils/validation.py:993: DataConversionWarning: A column-vector y was passed when a 1d array was expected. Please change the shape of y to (n_samples, ), for example using ravel().\n",
      "  y = column_or_1d(y, warn=True)\n",
      "/Users/camilacollado/opt/miniconda3/envs/myenv/lib/python3.9/site-packages/sklearn/utils/validation.py:993: DataConversionWarning: A column-vector y was passed when a 1d array was expected. Please change the shape of y to (n_samples, ), for example using ravel().\n",
      "  y = column_or_1d(y, warn=True)\n",
      "/Users/camilacollado/opt/miniconda3/envs/myenv/lib/python3.9/site-packages/sklearn/utils/validation.py:993: DataConversionWarning: A column-vector y was passed when a 1d array was expected. Please change the shape of y to (n_samples, ), for example using ravel().\n",
      "  y = column_or_1d(y, warn=True)\n",
      "/Users/camilacollado/opt/miniconda3/envs/myenv/lib/python3.9/site-packages/sklearn/utils/validation.py:993: DataConversionWarning: A column-vector y was passed when a 1d array was expected. Please change the shape of y to (n_samples, ), for example using ravel().\n",
      "  y = column_or_1d(y, warn=True)\n",
      "/Users/camilacollado/opt/miniconda3/envs/myenv/lib/python3.9/site-packages/sklearn/utils/validation.py:993: DataConversionWarning: A column-vector y was passed when a 1d array was expected. Please change the shape of y to (n_samples, ), for example using ravel().\n",
      "  y = column_or_1d(y, warn=True)\n",
      "/Users/camilacollado/opt/miniconda3/envs/myenv/lib/python3.9/site-packages/sklearn/utils/validation.py:993: DataConversionWarning: A column-vector y was passed when a 1d array was expected. Please change the shape of y to (n_samples, ), for example using ravel().\n",
      "  y = column_or_1d(y, warn=True)\n",
      "/Users/camilacollado/opt/miniconda3/envs/myenv/lib/python3.9/site-packages/sklearn/utils/validation.py:993: DataConversionWarning: A column-vector y was passed when a 1d array was expected. Please change the shape of y to (n_samples, ), for example using ravel().\n",
      "  y = column_or_1d(y, warn=True)\n",
      "/Users/camilacollado/opt/miniconda3/envs/myenv/lib/python3.9/site-packages/sklearn/utils/validation.py:993: DataConversionWarning: A column-vector y was passed when a 1d array was expected. Please change the shape of y to (n_samples, ), for example using ravel().\n",
      "  y = column_or_1d(y, warn=True)\n",
      "/Users/camilacollado/opt/miniconda3/envs/myenv/lib/python3.9/site-packages/sklearn/utils/validation.py:993: DataConversionWarning: A column-vector y was passed when a 1d array was expected. Please change the shape of y to (n_samples, ), for example using ravel().\n",
      "  y = column_or_1d(y, warn=True)\n",
      "/Users/camilacollado/opt/miniconda3/envs/myenv/lib/python3.9/site-packages/sklearn/utils/validation.py:993: DataConversionWarning: A column-vector y was passed when a 1d array was expected. Please change the shape of y to (n_samples, ), for example using ravel().\n",
      "  y = column_or_1d(y, warn=True)\n",
      "/Users/camilacollado/opt/miniconda3/envs/myenv/lib/python3.9/site-packages/sklearn/utils/validation.py:993: DataConversionWarning: A column-vector y was passed when a 1d array was expected. Please change the shape of y to (n_samples, ), for example using ravel().\n",
      "  y = column_or_1d(y, warn=True)\n",
      "/Users/camilacollado/opt/miniconda3/envs/myenv/lib/python3.9/site-packages/sklearn/utils/validation.py:993: DataConversionWarning: A column-vector y was passed when a 1d array was expected. Please change the shape of y to (n_samples, ), for example using ravel().\n",
      "  y = column_or_1d(y, warn=True)\n",
      "/Users/camilacollado/opt/miniconda3/envs/myenv/lib/python3.9/site-packages/sklearn/utils/validation.py:993: DataConversionWarning: A column-vector y was passed when a 1d array was expected. Please change the shape of y to (n_samples, ), for example using ravel().\n",
      "  y = column_or_1d(y, warn=True)\n",
      "/Users/camilacollado/opt/miniconda3/envs/myenv/lib/python3.9/site-packages/sklearn/utils/validation.py:993: DataConversionWarning: A column-vector y was passed when a 1d array was expected. Please change the shape of y to (n_samples, ), for example using ravel().\n",
      "  y = column_or_1d(y, warn=True)\n",
      "/Users/camilacollado/opt/miniconda3/envs/myenv/lib/python3.9/site-packages/sklearn/utils/validation.py:993: DataConversionWarning: A column-vector y was passed when a 1d array was expected. Please change the shape of y to (n_samples, ), for example using ravel().\n",
      "  y = column_or_1d(y, warn=True)\n",
      "/Users/camilacollado/opt/miniconda3/envs/myenv/lib/python3.9/site-packages/sklearn/utils/validation.py:993: DataConversionWarning: A column-vector y was passed when a 1d array was expected. Please change the shape of y to (n_samples, ), for example using ravel().\n",
      "  y = column_or_1d(y, warn=True)\n",
      "/Users/camilacollado/opt/miniconda3/envs/myenv/lib/python3.9/site-packages/sklearn/utils/validation.py:993: DataConversionWarning: A column-vector y was passed when a 1d array was expected. Please change the shape of y to (n_samples, ), for example using ravel().\n",
      "  y = column_or_1d(y, warn=True)\n",
      "/Users/camilacollado/opt/miniconda3/envs/myenv/lib/python3.9/site-packages/sklearn/utils/validation.py:993: DataConversionWarning: A column-vector y was passed when a 1d array was expected. Please change the shape of y to (n_samples, ), for example using ravel().\n",
      "  y = column_or_1d(y, warn=True)\n",
      "/Users/camilacollado/opt/miniconda3/envs/myenv/lib/python3.9/site-packages/sklearn/utils/validation.py:993: DataConversionWarning: A column-vector y was passed when a 1d array was expected. Please change the shape of y to (n_samples, ), for example using ravel().\n",
      "  y = column_or_1d(y, warn=True)\n",
      "/Users/camilacollado/opt/miniconda3/envs/myenv/lib/python3.9/site-packages/sklearn/utils/validation.py:993: DataConversionWarning: A column-vector y was passed when a 1d array was expected. Please change the shape of y to (n_samples, ), for example using ravel().\n",
      "  y = column_or_1d(y, warn=True)\n",
      "/Users/camilacollado/opt/miniconda3/envs/myenv/lib/python3.9/site-packages/sklearn/utils/validation.py:993: DataConversionWarning: A column-vector y was passed when a 1d array was expected. Please change the shape of y to (n_samples, ), for example using ravel().\n",
      "  y = column_or_1d(y, warn=True)\n",
      "/Users/camilacollado/opt/miniconda3/envs/myenv/lib/python3.9/site-packages/sklearn/utils/validation.py:993: DataConversionWarning: A column-vector y was passed when a 1d array was expected. Please change the shape of y to (n_samples, ), for example using ravel().\n",
      "  y = column_or_1d(y, warn=True)\n",
      "/Users/camilacollado/opt/miniconda3/envs/myenv/lib/python3.9/site-packages/sklearn/utils/validation.py:993: DataConversionWarning: A column-vector y was passed when a 1d array was expected. Please change the shape of y to (n_samples, ), for example using ravel().\n",
      "  y = column_or_1d(y, warn=True)\n",
      "/Users/camilacollado/opt/miniconda3/envs/myenv/lib/python3.9/site-packages/sklearn/utils/validation.py:993: DataConversionWarning: A column-vector y was passed when a 1d array was expected. Please change the shape of y to (n_samples, ), for example using ravel().\n",
      "  y = column_or_1d(y, warn=True)\n",
      "/Users/camilacollado/opt/miniconda3/envs/myenv/lib/python3.9/site-packages/sklearn/utils/validation.py:993: DataConversionWarning: A column-vector y was passed when a 1d array was expected. Please change the shape of y to (n_samples, ), for example using ravel().\n",
      "  y = column_or_1d(y, warn=True)\n",
      "/Users/camilacollado/opt/miniconda3/envs/myenv/lib/python3.9/site-packages/sklearn/utils/validation.py:993: DataConversionWarning: A column-vector y was passed when a 1d array was expected. Please change the shape of y to (n_samples, ), for example using ravel().\n",
      "  y = column_or_1d(y, warn=True)\n",
      "/Users/camilacollado/opt/miniconda3/envs/myenv/lib/python3.9/site-packages/sklearn/utils/validation.py:993: DataConversionWarning: A column-vector y was passed when a 1d array was expected. Please change the shape of y to (n_samples, ), for example using ravel().\n",
      "  y = column_or_1d(y, warn=True)\n",
      "/Users/camilacollado/opt/miniconda3/envs/myenv/lib/python3.9/site-packages/sklearn/utils/validation.py:993: DataConversionWarning: A column-vector y was passed when a 1d array was expected. Please change the shape of y to (n_samples, ), for example using ravel().\n",
      "  y = column_or_1d(y, warn=True)\n",
      "/Users/camilacollado/opt/miniconda3/envs/myenv/lib/python3.9/site-packages/sklearn/utils/validation.py:993: DataConversionWarning: A column-vector y was passed when a 1d array was expected. Please change the shape of y to (n_samples, ), for example using ravel().\n",
      "  y = column_or_1d(y, warn=True)\n",
      "/Users/camilacollado/opt/miniconda3/envs/myenv/lib/python3.9/site-packages/sklearn/utils/validation.py:993: DataConversionWarning: A column-vector y was passed when a 1d array was expected. Please change the shape of y to (n_samples, ), for example using ravel().\n",
      "  y = column_or_1d(y, warn=True)\n",
      "/Users/camilacollado/opt/miniconda3/envs/myenv/lib/python3.9/site-packages/sklearn/utils/validation.py:993: DataConversionWarning: A column-vector y was passed when a 1d array was expected. Please change the shape of y to (n_samples, ), for example using ravel().\n",
      "  y = column_or_1d(y, warn=True)\n",
      "/Users/camilacollado/opt/miniconda3/envs/myenv/lib/python3.9/site-packages/sklearn/utils/validation.py:993: DataConversionWarning: A column-vector y was passed when a 1d array was expected. Please change the shape of y to (n_samples, ), for example using ravel().\n",
      "  y = column_or_1d(y, warn=True)\n",
      "/Users/camilacollado/opt/miniconda3/envs/myenv/lib/python3.9/site-packages/sklearn/utils/validation.py:993: DataConversionWarning: A column-vector y was passed when a 1d array was expected. Please change the shape of y to (n_samples, ), for example using ravel().\n",
      "  y = column_or_1d(y, warn=True)\n",
      "/Users/camilacollado/opt/miniconda3/envs/myenv/lib/python3.9/site-packages/sklearn/utils/validation.py:993: DataConversionWarning: A column-vector y was passed when a 1d array was expected. Please change the shape of y to (n_samples, ), for example using ravel().\n",
      "  y = column_or_1d(y, warn=True)\n",
      "/Users/camilacollado/opt/miniconda3/envs/myenv/lib/python3.9/site-packages/sklearn/utils/validation.py:993: DataConversionWarning: A column-vector y was passed when a 1d array was expected. Please change the shape of y to (n_samples, ), for example using ravel().\n",
      "  y = column_or_1d(y, warn=True)\n",
      "/Users/camilacollado/opt/miniconda3/envs/myenv/lib/python3.9/site-packages/sklearn/utils/validation.py:993: DataConversionWarning: A column-vector y was passed when a 1d array was expected. Please change the shape of y to (n_samples, ), for example using ravel().\n",
      "  y = column_or_1d(y, warn=True)\n",
      "/Users/camilacollado/opt/miniconda3/envs/myenv/lib/python3.9/site-packages/sklearn/utils/validation.py:993: DataConversionWarning: A column-vector y was passed when a 1d array was expected. Please change the shape of y to (n_samples, ), for example using ravel().\n",
      "  y = column_or_1d(y, warn=True)\n",
      "/Users/camilacollado/opt/miniconda3/envs/myenv/lib/python3.9/site-packages/sklearn/utils/validation.py:993: DataConversionWarning: A column-vector y was passed when a 1d array was expected. Please change the shape of y to (n_samples, ), for example using ravel().\n",
      "  y = column_or_1d(y, warn=True)\n",
      "/Users/camilacollado/opt/miniconda3/envs/myenv/lib/python3.9/site-packages/sklearn/utils/validation.py:993: DataConversionWarning: A column-vector y was passed when a 1d array was expected. Please change the shape of y to (n_samples, ), for example using ravel().\n",
      "  y = column_or_1d(y, warn=True)\n",
      "/Users/camilacollado/opt/miniconda3/envs/myenv/lib/python3.9/site-packages/sklearn/utils/validation.py:993: DataConversionWarning: A column-vector y was passed when a 1d array was expected. Please change the shape of y to (n_samples, ), for example using ravel().\n",
      "  y = column_or_1d(y, warn=True)\n",
      "/Users/camilacollado/opt/miniconda3/envs/myenv/lib/python3.9/site-packages/sklearn/utils/validation.py:993: DataConversionWarning: A column-vector y was passed when a 1d array was expected. Please change the shape of y to (n_samples, ), for example using ravel().\n",
      "  y = column_or_1d(y, warn=True)\n",
      "/Users/camilacollado/opt/miniconda3/envs/myenv/lib/python3.9/site-packages/sklearn/utils/validation.py:993: DataConversionWarning: A column-vector y was passed when a 1d array was expected. Please change the shape of y to (n_samples, ), for example using ravel().\n",
      "  y = column_or_1d(y, warn=True)\n",
      "/Users/camilacollado/opt/miniconda3/envs/myenv/lib/python3.9/site-packages/sklearn/utils/validation.py:993: DataConversionWarning: A column-vector y was passed when a 1d array was expected. Please change the shape of y to (n_samples, ), for example using ravel().\n",
      "  y = column_or_1d(y, warn=True)\n",
      "/Users/camilacollado/opt/miniconda3/envs/myenv/lib/python3.9/site-packages/sklearn/utils/validation.py:993: DataConversionWarning: A column-vector y was passed when a 1d array was expected. Please change the shape of y to (n_samples, ), for example using ravel().\n",
      "  y = column_or_1d(y, warn=True)\n",
      "/Users/camilacollado/opt/miniconda3/envs/myenv/lib/python3.9/site-packages/sklearn/utils/validation.py:993: DataConversionWarning: A column-vector y was passed when a 1d array was expected. Please change the shape of y to (n_samples, ), for example using ravel().\n",
      "  y = column_or_1d(y, warn=True)\n",
      "/Users/camilacollado/opt/miniconda3/envs/myenv/lib/python3.9/site-packages/sklearn/utils/validation.py:993: DataConversionWarning: A column-vector y was passed when a 1d array was expected. Please change the shape of y to (n_samples, ), for example using ravel().\n",
      "  y = column_or_1d(y, warn=True)\n",
      "/Users/camilacollado/opt/miniconda3/envs/myenv/lib/python3.9/site-packages/sklearn/utils/validation.py:993: DataConversionWarning: A column-vector y was passed when a 1d array was expected. Please change the shape of y to (n_samples, ), for example using ravel().\n",
      "  y = column_or_1d(y, warn=True)\n",
      "/Users/camilacollado/opt/miniconda3/envs/myenv/lib/python3.9/site-packages/sklearn/utils/validation.py:993: DataConversionWarning: A column-vector y was passed when a 1d array was expected. Please change the shape of y to (n_samples, ), for example using ravel().\n",
      "  y = column_or_1d(y, warn=True)\n",
      "/Users/camilacollado/opt/miniconda3/envs/myenv/lib/python3.9/site-packages/sklearn/utils/validation.py:993: DataConversionWarning: A column-vector y was passed when a 1d array was expected. Please change the shape of y to (n_samples, ), for example using ravel().\n",
      "  y = column_or_1d(y, warn=True)\n",
      "/Users/camilacollado/opt/miniconda3/envs/myenv/lib/python3.9/site-packages/sklearn/utils/validation.py:993: DataConversionWarning: A column-vector y was passed when a 1d array was expected. Please change the shape of y to (n_samples, ), for example using ravel().\n",
      "  y = column_or_1d(y, warn=True)\n",
      "/Users/camilacollado/opt/miniconda3/envs/myenv/lib/python3.9/site-packages/sklearn/utils/validation.py:993: DataConversionWarning: A column-vector y was passed when a 1d array was expected. Please change the shape of y to (n_samples, ), for example using ravel().\n",
      "  y = column_or_1d(y, warn=True)\n",
      "/Users/camilacollado/opt/miniconda3/envs/myenv/lib/python3.9/site-packages/sklearn/utils/validation.py:993: DataConversionWarning: A column-vector y was passed when a 1d array was expected. Please change the shape of y to (n_samples, ), for example using ravel().\n",
      "  y = column_or_1d(y, warn=True)\n",
      "/Users/camilacollado/opt/miniconda3/envs/myenv/lib/python3.9/site-packages/sklearn/utils/validation.py:993: DataConversionWarning: A column-vector y was passed when a 1d array was expected. Please change the shape of y to (n_samples, ), for example using ravel().\n",
      "  y = column_or_1d(y, warn=True)\n",
      "/Users/camilacollado/opt/miniconda3/envs/myenv/lib/python3.9/site-packages/sklearn/utils/validation.py:993: DataConversionWarning: A column-vector y was passed when a 1d array was expected. Please change the shape of y to (n_samples, ), for example using ravel().\n",
      "  y = column_or_1d(y, warn=True)\n",
      "/Users/camilacollado/opt/miniconda3/envs/myenv/lib/python3.9/site-packages/sklearn/utils/validation.py:993: DataConversionWarning: A column-vector y was passed when a 1d array was expected. Please change the shape of y to (n_samples, ), for example using ravel().\n",
      "  y = column_or_1d(y, warn=True)\n",
      "/Users/camilacollado/opt/miniconda3/envs/myenv/lib/python3.9/site-packages/sklearn/utils/validation.py:993: DataConversionWarning: A column-vector y was passed when a 1d array was expected. Please change the shape of y to (n_samples, ), for example using ravel().\n",
      "  y = column_or_1d(y, warn=True)\n",
      "/Users/camilacollado/opt/miniconda3/envs/myenv/lib/python3.9/site-packages/sklearn/utils/validation.py:993: DataConversionWarning: A column-vector y was passed when a 1d array was expected. Please change the shape of y to (n_samples, ), for example using ravel().\n",
      "  y = column_or_1d(y, warn=True)\n",
      "/Users/camilacollado/opt/miniconda3/envs/myenv/lib/python3.9/site-packages/sklearn/utils/validation.py:993: DataConversionWarning: A column-vector y was passed when a 1d array was expected. Please change the shape of y to (n_samples, ), for example using ravel().\n",
      "  y = column_or_1d(y, warn=True)\n",
      "/Users/camilacollado/opt/miniconda3/envs/myenv/lib/python3.9/site-packages/sklearn/utils/validation.py:993: DataConversionWarning: A column-vector y was passed when a 1d array was expected. Please change the shape of y to (n_samples, ), for example using ravel().\n",
      "  y = column_or_1d(y, warn=True)\n",
      "/Users/camilacollado/opt/miniconda3/envs/myenv/lib/python3.9/site-packages/sklearn/utils/validation.py:993: DataConversionWarning: A column-vector y was passed when a 1d array was expected. Please change the shape of y to (n_samples, ), for example using ravel().\n",
      "  y = column_or_1d(y, warn=True)\n",
      "/Users/camilacollado/opt/miniconda3/envs/myenv/lib/python3.9/site-packages/sklearn/utils/validation.py:993: DataConversionWarning: A column-vector y was passed when a 1d array was expected. Please change the shape of y to (n_samples, ), for example using ravel().\n",
      "  y = column_or_1d(y, warn=True)\n",
      "/Users/camilacollado/opt/miniconda3/envs/myenv/lib/python3.9/site-packages/sklearn/utils/validation.py:993: DataConversionWarning: A column-vector y was passed when a 1d array was expected. Please change the shape of y to (n_samples, ), for example using ravel().\n",
      "  y = column_or_1d(y, warn=True)\n",
      "/Users/camilacollado/opt/miniconda3/envs/myenv/lib/python3.9/site-packages/sklearn/utils/validation.py:993: DataConversionWarning: A column-vector y was passed when a 1d array was expected. Please change the shape of y to (n_samples, ), for example using ravel().\n",
      "  y = column_or_1d(y, warn=True)\n",
      "/Users/camilacollado/opt/miniconda3/envs/myenv/lib/python3.9/site-packages/sklearn/utils/validation.py:993: DataConversionWarning: A column-vector y was passed when a 1d array was expected. Please change the shape of y to (n_samples, ), for example using ravel().\n",
      "  y = column_or_1d(y, warn=True)\n",
      "/Users/camilacollado/opt/miniconda3/envs/myenv/lib/python3.9/site-packages/sklearn/utils/validation.py:993: DataConversionWarning: A column-vector y was passed when a 1d array was expected. Please change the shape of y to (n_samples, ), for example using ravel().\n",
      "  y = column_or_1d(y, warn=True)\n",
      "/Users/camilacollado/opt/miniconda3/envs/myenv/lib/python3.9/site-packages/sklearn/utils/validation.py:993: DataConversionWarning: A column-vector y was passed when a 1d array was expected. Please change the shape of y to (n_samples, ), for example using ravel().\n",
      "  y = column_or_1d(y, warn=True)\n",
      "/Users/camilacollado/opt/miniconda3/envs/myenv/lib/python3.9/site-packages/sklearn/utils/validation.py:993: DataConversionWarning: A column-vector y was passed when a 1d array was expected. Please change the shape of y to (n_samples, ), for example using ravel().\n",
      "  y = column_or_1d(y, warn=True)\n",
      "/Users/camilacollado/opt/miniconda3/envs/myenv/lib/python3.9/site-packages/sklearn/utils/validation.py:993: DataConversionWarning: A column-vector y was passed when a 1d array was expected. Please change the shape of y to (n_samples, ), for example using ravel().\n",
      "  y = column_or_1d(y, warn=True)\n",
      "/Users/camilacollado/opt/miniconda3/envs/myenv/lib/python3.9/site-packages/sklearn/utils/validation.py:993: DataConversionWarning: A column-vector y was passed when a 1d array was expected. Please change the shape of y to (n_samples, ), for example using ravel().\n",
      "  y = column_or_1d(y, warn=True)\n",
      "/Users/camilacollado/opt/miniconda3/envs/myenv/lib/python3.9/site-packages/sklearn/utils/validation.py:993: DataConversionWarning: A column-vector y was passed when a 1d array was expected. Please change the shape of y to (n_samples, ), for example using ravel().\n",
      "  y = column_or_1d(y, warn=True)\n",
      "/Users/camilacollado/opt/miniconda3/envs/myenv/lib/python3.9/site-packages/sklearn/utils/validation.py:993: DataConversionWarning: A column-vector y was passed when a 1d array was expected. Please change the shape of y to (n_samples, ), for example using ravel().\n",
      "  y = column_or_1d(y, warn=True)\n",
      "/Users/camilacollado/opt/miniconda3/envs/myenv/lib/python3.9/site-packages/sklearn/utils/validation.py:993: DataConversionWarning: A column-vector y was passed when a 1d array was expected. Please change the shape of y to (n_samples, ), for example using ravel().\n",
      "  y = column_or_1d(y, warn=True)\n",
      "/Users/camilacollado/opt/miniconda3/envs/myenv/lib/python3.9/site-packages/sklearn/utils/validation.py:993: DataConversionWarning: A column-vector y was passed when a 1d array was expected. Please change the shape of y to (n_samples, ), for example using ravel().\n",
      "  y = column_or_1d(y, warn=True)\n",
      "/Users/camilacollado/opt/miniconda3/envs/myenv/lib/python3.9/site-packages/sklearn/utils/validation.py:993: DataConversionWarning: A column-vector y was passed when a 1d array was expected. Please change the shape of y to (n_samples, ), for example using ravel().\n",
      "  y = column_or_1d(y, warn=True)\n",
      "/Users/camilacollado/opt/miniconda3/envs/myenv/lib/python3.9/site-packages/sklearn/utils/validation.py:993: DataConversionWarning: A column-vector y was passed when a 1d array was expected. Please change the shape of y to (n_samples, ), for example using ravel().\n",
      "  y = column_or_1d(y, warn=True)\n",
      "/Users/camilacollado/opt/miniconda3/envs/myenv/lib/python3.9/site-packages/sklearn/utils/validation.py:993: DataConversionWarning: A column-vector y was passed when a 1d array was expected. Please change the shape of y to (n_samples, ), for example using ravel().\n",
      "  y = column_or_1d(y, warn=True)\n",
      "/Users/camilacollado/opt/miniconda3/envs/myenv/lib/python3.9/site-packages/sklearn/utils/validation.py:993: DataConversionWarning: A column-vector y was passed when a 1d array was expected. Please change the shape of y to (n_samples, ), for example using ravel().\n",
      "  y = column_or_1d(y, warn=True)\n",
      "/Users/camilacollado/opt/miniconda3/envs/myenv/lib/python3.9/site-packages/sklearn/utils/validation.py:993: DataConversionWarning: A column-vector y was passed when a 1d array was expected. Please change the shape of y to (n_samples, ), for example using ravel().\n",
      "  y = column_or_1d(y, warn=True)\n",
      "/Users/camilacollado/opt/miniconda3/envs/myenv/lib/python3.9/site-packages/sklearn/utils/validation.py:993: DataConversionWarning: A column-vector y was passed when a 1d array was expected. Please change the shape of y to (n_samples, ), for example using ravel().\n",
      "  y = column_or_1d(y, warn=True)\n",
      "/Users/camilacollado/opt/miniconda3/envs/myenv/lib/python3.9/site-packages/sklearn/utils/validation.py:993: DataConversionWarning: A column-vector y was passed when a 1d array was expected. Please change the shape of y to (n_samples, ), for example using ravel().\n",
      "  y = column_or_1d(y, warn=True)\n",
      "/Users/camilacollado/opt/miniconda3/envs/myenv/lib/python3.9/site-packages/sklearn/utils/validation.py:993: DataConversionWarning: A column-vector y was passed when a 1d array was expected. Please change the shape of y to (n_samples, ), for example using ravel().\n",
      "  y = column_or_1d(y, warn=True)\n",
      "/Users/camilacollado/opt/miniconda3/envs/myenv/lib/python3.9/site-packages/sklearn/utils/validation.py:993: DataConversionWarning: A column-vector y was passed when a 1d array was expected. Please change the shape of y to (n_samples, ), for example using ravel().\n",
      "  y = column_or_1d(y, warn=True)\n",
      "/Users/camilacollado/opt/miniconda3/envs/myenv/lib/python3.9/site-packages/sklearn/utils/validation.py:993: DataConversionWarning: A column-vector y was passed when a 1d array was expected. Please change the shape of y to (n_samples, ), for example using ravel().\n",
      "  y = column_or_1d(y, warn=True)\n",
      "/Users/camilacollado/opt/miniconda3/envs/myenv/lib/python3.9/site-packages/sklearn/utils/validation.py:993: DataConversionWarning: A column-vector y was passed when a 1d array was expected. Please change the shape of y to (n_samples, ), for example using ravel().\n",
      "  y = column_or_1d(y, warn=True)\n",
      "/Users/camilacollado/opt/miniconda3/envs/myenv/lib/python3.9/site-packages/sklearn/utils/validation.py:993: DataConversionWarning: A column-vector y was passed when a 1d array was expected. Please change the shape of y to (n_samples, ), for example using ravel().\n",
      "  y = column_or_1d(y, warn=True)\n",
      "/Users/camilacollado/opt/miniconda3/envs/myenv/lib/python3.9/site-packages/sklearn/utils/validation.py:993: DataConversionWarning: A column-vector y was passed when a 1d array was expected. Please change the shape of y to (n_samples, ), for example using ravel().\n",
      "  y = column_or_1d(y, warn=True)\n",
      "/Users/camilacollado/opt/miniconda3/envs/myenv/lib/python3.9/site-packages/sklearn/utils/validation.py:993: DataConversionWarning: A column-vector y was passed when a 1d array was expected. Please change the shape of y to (n_samples, ), for example using ravel().\n",
      "  y = column_or_1d(y, warn=True)\n",
      "/Users/camilacollado/opt/miniconda3/envs/myenv/lib/python3.9/site-packages/sklearn/utils/validation.py:993: DataConversionWarning: A column-vector y was passed when a 1d array was expected. Please change the shape of y to (n_samples, ), for example using ravel().\n",
      "  y = column_or_1d(y, warn=True)\n",
      "/Users/camilacollado/opt/miniconda3/envs/myenv/lib/python3.9/site-packages/sklearn/utils/validation.py:993: DataConversionWarning: A column-vector y was passed when a 1d array was expected. Please change the shape of y to (n_samples, ), for example using ravel().\n",
      "  y = column_or_1d(y, warn=True)\n",
      "/Users/camilacollado/opt/miniconda3/envs/myenv/lib/python3.9/site-packages/sklearn/utils/validation.py:993: DataConversionWarning: A column-vector y was passed when a 1d array was expected. Please change the shape of y to (n_samples, ), for example using ravel().\n",
      "  y = column_or_1d(y, warn=True)\n",
      "/Users/camilacollado/opt/miniconda3/envs/myenv/lib/python3.9/site-packages/sklearn/utils/validation.py:993: DataConversionWarning: A column-vector y was passed when a 1d array was expected. Please change the shape of y to (n_samples, ), for example using ravel().\n",
      "  y = column_or_1d(y, warn=True)\n",
      "/Users/camilacollado/opt/miniconda3/envs/myenv/lib/python3.9/site-packages/sklearn/utils/validation.py:993: DataConversionWarning: A column-vector y was passed when a 1d array was expected. Please change the shape of y to (n_samples, ), for example using ravel().\n",
      "  y = column_or_1d(y, warn=True)\n",
      "/Users/camilacollado/opt/miniconda3/envs/myenv/lib/python3.9/site-packages/sklearn/utils/validation.py:993: DataConversionWarning: A column-vector y was passed when a 1d array was expected. Please change the shape of y to (n_samples, ), for example using ravel().\n",
      "  y = column_or_1d(y, warn=True)\n",
      "/Users/camilacollado/opt/miniconda3/envs/myenv/lib/python3.9/site-packages/sklearn/utils/validation.py:993: DataConversionWarning: A column-vector y was passed when a 1d array was expected. Please change the shape of y to (n_samples, ), for example using ravel().\n",
      "  y = column_or_1d(y, warn=True)\n",
      "/Users/camilacollado/opt/miniconda3/envs/myenv/lib/python3.9/site-packages/sklearn/utils/validation.py:993: DataConversionWarning: A column-vector y was passed when a 1d array was expected. Please change the shape of y to (n_samples, ), for example using ravel().\n",
      "  y = column_or_1d(y, warn=True)\n",
      "/Users/camilacollado/opt/miniconda3/envs/myenv/lib/python3.9/site-packages/sklearn/utils/validation.py:993: DataConversionWarning: A column-vector y was passed when a 1d array was expected. Please change the shape of y to (n_samples, ), for example using ravel().\n",
      "  y = column_or_1d(y, warn=True)\n",
      "/Users/camilacollado/opt/miniconda3/envs/myenv/lib/python3.9/site-packages/sklearn/utils/validation.py:993: DataConversionWarning: A column-vector y was passed when a 1d array was expected. Please change the shape of y to (n_samples, ), for example using ravel().\n",
      "  y = column_or_1d(y, warn=True)\n",
      "/Users/camilacollado/opt/miniconda3/envs/myenv/lib/python3.9/site-packages/sklearn/utils/validation.py:993: DataConversionWarning: A column-vector y was passed when a 1d array was expected. Please change the shape of y to (n_samples, ), for example using ravel().\n",
      "  y = column_or_1d(y, warn=True)\n",
      "/Users/camilacollado/opt/miniconda3/envs/myenv/lib/python3.9/site-packages/sklearn/utils/validation.py:993: DataConversionWarning: A column-vector y was passed when a 1d array was expected. Please change the shape of y to (n_samples, ), for example using ravel().\n",
      "  y = column_or_1d(y, warn=True)\n",
      "/Users/camilacollado/opt/miniconda3/envs/myenv/lib/python3.9/site-packages/sklearn/utils/validation.py:993: DataConversionWarning: A column-vector y was passed when a 1d array was expected. Please change the shape of y to (n_samples, ), for example using ravel().\n",
      "  y = column_or_1d(y, warn=True)\n",
      "/Users/camilacollado/opt/miniconda3/envs/myenv/lib/python3.9/site-packages/sklearn/utils/validation.py:993: DataConversionWarning: A column-vector y was passed when a 1d array was expected. Please change the shape of y to (n_samples, ), for example using ravel().\n",
      "  y = column_or_1d(y, warn=True)\n",
      "/Users/camilacollado/opt/miniconda3/envs/myenv/lib/python3.9/site-packages/sklearn/utils/validation.py:993: DataConversionWarning: A column-vector y was passed when a 1d array was expected. Please change the shape of y to (n_samples, ), for example using ravel().\n",
      "  y = column_or_1d(y, warn=True)\n",
      "/Users/camilacollado/opt/miniconda3/envs/myenv/lib/python3.9/site-packages/sklearn/utils/validation.py:993: DataConversionWarning: A column-vector y was passed when a 1d array was expected. Please change the shape of y to (n_samples, ), for example using ravel().\n",
      "  y = column_or_1d(y, warn=True)\n",
      "/Users/camilacollado/opt/miniconda3/envs/myenv/lib/python3.9/site-packages/sklearn/utils/validation.py:993: DataConversionWarning: A column-vector y was passed when a 1d array was expected. Please change the shape of y to (n_samples, ), for example using ravel().\n",
      "  y = column_or_1d(y, warn=True)\n",
      "/Users/camilacollado/opt/miniconda3/envs/myenv/lib/python3.9/site-packages/sklearn/utils/validation.py:993: DataConversionWarning: A column-vector y was passed when a 1d array was expected. Please change the shape of y to (n_samples, ), for example using ravel().\n",
      "  y = column_or_1d(y, warn=True)\n",
      "/Users/camilacollado/opt/miniconda3/envs/myenv/lib/python3.9/site-packages/sklearn/utils/validation.py:993: DataConversionWarning: A column-vector y was passed when a 1d array was expected. Please change the shape of y to (n_samples, ), for example using ravel().\n",
      "  y = column_or_1d(y, warn=True)\n",
      "/Users/camilacollado/opt/miniconda3/envs/myenv/lib/python3.9/site-packages/sklearn/utils/validation.py:993: DataConversionWarning: A column-vector y was passed when a 1d array was expected. Please change the shape of y to (n_samples, ), for example using ravel().\n",
      "  y = column_or_1d(y, warn=True)\n",
      "/Users/camilacollado/opt/miniconda3/envs/myenv/lib/python3.9/site-packages/sklearn/utils/validation.py:993: DataConversionWarning: A column-vector y was passed when a 1d array was expected. Please change the shape of y to (n_samples, ), for example using ravel().\n",
      "  y = column_or_1d(y, warn=True)\n",
      "/Users/camilacollado/opt/miniconda3/envs/myenv/lib/python3.9/site-packages/sklearn/utils/validation.py:993: DataConversionWarning: A column-vector y was passed when a 1d array was expected. Please change the shape of y to (n_samples, ), for example using ravel().\n",
      "  y = column_or_1d(y, warn=True)\n",
      "/Users/camilacollado/opt/miniconda3/envs/myenv/lib/python3.9/site-packages/sklearn/utils/validation.py:993: DataConversionWarning: A column-vector y was passed when a 1d array was expected. Please change the shape of y to (n_samples, ), for example using ravel().\n",
      "  y = column_or_1d(y, warn=True)\n",
      "/Users/camilacollado/opt/miniconda3/envs/myenv/lib/python3.9/site-packages/sklearn/utils/validation.py:993: DataConversionWarning: A column-vector y was passed when a 1d array was expected. Please change the shape of y to (n_samples, ), for example using ravel().\n",
      "  y = column_or_1d(y, warn=True)\n",
      "/Users/camilacollado/opt/miniconda3/envs/myenv/lib/python3.9/site-packages/sklearn/utils/validation.py:993: DataConversionWarning: A column-vector y was passed when a 1d array was expected. Please change the shape of y to (n_samples, ), for example using ravel().\n",
      "  y = column_or_1d(y, warn=True)\n",
      "/Users/camilacollado/opt/miniconda3/envs/myenv/lib/python3.9/site-packages/sklearn/utils/validation.py:993: DataConversionWarning: A column-vector y was passed when a 1d array was expected. Please change the shape of y to (n_samples, ), for example using ravel().\n",
      "  y = column_or_1d(y, warn=True)\n",
      "/Users/camilacollado/opt/miniconda3/envs/myenv/lib/python3.9/site-packages/sklearn/utils/validation.py:993: DataConversionWarning: A column-vector y was passed when a 1d array was expected. Please change the shape of y to (n_samples, ), for example using ravel().\n",
      "  y = column_or_1d(y, warn=True)\n",
      "/Users/camilacollado/opt/miniconda3/envs/myenv/lib/python3.9/site-packages/sklearn/utils/validation.py:993: DataConversionWarning: A column-vector y was passed when a 1d array was expected. Please change the shape of y to (n_samples, ), for example using ravel().\n",
      "  y = column_or_1d(y, warn=True)\n",
      "/Users/camilacollado/opt/miniconda3/envs/myenv/lib/python3.9/site-packages/sklearn/utils/validation.py:993: DataConversionWarning: A column-vector y was passed when a 1d array was expected. Please change the shape of y to (n_samples, ), for example using ravel().\n",
      "  y = column_or_1d(y, warn=True)\n",
      "/Users/camilacollado/opt/miniconda3/envs/myenv/lib/python3.9/site-packages/sklearn/utils/validation.py:993: DataConversionWarning: A column-vector y was passed when a 1d array was expected. Please change the shape of y to (n_samples, ), for example using ravel().\n",
      "  y = column_or_1d(y, warn=True)\n",
      "/Users/camilacollado/opt/miniconda3/envs/myenv/lib/python3.9/site-packages/sklearn/utils/validation.py:993: DataConversionWarning: A column-vector y was passed when a 1d array was expected. Please change the shape of y to (n_samples, ), for example using ravel().\n",
      "  y = column_or_1d(y, warn=True)\n",
      "/Users/camilacollado/opt/miniconda3/envs/myenv/lib/python3.9/site-packages/sklearn/utils/validation.py:993: DataConversionWarning: A column-vector y was passed when a 1d array was expected. Please change the shape of y to (n_samples, ), for example using ravel().\n",
      "  y = column_or_1d(y, warn=True)\n",
      "/Users/camilacollado/opt/miniconda3/envs/myenv/lib/python3.9/site-packages/sklearn/utils/validation.py:993: DataConversionWarning: A column-vector y was passed when a 1d array was expected. Please change the shape of y to (n_samples, ), for example using ravel().\n",
      "  y = column_or_1d(y, warn=True)\n",
      "/Users/camilacollado/opt/miniconda3/envs/myenv/lib/python3.9/site-packages/sklearn/utils/validation.py:993: DataConversionWarning: A column-vector y was passed when a 1d array was expected. Please change the shape of y to (n_samples, ), for example using ravel().\n",
      "  y = column_or_1d(y, warn=True)\n",
      "/Users/camilacollado/opt/miniconda3/envs/myenv/lib/python3.9/site-packages/sklearn/utils/validation.py:993: DataConversionWarning: A column-vector y was passed when a 1d array was expected. Please change the shape of y to (n_samples, ), for example using ravel().\n",
      "  y = column_or_1d(y, warn=True)\n",
      "/Users/camilacollado/opt/miniconda3/envs/myenv/lib/python3.9/site-packages/sklearn/utils/validation.py:993: DataConversionWarning: A column-vector y was passed when a 1d array was expected. Please change the shape of y to (n_samples, ), for example using ravel().\n",
      "  y = column_or_1d(y, warn=True)\n",
      "/Users/camilacollado/opt/miniconda3/envs/myenv/lib/python3.9/site-packages/sklearn/utils/validation.py:993: DataConversionWarning: A column-vector y was passed when a 1d array was expected. Please change the shape of y to (n_samples, ), for example using ravel().\n",
      "  y = column_or_1d(y, warn=True)\n",
      "/Users/camilacollado/opt/miniconda3/envs/myenv/lib/python3.9/site-packages/sklearn/utils/validation.py:993: DataConversionWarning: A column-vector y was passed when a 1d array was expected. Please change the shape of y to (n_samples, ), for example using ravel().\n",
      "  y = column_or_1d(y, warn=True)\n",
      "/Users/camilacollado/opt/miniconda3/envs/myenv/lib/python3.9/site-packages/sklearn/utils/validation.py:993: DataConversionWarning: A column-vector y was passed when a 1d array was expected. Please change the shape of y to (n_samples, ), for example using ravel().\n",
      "  y = column_or_1d(y, warn=True)\n",
      "/Users/camilacollado/opt/miniconda3/envs/myenv/lib/python3.9/site-packages/sklearn/utils/validation.py:993: DataConversionWarning: A column-vector y was passed when a 1d array was expected. Please change the shape of y to (n_samples, ), for example using ravel().\n",
      "  y = column_or_1d(y, warn=True)\n",
      "/Users/camilacollado/opt/miniconda3/envs/myenv/lib/python3.9/site-packages/sklearn/utils/validation.py:993: DataConversionWarning: A column-vector y was passed when a 1d array was expected. Please change the shape of y to (n_samples, ), for example using ravel().\n",
      "  y = column_or_1d(y, warn=True)\n",
      "/Users/camilacollado/opt/miniconda3/envs/myenv/lib/python3.9/site-packages/sklearn/utils/validation.py:993: DataConversionWarning: A column-vector y was passed when a 1d array was expected. Please change the shape of y to (n_samples, ), for example using ravel().\n",
      "  y = column_or_1d(y, warn=True)\n",
      "/Users/camilacollado/opt/miniconda3/envs/myenv/lib/python3.9/site-packages/sklearn/utils/validation.py:993: DataConversionWarning: A column-vector y was passed when a 1d array was expected. Please change the shape of y to (n_samples, ), for example using ravel().\n",
      "  y = column_or_1d(y, warn=True)\n",
      "/Users/camilacollado/opt/miniconda3/envs/myenv/lib/python3.9/site-packages/sklearn/utils/validation.py:993: DataConversionWarning: A column-vector y was passed when a 1d array was expected. Please change the shape of y to (n_samples, ), for example using ravel().\n",
      "  y = column_or_1d(y, warn=True)\n",
      "/Users/camilacollado/opt/miniconda3/envs/myenv/lib/python3.9/site-packages/sklearn/utils/validation.py:993: DataConversionWarning: A column-vector y was passed when a 1d array was expected. Please change the shape of y to (n_samples, ), for example using ravel().\n",
      "  y = column_or_1d(y, warn=True)\n",
      "/Users/camilacollado/opt/miniconda3/envs/myenv/lib/python3.9/site-packages/sklearn/utils/validation.py:993: DataConversionWarning: A column-vector y was passed when a 1d array was expected. Please change the shape of y to (n_samples, ), for example using ravel().\n",
      "  y = column_or_1d(y, warn=True)\n",
      "/Users/camilacollado/opt/miniconda3/envs/myenv/lib/python3.9/site-packages/sklearn/utils/validation.py:993: DataConversionWarning: A column-vector y was passed when a 1d array was expected. Please change the shape of y to (n_samples, ), for example using ravel().\n",
      "  y = column_or_1d(y, warn=True)\n",
      "/Users/camilacollado/opt/miniconda3/envs/myenv/lib/python3.9/site-packages/sklearn/utils/validation.py:993: DataConversionWarning: A column-vector y was passed when a 1d array was expected. Please change the shape of y to (n_samples, ), for example using ravel().\n",
      "  y = column_or_1d(y, warn=True)\n",
      "/Users/camilacollado/opt/miniconda3/envs/myenv/lib/python3.9/site-packages/sklearn/utils/validation.py:993: DataConversionWarning: A column-vector y was passed when a 1d array was expected. Please change the shape of y to (n_samples, ), for example using ravel().\n",
      "  y = column_or_1d(y, warn=True)\n",
      "/Users/camilacollado/opt/miniconda3/envs/myenv/lib/python3.9/site-packages/sklearn/utils/validation.py:993: DataConversionWarning: A column-vector y was passed when a 1d array was expected. Please change the shape of y to (n_samples, ), for example using ravel().\n",
      "  y = column_or_1d(y, warn=True)\n",
      "/Users/camilacollado/opt/miniconda3/envs/myenv/lib/python3.9/site-packages/sklearn/utils/validation.py:993: DataConversionWarning: A column-vector y was passed when a 1d array was expected. Please change the shape of y to (n_samples, ), for example using ravel().\n",
      "  y = column_or_1d(y, warn=True)\n",
      "/Users/camilacollado/opt/miniconda3/envs/myenv/lib/python3.9/site-packages/sklearn/utils/validation.py:993: DataConversionWarning: A column-vector y was passed when a 1d array was expected. Please change the shape of y to (n_samples, ), for example using ravel().\n",
      "  y = column_or_1d(y, warn=True)\n",
      "/Users/camilacollado/opt/miniconda3/envs/myenv/lib/python3.9/site-packages/sklearn/utils/validation.py:993: DataConversionWarning: A column-vector y was passed when a 1d array was expected. Please change the shape of y to (n_samples, ), for example using ravel().\n",
      "  y = column_or_1d(y, warn=True)\n",
      "/Users/camilacollado/opt/miniconda3/envs/myenv/lib/python3.9/site-packages/sklearn/utils/validation.py:993: DataConversionWarning: A column-vector y was passed when a 1d array was expected. Please change the shape of y to (n_samples, ), for example using ravel().\n",
      "  y = column_or_1d(y, warn=True)\n",
      "/Users/camilacollado/opt/miniconda3/envs/myenv/lib/python3.9/site-packages/sklearn/utils/validation.py:993: DataConversionWarning: A column-vector y was passed when a 1d array was expected. Please change the shape of y to (n_samples, ), for example using ravel().\n",
      "  y = column_or_1d(y, warn=True)\n",
      "/Users/camilacollado/opt/miniconda3/envs/myenv/lib/python3.9/site-packages/sklearn/utils/validation.py:993: DataConversionWarning: A column-vector y was passed when a 1d array was expected. Please change the shape of y to (n_samples, ), for example using ravel().\n",
      "  y = column_or_1d(y, warn=True)\n",
      "/Users/camilacollado/opt/miniconda3/envs/myenv/lib/python3.9/site-packages/sklearn/utils/validation.py:993: DataConversionWarning: A column-vector y was passed when a 1d array was expected. Please change the shape of y to (n_samples, ), for example using ravel().\n",
      "  y = column_or_1d(y, warn=True)\n",
      "/Users/camilacollado/opt/miniconda3/envs/myenv/lib/python3.9/site-packages/sklearn/utils/validation.py:993: DataConversionWarning: A column-vector y was passed when a 1d array was expected. Please change the shape of y to (n_samples, ), for example using ravel().\n",
      "  y = column_or_1d(y, warn=True)\n",
      "/Users/camilacollado/opt/miniconda3/envs/myenv/lib/python3.9/site-packages/sklearn/utils/validation.py:993: DataConversionWarning: A column-vector y was passed when a 1d array was expected. Please change the shape of y to (n_samples, ), for example using ravel().\n",
      "  y = column_or_1d(y, warn=True)\n",
      "/Users/camilacollado/opt/miniconda3/envs/myenv/lib/python3.9/site-packages/sklearn/utils/validation.py:993: DataConversionWarning: A column-vector y was passed when a 1d array was expected. Please change the shape of y to (n_samples, ), for example using ravel().\n",
      "  y = column_or_1d(y, warn=True)\n",
      "/Users/camilacollado/opt/miniconda3/envs/myenv/lib/python3.9/site-packages/sklearn/utils/validation.py:993: DataConversionWarning: A column-vector y was passed when a 1d array was expected. Please change the shape of y to (n_samples, ), for example using ravel().\n",
      "  y = column_or_1d(y, warn=True)\n",
      "/Users/camilacollado/opt/miniconda3/envs/myenv/lib/python3.9/site-packages/sklearn/utils/validation.py:993: DataConversionWarning: A column-vector y was passed when a 1d array was expected. Please change the shape of y to (n_samples, ), for example using ravel().\n",
      "  y = column_or_1d(y, warn=True)\n",
      "/Users/camilacollado/opt/miniconda3/envs/myenv/lib/python3.9/site-packages/sklearn/utils/validation.py:993: DataConversionWarning: A column-vector y was passed when a 1d array was expected. Please change the shape of y to (n_samples, ), for example using ravel().\n",
      "  y = column_or_1d(y, warn=True)\n",
      "/Users/camilacollado/opt/miniconda3/envs/myenv/lib/python3.9/site-packages/sklearn/utils/validation.py:993: DataConversionWarning: A column-vector y was passed when a 1d array was expected. Please change the shape of y to (n_samples, ), for example using ravel().\n",
      "  y = column_or_1d(y, warn=True)\n",
      "/Users/camilacollado/opt/miniconda3/envs/myenv/lib/python3.9/site-packages/sklearn/utils/validation.py:993: DataConversionWarning: A column-vector y was passed when a 1d array was expected. Please change the shape of y to (n_samples, ), for example using ravel().\n",
      "  y = column_or_1d(y, warn=True)\n",
      "/Users/camilacollado/opt/miniconda3/envs/myenv/lib/python3.9/site-packages/sklearn/utils/validation.py:993: DataConversionWarning: A column-vector y was passed when a 1d array was expected. Please change the shape of y to (n_samples, ), for example using ravel().\n",
      "  y = column_or_1d(y, warn=True)\n",
      "/Users/camilacollado/opt/miniconda3/envs/myenv/lib/python3.9/site-packages/sklearn/utils/validation.py:993: DataConversionWarning: A column-vector y was passed when a 1d array was expected. Please change the shape of y to (n_samples, ), for example using ravel().\n",
      "  y = column_or_1d(y, warn=True)\n",
      "/Users/camilacollado/opt/miniconda3/envs/myenv/lib/python3.9/site-packages/sklearn/utils/validation.py:993: DataConversionWarning: A column-vector y was passed when a 1d array was expected. Please change the shape of y to (n_samples, ), for example using ravel().\n",
      "  y = column_or_1d(y, warn=True)\n",
      "/Users/camilacollado/opt/miniconda3/envs/myenv/lib/python3.9/site-packages/sklearn/utils/validation.py:993: DataConversionWarning: A column-vector y was passed when a 1d array was expected. Please change the shape of y to (n_samples, ), for example using ravel().\n",
      "  y = column_or_1d(y, warn=True)\n",
      "/Users/camilacollado/opt/miniconda3/envs/myenv/lib/python3.9/site-packages/sklearn/utils/validation.py:993: DataConversionWarning: A column-vector y was passed when a 1d array was expected. Please change the shape of y to (n_samples, ), for example using ravel().\n",
      "  y = column_or_1d(y, warn=True)\n",
      "/Users/camilacollado/opt/miniconda3/envs/myenv/lib/python3.9/site-packages/sklearn/utils/validation.py:993: DataConversionWarning: A column-vector y was passed when a 1d array was expected. Please change the shape of y to (n_samples, ), for example using ravel().\n",
      "  y = column_or_1d(y, warn=True)\n",
      "/Users/camilacollado/opt/miniconda3/envs/myenv/lib/python3.9/site-packages/sklearn/utils/validation.py:993: DataConversionWarning: A column-vector y was passed when a 1d array was expected. Please change the shape of y to (n_samples, ), for example using ravel().\n",
      "  y = column_or_1d(y, warn=True)\n",
      "/Users/camilacollado/opt/miniconda3/envs/myenv/lib/python3.9/site-packages/sklearn/utils/validation.py:993: DataConversionWarning: A column-vector y was passed when a 1d array was expected. Please change the shape of y to (n_samples, ), for example using ravel().\n",
      "  y = column_or_1d(y, warn=True)\n",
      "/Users/camilacollado/opt/miniconda3/envs/myenv/lib/python3.9/site-packages/sklearn/utils/validation.py:993: DataConversionWarning: A column-vector y was passed when a 1d array was expected. Please change the shape of y to (n_samples, ), for example using ravel().\n",
      "  y = column_or_1d(y, warn=True)\n",
      "/Users/camilacollado/opt/miniconda3/envs/myenv/lib/python3.9/site-packages/sklearn/utils/validation.py:993: DataConversionWarning: A column-vector y was passed when a 1d array was expected. Please change the shape of y to (n_samples, ), for example using ravel().\n",
      "  y = column_or_1d(y, warn=True)\n",
      "/Users/camilacollado/opt/miniconda3/envs/myenv/lib/python3.9/site-packages/sklearn/utils/validation.py:993: DataConversionWarning: A column-vector y was passed when a 1d array was expected. Please change the shape of y to (n_samples, ), for example using ravel().\n",
      "  y = column_or_1d(y, warn=True)\n",
      "/Users/camilacollado/opt/miniconda3/envs/myenv/lib/python3.9/site-packages/sklearn/utils/validation.py:993: DataConversionWarning: A column-vector y was passed when a 1d array was expected. Please change the shape of y to (n_samples, ), for example using ravel().\n",
      "  y = column_or_1d(y, warn=True)\n",
      "/Users/camilacollado/opt/miniconda3/envs/myenv/lib/python3.9/site-packages/sklearn/utils/validation.py:993: DataConversionWarning: A column-vector y was passed when a 1d array was expected. Please change the shape of y to (n_samples, ), for example using ravel().\n",
      "  y = column_or_1d(y, warn=True)\n",
      "/Users/camilacollado/opt/miniconda3/envs/myenv/lib/python3.9/site-packages/sklearn/utils/validation.py:993: DataConversionWarning: A column-vector y was passed when a 1d array was expected. Please change the shape of y to (n_samples, ), for example using ravel().\n",
      "  y = column_or_1d(y, warn=True)\n",
      "/Users/camilacollado/opt/miniconda3/envs/myenv/lib/python3.9/site-packages/sklearn/utils/validation.py:993: DataConversionWarning: A column-vector y was passed when a 1d array was expected. Please change the shape of y to (n_samples, ), for example using ravel().\n",
      "  y = column_or_1d(y, warn=True)\n",
      "/Users/camilacollado/opt/miniconda3/envs/myenv/lib/python3.9/site-packages/sklearn/utils/validation.py:993: DataConversionWarning: A column-vector y was passed when a 1d array was expected. Please change the shape of y to (n_samples, ), for example using ravel().\n",
      "  y = column_or_1d(y, warn=True)\n",
      "/Users/camilacollado/opt/miniconda3/envs/myenv/lib/python3.9/site-packages/sklearn/utils/validation.py:993: DataConversionWarning: A column-vector y was passed when a 1d array was expected. Please change the shape of y to (n_samples, ), for example using ravel().\n",
      "  y = column_or_1d(y, warn=True)\n",
      "/Users/camilacollado/opt/miniconda3/envs/myenv/lib/python3.9/site-packages/sklearn/utils/validation.py:993: DataConversionWarning: A column-vector y was passed when a 1d array was expected. Please change the shape of y to (n_samples, ), for example using ravel().\n",
      "  y = column_or_1d(y, warn=True)\n",
      "/Users/camilacollado/opt/miniconda3/envs/myenv/lib/python3.9/site-packages/sklearn/utils/validation.py:993: DataConversionWarning: A column-vector y was passed when a 1d array was expected. Please change the shape of y to (n_samples, ), for example using ravel().\n",
      "  y = column_or_1d(y, warn=True)\n",
      "/Users/camilacollado/opt/miniconda3/envs/myenv/lib/python3.9/site-packages/sklearn/utils/validation.py:993: DataConversionWarning: A column-vector y was passed when a 1d array was expected. Please change the shape of y to (n_samples, ), for example using ravel().\n",
      "  y = column_or_1d(y, warn=True)\n",
      "/Users/camilacollado/opt/miniconda3/envs/myenv/lib/python3.9/site-packages/sklearn/utils/validation.py:993: DataConversionWarning: A column-vector y was passed when a 1d array was expected. Please change the shape of y to (n_samples, ), for example using ravel().\n",
      "  y = column_or_1d(y, warn=True)\n",
      "/Users/camilacollado/opt/miniconda3/envs/myenv/lib/python3.9/site-packages/sklearn/utils/validation.py:993: DataConversionWarning: A column-vector y was passed when a 1d array was expected. Please change the shape of y to (n_samples, ), for example using ravel().\n",
      "  y = column_or_1d(y, warn=True)\n",
      "/Users/camilacollado/opt/miniconda3/envs/myenv/lib/python3.9/site-packages/sklearn/utils/validation.py:993: DataConversionWarning: A column-vector y was passed when a 1d array was expected. Please change the shape of y to (n_samples, ), for example using ravel().\n",
      "  y = column_or_1d(y, warn=True)\n",
      "/Users/camilacollado/opt/miniconda3/envs/myenv/lib/python3.9/site-packages/sklearn/utils/validation.py:993: DataConversionWarning: A column-vector y was passed when a 1d array was expected. Please change the shape of y to (n_samples, ), for example using ravel().\n",
      "  y = column_or_1d(y, warn=True)\n",
      "/Users/camilacollado/opt/miniconda3/envs/myenv/lib/python3.9/site-packages/sklearn/utils/validation.py:993: DataConversionWarning: A column-vector y was passed when a 1d array was expected. Please change the shape of y to (n_samples, ), for example using ravel().\n",
      "  y = column_or_1d(y, warn=True)\n",
      "/Users/camilacollado/opt/miniconda3/envs/myenv/lib/python3.9/site-packages/sklearn/utils/validation.py:993: DataConversionWarning: A column-vector y was passed when a 1d array was expected. Please change the shape of y to (n_samples, ), for example using ravel().\n",
      "  y = column_or_1d(y, warn=True)\n",
      "/Users/camilacollado/opt/miniconda3/envs/myenv/lib/python3.9/site-packages/sklearn/utils/validation.py:993: DataConversionWarning: A column-vector y was passed when a 1d array was expected. Please change the shape of y to (n_samples, ), for example using ravel().\n",
      "  y = column_or_1d(y, warn=True)\n",
      "/Users/camilacollado/opt/miniconda3/envs/myenv/lib/python3.9/site-packages/sklearn/utils/validation.py:993: DataConversionWarning: A column-vector y was passed when a 1d array was expected. Please change the shape of y to (n_samples, ), for example using ravel().\n",
      "  y = column_or_1d(y, warn=True)\n",
      "/Users/camilacollado/opt/miniconda3/envs/myenv/lib/python3.9/site-packages/sklearn/utils/validation.py:993: DataConversionWarning: A column-vector y was passed when a 1d array was expected. Please change the shape of y to (n_samples, ), for example using ravel().\n",
      "  y = column_or_1d(y, warn=True)\n",
      "/Users/camilacollado/opt/miniconda3/envs/myenv/lib/python3.9/site-packages/sklearn/utils/validation.py:993: DataConversionWarning: A column-vector y was passed when a 1d array was expected. Please change the shape of y to (n_samples, ), for example using ravel().\n",
      "  y = column_or_1d(y, warn=True)\n",
      "/Users/camilacollado/opt/miniconda3/envs/myenv/lib/python3.9/site-packages/sklearn/utils/validation.py:993: DataConversionWarning: A column-vector y was passed when a 1d array was expected. Please change the shape of y to (n_samples, ), for example using ravel().\n",
      "  y = column_or_1d(y, warn=True)\n",
      "/Users/camilacollado/opt/miniconda3/envs/myenv/lib/python3.9/site-packages/sklearn/utils/validation.py:993: DataConversionWarning: A column-vector y was passed when a 1d array was expected. Please change the shape of y to (n_samples, ), for example using ravel().\n",
      "  y = column_or_1d(y, warn=True)\n",
      "/Users/camilacollado/opt/miniconda3/envs/myenv/lib/python3.9/site-packages/sklearn/utils/validation.py:993: DataConversionWarning: A column-vector y was passed when a 1d array was expected. Please change the shape of y to (n_samples, ), for example using ravel().\n",
      "  y = column_or_1d(y, warn=True)\n",
      "/Users/camilacollado/opt/miniconda3/envs/myenv/lib/python3.9/site-packages/sklearn/utils/validation.py:993: DataConversionWarning: A column-vector y was passed when a 1d array was expected. Please change the shape of y to (n_samples, ), for example using ravel().\n",
      "  y = column_or_1d(y, warn=True)\n",
      "/Users/camilacollado/opt/miniconda3/envs/myenv/lib/python3.9/site-packages/sklearn/utils/validation.py:993: DataConversionWarning: A column-vector y was passed when a 1d array was expected. Please change the shape of y to (n_samples, ), for example using ravel().\n",
      "  y = column_or_1d(y, warn=True)\n",
      "/Users/camilacollado/opt/miniconda3/envs/myenv/lib/python3.9/site-packages/sklearn/utils/validation.py:993: DataConversionWarning: A column-vector y was passed when a 1d array was expected. Please change the shape of y to (n_samples, ), for example using ravel().\n",
      "  y = column_or_1d(y, warn=True)\n",
      "/Users/camilacollado/opt/miniconda3/envs/myenv/lib/python3.9/site-packages/sklearn/utils/validation.py:993: DataConversionWarning: A column-vector y was passed when a 1d array was expected. Please change the shape of y to (n_samples, ), for example using ravel().\n",
      "  y = column_or_1d(y, warn=True)\n",
      "/Users/camilacollado/opt/miniconda3/envs/myenv/lib/python3.9/site-packages/sklearn/utils/validation.py:993: DataConversionWarning: A column-vector y was passed when a 1d array was expected. Please change the shape of y to (n_samples, ), for example using ravel().\n",
      "  y = column_or_1d(y, warn=True)\n",
      "/Users/camilacollado/opt/miniconda3/envs/myenv/lib/python3.9/site-packages/sklearn/utils/validation.py:993: DataConversionWarning: A column-vector y was passed when a 1d array was expected. Please change the shape of y to (n_samples, ), for example using ravel().\n",
      "  y = column_or_1d(y, warn=True)\n",
      "/Users/camilacollado/opt/miniconda3/envs/myenv/lib/python3.9/site-packages/sklearn/utils/validation.py:993: DataConversionWarning: A column-vector y was passed when a 1d array was expected. Please change the shape of y to (n_samples, ), for example using ravel().\n",
      "  y = column_or_1d(y, warn=True)\n",
      "/Users/camilacollado/opt/miniconda3/envs/myenv/lib/python3.9/site-packages/sklearn/utils/validation.py:993: DataConversionWarning: A column-vector y was passed when a 1d array was expected. Please change the shape of y to (n_samples, ), for example using ravel().\n",
      "  y = column_or_1d(y, warn=True)\n",
      "/Users/camilacollado/opt/miniconda3/envs/myenv/lib/python3.9/site-packages/sklearn/utils/validation.py:993: DataConversionWarning: A column-vector y was passed when a 1d array was expected. Please change the shape of y to (n_samples, ), for example using ravel().\n",
      "  y = column_or_1d(y, warn=True)\n",
      "/Users/camilacollado/opt/miniconda3/envs/myenv/lib/python3.9/site-packages/sklearn/utils/validation.py:993: DataConversionWarning: A column-vector y was passed when a 1d array was expected. Please change the shape of y to (n_samples, ), for example using ravel().\n",
      "  y = column_or_1d(y, warn=True)\n",
      "/Users/camilacollado/opt/miniconda3/envs/myenv/lib/python3.9/site-packages/sklearn/utils/validation.py:993: DataConversionWarning: A column-vector y was passed when a 1d array was expected. Please change the shape of y to (n_samples, ), for example using ravel().\n",
      "  y = column_or_1d(y, warn=True)\n",
      "/Users/camilacollado/opt/miniconda3/envs/myenv/lib/python3.9/site-packages/sklearn/utils/validation.py:993: DataConversionWarning: A column-vector y was passed when a 1d array was expected. Please change the shape of y to (n_samples, ), for example using ravel().\n",
      "  y = column_or_1d(y, warn=True)\n",
      "/Users/camilacollado/opt/miniconda3/envs/myenv/lib/python3.9/site-packages/sklearn/utils/validation.py:993: DataConversionWarning: A column-vector y was passed when a 1d array was expected. Please change the shape of y to (n_samples, ), for example using ravel().\n",
      "  y = column_or_1d(y, warn=True)\n",
      "/Users/camilacollado/opt/miniconda3/envs/myenv/lib/python3.9/site-packages/sklearn/utils/validation.py:993: DataConversionWarning: A column-vector y was passed when a 1d array was expected. Please change the shape of y to (n_samples, ), for example using ravel().\n",
      "  y = column_or_1d(y, warn=True)\n",
      "/Users/camilacollado/opt/miniconda3/envs/myenv/lib/python3.9/site-packages/sklearn/utils/validation.py:993: DataConversionWarning: A column-vector y was passed when a 1d array was expected. Please change the shape of y to (n_samples, ), for example using ravel().\n",
      "  y = column_or_1d(y, warn=True)\n",
      "/Users/camilacollado/opt/miniconda3/envs/myenv/lib/python3.9/site-packages/sklearn/utils/validation.py:993: DataConversionWarning: A column-vector y was passed when a 1d array was expected. Please change the shape of y to (n_samples, ), for example using ravel().\n",
      "  y = column_or_1d(y, warn=True)\n",
      "/Users/camilacollado/opt/miniconda3/envs/myenv/lib/python3.9/site-packages/sklearn/utils/validation.py:993: DataConversionWarning: A column-vector y was passed when a 1d array was expected. Please change the shape of y to (n_samples, ), for example using ravel().\n",
      "  y = column_or_1d(y, warn=True)\n",
      "/Users/camilacollado/opt/miniconda3/envs/myenv/lib/python3.9/site-packages/sklearn/utils/validation.py:993: DataConversionWarning: A column-vector y was passed when a 1d array was expected. Please change the shape of y to (n_samples, ), for example using ravel().\n",
      "  y = column_or_1d(y, warn=True)\n",
      "/Users/camilacollado/opt/miniconda3/envs/myenv/lib/python3.9/site-packages/sklearn/utils/validation.py:993: DataConversionWarning: A column-vector y was passed when a 1d array was expected. Please change the shape of y to (n_samples, ), for example using ravel().\n",
      "  y = column_or_1d(y, warn=True)\n",
      "/Users/camilacollado/opt/miniconda3/envs/myenv/lib/python3.9/site-packages/sklearn/utils/validation.py:993: DataConversionWarning: A column-vector y was passed when a 1d array was expected. Please change the shape of y to (n_samples, ), for example using ravel().\n",
      "  y = column_or_1d(y, warn=True)\n",
      "/Users/camilacollado/opt/miniconda3/envs/myenv/lib/python3.9/site-packages/sklearn/utils/validation.py:993: DataConversionWarning: A column-vector y was passed when a 1d array was expected. Please change the shape of y to (n_samples, ), for example using ravel().\n",
      "  y = column_or_1d(y, warn=True)\n",
      "/Users/camilacollado/opt/miniconda3/envs/myenv/lib/python3.9/site-packages/sklearn/utils/validation.py:993: DataConversionWarning: A column-vector y was passed when a 1d array was expected. Please change the shape of y to (n_samples, ), for example using ravel().\n",
      "  y = column_or_1d(y, warn=True)\n",
      "/Users/camilacollado/opt/miniconda3/envs/myenv/lib/python3.9/site-packages/sklearn/utils/validation.py:993: DataConversionWarning: A column-vector y was passed when a 1d array was expected. Please change the shape of y to (n_samples, ), for example using ravel().\n",
      "  y = column_or_1d(y, warn=True)\n",
      "/Users/camilacollado/opt/miniconda3/envs/myenv/lib/python3.9/site-packages/sklearn/utils/validation.py:993: DataConversionWarning: A column-vector y was passed when a 1d array was expected. Please change the shape of y to (n_samples, ), for example using ravel().\n",
      "  y = column_or_1d(y, warn=True)\n",
      "/Users/camilacollado/opt/miniconda3/envs/myenv/lib/python3.9/site-packages/sklearn/utils/validation.py:993: DataConversionWarning: A column-vector y was passed when a 1d array was expected. Please change the shape of y to (n_samples, ), for example using ravel().\n",
      "  y = column_or_1d(y, warn=True)\n",
      "/Users/camilacollado/opt/miniconda3/envs/myenv/lib/python3.9/site-packages/sklearn/utils/validation.py:993: DataConversionWarning: A column-vector y was passed when a 1d array was expected. Please change the shape of y to (n_samples, ), for example using ravel().\n",
      "  y = column_or_1d(y, warn=True)\n",
      "/Users/camilacollado/opt/miniconda3/envs/myenv/lib/python3.9/site-packages/sklearn/utils/validation.py:993: DataConversionWarning: A column-vector y was passed when a 1d array was expected. Please change the shape of y to (n_samples, ), for example using ravel().\n",
      "  y = column_or_1d(y, warn=True)\n",
      "/Users/camilacollado/opt/miniconda3/envs/myenv/lib/python3.9/site-packages/sklearn/utils/validation.py:993: DataConversionWarning: A column-vector y was passed when a 1d array was expected. Please change the shape of y to (n_samples, ), for example using ravel().\n",
      "  y = column_or_1d(y, warn=True)\n",
      "/Users/camilacollado/opt/miniconda3/envs/myenv/lib/python3.9/site-packages/sklearn/utils/validation.py:993: DataConversionWarning: A column-vector y was passed when a 1d array was expected. Please change the shape of y to (n_samples, ), for example using ravel().\n",
      "  y = column_or_1d(y, warn=True)\n",
      "/Users/camilacollado/opt/miniconda3/envs/myenv/lib/python3.9/site-packages/sklearn/utils/validation.py:993: DataConversionWarning: A column-vector y was passed when a 1d array was expected. Please change the shape of y to (n_samples, ), for example using ravel().\n",
      "  y = column_or_1d(y, warn=True)\n",
      "/Users/camilacollado/opt/miniconda3/envs/myenv/lib/python3.9/site-packages/sklearn/utils/validation.py:993: DataConversionWarning: A column-vector y was passed when a 1d array was expected. Please change the shape of y to (n_samples, ), for example using ravel().\n",
      "  y = column_or_1d(y, warn=True)\n",
      "/Users/camilacollado/opt/miniconda3/envs/myenv/lib/python3.9/site-packages/sklearn/utils/validation.py:993: DataConversionWarning: A column-vector y was passed when a 1d array was expected. Please change the shape of y to (n_samples, ), for example using ravel().\n",
      "  y = column_or_1d(y, warn=True)\n",
      "/Users/camilacollado/opt/miniconda3/envs/myenv/lib/python3.9/site-packages/sklearn/utils/validation.py:993: DataConversionWarning: A column-vector y was passed when a 1d array was expected. Please change the shape of y to (n_samples, ), for example using ravel().\n",
      "  y = column_or_1d(y, warn=True)\n",
      "/Users/camilacollado/opt/miniconda3/envs/myenv/lib/python3.9/site-packages/sklearn/utils/validation.py:993: DataConversionWarning: A column-vector y was passed when a 1d array was expected. Please change the shape of y to (n_samples, ), for example using ravel().\n",
      "  y = column_or_1d(y, warn=True)\n",
      "/Users/camilacollado/opt/miniconda3/envs/myenv/lib/python3.9/site-packages/sklearn/utils/validation.py:993: DataConversionWarning: A column-vector y was passed when a 1d array was expected. Please change the shape of y to (n_samples, ), for example using ravel().\n",
      "  y = column_or_1d(y, warn=True)\n",
      "/Users/camilacollado/opt/miniconda3/envs/myenv/lib/python3.9/site-packages/sklearn/utils/validation.py:993: DataConversionWarning: A column-vector y was passed when a 1d array was expected. Please change the shape of y to (n_samples, ), for example using ravel().\n",
      "  y = column_or_1d(y, warn=True)\n",
      "/Users/camilacollado/opt/miniconda3/envs/myenv/lib/python3.9/site-packages/sklearn/utils/validation.py:993: DataConversionWarning: A column-vector y was passed when a 1d array was expected. Please change the shape of y to (n_samples, ), for example using ravel().\n",
      "  y = column_or_1d(y, warn=True)\n",
      "/Users/camilacollado/opt/miniconda3/envs/myenv/lib/python3.9/site-packages/sklearn/utils/validation.py:993: DataConversionWarning: A column-vector y was passed when a 1d array was expected. Please change the shape of y to (n_samples, ), for example using ravel().\n",
      "  y = column_or_1d(y, warn=True)\n",
      "/Users/camilacollado/opt/miniconda3/envs/myenv/lib/python3.9/site-packages/sklearn/utils/validation.py:993: DataConversionWarning: A column-vector y was passed when a 1d array was expected. Please change the shape of y to (n_samples, ), for example using ravel().\n",
      "  y = column_or_1d(y, warn=True)\n",
      "/Users/camilacollado/opt/miniconda3/envs/myenv/lib/python3.9/site-packages/sklearn/utils/validation.py:993: DataConversionWarning: A column-vector y was passed when a 1d array was expected. Please change the shape of y to (n_samples, ), for example using ravel().\n",
      "  y = column_or_1d(y, warn=True)\n",
      "/Users/camilacollado/opt/miniconda3/envs/myenv/lib/python3.9/site-packages/sklearn/utils/validation.py:993: DataConversionWarning: A column-vector y was passed when a 1d array was expected. Please change the shape of y to (n_samples, ), for example using ravel().\n",
      "  y = column_or_1d(y, warn=True)\n",
      "/Users/camilacollado/opt/miniconda3/envs/myenv/lib/python3.9/site-packages/sklearn/utils/validation.py:993: DataConversionWarning: A column-vector y was passed when a 1d array was expected. Please change the shape of y to (n_samples, ), for example using ravel().\n",
      "  y = column_or_1d(y, warn=True)\n",
      "/Users/camilacollado/opt/miniconda3/envs/myenv/lib/python3.9/site-packages/sklearn/utils/validation.py:993: DataConversionWarning: A column-vector y was passed when a 1d array was expected. Please change the shape of y to (n_samples, ), for example using ravel().\n",
      "  y = column_or_1d(y, warn=True)\n",
      "/Users/camilacollado/opt/miniconda3/envs/myenv/lib/python3.9/site-packages/sklearn/utils/validation.py:993: DataConversionWarning: A column-vector y was passed when a 1d array was expected. Please change the shape of y to (n_samples, ), for example using ravel().\n",
      "  y = column_or_1d(y, warn=True)\n",
      "/Users/camilacollado/opt/miniconda3/envs/myenv/lib/python3.9/site-packages/sklearn/utils/validation.py:993: DataConversionWarning: A column-vector y was passed when a 1d array was expected. Please change the shape of y to (n_samples, ), for example using ravel().\n",
      "  y = column_or_1d(y, warn=True)\n",
      "/Users/camilacollado/opt/miniconda3/envs/myenv/lib/python3.9/site-packages/sklearn/utils/validation.py:993: DataConversionWarning: A column-vector y was passed when a 1d array was expected. Please change the shape of y to (n_samples, ), for example using ravel().\n",
      "  y = column_or_1d(y, warn=True)\n",
      "/Users/camilacollado/opt/miniconda3/envs/myenv/lib/python3.9/site-packages/sklearn/utils/validation.py:993: DataConversionWarning: A column-vector y was passed when a 1d array was expected. Please change the shape of y to (n_samples, ), for example using ravel().\n",
      "  y = column_or_1d(y, warn=True)\n",
      "/Users/camilacollado/opt/miniconda3/envs/myenv/lib/python3.9/site-packages/sklearn/utils/validation.py:993: DataConversionWarning: A column-vector y was passed when a 1d array was expected. Please change the shape of y to (n_samples, ), for example using ravel().\n",
      "  y = column_or_1d(y, warn=True)\n",
      "/Users/camilacollado/opt/miniconda3/envs/myenv/lib/python3.9/site-packages/sklearn/utils/validation.py:993: DataConversionWarning: A column-vector y was passed when a 1d array was expected. Please change the shape of y to (n_samples, ), for example using ravel().\n",
      "  y = column_or_1d(y, warn=True)\n",
      "/Users/camilacollado/opt/miniconda3/envs/myenv/lib/python3.9/site-packages/sklearn/utils/validation.py:993: DataConversionWarning: A column-vector y was passed when a 1d array was expected. Please change the shape of y to (n_samples, ), for example using ravel().\n",
      "  y = column_or_1d(y, warn=True)\n",
      "/Users/camilacollado/opt/miniconda3/envs/myenv/lib/python3.9/site-packages/sklearn/utils/validation.py:993: DataConversionWarning: A column-vector y was passed when a 1d array was expected. Please change the shape of y to (n_samples, ), for example using ravel().\n",
      "  y = column_or_1d(y, warn=True)\n",
      "/Users/camilacollado/opt/miniconda3/envs/myenv/lib/python3.9/site-packages/sklearn/utils/validation.py:993: DataConversionWarning: A column-vector y was passed when a 1d array was expected. Please change the shape of y to (n_samples, ), for example using ravel().\n",
      "  y = column_or_1d(y, warn=True)\n",
      "/Users/camilacollado/opt/miniconda3/envs/myenv/lib/python3.9/site-packages/sklearn/utils/validation.py:993: DataConversionWarning: A column-vector y was passed when a 1d array was expected. Please change the shape of y to (n_samples, ), for example using ravel().\n",
      "  y = column_or_1d(y, warn=True)\n",
      "/Users/camilacollado/opt/miniconda3/envs/myenv/lib/python3.9/site-packages/sklearn/utils/validation.py:993: DataConversionWarning: A column-vector y was passed when a 1d array was expected. Please change the shape of y to (n_samples, ), for example using ravel().\n",
      "  y = column_or_1d(y, warn=True)\n",
      "/Users/camilacollado/opt/miniconda3/envs/myenv/lib/python3.9/site-packages/sklearn/utils/validation.py:993: DataConversionWarning: A column-vector y was passed when a 1d array was expected. Please change the shape of y to (n_samples, ), for example using ravel().\n",
      "  y = column_or_1d(y, warn=True)\n",
      "/Users/camilacollado/opt/miniconda3/envs/myenv/lib/python3.9/site-packages/sklearn/utils/validation.py:993: DataConversionWarning: A column-vector y was passed when a 1d array was expected. Please change the shape of y to (n_samples, ), for example using ravel().\n",
      "  y = column_or_1d(y, warn=True)\n",
      "/Users/camilacollado/opt/miniconda3/envs/myenv/lib/python3.9/site-packages/sklearn/utils/validation.py:993: DataConversionWarning: A column-vector y was passed when a 1d array was expected. Please change the shape of y to (n_samples, ), for example using ravel().\n",
      "  y = column_or_1d(y, warn=True)\n",
      "/Users/camilacollado/opt/miniconda3/envs/myenv/lib/python3.9/site-packages/sklearn/utils/validation.py:993: DataConversionWarning: A column-vector y was passed when a 1d array was expected. Please change the shape of y to (n_samples, ), for example using ravel().\n",
      "  y = column_or_1d(y, warn=True)\n",
      "/Users/camilacollado/opt/miniconda3/envs/myenv/lib/python3.9/site-packages/sklearn/utils/validation.py:993: DataConversionWarning: A column-vector y was passed when a 1d array was expected. Please change the shape of y to (n_samples, ), for example using ravel().\n",
      "  y = column_or_1d(y, warn=True)\n",
      "/Users/camilacollado/opt/miniconda3/envs/myenv/lib/python3.9/site-packages/sklearn/utils/validation.py:993: DataConversionWarning: A column-vector y was passed when a 1d array was expected. Please change the shape of y to (n_samples, ), for example using ravel().\n",
      "  y = column_or_1d(y, warn=True)\n",
      "/Users/camilacollado/opt/miniconda3/envs/myenv/lib/python3.9/site-packages/sklearn/utils/validation.py:993: DataConversionWarning: A column-vector y was passed when a 1d array was expected. Please change the shape of y to (n_samples, ), for example using ravel().\n",
      "  y = column_or_1d(y, warn=True)\n",
      "/Users/camilacollado/opt/miniconda3/envs/myenv/lib/python3.9/site-packages/sklearn/utils/validation.py:993: DataConversionWarning: A column-vector y was passed when a 1d array was expected. Please change the shape of y to (n_samples, ), for example using ravel().\n",
      "  y = column_or_1d(y, warn=True)\n",
      "/Users/camilacollado/opt/miniconda3/envs/myenv/lib/python3.9/site-packages/sklearn/utils/validation.py:993: DataConversionWarning: A column-vector y was passed when a 1d array was expected. Please change the shape of y to (n_samples, ), for example using ravel().\n",
      "  y = column_or_1d(y, warn=True)\n",
      "/Users/camilacollado/opt/miniconda3/envs/myenv/lib/python3.9/site-packages/sklearn/utils/validation.py:993: DataConversionWarning: A column-vector y was passed when a 1d array was expected. Please change the shape of y to (n_samples, ), for example using ravel().\n",
      "  y = column_or_1d(y, warn=True)\n",
      "/Users/camilacollado/opt/miniconda3/envs/myenv/lib/python3.9/site-packages/sklearn/utils/validation.py:993: DataConversionWarning: A column-vector y was passed when a 1d array was expected. Please change the shape of y to (n_samples, ), for example using ravel().\n",
      "  y = column_or_1d(y, warn=True)\n",
      "/Users/camilacollado/opt/miniconda3/envs/myenv/lib/python3.9/site-packages/sklearn/utils/validation.py:993: DataConversionWarning: A column-vector y was passed when a 1d array was expected. Please change the shape of y to (n_samples, ), for example using ravel().\n",
      "  y = column_or_1d(y, warn=True)\n",
      "/Users/camilacollado/opt/miniconda3/envs/myenv/lib/python3.9/site-packages/sklearn/utils/validation.py:993: DataConversionWarning: A column-vector y was passed when a 1d array was expected. Please change the shape of y to (n_samples, ), for example using ravel().\n",
      "  y = column_or_1d(y, warn=True)\n"
     ]
    },
    {
     "data": {
      "text/plain": [
       "GridSearchCV(cv=2, estimator=HistGradientBoostingRegressor(random_state=0),\n",
       "             param_grid=[{'learning_rate': [0.01, 0.05, 0.1, 0.2],\n",
       "                          'max_depth': [4, 6, 10, 12],\n",
       "                          'max_leaf_nodes': [11, 31, 51, 101],\n",
       "                          'min_samples_leaf': [1, 5, 15, 50, 200]}])"
      ]
     },
     "execution_count": 96,
     "metadata": {},
     "output_type": "execute_result"
    }
   ],
   "source": [
    "parameters = [{'learning_rate': [0.01, 0.05, 0.1, 0.2], 'max_depth':[4, 6, 10, 12], 'min_samples_leaf':[1, 5, 15, 50, 200], 'max_leaf_nodes': [11,31,51,101]}]\n",
    "clf = GridSearchCV(m, parameters, cv=2)\n",
    "clf.fit(X, y)"
   ]
  },
  {
   "cell_type": "code",
   "execution_count": 97,
   "metadata": {},
   "outputs": [
    {
     "data": {
      "text/plain": [
       "0.20999381218818508"
      ]
     },
     "execution_count": 97,
     "metadata": {},
     "output_type": "execute_result"
    }
   ],
   "source": [
    "clf.best_score_"
   ]
  },
  {
   "cell_type": "code",
   "execution_count": 98,
   "metadata": {},
   "outputs": [
    {
     "data": {
      "text/plain": [
       "{'learning_rate': 0.2,\n",
       " 'max_depth': 12,\n",
       " 'max_leaf_nodes': 101,\n",
       " 'min_samples_leaf': 200}"
      ]
     },
     "execution_count": 98,
     "metadata": {},
     "output_type": "execute_result"
    }
   ],
   "source": [
    "clf.best_params_"
   ]
  },
  {
   "cell_type": "code",
   "execution_count": 99,
   "metadata": {},
   "outputs": [
    {
     "name": "stderr",
     "output_type": "stream",
     "text": [
      "/Users/camilacollado/opt/miniconda3/envs/myenv/lib/python3.9/site-packages/sklearn/utils/validation.py:993: DataConversionWarning: A column-vector y was passed when a 1d array was expected. Please change the shape of y to (n_samples, ), for example using ravel().\n",
      "  y = column_or_1d(y, warn=True)\n",
      "/Users/camilacollado/opt/miniconda3/envs/myenv/lib/python3.9/site-packages/sklearn/utils/validation.py:993: DataConversionWarning: A column-vector y was passed when a 1d array was expected. Please change the shape of y to (n_samples, ), for example using ravel().\n",
      "  y = column_or_1d(y, warn=True)\n",
      "/Users/camilacollado/opt/miniconda3/envs/myenv/lib/python3.9/site-packages/sklearn/utils/validation.py:993: DataConversionWarning: A column-vector y was passed when a 1d array was expected. Please change the shape of y to (n_samples, ), for example using ravel().\n",
      "  y = column_or_1d(y, warn=True)\n",
      "/Users/camilacollado/opt/miniconda3/envs/myenv/lib/python3.9/site-packages/sklearn/utils/validation.py:993: DataConversionWarning: A column-vector y was passed when a 1d array was expected. Please change the shape of y to (n_samples, ), for example using ravel().\n",
      "  y = column_or_1d(y, warn=True)\n",
      "/Users/camilacollado/opt/miniconda3/envs/myenv/lib/python3.9/site-packages/sklearn/utils/validation.py:993: DataConversionWarning: A column-vector y was passed when a 1d array was expected. Please change the shape of y to (n_samples, ), for example using ravel().\n",
      "  y = column_or_1d(y, warn=True)\n",
      "/Users/camilacollado/opt/miniconda3/envs/myenv/lib/python3.9/site-packages/sklearn/utils/validation.py:993: DataConversionWarning: A column-vector y was passed when a 1d array was expected. Please change the shape of y to (n_samples, ), for example using ravel().\n",
      "  y = column_or_1d(y, warn=True)\n",
      "/Users/camilacollado/opt/miniconda3/envs/myenv/lib/python3.9/site-packages/sklearn/utils/validation.py:993: DataConversionWarning: A column-vector y was passed when a 1d array was expected. Please change the shape of y to (n_samples, ), for example using ravel().\n",
      "  y = column_or_1d(y, warn=True)\n",
      "/Users/camilacollado/opt/miniconda3/envs/myenv/lib/python3.9/site-packages/sklearn/utils/validation.py:993: DataConversionWarning: A column-vector y was passed when a 1d array was expected. Please change the shape of y to (n_samples, ), for example using ravel().\n",
      "  y = column_or_1d(y, warn=True)\n",
      "/Users/camilacollado/opt/miniconda3/envs/myenv/lib/python3.9/site-packages/sklearn/utils/validation.py:993: DataConversionWarning: A column-vector y was passed when a 1d array was expected. Please change the shape of y to (n_samples, ), for example using ravel().\n",
      "  y = column_or_1d(y, warn=True)\n",
      "/Users/camilacollado/opt/miniconda3/envs/myenv/lib/python3.9/site-packages/sklearn/utils/validation.py:993: DataConversionWarning: A column-vector y was passed when a 1d array was expected. Please change the shape of y to (n_samples, ), for example using ravel().\n",
      "  y = column_or_1d(y, warn=True)\n",
      "/Users/camilacollado/opt/miniconda3/envs/myenv/lib/python3.9/site-packages/sklearn/utils/validation.py:993: DataConversionWarning: A column-vector y was passed when a 1d array was expected. Please change the shape of y to (n_samples, ), for example using ravel().\n",
      "  y = column_or_1d(y, warn=True)\n",
      "/Users/camilacollado/opt/miniconda3/envs/myenv/lib/python3.9/site-packages/sklearn/utils/validation.py:993: DataConversionWarning: A column-vector y was passed when a 1d array was expected. Please change the shape of y to (n_samples, ), for example using ravel().\n",
      "  y = column_or_1d(y, warn=True)\n",
      "/Users/camilacollado/opt/miniconda3/envs/myenv/lib/python3.9/site-packages/sklearn/utils/validation.py:993: DataConversionWarning: A column-vector y was passed when a 1d array was expected. Please change the shape of y to (n_samples, ), for example using ravel().\n",
      "  y = column_or_1d(y, warn=True)\n",
      "/Users/camilacollado/opt/miniconda3/envs/myenv/lib/python3.9/site-packages/sklearn/utils/validation.py:993: DataConversionWarning: A column-vector y was passed when a 1d array was expected. Please change the shape of y to (n_samples, ), for example using ravel().\n",
      "  y = column_or_1d(y, warn=True)\n",
      "/Users/camilacollado/opt/miniconda3/envs/myenv/lib/python3.9/site-packages/sklearn/utils/validation.py:993: DataConversionWarning: A column-vector y was passed when a 1d array was expected. Please change the shape of y to (n_samples, ), for example using ravel().\n",
      "  y = column_or_1d(y, warn=True)\n",
      "/Users/camilacollado/opt/miniconda3/envs/myenv/lib/python3.9/site-packages/sklearn/utils/validation.py:993: DataConversionWarning: A column-vector y was passed when a 1d array was expected. Please change the shape of y to (n_samples, ), for example using ravel().\n",
      "  y = column_or_1d(y, warn=True)\n",
      "/Users/camilacollado/opt/miniconda3/envs/myenv/lib/python3.9/site-packages/sklearn/utils/validation.py:993: DataConversionWarning: A column-vector y was passed when a 1d array was expected. Please change the shape of y to (n_samples, ), for example using ravel().\n",
      "  y = column_or_1d(y, warn=True)\n",
      "/Users/camilacollado/opt/miniconda3/envs/myenv/lib/python3.9/site-packages/sklearn/utils/validation.py:993: DataConversionWarning: A column-vector y was passed when a 1d array was expected. Please change the shape of y to (n_samples, ), for example using ravel().\n",
      "  y = column_or_1d(y, warn=True)\n",
      "/Users/camilacollado/opt/miniconda3/envs/myenv/lib/python3.9/site-packages/sklearn/utils/validation.py:993: DataConversionWarning: A column-vector y was passed when a 1d array was expected. Please change the shape of y to (n_samples, ), for example using ravel().\n",
      "  y = column_or_1d(y, warn=True)\n",
      "/Users/camilacollado/opt/miniconda3/envs/myenv/lib/python3.9/site-packages/sklearn/utils/validation.py:993: DataConversionWarning: A column-vector y was passed when a 1d array was expected. Please change the shape of y to (n_samples, ), for example using ravel().\n",
      "  y = column_or_1d(y, warn=True)\n",
      "/Users/camilacollado/opt/miniconda3/envs/myenv/lib/python3.9/site-packages/sklearn/utils/validation.py:993: DataConversionWarning: A column-vector y was passed when a 1d array was expected. Please change the shape of y to (n_samples, ), for example using ravel().\n",
      "  y = column_or_1d(y, warn=True)\n",
      "/Users/camilacollado/opt/miniconda3/envs/myenv/lib/python3.9/site-packages/sklearn/utils/validation.py:993: DataConversionWarning: A column-vector y was passed when a 1d array was expected. Please change the shape of y to (n_samples, ), for example using ravel().\n",
      "  y = column_or_1d(y, warn=True)\n",
      "/Users/camilacollado/opt/miniconda3/envs/myenv/lib/python3.9/site-packages/sklearn/utils/validation.py:993: DataConversionWarning: A column-vector y was passed when a 1d array was expected. Please change the shape of y to (n_samples, ), for example using ravel().\n",
      "  y = column_or_1d(y, warn=True)\n",
      "/Users/camilacollado/opt/miniconda3/envs/myenv/lib/python3.9/site-packages/sklearn/utils/validation.py:993: DataConversionWarning: A column-vector y was passed when a 1d array was expected. Please change the shape of y to (n_samples, ), for example using ravel().\n",
      "  y = column_or_1d(y, warn=True)\n",
      "/Users/camilacollado/opt/miniconda3/envs/myenv/lib/python3.9/site-packages/sklearn/utils/validation.py:993: DataConversionWarning: A column-vector y was passed when a 1d array was expected. Please change the shape of y to (n_samples, ), for example using ravel().\n",
      "  y = column_or_1d(y, warn=True)\n",
      "/Users/camilacollado/opt/miniconda3/envs/myenv/lib/python3.9/site-packages/sklearn/utils/validation.py:993: DataConversionWarning: A column-vector y was passed when a 1d array was expected. Please change the shape of y to (n_samples, ), for example using ravel().\n",
      "  y = column_or_1d(y, warn=True)\n",
      "/Users/camilacollado/opt/miniconda3/envs/myenv/lib/python3.9/site-packages/sklearn/utils/validation.py:993: DataConversionWarning: A column-vector y was passed when a 1d array was expected. Please change the shape of y to (n_samples, ), for example using ravel().\n",
      "  y = column_or_1d(y, warn=True)\n",
      "/Users/camilacollado/opt/miniconda3/envs/myenv/lib/python3.9/site-packages/sklearn/utils/validation.py:993: DataConversionWarning: A column-vector y was passed when a 1d array was expected. Please change the shape of y to (n_samples, ), for example using ravel().\n",
      "  y = column_or_1d(y, warn=True)\n",
      "/Users/camilacollado/opt/miniconda3/envs/myenv/lib/python3.9/site-packages/sklearn/utils/validation.py:993: DataConversionWarning: A column-vector y was passed when a 1d array was expected. Please change the shape of y to (n_samples, ), for example using ravel().\n",
      "  y = column_or_1d(y, warn=True)\n",
      "/Users/camilacollado/opt/miniconda3/envs/myenv/lib/python3.9/site-packages/sklearn/utils/validation.py:993: DataConversionWarning: A column-vector y was passed when a 1d array was expected. Please change the shape of y to (n_samples, ), for example using ravel().\n",
      "  y = column_or_1d(y, warn=True)\n",
      "/Users/camilacollado/opt/miniconda3/envs/myenv/lib/python3.9/site-packages/sklearn/utils/validation.py:993: DataConversionWarning: A column-vector y was passed when a 1d array was expected. Please change the shape of y to (n_samples, ), for example using ravel().\n",
      "  y = column_or_1d(y, warn=True)\n",
      "/Users/camilacollado/opt/miniconda3/envs/myenv/lib/python3.9/site-packages/sklearn/utils/validation.py:993: DataConversionWarning: A column-vector y was passed when a 1d array was expected. Please change the shape of y to (n_samples, ), for example using ravel().\n",
      "  y = column_or_1d(y, warn=True)\n",
      "/Users/camilacollado/opt/miniconda3/envs/myenv/lib/python3.9/site-packages/sklearn/utils/validation.py:993: DataConversionWarning: A column-vector y was passed when a 1d array was expected. Please change the shape of y to (n_samples, ), for example using ravel().\n",
      "  y = column_or_1d(y, warn=True)\n"
     ]
    },
    {
     "data": {
      "text/plain": [
       "GridSearchCV(cv=2, estimator=HistGradientBoostingRegressor(random_state=0),\n",
       "             param_grid=[{'learning_rate': [0.2, 0.3], 'max_depth': [12, 14],\n",
       "                          'max_leaf_nodes': [101, 201],\n",
       "                          'min_samples_leaf': [200, 300]}])"
      ]
     },
     "execution_count": 99,
     "metadata": {},
     "output_type": "execute_result"
    }
   ],
   "source": [
    "parameters = [{'learning_rate': [0.2, 0.3], 'max_depth':[12, 14], 'min_samples_leaf':[200, 300], 'max_leaf_nodes': [101, 201]}]\n",
    "clf = GridSearchCV(m, parameters, cv=2)\n",
    "clf.fit(X, y)"
   ]
  },
  {
   "cell_type": "code",
   "execution_count": 100,
   "metadata": {},
   "outputs": [
    {
     "data": {
      "text/plain": [
       "0.21507724699024267"
      ]
     },
     "execution_count": 100,
     "metadata": {},
     "output_type": "execute_result"
    }
   ],
   "source": [
    "clf.best_score_"
   ]
  },
  {
   "cell_type": "code",
   "execution_count": 101,
   "metadata": {},
   "outputs": [
    {
     "data": {
      "text/plain": [
       "{'learning_rate': 0.2,\n",
       " 'max_depth': 14,\n",
       " 'max_leaf_nodes': 201,\n",
       " 'min_samples_leaf': 200}"
      ]
     },
     "execution_count": 101,
     "metadata": {},
     "output_type": "execute_result"
    }
   ],
   "source": [
    "clf.best_params_"
   ]
  },
  {
   "cell_type": "code",
   "execution_count": 102,
   "metadata": {},
   "outputs": [],
   "source": [
    "m=HistGradientBoostingRegressor(learning_rate=0.2, random_state=0)"
   ]
  },
  {
   "cell_type": "code",
   "execution_count": 103,
   "metadata": {},
   "outputs": [
    {
     "name": "stderr",
     "output_type": "stream",
     "text": [
      "/Users/camilacollado/opt/miniconda3/envs/myenv/lib/python3.9/site-packages/sklearn/utils/validation.py:993: DataConversionWarning: A column-vector y was passed when a 1d array was expected. Please change the shape of y to (n_samples, ), for example using ravel().\n",
      "  y = column_or_1d(y, warn=True)\n",
      "/Users/camilacollado/opt/miniconda3/envs/myenv/lib/python3.9/site-packages/sklearn/utils/validation.py:993: DataConversionWarning: A column-vector y was passed when a 1d array was expected. Please change the shape of y to (n_samples, ), for example using ravel().\n",
      "  y = column_or_1d(y, warn=True)\n",
      "/Users/camilacollado/opt/miniconda3/envs/myenv/lib/python3.9/site-packages/sklearn/utils/validation.py:993: DataConversionWarning: A column-vector y was passed when a 1d array was expected. Please change the shape of y to (n_samples, ), for example using ravel().\n",
      "  y = column_or_1d(y, warn=True)\n",
      "/Users/camilacollado/opt/miniconda3/envs/myenv/lib/python3.9/site-packages/sklearn/utils/validation.py:993: DataConversionWarning: A column-vector y was passed when a 1d array was expected. Please change the shape of y to (n_samples, ), for example using ravel().\n",
      "  y = column_or_1d(y, warn=True)\n",
      "/Users/camilacollado/opt/miniconda3/envs/myenv/lib/python3.9/site-packages/sklearn/utils/validation.py:993: DataConversionWarning: A column-vector y was passed when a 1d array was expected. Please change the shape of y to (n_samples, ), for example using ravel().\n",
      "  y = column_or_1d(y, warn=True)\n",
      "/Users/camilacollado/opt/miniconda3/envs/myenv/lib/python3.9/site-packages/sklearn/utils/validation.py:993: DataConversionWarning: A column-vector y was passed when a 1d array was expected. Please change the shape of y to (n_samples, ), for example using ravel().\n",
      "  y = column_or_1d(y, warn=True)\n",
      "/Users/camilacollado/opt/miniconda3/envs/myenv/lib/python3.9/site-packages/sklearn/utils/validation.py:993: DataConversionWarning: A column-vector y was passed when a 1d array was expected. Please change the shape of y to (n_samples, ), for example using ravel().\n",
      "  y = column_or_1d(y, warn=True)\n",
      "/Users/camilacollado/opt/miniconda3/envs/myenv/lib/python3.9/site-packages/sklearn/utils/validation.py:993: DataConversionWarning: A column-vector y was passed when a 1d array was expected. Please change the shape of y to (n_samples, ), for example using ravel().\n",
      "  y = column_or_1d(y, warn=True)\n",
      "/Users/camilacollado/opt/miniconda3/envs/myenv/lib/python3.9/site-packages/sklearn/utils/validation.py:993: DataConversionWarning: A column-vector y was passed when a 1d array was expected. Please change the shape of y to (n_samples, ), for example using ravel().\n",
      "  y = column_or_1d(y, warn=True)\n",
      "/Users/camilacollado/opt/miniconda3/envs/myenv/lib/python3.9/site-packages/sklearn/utils/validation.py:993: DataConversionWarning: A column-vector y was passed when a 1d array was expected. Please change the shape of y to (n_samples, ), for example using ravel().\n",
      "  y = column_or_1d(y, warn=True)\n",
      "/Users/camilacollado/opt/miniconda3/envs/myenv/lib/python3.9/site-packages/sklearn/utils/validation.py:993: DataConversionWarning: A column-vector y was passed when a 1d array was expected. Please change the shape of y to (n_samples, ), for example using ravel().\n",
      "  y = column_or_1d(y, warn=True)\n",
      "/Users/camilacollado/opt/miniconda3/envs/myenv/lib/python3.9/site-packages/sklearn/utils/validation.py:993: DataConversionWarning: A column-vector y was passed when a 1d array was expected. Please change the shape of y to (n_samples, ), for example using ravel().\n",
      "  y = column_or_1d(y, warn=True)\n",
      "/Users/camilacollado/opt/miniconda3/envs/myenv/lib/python3.9/site-packages/sklearn/utils/validation.py:993: DataConversionWarning: A column-vector y was passed when a 1d array was expected. Please change the shape of y to (n_samples, ), for example using ravel().\n",
      "  y = column_or_1d(y, warn=True)\n",
      "/Users/camilacollado/opt/miniconda3/envs/myenv/lib/python3.9/site-packages/sklearn/utils/validation.py:993: DataConversionWarning: A column-vector y was passed when a 1d array was expected. Please change the shape of y to (n_samples, ), for example using ravel().\n",
      "  y = column_or_1d(y, warn=True)\n",
      "/Users/camilacollado/opt/miniconda3/envs/myenv/lib/python3.9/site-packages/sklearn/utils/validation.py:993: DataConversionWarning: A column-vector y was passed when a 1d array was expected. Please change the shape of y to (n_samples, ), for example using ravel().\n",
      "  y = column_or_1d(y, warn=True)\n",
      "/Users/camilacollado/opt/miniconda3/envs/myenv/lib/python3.9/site-packages/sklearn/utils/validation.py:993: DataConversionWarning: A column-vector y was passed when a 1d array was expected. Please change the shape of y to (n_samples, ), for example using ravel().\n",
      "  y = column_or_1d(y, warn=True)\n",
      "/Users/camilacollado/opt/miniconda3/envs/myenv/lib/python3.9/site-packages/sklearn/utils/validation.py:993: DataConversionWarning: A column-vector y was passed when a 1d array was expected. Please change the shape of y to (n_samples, ), for example using ravel().\n",
      "  y = column_or_1d(y, warn=True)\n",
      "/Users/camilacollado/opt/miniconda3/envs/myenv/lib/python3.9/site-packages/sklearn/utils/validation.py:993: DataConversionWarning: A column-vector y was passed when a 1d array was expected. Please change the shape of y to (n_samples, ), for example using ravel().\n",
      "  y = column_or_1d(y, warn=True)\n",
      "/Users/camilacollado/opt/miniconda3/envs/myenv/lib/python3.9/site-packages/sklearn/utils/validation.py:993: DataConversionWarning: A column-vector y was passed when a 1d array was expected. Please change the shape of y to (n_samples, ), for example using ravel().\n",
      "  y = column_or_1d(y, warn=True)\n",
      "/Users/camilacollado/opt/miniconda3/envs/myenv/lib/python3.9/site-packages/sklearn/utils/validation.py:993: DataConversionWarning: A column-vector y was passed when a 1d array was expected. Please change the shape of y to (n_samples, ), for example using ravel().\n",
      "  y = column_or_1d(y, warn=True)\n",
      "/Users/camilacollado/opt/miniconda3/envs/myenv/lib/python3.9/site-packages/sklearn/utils/validation.py:993: DataConversionWarning: A column-vector y was passed when a 1d array was expected. Please change the shape of y to (n_samples, ), for example using ravel().\n",
      "  y = column_or_1d(y, warn=True)\n",
      "/Users/camilacollado/opt/miniconda3/envs/myenv/lib/python3.9/site-packages/sklearn/utils/validation.py:993: DataConversionWarning: A column-vector y was passed when a 1d array was expected. Please change the shape of y to (n_samples, ), for example using ravel().\n",
      "  y = column_or_1d(y, warn=True)\n",
      "/Users/camilacollado/opt/miniconda3/envs/myenv/lib/python3.9/site-packages/sklearn/utils/validation.py:993: DataConversionWarning: A column-vector y was passed when a 1d array was expected. Please change the shape of y to (n_samples, ), for example using ravel().\n",
      "  y = column_or_1d(y, warn=True)\n",
      "/Users/camilacollado/opt/miniconda3/envs/myenv/lib/python3.9/site-packages/sklearn/utils/validation.py:993: DataConversionWarning: A column-vector y was passed when a 1d array was expected. Please change the shape of y to (n_samples, ), for example using ravel().\n",
      "  y = column_or_1d(y, warn=True)\n",
      "/Users/camilacollado/opt/miniconda3/envs/myenv/lib/python3.9/site-packages/sklearn/utils/validation.py:993: DataConversionWarning: A column-vector y was passed when a 1d array was expected. Please change the shape of y to (n_samples, ), for example using ravel().\n",
      "  y = column_or_1d(y, warn=True)\n",
      "/Users/camilacollado/opt/miniconda3/envs/myenv/lib/python3.9/site-packages/sklearn/utils/validation.py:993: DataConversionWarning: A column-vector y was passed when a 1d array was expected. Please change the shape of y to (n_samples, ), for example using ravel().\n",
      "  y = column_or_1d(y, warn=True)\n",
      "/Users/camilacollado/opt/miniconda3/envs/myenv/lib/python3.9/site-packages/sklearn/utils/validation.py:993: DataConversionWarning: A column-vector y was passed when a 1d array was expected. Please change the shape of y to (n_samples, ), for example using ravel().\n",
      "  y = column_or_1d(y, warn=True)\n",
      "/Users/camilacollado/opt/miniconda3/envs/myenv/lib/python3.9/site-packages/sklearn/utils/validation.py:993: DataConversionWarning: A column-vector y was passed when a 1d array was expected. Please change the shape of y to (n_samples, ), for example using ravel().\n",
      "  y = column_or_1d(y, warn=True)\n",
      "/Users/camilacollado/opt/miniconda3/envs/myenv/lib/python3.9/site-packages/sklearn/utils/validation.py:993: DataConversionWarning: A column-vector y was passed when a 1d array was expected. Please change the shape of y to (n_samples, ), for example using ravel().\n",
      "  y = column_or_1d(y, warn=True)\n",
      "/Users/camilacollado/opt/miniconda3/envs/myenv/lib/python3.9/site-packages/sklearn/utils/validation.py:993: DataConversionWarning: A column-vector y was passed when a 1d array was expected. Please change the shape of y to (n_samples, ), for example using ravel().\n",
      "  y = column_or_1d(y, warn=True)\n",
      "/Users/camilacollado/opt/miniconda3/envs/myenv/lib/python3.9/site-packages/sklearn/utils/validation.py:993: DataConversionWarning: A column-vector y was passed when a 1d array was expected. Please change the shape of y to (n_samples, ), for example using ravel().\n",
      "  y = column_or_1d(y, warn=True)\n",
      "/Users/camilacollado/opt/miniconda3/envs/myenv/lib/python3.9/site-packages/sklearn/utils/validation.py:993: DataConversionWarning: A column-vector y was passed when a 1d array was expected. Please change the shape of y to (n_samples, ), for example using ravel().\n",
      "  y = column_or_1d(y, warn=True)\n",
      "/Users/camilacollado/opt/miniconda3/envs/myenv/lib/python3.9/site-packages/sklearn/utils/validation.py:993: DataConversionWarning: A column-vector y was passed when a 1d array was expected. Please change the shape of y to (n_samples, ), for example using ravel().\n",
      "  y = column_or_1d(y, warn=True)\n",
      "/Users/camilacollado/opt/miniconda3/envs/myenv/lib/python3.9/site-packages/sklearn/utils/validation.py:993: DataConversionWarning: A column-vector y was passed when a 1d array was expected. Please change the shape of y to (n_samples, ), for example using ravel().\n",
      "  y = column_or_1d(y, warn=True)\n",
      "/Users/camilacollado/opt/miniconda3/envs/myenv/lib/python3.9/site-packages/sklearn/utils/validation.py:993: DataConversionWarning: A column-vector y was passed when a 1d array was expected. Please change the shape of y to (n_samples, ), for example using ravel().\n",
      "  y = column_or_1d(y, warn=True)\n",
      "/Users/camilacollado/opt/miniconda3/envs/myenv/lib/python3.9/site-packages/sklearn/utils/validation.py:993: DataConversionWarning: A column-vector y was passed when a 1d array was expected. Please change the shape of y to (n_samples, ), for example using ravel().\n",
      "  y = column_or_1d(y, warn=True)\n",
      "/Users/camilacollado/opt/miniconda3/envs/myenv/lib/python3.9/site-packages/sklearn/utils/validation.py:993: DataConversionWarning: A column-vector y was passed when a 1d array was expected. Please change the shape of y to (n_samples, ), for example using ravel().\n",
      "  y = column_or_1d(y, warn=True)\n",
      "/Users/camilacollado/opt/miniconda3/envs/myenv/lib/python3.9/site-packages/sklearn/utils/validation.py:993: DataConversionWarning: A column-vector y was passed when a 1d array was expected. Please change the shape of y to (n_samples, ), for example using ravel().\n",
      "  y = column_or_1d(y, warn=True)\n",
      "/Users/camilacollado/opt/miniconda3/envs/myenv/lib/python3.9/site-packages/sklearn/utils/validation.py:993: DataConversionWarning: A column-vector y was passed when a 1d array was expected. Please change the shape of y to (n_samples, ), for example using ravel().\n",
      "  y = column_or_1d(y, warn=True)\n",
      "/Users/camilacollado/opt/miniconda3/envs/myenv/lib/python3.9/site-packages/sklearn/utils/validation.py:993: DataConversionWarning: A column-vector y was passed when a 1d array was expected. Please change the shape of y to (n_samples, ), for example using ravel().\n",
      "  y = column_or_1d(y, warn=True)\n",
      "/Users/camilacollado/opt/miniconda3/envs/myenv/lib/python3.9/site-packages/sklearn/utils/validation.py:993: DataConversionWarning: A column-vector y was passed when a 1d array was expected. Please change the shape of y to (n_samples, ), for example using ravel().\n",
      "  y = column_or_1d(y, warn=True)\n",
      "/Users/camilacollado/opt/miniconda3/envs/myenv/lib/python3.9/site-packages/sklearn/utils/validation.py:993: DataConversionWarning: A column-vector y was passed when a 1d array was expected. Please change the shape of y to (n_samples, ), for example using ravel().\n",
      "  y = column_or_1d(y, warn=True)\n",
      "/Users/camilacollado/opt/miniconda3/envs/myenv/lib/python3.9/site-packages/sklearn/utils/validation.py:993: DataConversionWarning: A column-vector y was passed when a 1d array was expected. Please change the shape of y to (n_samples, ), for example using ravel().\n",
      "  y = column_or_1d(y, warn=True)\n",
      "/Users/camilacollado/opt/miniconda3/envs/myenv/lib/python3.9/site-packages/sklearn/utils/validation.py:993: DataConversionWarning: A column-vector y was passed when a 1d array was expected. Please change the shape of y to (n_samples, ), for example using ravel().\n",
      "  y = column_or_1d(y, warn=True)\n",
      "/Users/camilacollado/opt/miniconda3/envs/myenv/lib/python3.9/site-packages/sklearn/utils/validation.py:993: DataConversionWarning: A column-vector y was passed when a 1d array was expected. Please change the shape of y to (n_samples, ), for example using ravel().\n",
      "  y = column_or_1d(y, warn=True)\n",
      "/Users/camilacollado/opt/miniconda3/envs/myenv/lib/python3.9/site-packages/sklearn/utils/validation.py:993: DataConversionWarning: A column-vector y was passed when a 1d array was expected. Please change the shape of y to (n_samples, ), for example using ravel().\n",
      "  y = column_or_1d(y, warn=True)\n",
      "/Users/camilacollado/opt/miniconda3/envs/myenv/lib/python3.9/site-packages/sklearn/utils/validation.py:993: DataConversionWarning: A column-vector y was passed when a 1d array was expected. Please change the shape of y to (n_samples, ), for example using ravel().\n",
      "  y = column_or_1d(y, warn=True)\n",
      "/Users/camilacollado/opt/miniconda3/envs/myenv/lib/python3.9/site-packages/sklearn/utils/validation.py:993: DataConversionWarning: A column-vector y was passed when a 1d array was expected. Please change the shape of y to (n_samples, ), for example using ravel().\n",
      "  y = column_or_1d(y, warn=True)\n",
      "/Users/camilacollado/opt/miniconda3/envs/myenv/lib/python3.9/site-packages/sklearn/utils/validation.py:993: DataConversionWarning: A column-vector y was passed when a 1d array was expected. Please change the shape of y to (n_samples, ), for example using ravel().\n",
      "  y = column_or_1d(y, warn=True)\n"
     ]
    },
    {
     "data": {
      "text/plain": [
       "GridSearchCV(cv=4,\n",
       "             estimator=HistGradientBoostingRegressor(learning_rate=0.2,\n",
       "                                                     random_state=0),\n",
       "             param_grid=[{'max_depth': [14, 16],\n",
       "                          'max_leaf_nodes': [201, 251, 301],\n",
       "                          'min_samples_leaf': [200, 250]}])"
      ]
     },
     "execution_count": 103,
     "metadata": {},
     "output_type": "execute_result"
    }
   ],
   "source": [
    "parameters = [{'max_depth':[14, 16], 'min_samples_leaf':[200, 250], 'max_leaf_nodes': [201,251,301]}]\n",
    "clf = GridSearchCV(m, parameters, cv=4)\n",
    "clf.fit(X, y)"
   ]
  },
  {
   "cell_type": "code",
   "execution_count": 104,
   "metadata": {},
   "outputs": [
    {
     "data": {
      "text/plain": [
       "0.22330259226120944"
      ]
     },
     "execution_count": 104,
     "metadata": {},
     "output_type": "execute_result"
    }
   ],
   "source": [
    "clf.best_score_"
   ]
  },
  {
   "cell_type": "code",
   "execution_count": 105,
   "metadata": {},
   "outputs": [
    {
     "data": {
      "text/plain": [
       "{'max_depth': 16, 'max_leaf_nodes': 301, 'min_samples_leaf': 200}"
      ]
     },
     "execution_count": 105,
     "metadata": {},
     "output_type": "execute_result"
    }
   ],
   "source": [
    "clf.best_params_"
   ]
  },
  {
   "cell_type": "code",
   "execution_count": 107,
   "metadata": {},
   "outputs": [],
   "source": [
    "m=HistGradientBoostingRegressor(learning_rate=0.2, random_state=0,min_samples_leaf=200, max_leaf_nodes=10001)"
   ]
  },
  {
   "cell_type": "code",
   "execution_count": 108,
   "metadata": {},
   "outputs": [
    {
     "name": "stderr",
     "output_type": "stream",
     "text": [
      "/Users/camilacollado/opt/miniconda3/envs/myenv/lib/python3.9/site-packages/sklearn/utils/validation.py:993: DataConversionWarning: A column-vector y was passed when a 1d array was expected. Please change the shape of y to (n_samples, ), for example using ravel().\n",
      "  y = column_or_1d(y, warn=True)\n",
      "/Users/camilacollado/opt/miniconda3/envs/myenv/lib/python3.9/site-packages/sklearn/utils/validation.py:993: DataConversionWarning: A column-vector y was passed when a 1d array was expected. Please change the shape of y to (n_samples, ), for example using ravel().\n",
      "  y = column_or_1d(y, warn=True)\n",
      "/Users/camilacollado/opt/miniconda3/envs/myenv/lib/python3.9/site-packages/sklearn/utils/validation.py:993: DataConversionWarning: A column-vector y was passed when a 1d array was expected. Please change the shape of y to (n_samples, ), for example using ravel().\n",
      "  y = column_or_1d(y, warn=True)\n",
      "/Users/camilacollado/opt/miniconda3/envs/myenv/lib/python3.9/site-packages/sklearn/utils/validation.py:993: DataConversionWarning: A column-vector y was passed when a 1d array was expected. Please change the shape of y to (n_samples, ), for example using ravel().\n",
      "  y = column_or_1d(y, warn=True)\n",
      "/Users/camilacollado/opt/miniconda3/envs/myenv/lib/python3.9/site-packages/sklearn/utils/validation.py:993: DataConversionWarning: A column-vector y was passed when a 1d array was expected. Please change the shape of y to (n_samples, ), for example using ravel().\n",
      "  y = column_or_1d(y, warn=True)\n",
      "/Users/camilacollado/opt/miniconda3/envs/myenv/lib/python3.9/site-packages/sklearn/utils/validation.py:993: DataConversionWarning: A column-vector y was passed when a 1d array was expected. Please change the shape of y to (n_samples, ), for example using ravel().\n",
      "  y = column_or_1d(y, warn=True)\n",
      "/Users/camilacollado/opt/miniconda3/envs/myenv/lib/python3.9/site-packages/sklearn/utils/validation.py:993: DataConversionWarning: A column-vector y was passed when a 1d array was expected. Please change the shape of y to (n_samples, ), for example using ravel().\n",
      "  y = column_or_1d(y, warn=True)\n",
      "/Users/camilacollado/opt/miniconda3/envs/myenv/lib/python3.9/site-packages/sklearn/utils/validation.py:993: DataConversionWarning: A column-vector y was passed when a 1d array was expected. Please change the shape of y to (n_samples, ), for example using ravel().\n",
      "  y = column_or_1d(y, warn=True)\n",
      "/Users/camilacollado/opt/miniconda3/envs/myenv/lib/python3.9/site-packages/sklearn/utils/validation.py:993: DataConversionWarning: A column-vector y was passed when a 1d array was expected. Please change the shape of y to (n_samples, ), for example using ravel().\n",
      "  y = column_or_1d(y, warn=True)\n",
      "/Users/camilacollado/opt/miniconda3/envs/myenv/lib/python3.9/site-packages/sklearn/utils/validation.py:993: DataConversionWarning: A column-vector y was passed when a 1d array was expected. Please change the shape of y to (n_samples, ), for example using ravel().\n",
      "  y = column_or_1d(y, warn=True)\n",
      "/Users/camilacollado/opt/miniconda3/envs/myenv/lib/python3.9/site-packages/sklearn/utils/validation.py:993: DataConversionWarning: A column-vector y was passed when a 1d array was expected. Please change the shape of y to (n_samples, ), for example using ravel().\n",
      "  y = column_or_1d(y, warn=True)\n",
      "/Users/camilacollado/opt/miniconda3/envs/myenv/lib/python3.9/site-packages/sklearn/utils/validation.py:993: DataConversionWarning: A column-vector y was passed when a 1d array was expected. Please change the shape of y to (n_samples, ), for example using ravel().\n",
      "  y = column_or_1d(y, warn=True)\n",
      "/Users/camilacollado/opt/miniconda3/envs/myenv/lib/python3.9/site-packages/sklearn/utils/validation.py:993: DataConversionWarning: A column-vector y was passed when a 1d array was expected. Please change the shape of y to (n_samples, ), for example using ravel().\n",
      "  y = column_or_1d(y, warn=True)\n"
     ]
    },
    {
     "data": {
      "text/plain": [
       "GridSearchCV(cv=4,\n",
       "             estimator=HistGradientBoostingRegressor(learning_rate=0.2,\n",
       "                                                     max_leaf_nodes=10001,\n",
       "                                                     min_samples_leaf=200,\n",
       "                                                     random_state=0),\n",
       "             param_grid=[{'max_depth': [16, 18, 20]}])"
      ]
     },
     "execution_count": 108,
     "metadata": {},
     "output_type": "execute_result"
    }
   ],
   "source": [
    "parameters = [{'max_depth':[16, 18, 20]}]\n",
    "clf = GridSearchCV(m, parameters, cv=4)\n",
    "clf.fit(X, y)"
   ]
  },
  {
   "cell_type": "code",
   "execution_count": 109,
   "metadata": {},
   "outputs": [
    {
     "data": {
      "text/plain": [
       "0.22405603010753541"
      ]
     },
     "execution_count": 109,
     "metadata": {},
     "output_type": "execute_result"
    }
   ],
   "source": [
    "clf.best_score_"
   ]
  },
  {
   "cell_type": "code",
   "execution_count": 110,
   "metadata": {},
   "outputs": [
    {
     "data": {
      "text/plain": [
       "{'max_depth': 16}"
      ]
     },
     "execution_count": 110,
     "metadata": {},
     "output_type": "execute_result"
    }
   ],
   "source": [
    "clf.best_params_"
   ]
  },
  {
   "cell_type": "code",
   "execution_count": 98,
   "metadata": {},
   "outputs": [],
   "source": [
    "m=HistGradientBoostingRegressor(learning_rate=0.2, random_state=0,min_samples_leaf=200, max_depth=16)"
   ]
  },
  {
   "cell_type": "code",
   "execution_count": 99,
   "metadata": {},
   "outputs": [
    {
     "name": "stderr",
     "output_type": "stream",
     "text": [
      "/Users/camilacollado/opt/miniconda3/envs/myenv/lib/python3.9/site-packages/sklearn/utils/validation.py:993: DataConversionWarning: A column-vector y was passed when a 1d array was expected. Please change the shape of y to (n_samples, ), for example using ravel().\n",
      "  y = column_or_1d(y, warn=True)\n",
      "/Users/camilacollado/opt/miniconda3/envs/myenv/lib/python3.9/site-packages/sklearn/utils/validation.py:993: DataConversionWarning: A column-vector y was passed when a 1d array was expected. Please change the shape of y to (n_samples, ), for example using ravel().\n",
      "  y = column_or_1d(y, warn=True)\n",
      "/Users/camilacollado/opt/miniconda3/envs/myenv/lib/python3.9/site-packages/sklearn/utils/validation.py:993: DataConversionWarning: A column-vector y was passed when a 1d array was expected. Please change the shape of y to (n_samples, ), for example using ravel().\n",
      "  y = column_or_1d(y, warn=True)\n",
      "/Users/camilacollado/opt/miniconda3/envs/myenv/lib/python3.9/site-packages/sklearn/utils/validation.py:993: DataConversionWarning: A column-vector y was passed when a 1d array was expected. Please change the shape of y to (n_samples, ), for example using ravel().\n",
      "  y = column_or_1d(y, warn=True)\n",
      "/Users/camilacollado/opt/miniconda3/envs/myenv/lib/python3.9/site-packages/sklearn/utils/validation.py:993: DataConversionWarning: A column-vector y was passed when a 1d array was expected. Please change the shape of y to (n_samples, ), for example using ravel().\n",
      "  y = column_or_1d(y, warn=True)\n",
      "/Users/camilacollado/opt/miniconda3/envs/myenv/lib/python3.9/site-packages/sklearn/utils/validation.py:993: DataConversionWarning: A column-vector y was passed when a 1d array was expected. Please change the shape of y to (n_samples, ), for example using ravel().\n",
      "  y = column_or_1d(y, warn=True)\n",
      "/Users/camilacollado/opt/miniconda3/envs/myenv/lib/python3.9/site-packages/sklearn/utils/validation.py:993: DataConversionWarning: A column-vector y was passed when a 1d array was expected. Please change the shape of y to (n_samples, ), for example using ravel().\n",
      "  y = column_or_1d(y, warn=True)\n",
      "/Users/camilacollado/opt/miniconda3/envs/myenv/lib/python3.9/site-packages/sklearn/utils/validation.py:993: DataConversionWarning: A column-vector y was passed when a 1d array was expected. Please change the shape of y to (n_samples, ), for example using ravel().\n",
      "  y = column_or_1d(y, warn=True)\n",
      "/Users/camilacollado/opt/miniconda3/envs/myenv/lib/python3.9/site-packages/sklearn/utils/validation.py:993: DataConversionWarning: A column-vector y was passed when a 1d array was expected. Please change the shape of y to (n_samples, ), for example using ravel().\n",
      "  y = column_or_1d(y, warn=True)\n",
      "/Users/camilacollado/opt/miniconda3/envs/myenv/lib/python3.9/site-packages/sklearn/utils/validation.py:993: DataConversionWarning: A column-vector y was passed when a 1d array was expected. Please change the shape of y to (n_samples, ), for example using ravel().\n",
      "  y = column_or_1d(y, warn=True)\n",
      "/Users/camilacollado/opt/miniconda3/envs/myenv/lib/python3.9/site-packages/sklearn/utils/validation.py:993: DataConversionWarning: A column-vector y was passed when a 1d array was expected. Please change the shape of y to (n_samples, ), for example using ravel().\n",
      "  y = column_or_1d(y, warn=True)\n",
      "/Users/camilacollado/opt/miniconda3/envs/myenv/lib/python3.9/site-packages/sklearn/utils/validation.py:993: DataConversionWarning: A column-vector y was passed when a 1d array was expected. Please change the shape of y to (n_samples, ), for example using ravel().\n",
      "  y = column_or_1d(y, warn=True)\n",
      "/Users/camilacollado/opt/miniconda3/envs/myenv/lib/python3.9/site-packages/sklearn/utils/validation.py:993: DataConversionWarning: A column-vector y was passed when a 1d array was expected. Please change the shape of y to (n_samples, ), for example using ravel().\n",
      "  y = column_or_1d(y, warn=True)\n",
      "/Users/camilacollado/opt/miniconda3/envs/myenv/lib/python3.9/site-packages/sklearn/utils/validation.py:993: DataConversionWarning: A column-vector y was passed when a 1d array was expected. Please change the shape of y to (n_samples, ), for example using ravel().\n",
      "  y = column_or_1d(y, warn=True)\n",
      "/Users/camilacollado/opt/miniconda3/envs/myenv/lib/python3.9/site-packages/sklearn/utils/validation.py:993: DataConversionWarning: A column-vector y was passed when a 1d array was expected. Please change the shape of y to (n_samples, ), for example using ravel().\n",
      "  y = column_or_1d(y, warn=True)\n",
      "/Users/camilacollado/opt/miniconda3/envs/myenv/lib/python3.9/site-packages/sklearn/utils/validation.py:993: DataConversionWarning: A column-vector y was passed when a 1d array was expected. Please change the shape of y to (n_samples, ), for example using ravel().\n",
      "  y = column_or_1d(y, warn=True)\n",
      "/Users/camilacollado/opt/miniconda3/envs/myenv/lib/python3.9/site-packages/sklearn/utils/validation.py:993: DataConversionWarning: A column-vector y was passed when a 1d array was expected. Please change the shape of y to (n_samples, ), for example using ravel().\n",
      "  y = column_or_1d(y, warn=True)\n"
     ]
    },
    {
     "data": {
      "text/plain": [
       "GridSearchCV(cv=4,\n",
       "             estimator=HistGradientBoostingRegressor(learning_rate=0.2,\n",
       "                                                     max_depth=16,\n",
       "                                                     min_samples_leaf=200,\n",
       "                                                     random_state=0),\n",
       "             param_grid=[{'max_leaf_nodes': [301, 10001, 500001, 1000001]}])"
      ]
     },
     "execution_count": 99,
     "metadata": {},
     "output_type": "execute_result"
    }
   ],
   "source": [
    "parameters = [{'max_leaf_nodes':[301,10001, 500001, 1000001]}]\n",
    "clf = GridSearchCV(m, parameters, cv=4)\n",
    "clf.fit(X, y)"
   ]
  },
  {
   "cell_type": "code",
   "execution_count": 100,
   "metadata": {},
   "outputs": [
    {
     "data": {
      "text/plain": [
       "0.22405603010753541"
      ]
     },
     "execution_count": 100,
     "metadata": {},
     "output_type": "execute_result"
    }
   ],
   "source": [
    "clf.best_score_"
   ]
  },
  {
   "cell_type": "code",
   "execution_count": 101,
   "metadata": {},
   "outputs": [
    {
     "data": {
      "text/plain": [
       "{'max_leaf_nodes': 10001}"
      ]
     },
     "execution_count": 101,
     "metadata": {},
     "output_type": "execute_result"
    }
   ],
   "source": [
    "clf.best_params_"
   ]
  },
  {
   "cell_type": "markdown",
   "metadata": {},
   "source": [
    "Modelo (casi) final con Histogram Grad Boost"
   ]
  },
  {
   "cell_type": "code",
   "execution_count": 113,
   "metadata": {},
   "outputs": [],
   "source": [
    "m1=HistGradientBoostingRegressor(learning_rate=0.2, random_state=0,min_samples_leaf=200, max_depth=16, max_leaf_nodes=10001)"
   ]
  },
  {
   "cell_type": "code",
   "execution_count": 114,
   "metadata": {},
   "outputs": [
    {
     "name": "stderr",
     "output_type": "stream",
     "text": [
      "/Users/camilacollado/opt/miniconda3/envs/myenv/lib/python3.9/site-packages/sklearn/utils/validation.py:993: DataConversionWarning: A column-vector y was passed when a 1d array was expected. Please change the shape of y to (n_samples, ), for example using ravel().\n",
      "  y = column_or_1d(y, warn=True)\n"
     ]
    },
    {
     "data": {
      "text/plain": [
       "HistGradientBoostingRegressor(learning_rate=0.2, max_depth=16,\n",
       "                              max_leaf_nodes=10001, min_samples_leaf=200,\n",
       "                              random_state=0)"
      ]
     },
     "execution_count": 114,
     "metadata": {},
     "output_type": "execute_result"
    }
   ],
   "source": [
    "m1.fit(X_train, y_train)"
   ]
  },
  {
   "cell_type": "code",
   "execution_count": 115,
   "metadata": {},
   "outputs": [
    {
     "data": {
      "text/plain": [
       "0.224711114357373"
      ]
     },
     "execution_count": 115,
     "metadata": {},
     "output_type": "execute_result"
    }
   ],
   "source": [
    "m1.score(X_test, y_test)"
   ]
  },
  {
   "cell_type": "code",
   "execution_count": 116,
   "metadata": {},
   "outputs": [],
   "source": [
    "y_pred = m1.predict(X_test)"
   ]
  },
  {
   "cell_type": "code",
   "execution_count": 117,
   "metadata": {},
   "outputs": [
    {
     "data": {
      "text/plain": [
       "3.977307561783169"
      ]
     },
     "execution_count": 117,
     "metadata": {},
     "output_type": "execute_result"
    }
   ],
   "source": [
    "# Maximum residual error.\n",
    "from sklearn.metrics import max_error\n",
    "max_error(y_test, y_pred)\n",
    "# best value is 0"
   ]
  },
  {
   "cell_type": "code",
   "execution_count": 118,
   "metadata": {},
   "outputs": [
    {
     "data": {
      "text/plain": [
       "0.444913489149891"
      ]
     },
     "execution_count": 118,
     "metadata": {},
     "output_type": "execute_result"
    }
   ],
   "source": [
    "# Mean absolute error regression loss.\n",
    "from sklearn.metrics import mean_absolute_error\n",
    "mean_absolute_error(y_test, y_pred)\n",
    "# best value is 0"
   ]
  },
  {
   "cell_type": "code",
   "execution_count": 119,
   "metadata": {},
   "outputs": [
    {
     "data": {
      "text/plain": [
       "0.224711114357373"
      ]
     },
     "execution_count": 119,
     "metadata": {},
     "output_type": "execute_result"
    }
   ],
   "source": [
    "from sklearn.metrics import r2_score\n",
    "r2_score(y_test, y_pred)"
   ]
  },
  {
   "cell_type": "markdown",
   "metadata": {},
   "source": [
    "Para ver la feature importance de este modelo, no pude encontrar una manera de hacer desde sklearn.\n",
    "Como este algoritmo está inspirado en lightGBM, lo voy a replicar en este para sacar la feature importance."
   ]
  },
  {
   "cell_type": "code",
   "execution_count": 124,
   "metadata": {},
   "outputs": [
    {
     "name": "stdout",
     "output_type": "stream",
     "text": [
      "Test Score: 0.1988346263626838\n"
     ]
    }
   ],
   "source": [
    "m2 = LGBMRegressor(random_state=0,learning_rate=0.2,min_samples_leaf=200, max_depth=16, max_leaf_nodes=10001)\n",
    "m2.fit(X_train, y_train)\n",
    "print(\"Test Score: {}\".format(m2.score(X_test,y_test)))"
   ]
  },
  {
   "cell_type": "code",
   "execution_count": 127,
   "metadata": {},
   "outputs": [
    {
     "data": {
      "text/html": [
       "<div>\n",
       "<style scoped>\n",
       "    .dataframe tbody tr th:only-of-type {\n",
       "        vertical-align: middle;\n",
       "    }\n",
       "\n",
       "    .dataframe tbody tr th {\n",
       "        vertical-align: top;\n",
       "    }\n",
       "\n",
       "    .dataframe thead th {\n",
       "        text-align: right;\n",
       "    }\n",
       "</style>\n",
       "<table border=\"1\" class=\"dataframe\">\n",
       "  <thead>\n",
       "    <tr style=\"text-align: right;\">\n",
       "      <th></th>\n",
       "      <th>Feature name</th>\n",
       "      <th>Feature importance</th>\n",
       "    </tr>\n",
       "  </thead>\n",
       "  <tbody>\n",
       "    <tr>\n",
       "      <th>10</th>\n",
       "      <td>Dev_freq_encode</td>\n",
       "      <td>537</td>\n",
       "    </tr>\n",
       "    <tr>\n",
       "      <th>0</th>\n",
       "      <td>MaximumInstalls</td>\n",
       "      <td>353</td>\n",
       "    </tr>\n",
       "    <tr>\n",
       "      <th>7</th>\n",
       "      <td>ReleasedDA</td>\n",
       "      <td>321</td>\n",
       "    </tr>\n",
       "    <tr>\n",
       "      <th>2</th>\n",
       "      <td>SizeMB</td>\n",
       "      <td>304</td>\n",
       "    </tr>\n",
       "    <tr>\n",
       "      <th>8</th>\n",
       "      <td>LastUpdatedDA</td>\n",
       "      <td>298</td>\n",
       "    </tr>\n",
       "    <tr>\n",
       "      <th>11</th>\n",
       "      <td>Android_freq_encode</td>\n",
       "      <td>208</td>\n",
       "    </tr>\n",
       "    <tr>\n",
       "      <th>16</th>\n",
       "      <td>Category_4</td>\n",
       "      <td>117</td>\n",
       "    </tr>\n",
       "    <tr>\n",
       "      <th>4</th>\n",
       "      <td>AdSupported</td>\n",
       "      <td>117</td>\n",
       "    </tr>\n",
       "    <tr>\n",
       "      <th>14</th>\n",
       "      <td>Category_2</td>\n",
       "      <td>110</td>\n",
       "    </tr>\n",
       "    <tr>\n",
       "      <th>17</th>\n",
       "      <td>Category_5</td>\n",
       "      <td>109</td>\n",
       "    </tr>\n",
       "    <tr>\n",
       "      <th>5</th>\n",
       "      <td>InAppPurchases</td>\n",
       "      <td>104</td>\n",
       "    </tr>\n",
       "    <tr>\n",
       "      <th>15</th>\n",
       "      <td>Category_3</td>\n",
       "      <td>104</td>\n",
       "    </tr>\n",
       "    <tr>\n",
       "      <th>13</th>\n",
       "      <td>Category_1</td>\n",
       "      <td>93</td>\n",
       "    </tr>\n",
       "    <tr>\n",
       "      <th>12</th>\n",
       "      <td>Category_0</td>\n",
       "      <td>85</td>\n",
       "    </tr>\n",
       "    <tr>\n",
       "      <th>9</th>\n",
       "      <td>ContentRatingOrdinal</td>\n",
       "      <td>72</td>\n",
       "    </tr>\n",
       "    <tr>\n",
       "      <th>1</th>\n",
       "      <td>Price</td>\n",
       "      <td>62</td>\n",
       "    </tr>\n",
       "    <tr>\n",
       "      <th>6</th>\n",
       "      <td>EditorsChoice</td>\n",
       "      <td>6</td>\n",
       "    </tr>\n",
       "    <tr>\n",
       "      <th>3</th>\n",
       "      <td>Free</td>\n",
       "      <td>0</td>\n",
       "    </tr>\n",
       "  </tbody>\n",
       "</table>\n",
       "</div>"
      ],
      "text/plain": [
       "            Feature name  Feature importance\n",
       "10       Dev_freq_encode                 537\n",
       "0        MaximumInstalls                 353\n",
       "7             ReleasedDA                 321\n",
       "2                 SizeMB                 304\n",
       "8          LastUpdatedDA                 298\n",
       "11   Android_freq_encode                 208\n",
       "16            Category_4                 117\n",
       "4            AdSupported                 117\n",
       "14            Category_2                 110\n",
       "17            Category_5                 109\n",
       "5         InAppPurchases                 104\n",
       "15            Category_3                 104\n",
       "13            Category_1                  93\n",
       "12            Category_0                  85\n",
       "9   ContentRatingOrdinal                  72\n",
       "1                  Price                  62\n",
       "6          EditorsChoice                   6\n",
       "3                   Free                   0"
      ]
     },
     "execution_count": 127,
     "metadata": {},
     "output_type": "execute_result"
    }
   ],
   "source": [
    "tabla= pd.DataFrame(m2.feature_name_)\n",
    "tabla = tabla.rename(columns={0:'Feature name'})\n",
    "tabla['Feature importance']=m2.feature_importances_\n",
    "tabla.sort_values(['Feature importance'], ascending=False)"
   ]
  },
  {
   "cell_type": "code",
   "execution_count": 133,
   "metadata": {},
   "outputs": [
    {
     "data": {
      "text/plain": [
       "{'categorical_features': None,\n",
       " 'early_stopping': 'auto',\n",
       " 'l2_regularization': 0.0,\n",
       " 'learning_rate': 0.2,\n",
       " 'loss': 'squared_error',\n",
       " 'max_bins': 255,\n",
       " 'max_depth': 16,\n",
       " 'max_iter': 100,\n",
       " 'max_leaf_nodes': 10001,\n",
       " 'min_samples_leaf': 200,\n",
       " 'monotonic_cst': None,\n",
       " 'n_iter_no_change': 10,\n",
       " 'random_state': 0,\n",
       " 'scoring': 'loss',\n",
       " 'tol': 1e-07,\n",
       " 'validation_fraction': 0.1,\n",
       " 'verbose': 0,\n",
       " 'warm_start': False}"
      ]
     },
     "execution_count": 133,
     "metadata": {},
     "output_type": "execute_result"
    }
   ],
   "source": [
    "m1.get_params()"
   ]
  },
  {
   "cell_type": "code",
   "execution_count": 134,
   "metadata": {},
   "outputs": [
    {
     "name": "stderr",
     "output_type": "stream",
     "text": [
      "/Users/camilacollado/opt/miniconda3/envs/myenv/lib/python3.9/site-packages/sklearn/utils/validation.py:993: DataConversionWarning: A column-vector y was passed when a 1d array was expected. Please change the shape of y to (n_samples, ), for example using ravel().\n",
      "  y = column_or_1d(y, warn=True)\n",
      "/Users/camilacollado/opt/miniconda3/envs/myenv/lib/python3.9/site-packages/sklearn/utils/validation.py:993: DataConversionWarning: A column-vector y was passed when a 1d array was expected. Please change the shape of y to (n_samples, ), for example using ravel().\n",
      "  y = column_or_1d(y, warn=True)\n",
      "/Users/camilacollado/opt/miniconda3/envs/myenv/lib/python3.9/site-packages/sklearn/utils/validation.py:993: DataConversionWarning: A column-vector y was passed when a 1d array was expected. Please change the shape of y to (n_samples, ), for example using ravel().\n",
      "  y = column_or_1d(y, warn=True)\n",
      "/Users/camilacollado/opt/miniconda3/envs/myenv/lib/python3.9/site-packages/sklearn/utils/validation.py:993: DataConversionWarning: A column-vector y was passed when a 1d array was expected. Please change the shape of y to (n_samples, ), for example using ravel().\n",
      "  y = column_or_1d(y, warn=True)\n",
      "/Users/camilacollado/opt/miniconda3/envs/myenv/lib/python3.9/site-packages/sklearn/utils/validation.py:993: DataConversionWarning: A column-vector y was passed when a 1d array was expected. Please change the shape of y to (n_samples, ), for example using ravel().\n",
      "  y = column_or_1d(y, warn=True)\n",
      "/Users/camilacollado/opt/miniconda3/envs/myenv/lib/python3.9/site-packages/sklearn/utils/validation.py:993: DataConversionWarning: A column-vector y was passed when a 1d array was expected. Please change the shape of y to (n_samples, ), for example using ravel().\n",
      "  y = column_or_1d(y, warn=True)\n",
      "/Users/camilacollado/opt/miniconda3/envs/myenv/lib/python3.9/site-packages/sklearn/utils/validation.py:993: DataConversionWarning: A column-vector y was passed when a 1d array was expected. Please change the shape of y to (n_samples, ), for example using ravel().\n",
      "  y = column_or_1d(y, warn=True)\n",
      "/Users/camilacollado/opt/miniconda3/envs/myenv/lib/python3.9/site-packages/sklearn/utils/validation.py:993: DataConversionWarning: A column-vector y was passed when a 1d array was expected. Please change the shape of y to (n_samples, ), for example using ravel().\n",
      "  y = column_or_1d(y, warn=True)\n",
      "/Users/camilacollado/opt/miniconda3/envs/myenv/lib/python3.9/site-packages/sklearn/utils/validation.py:993: DataConversionWarning: A column-vector y was passed when a 1d array was expected. Please change the shape of y to (n_samples, ), for example using ravel().\n",
      "  y = column_or_1d(y, warn=True)\n"
     ]
    },
    {
     "data": {
      "text/plain": [
       "{'l2_regularization': 10}"
      ]
     },
     "execution_count": 134,
     "metadata": {},
     "output_type": "execute_result"
    }
   ],
   "source": [
    "parameters = [{'l2_regularization': [0.0, 0.5, 1, 10]}]\n",
    "clf1 = GridSearchCV(m1, parameters, cv=2)\n",
    "clf1.fit(X, y)"
   ]
  },
  {
   "cell_type": "code",
   "execution_count": 135,
   "metadata": {},
   "outputs": [
    {
     "data": {
      "text/plain": [
       "0.21688737546842718"
      ]
     },
     "execution_count": 135,
     "metadata": {},
     "output_type": "execute_result"
    }
   ],
   "source": [
    "clf1.best_score_"
   ]
  },
  {
   "cell_type": "code",
   "execution_count": 136,
   "metadata": {},
   "outputs": [
    {
     "data": {
      "text/plain": [
       "{'l2_regularization': 10}"
      ]
     },
     "execution_count": 136,
     "metadata": {},
     "output_type": "execute_result"
    }
   ],
   "source": [
    "clf1.best_params_"
   ]
  },
  {
   "cell_type": "code",
   "execution_count": 138,
   "metadata": {},
   "outputs": [
    {
     "name": "stderr",
     "output_type": "stream",
     "text": [
      "/Users/camilacollado/opt/miniconda3/envs/myenv/lib/python3.9/site-packages/sklearn/utils/validation.py:993: DataConversionWarning: A column-vector y was passed when a 1d array was expected. Please change the shape of y to (n_samples, ), for example using ravel().\n",
      "  y = column_or_1d(y, warn=True)\n",
      "/Users/camilacollado/opt/miniconda3/envs/myenv/lib/python3.9/site-packages/sklearn/utils/validation.py:993: DataConversionWarning: A column-vector y was passed when a 1d array was expected. Please change the shape of y to (n_samples, ), for example using ravel().\n",
      "  y = column_or_1d(y, warn=True)\n",
      "/Users/camilacollado/opt/miniconda3/envs/myenv/lib/python3.9/site-packages/sklearn/utils/validation.py:993: DataConversionWarning: A column-vector y was passed when a 1d array was expected. Please change the shape of y to (n_samples, ), for example using ravel().\n",
      "  y = column_or_1d(y, warn=True)\n",
      "/Users/camilacollado/opt/miniconda3/envs/myenv/lib/python3.9/site-packages/sklearn/utils/validation.py:993: DataConversionWarning: A column-vector y was passed when a 1d array was expected. Please change the shape of y to (n_samples, ), for example using ravel().\n",
      "  y = column_or_1d(y, warn=True)\n",
      "/Users/camilacollado/opt/miniconda3/envs/myenv/lib/python3.9/site-packages/sklearn/utils/validation.py:993: DataConversionWarning: A column-vector y was passed when a 1d array was expected. Please change the shape of y to (n_samples, ), for example using ravel().\n",
      "  y = column_or_1d(y, warn=True)\n",
      "/Users/camilacollado/opt/miniconda3/envs/myenv/lib/python3.9/site-packages/sklearn/utils/validation.py:993: DataConversionWarning: A column-vector y was passed when a 1d array was expected. Please change the shape of y to (n_samples, ), for example using ravel().\n",
      "  y = column_or_1d(y, warn=True)\n",
      "/Users/camilacollado/opt/miniconda3/envs/myenv/lib/python3.9/site-packages/sklearn/utils/validation.py:993: DataConversionWarning: A column-vector y was passed when a 1d array was expected. Please change the shape of y to (n_samples, ), for example using ravel().\n",
      "  y = column_or_1d(y, warn=True)\n"
     ]
    },
    {
     "data": {
      "text/plain": [
       "GridSearchCV(cv=2,\n",
       "             estimator=HistGradientBoostingRegressor(learning_rate=0.2,\n",
       "                                                     max_depth=16,\n",
       "                                                     max_leaf_nodes=10001,\n",
       "                                                     min_samples_leaf=200,\n",
       "                                                     random_state=0),\n",
       "             param_grid={'l2_regularization': [10, 15, 20]})"
      ]
     },
     "execution_count": 138,
     "metadata": {},
     "output_type": "execute_result"
    }
   ],
   "source": [
    "parameters = {'l2_regularization': [10, 15, 20]}\n",
    "clf2 = GridSearchCV(m1, parameters, cv=2)\n",
    "clf2.fit(X, y)"
   ]
  },
  {
   "cell_type": "code",
   "execution_count": 142,
   "metadata": {},
   "outputs": [
    {
     "data": {
      "text/plain": [
       "0.21707237650865607"
      ]
     },
     "execution_count": 142,
     "metadata": {},
     "output_type": "execute_result"
    }
   ],
   "source": [
    "clf2.best_score_"
   ]
  },
  {
   "cell_type": "code",
   "execution_count": 143,
   "metadata": {},
   "outputs": [
    {
     "data": {
      "text/plain": [
       "{'l2_regularization': 15}"
      ]
     },
     "execution_count": 143,
     "metadata": {},
     "output_type": "execute_result"
    }
   ],
   "source": [
    "clf2.best_params_"
   ]
  },
  {
   "cell_type": "code",
   "execution_count": 144,
   "metadata": {},
   "outputs": [
    {
     "name": "stderr",
     "output_type": "stream",
     "text": [
      "/Users/camilacollado/opt/miniconda3/envs/myenv/lib/python3.9/site-packages/sklearn/utils/validation.py:993: DataConversionWarning: A column-vector y was passed when a 1d array was expected. Please change the shape of y to (n_samples, ), for example using ravel().\n",
      "  y = column_or_1d(y, warn=True)\n",
      "/Users/camilacollado/opt/miniconda3/envs/myenv/lib/python3.9/site-packages/sklearn/utils/validation.py:993: DataConversionWarning: A column-vector y was passed when a 1d array was expected. Please change the shape of y to (n_samples, ), for example using ravel().\n",
      "  y = column_or_1d(y, warn=True)\n",
      "/Users/camilacollado/opt/miniconda3/envs/myenv/lib/python3.9/site-packages/sklearn/utils/validation.py:993: DataConversionWarning: A column-vector y was passed when a 1d array was expected. Please change the shape of y to (n_samples, ), for example using ravel().\n",
      "  y = column_or_1d(y, warn=True)\n",
      "/Users/camilacollado/opt/miniconda3/envs/myenv/lib/python3.9/site-packages/sklearn/utils/validation.py:993: DataConversionWarning: A column-vector y was passed when a 1d array was expected. Please change the shape of y to (n_samples, ), for example using ravel().\n",
      "  y = column_or_1d(y, warn=True)\n",
      "/Users/camilacollado/opt/miniconda3/envs/myenv/lib/python3.9/site-packages/sklearn/utils/validation.py:993: DataConversionWarning: A column-vector y was passed when a 1d array was expected. Please change the shape of y to (n_samples, ), for example using ravel().\n",
      "  y = column_or_1d(y, warn=True)\n",
      "/Users/camilacollado/opt/miniconda3/envs/myenv/lib/python3.9/site-packages/sklearn/utils/validation.py:993: DataConversionWarning: A column-vector y was passed when a 1d array was expected. Please change the shape of y to (n_samples, ), for example using ravel().\n",
      "  y = column_or_1d(y, warn=True)\n",
      "/Users/camilacollado/opt/miniconda3/envs/myenv/lib/python3.9/site-packages/sklearn/utils/validation.py:993: DataConversionWarning: A column-vector y was passed when a 1d array was expected. Please change the shape of y to (n_samples, ), for example using ravel().\n",
      "  y = column_or_1d(y, warn=True)\n",
      "/Users/camilacollado/opt/miniconda3/envs/myenv/lib/python3.9/site-packages/sklearn/utils/validation.py:993: DataConversionWarning: A column-vector y was passed when a 1d array was expected. Please change the shape of y to (n_samples, ), for example using ravel().\n",
      "  y = column_or_1d(y, warn=True)\n",
      "/Users/camilacollado/opt/miniconda3/envs/myenv/lib/python3.9/site-packages/sklearn/utils/validation.py:993: DataConversionWarning: A column-vector y was passed when a 1d array was expected. Please change the shape of y to (n_samples, ), for example using ravel().\n",
      "  y = column_or_1d(y, warn=True)\n"
     ]
    },
    {
     "data": {
      "text/plain": [
       "GridSearchCV(cv=2,\n",
       "             estimator=HistGradientBoostingRegressor(learning_rate=0.2,\n",
       "                                                     max_depth=16,\n",
       "                                                     max_leaf_nodes=10001,\n",
       "                                                     min_samples_leaf=200,\n",
       "                                                     random_state=0),\n",
       "             param_grid={'l2_regularization': [15],\n",
       "                         'max_depth': [16, 18, 20, 30]})"
      ]
     },
     "execution_count": 144,
     "metadata": {},
     "output_type": "execute_result"
    }
   ],
   "source": [
    "parameters = {'l2_regularization': [15], 'max_depth':[16, 18, 20 ,30]}\n",
    "clf3 = GridSearchCV(m1, parameters, cv=2)\n",
    "clf3.fit(X, y)"
   ]
  },
  {
   "cell_type": "code",
   "execution_count": 145,
   "metadata": {},
   "outputs": [
    {
     "data": {
      "text/plain": [
       "0.21707237650865607"
      ]
     },
     "execution_count": 145,
     "metadata": {},
     "output_type": "execute_result"
    }
   ],
   "source": [
    "clf3.best_score_"
   ]
  },
  {
   "cell_type": "code",
   "execution_count": 146,
   "metadata": {},
   "outputs": [
    {
     "data": {
      "text/plain": [
       "{'l2_regularization': 15, 'max_depth': 16}"
      ]
     },
     "execution_count": 146,
     "metadata": {},
     "output_type": "execute_result"
    }
   ],
   "source": [
    "clf3.best_params_"
   ]
  },
  {
   "cell_type": "code",
   "execution_count": 147,
   "metadata": {},
   "outputs": [
    {
     "name": "stderr",
     "output_type": "stream",
     "text": [
      "/Users/camilacollado/opt/miniconda3/envs/myenv/lib/python3.9/site-packages/sklearn/utils/validation.py:993: DataConversionWarning: A column-vector y was passed when a 1d array was expected. Please change the shape of y to (n_samples, ), for example using ravel().\n",
      "  y = column_or_1d(y, warn=True)\n",
      "/Users/camilacollado/opt/miniconda3/envs/myenv/lib/python3.9/site-packages/sklearn/utils/validation.py:993: DataConversionWarning: A column-vector y was passed when a 1d array was expected. Please change the shape of y to (n_samples, ), for example using ravel().\n",
      "  y = column_or_1d(y, warn=True)\n",
      "/Users/camilacollado/opt/miniconda3/envs/myenv/lib/python3.9/site-packages/sklearn/utils/validation.py:993: DataConversionWarning: A column-vector y was passed when a 1d array was expected. Please change the shape of y to (n_samples, ), for example using ravel().\n",
      "  y = column_or_1d(y, warn=True)\n",
      "/Users/camilacollado/opt/miniconda3/envs/myenv/lib/python3.9/site-packages/sklearn/utils/validation.py:993: DataConversionWarning: A column-vector y was passed when a 1d array was expected. Please change the shape of y to (n_samples, ), for example using ravel().\n",
      "  y = column_or_1d(y, warn=True)\n",
      "/Users/camilacollado/opt/miniconda3/envs/myenv/lib/python3.9/site-packages/sklearn/utils/validation.py:993: DataConversionWarning: A column-vector y was passed when a 1d array was expected. Please change the shape of y to (n_samples, ), for example using ravel().\n",
      "  y = column_or_1d(y, warn=True)\n",
      "/Users/camilacollado/opt/miniconda3/envs/myenv/lib/python3.9/site-packages/sklearn/utils/validation.py:993: DataConversionWarning: A column-vector y was passed when a 1d array was expected. Please change the shape of y to (n_samples, ), for example using ravel().\n",
      "  y = column_or_1d(y, warn=True)\n",
      "/Users/camilacollado/opt/miniconda3/envs/myenv/lib/python3.9/site-packages/sklearn/utils/validation.py:993: DataConversionWarning: A column-vector y was passed when a 1d array was expected. Please change the shape of y to (n_samples, ), for example using ravel().\n",
      "  y = column_or_1d(y, warn=True)\n",
      "/Users/camilacollado/opt/miniconda3/envs/myenv/lib/python3.9/site-packages/sklearn/utils/validation.py:993: DataConversionWarning: A column-vector y was passed when a 1d array was expected. Please change the shape of y to (n_samples, ), for example using ravel().\n",
      "  y = column_or_1d(y, warn=True)\n",
      "/Users/camilacollado/opt/miniconda3/envs/myenv/lib/python3.9/site-packages/sklearn/utils/validation.py:993: DataConversionWarning: A column-vector y was passed when a 1d array was expected. Please change the shape of y to (n_samples, ), for example using ravel().\n",
      "  y = column_or_1d(y, warn=True)\n",
      "/Users/camilacollado/opt/miniconda3/envs/myenv/lib/python3.9/site-packages/sklearn/utils/validation.py:993: DataConversionWarning: A column-vector y was passed when a 1d array was expected. Please change the shape of y to (n_samples, ), for example using ravel().\n",
      "  y = column_or_1d(y, warn=True)\n",
      "/Users/camilacollado/opt/miniconda3/envs/myenv/lib/python3.9/site-packages/sklearn/utils/validation.py:993: DataConversionWarning: A column-vector y was passed when a 1d array was expected. Please change the shape of y to (n_samples, ), for example using ravel().\n",
      "  y = column_or_1d(y, warn=True)\n",
      "/Users/camilacollado/opt/miniconda3/envs/myenv/lib/python3.9/site-packages/sklearn/utils/validation.py:993: DataConversionWarning: A column-vector y was passed when a 1d array was expected. Please change the shape of y to (n_samples, ), for example using ravel().\n",
      "  y = column_or_1d(y, warn=True)\n",
      "/Users/camilacollado/opt/miniconda3/envs/myenv/lib/python3.9/site-packages/sklearn/model_selection/_validation.py:372: FitFailedWarning: \n",
      "3 fits failed out of a total of 12.\n",
      "The score on these train-test partitions for these parameters will be set to nan.\n",
      "If these failures are not expected, you can try to debug them by setting error_score='raise'.\n",
      "\n",
      "Below are more details about the failures:\n",
      "--------------------------------------------------------------------------------\n",
      "3 fits failed with the following error:\n",
      "Traceback (most recent call last):\n",
      "  File \"/Users/camilacollado/opt/miniconda3/envs/myenv/lib/python3.9/site-packages/sklearn/model_selection/_validation.py\", line 680, in _fit_and_score\n",
      "    estimator.fit(X_train, y_train, **fit_params)\n",
      "  File \"/Users/camilacollado/opt/miniconda3/envs/myenv/lib/python3.9/site-packages/sklearn/ensemble/_hist_gradient_boosting/gradient_boosting.py\", line 251, in fit\n",
      "    self._validate_parameters()\n",
      "  File \"/Users/camilacollado/opt/miniconda3/envs/myenv/lib/python3.9/site-packages/sklearn/ensemble/_hist_gradient_boosting/gradient_boosting.py\", line 83, in _validate_parameters\n",
      "    raise ValueError(\n",
      "ValueError: Loss quantile is not supported for HistGradientBoostingRegressor. Accepted losses: squared_error, least_squares, absolute_error, least_absolute_deviation, poisson.\n",
      "\n",
      "  warnings.warn(some_fits_failed_message, FitFailedWarning)\n",
      "/Users/camilacollado/opt/miniconda3/envs/myenv/lib/python3.9/site-packages/sklearn/model_selection/_search.py:969: UserWarning: One or more of the test scores are non-finite: [0.22253251 0.17664138 0.22116144        nan]\n",
      "  warnings.warn(\n",
      "/Users/camilacollado/opt/miniconda3/envs/myenv/lib/python3.9/site-packages/sklearn/utils/validation.py:993: DataConversionWarning: A column-vector y was passed when a 1d array was expected. Please change the shape of y to (n_samples, ), for example using ravel().\n",
      "  y = column_or_1d(y, warn=True)\n"
     ]
    },
    {
     "data": {
      "text/plain": [
       "GridSearchCV(cv=3,\n",
       "             estimator=HistGradientBoostingRegressor(learning_rate=0.2,\n",
       "                                                     max_depth=16,\n",
       "                                                     max_leaf_nodes=10001,\n",
       "                                                     min_samples_leaf=200,\n",
       "                                                     random_state=0),\n",
       "             param_grid={'loss': ['squared_error', 'absolute_error', 'poisson',\n",
       "                                  'quantile']})"
      ]
     },
     "execution_count": 147,
     "metadata": {},
     "output_type": "execute_result"
    }
   ],
   "source": [
    "parameters = {'loss': ['squared_error', 'absolute_error', 'poisson', 'quantile']}\n",
    "clf4 = GridSearchCV(m1, parameters, cv=3)\n",
    "clf4.fit(X, y)"
   ]
  },
  {
   "cell_type": "code",
   "execution_count": 148,
   "metadata": {},
   "outputs": [
    {
     "data": {
      "text/plain": [
       "0.22253250803344657"
      ]
     },
     "execution_count": 148,
     "metadata": {},
     "output_type": "execute_result"
    }
   ],
   "source": [
    "clf4.best_score_"
   ]
  },
  {
   "cell_type": "code",
   "execution_count": 149,
   "metadata": {},
   "outputs": [
    {
     "data": {
      "text/plain": [
       "{'loss': 'squared_error'}"
      ]
     },
     "execution_count": 149,
     "metadata": {},
     "output_type": "execute_result"
    }
   ],
   "source": [
    "clf4.best_params_"
   ]
  },
  {
   "cell_type": "code",
   "execution_count": 156,
   "metadata": {},
   "outputs": [
    {
     "name": "stderr",
     "output_type": "stream",
     "text": [
      "/Users/camilacollado/opt/miniconda3/envs/myenv/lib/python3.9/site-packages/sklearn/utils/validation.py:993: DataConversionWarning: A column-vector y was passed when a 1d array was expected. Please change the shape of y to (n_samples, ), for example using ravel().\n",
      "  y = column_or_1d(y, warn=True)\n",
      "/Users/camilacollado/opt/miniconda3/envs/myenv/lib/python3.9/site-packages/sklearn/utils/validation.py:993: DataConversionWarning: A column-vector y was passed when a 1d array was expected. Please change the shape of y to (n_samples, ), for example using ravel().\n",
      "  y = column_or_1d(y, warn=True)\n",
      "/Users/camilacollado/opt/miniconda3/envs/myenv/lib/python3.9/site-packages/sklearn/utils/validation.py:993: DataConversionWarning: A column-vector y was passed when a 1d array was expected. Please change the shape of y to (n_samples, ), for example using ravel().\n",
      "  y = column_or_1d(y, warn=True)\n",
      "/Users/camilacollado/opt/miniconda3/envs/myenv/lib/python3.9/site-packages/sklearn/utils/validation.py:993: DataConversionWarning: A column-vector y was passed when a 1d array was expected. Please change the shape of y to (n_samples, ), for example using ravel().\n",
      "  y = column_or_1d(y, warn=True)\n",
      "/Users/camilacollado/opt/miniconda3/envs/myenv/lib/python3.9/site-packages/sklearn/utils/validation.py:993: DataConversionWarning: A column-vector y was passed when a 1d array was expected. Please change the shape of y to (n_samples, ), for example using ravel().\n",
      "  y = column_or_1d(y, warn=True)\n",
      "/Users/camilacollado/opt/miniconda3/envs/myenv/lib/python3.9/site-packages/sklearn/utils/validation.py:993: DataConversionWarning: A column-vector y was passed when a 1d array was expected. Please change the shape of y to (n_samples, ), for example using ravel().\n",
      "  y = column_or_1d(y, warn=True)\n",
      "/Users/camilacollado/opt/miniconda3/envs/myenv/lib/python3.9/site-packages/sklearn/utils/validation.py:993: DataConversionWarning: A column-vector y was passed when a 1d array was expected. Please change the shape of y to (n_samples, ), for example using ravel().\n",
      "  y = column_or_1d(y, warn=True)\n",
      "/Users/camilacollado/opt/miniconda3/envs/myenv/lib/python3.9/site-packages/sklearn/utils/validation.py:993: DataConversionWarning: A column-vector y was passed when a 1d array was expected. Please change the shape of y to (n_samples, ), for example using ravel().\n",
      "  y = column_or_1d(y, warn=True)\n",
      "/Users/camilacollado/opt/miniconda3/envs/myenv/lib/python3.9/site-packages/sklearn/utils/validation.py:993: DataConversionWarning: A column-vector y was passed when a 1d array was expected. Please change the shape of y to (n_samples, ), for example using ravel().\n",
      "  y = column_or_1d(y, warn=True)\n",
      "/Users/camilacollado/opt/miniconda3/envs/myenv/lib/python3.9/site-packages/sklearn/utils/validation.py:993: DataConversionWarning: A column-vector y was passed when a 1d array was expected. Please change the shape of y to (n_samples, ), for example using ravel().\n",
      "  y = column_or_1d(y, warn=True)\n",
      "/Users/camilacollado/opt/miniconda3/envs/myenv/lib/python3.9/site-packages/sklearn/utils/validation.py:993: DataConversionWarning: A column-vector y was passed when a 1d array was expected. Please change the shape of y to (n_samples, ), for example using ravel().\n",
      "  y = column_or_1d(y, warn=True)\n",
      "/Users/camilacollado/opt/miniconda3/envs/myenv/lib/python3.9/site-packages/sklearn/utils/validation.py:993: DataConversionWarning: A column-vector y was passed when a 1d array was expected. Please change the shape of y to (n_samples, ), for example using ravel().\n",
      "  y = column_or_1d(y, warn=True)\n",
      "/Users/camilacollado/opt/miniconda3/envs/myenv/lib/python3.9/site-packages/sklearn/utils/validation.py:993: DataConversionWarning: A column-vector y was passed when a 1d array was expected. Please change the shape of y to (n_samples, ), for example using ravel().\n",
      "  y = column_or_1d(y, warn=True)\n",
      "/Users/camilacollado/opt/miniconda3/envs/myenv/lib/python3.9/site-packages/sklearn/utils/validation.py:993: DataConversionWarning: A column-vector y was passed when a 1d array was expected. Please change the shape of y to (n_samples, ), for example using ravel().\n",
      "  y = column_or_1d(y, warn=True)\n",
      "/Users/camilacollado/opt/miniconda3/envs/myenv/lib/python3.9/site-packages/sklearn/utils/validation.py:993: DataConversionWarning: A column-vector y was passed when a 1d array was expected. Please change the shape of y to (n_samples, ), for example using ravel().\n",
      "  y = column_or_1d(y, warn=True)\n",
      "/Users/camilacollado/opt/miniconda3/envs/myenv/lib/python3.9/site-packages/sklearn/utils/validation.py:993: DataConversionWarning: A column-vector y was passed when a 1d array was expected. Please change the shape of y to (n_samples, ), for example using ravel().\n",
      "  y = column_or_1d(y, warn=True)\n",
      "/Users/camilacollado/opt/miniconda3/envs/myenv/lib/python3.9/site-packages/sklearn/utils/validation.py:993: DataConversionWarning: A column-vector y was passed when a 1d array was expected. Please change the shape of y to (n_samples, ), for example using ravel().\n",
      "  y = column_or_1d(y, warn=True)\n",
      "/Users/camilacollado/opt/miniconda3/envs/myenv/lib/python3.9/site-packages/sklearn/utils/validation.py:993: DataConversionWarning: A column-vector y was passed when a 1d array was expected. Please change the shape of y to (n_samples, ), for example using ravel().\n",
      "  y = column_or_1d(y, warn=True)\n",
      "/Users/camilacollado/opt/miniconda3/envs/myenv/lib/python3.9/site-packages/sklearn/utils/validation.py:993: DataConversionWarning: A column-vector y was passed when a 1d array was expected. Please change the shape of y to (n_samples, ), for example using ravel().\n",
      "  y = column_or_1d(y, warn=True)\n",
      "/Users/camilacollado/opt/miniconda3/envs/myenv/lib/python3.9/site-packages/sklearn/utils/validation.py:993: DataConversionWarning: A column-vector y was passed when a 1d array was expected. Please change the shape of y to (n_samples, ), for example using ravel().\n",
      "  y = column_or_1d(y, warn=True)\n",
      "/Users/camilacollado/opt/miniconda3/envs/myenv/lib/python3.9/site-packages/sklearn/utils/validation.py:993: DataConversionWarning: A column-vector y was passed when a 1d array was expected. Please change the shape of y to (n_samples, ), for example using ravel().\n",
      "  y = column_or_1d(y, warn=True)\n",
      "/Users/camilacollado/opt/miniconda3/envs/myenv/lib/python3.9/site-packages/sklearn/utils/validation.py:993: DataConversionWarning: A column-vector y was passed when a 1d array was expected. Please change the shape of y to (n_samples, ), for example using ravel().\n",
      "  y = column_or_1d(y, warn=True)\n",
      "/Users/camilacollado/opt/miniconda3/envs/myenv/lib/python3.9/site-packages/sklearn/utils/validation.py:993: DataConversionWarning: A column-vector y was passed when a 1d array was expected. Please change the shape of y to (n_samples, ), for example using ravel().\n",
      "  y = column_or_1d(y, warn=True)\n",
      "/Users/camilacollado/opt/miniconda3/envs/myenv/lib/python3.9/site-packages/sklearn/utils/validation.py:993: DataConversionWarning: A column-vector y was passed when a 1d array was expected. Please change the shape of y to (n_samples, ), for example using ravel().\n",
      "  y = column_or_1d(y, warn=True)\n",
      "/Users/camilacollado/opt/miniconda3/envs/myenv/lib/python3.9/site-packages/sklearn/utils/validation.py:993: DataConversionWarning: A column-vector y was passed when a 1d array was expected. Please change the shape of y to (n_samples, ), for example using ravel().\n",
      "  y = column_or_1d(y, warn=True)\n",
      "/Users/camilacollado/opt/miniconda3/envs/myenv/lib/python3.9/site-packages/sklearn/utils/validation.py:993: DataConversionWarning: A column-vector y was passed when a 1d array was expected. Please change the shape of y to (n_samples, ), for example using ravel().\n",
      "  y = column_or_1d(y, warn=True)\n",
      "/Users/camilacollado/opt/miniconda3/envs/myenv/lib/python3.9/site-packages/sklearn/utils/validation.py:993: DataConversionWarning: A column-vector y was passed when a 1d array was expected. Please change the shape of y to (n_samples, ), for example using ravel().\n",
      "  y = column_or_1d(y, warn=True)\n",
      "/Users/camilacollado/opt/miniconda3/envs/myenv/lib/python3.9/site-packages/sklearn/model_selection/_validation.py:372: FitFailedWarning: \n",
      "9 fits failed out of a total of 27.\n",
      "The score on these train-test partitions for these parameters will be set to nan.\n",
      "If these failures are not expected, you can try to debug them by setting error_score='raise'.\n",
      "\n",
      "Below are more details about the failures:\n",
      "--------------------------------------------------------------------------------\n",
      "9 fits failed with the following error:\n",
      "Traceback (most recent call last):\n",
      "  File \"/Users/camilacollado/opt/miniconda3/envs/myenv/lib/python3.9/site-packages/sklearn/model_selection/_validation.py\", line 680, in _fit_and_score\n",
      "    estimator.fit(X_train, y_train, **fit_params)\n",
      "  File \"/Users/camilacollado/opt/miniconda3/envs/myenv/lib/python3.9/site-packages/sklearn/ensemble/_hist_gradient_boosting/gradient_boosting.py\", line 251, in fit\n",
      "    self._validate_parameters()\n",
      "  File \"/Users/camilacollado/opt/miniconda3/envs/myenv/lib/python3.9/site-packages/sklearn/ensemble/_hist_gradient_boosting/gradient_boosting.py\", line 111, in _validate_parameters\n",
      "    raise ValueError(\n",
      "ValueError: max_bins=265 should be no smaller than 2 and no larger than 255.\n",
      "\n",
      "  warnings.warn(some_fits_failed_message, FitFailedWarning)\n",
      "/Users/camilacollado/opt/miniconda3/envs/myenv/lib/python3.9/site-packages/sklearn/model_selection/_search.py:969: UserWarning: One or more of the test scores are non-finite: [0.2214136  0.22184555 0.22206027 0.22185436 0.22216641 0.22260995\n",
      "        nan        nan        nan]\n",
      "  warnings.warn(\n",
      "/Users/camilacollado/opt/miniconda3/envs/myenv/lib/python3.9/site-packages/sklearn/utils/validation.py:993: DataConversionWarning: A column-vector y was passed when a 1d array was expected. Please change the shape of y to (n_samples, ), for example using ravel().\n",
      "  y = column_or_1d(y, warn=True)\n"
     ]
    },
    {
     "data": {
      "text/plain": [
       "GridSearchCV(cv=3,\n",
       "             estimator=HistGradientBoostingRegressor(learning_rate=0.2,\n",
       "                                                     max_depth=16,\n",
       "                                                     max_leaf_nodes=10001,\n",
       "                                                     min_samples_leaf=200,\n",
       "                                                     random_state=0),\n",
       "             param_grid={'max_bins': [245, 255, 265], 'max_iter': [70, 80, 90]})"
      ]
     },
     "execution_count": 156,
     "metadata": {},
     "output_type": "execute_result"
    }
   ],
   "source": [
    "parameters = {'max_bins': [245, 255, 265], 'max_iter': [70,80,90]}\n",
    "clf5 = GridSearchCV(m1, parameters, cv=3)\n",
    "clf5.fit(X, y)"
   ]
  },
  {
   "cell_type": "code",
   "execution_count": 157,
   "metadata": {},
   "outputs": [
    {
     "data": {
      "text/plain": [
       "0.22260995183464027"
      ]
     },
     "execution_count": 157,
     "metadata": {},
     "output_type": "execute_result"
    }
   ],
   "source": [
    "clf5.best_score_"
   ]
  },
  {
   "cell_type": "code",
   "execution_count": 158,
   "metadata": {},
   "outputs": [
    {
     "data": {
      "text/plain": [
       "{'max_bins': 255, 'max_iter': 90}"
      ]
     },
     "execution_count": 158,
     "metadata": {},
     "output_type": "execute_result"
    }
   ],
   "source": [
    "clf5.best_params_"
   ]
  },
  {
   "cell_type": "markdown",
   "metadata": {},
   "source": [
    "## Mejor modelo"
   ]
  },
  {
   "cell_type": "code",
   "execution_count": 162,
   "metadata": {},
   "outputs": [],
   "source": [
    "m3=HistGradientBoostingRegressor(learning_rate=0.2, random_state=0,min_samples_leaf=200, max_depth=16, max_leaf_nodes=10001)\n",
    "#, max_iter=90)"
   ]
  },
  {
   "cell_type": "code",
   "execution_count": 163,
   "metadata": {},
   "outputs": [
    {
     "name": "stderr",
     "output_type": "stream",
     "text": [
      "/Users/camilacollado/opt/miniconda3/envs/myenv/lib/python3.9/site-packages/sklearn/utils/validation.py:993: DataConversionWarning: A column-vector y was passed when a 1d array was expected. Please change the shape of y to (n_samples, ), for example using ravel().\n",
      "  y = column_or_1d(y, warn=True)\n"
     ]
    },
    {
     "data": {
      "text/plain": [
       "HistGradientBoostingRegressor(learning_rate=0.2, max_depth=16,\n",
       "                              max_leaf_nodes=10001, min_samples_leaf=200,\n",
       "                              random_state=0)"
      ]
     },
     "execution_count": 163,
     "metadata": {},
     "output_type": "execute_result"
    }
   ],
   "source": [
    "m3.fit(X_train, y_train)"
   ]
  },
  {
   "cell_type": "code",
   "execution_count": 164,
   "metadata": {},
   "outputs": [
    {
     "data": {
      "text/plain": [
       "0.224711114357373"
      ]
     },
     "execution_count": 164,
     "metadata": {},
     "output_type": "execute_result"
    }
   ],
   "source": [
    "m3.score(X_test, y_test)"
   ]
  },
  {
   "cell_type": "markdown",
   "metadata": {},
   "source": [
    "Metricas"
   ]
  },
  {
   "cell_type": "code",
   "execution_count": 171,
   "metadata": {},
   "outputs": [],
   "source": [
    "from sklearn.metrics import explained_variance_score\n",
    "from sklearn.metrics import median_absolute_error\n",
    "from sklearn.metrics import mean_absolute_error"
   ]
  },
  {
   "cell_type": "code",
   "execution_count": 166,
   "metadata": {},
   "outputs": [],
   "source": [
    "y_pred=m3.predict(X_test)"
   ]
  },
  {
   "cell_type": "code",
   "execution_count": 167,
   "metadata": {},
   "outputs": [
    {
     "data": {
      "text/plain": [
       "0.22471286534818413"
      ]
     },
     "execution_count": 167,
     "metadata": {},
     "output_type": "execute_result"
    }
   ],
   "source": [
    "explained_variance_score(y_test, y_pred)\n",
    "#best is 1.0"
   ]
  },
  {
   "cell_type": "code",
   "execution_count": 170,
   "metadata": {},
   "outputs": [
    {
     "data": {
      "text/plain": [
       "0.3416121467259332"
      ]
     },
     "execution_count": 170,
     "metadata": {},
     "output_type": "execute_result"
    }
   ],
   "source": [
    "median_absolute_error(y_test, y_pred)\n",
    "#best is 0.0"
   ]
  },
  {
   "cell_type": "code",
   "execution_count": 172,
   "metadata": {},
   "outputs": [
    {
     "data": {
      "text/plain": [
       "0.444913489149891"
      ]
     },
     "execution_count": 172,
     "metadata": {},
     "output_type": "execute_result"
    }
   ],
   "source": [
    "mean_absolute_error(y_test, y_pred)\n",
    "#best is 0.0\n"
   ]
  },
  {
   "cell_type": "markdown",
   "metadata": {},
   "source": [
    "Residual plot"
   ]
  },
  {
   "cell_type": "code",
   "execution_count": 182,
   "metadata": {},
   "outputs": [
    {
     "data": {
      "text/plain": [
       "array([4.42229257, 3.97535637, 4.79510351, ..., 3.86412032, 4.15483114,\n",
       "       4.11996169])"
      ]
     },
     "execution_count": 182,
     "metadata": {},
     "output_type": "execute_result"
    }
   ],
   "source": [
    "y_pred.view()"
   ]
  },
  {
   "cell_type": "code",
   "execution_count": 185,
   "metadata": {},
   "outputs": [
    {
     "data": {
      "text/plain": [
       "2165530    5.0\n",
       "666267     2.8\n",
       "2104572    3.5\n",
       "1247750    5.0\n",
       "974080     4.4\n",
       "          ... \n",
       "1561088    4.4\n",
       "380420     3.5\n",
       "1472679    3.8\n",
       "2058501    4.3\n",
       "74626      4.2\n",
       "Name: Rating, Length: 239211, dtype: float64"
      ]
     },
     "execution_count": 185,
     "metadata": {},
     "output_type": "execute_result"
    }
   ],
   "source": [
    "y_test['Rating']"
   ]
  },
  {
   "cell_type": "code",
   "execution_count": 186,
   "metadata": {},
   "outputs": [],
   "source": [
    "residuals = y_test['Rating']-y_pred"
   ]
  },
  {
   "cell_type": "code",
   "execution_count": 201,
   "metadata": {},
   "outputs": [
    {
     "data": {
      "image/png": "[encoded data removed]",
      "text/plain": [
       "<Figure size 432x288 with 1 Axes>"
      ]
     },
     "metadata": {
      "needs_background": "light"
     },
     "output_type": "display_data"
    }
   ],
   "source": [
    "plt.scatter(y_pred,residuals, s=0.05)#.xlabel('Residuos').ylabel('Predicción')\n",
    "plt.show()"
   ]
  },
  {
   "cell_type": "code",
   "execution_count": 203,
   "metadata": {},
   "outputs": [
    {
     "name": "stderr",
     "output_type": "stream",
     "text": [
      "/var/folders/28/24dngf7d6n36_8l0n_hsjj900000gn/T/ipykernel_76101/4261703782.py:8: UserWarning: Matplotlib is currently using module://matplotlib_inline.backend_inline, which is a non-GUI backend, so cannot show the figure.\n",
      "  fig.show()\n"
     ]
    },
    {
     "data": {
      "image/png": "[encoded data removed]",
      "text/plain": [
       "<Figure size 720x432 with 1 Axes>"
      ]
     },
     "metadata": {
      "needs_background": "light"
     },
     "output_type": "display_data"
    }
   ],
   "source": [
    "fig , ax1 = plt.subplots(figsize=(10,6))\n",
    "ax1.set_title(\"Residual Plot\") #titulo\n",
    "ax1.set_xlabel('Predicción') #nombre del eje x\n",
    "ax1.set_ylabel('Residuos') #nombre del eje y\n",
    "\n",
    "ax1.scatter(y_pred,residuals, s=0.5)\n",
    "\n",
    "fig.show()"
   ]
  },
  {
   "cell_type": "code",
   "execution_count": 205,
   "metadata": {},
   "outputs": [
    {
     "name": "stderr",
     "output_type": "stream",
     "text": [
      "/var/folders/28/24dngf7d6n36_8l0n_hsjj900000gn/T/ipykernel_76101/2921989725.py:8: UserWarning: Matplotlib is currently using module://matplotlib_inline.backend_inline, which is a non-GUI backend, so cannot show the figure.\n",
      "  fig.show()\n"
     ]
    },
    {
     "data": {
      "image/png": "[encoded data removed]",
      "text/plain": [
       "<Figure size 720x432 with 1 Axes>"
      ]
     },
     "metadata": {
      "needs_background": "light"
     },
     "output_type": "display_data"
    }
   ],
   "source": [
    "fig , ax1 = plt.subplots(figsize=(10,6))\n",
    "ax1.set_title(\"Correlation Plot: Rating\") #titulo\n",
    "ax1.set_xlabel('Rating predicho') #nombre del eje x\n",
    "ax1.set_ylabel('Rating observado') #nombre del eje y\n",
    "\n",
    "ax1.scatter(y_pred,y_test['Rating'], s=0.5)\n",
    "\n",
    "fig.show()"
   ]
  },
  {
   "cell_type": "markdown",
   "metadata": {},
   "source": [
    "## Arbol simple"
   ]
  },
  {
   "cell_type": "code",
   "execution_count": 29,
   "metadata": {},
   "outputs": [],
   "source": [
    "from sklearn.tree import DecisionTreeRegressor  "
   ]
  },
  {
   "cell_type": "code",
   "execution_count": 30,
   "metadata": {},
   "outputs": [],
   "source": [
    "regressor = DecisionTreeRegressor(random_state=0, max_depth=10).fit(X_train,y_train)"
   ]
  },
  {
   "cell_type": "code",
   "execution_count": 31,
   "metadata": {},
   "outputs": [
    {
     "data": {
      "text/plain": [
       "0.16272285904582973"
      ]
     },
     "execution_count": 31,
     "metadata": {},
     "output_type": "execute_result"
    }
   ],
   "source": [
    "regressor.score(X_test,y_test)"
   ]
  },
  {
   "cell_type": "code",
   "execution_count": 32,
   "metadata": {},
   "outputs": [
    {
     "data": {
      "text/plain": [
       "943"
      ]
     },
     "execution_count": 32,
     "metadata": {},
     "output_type": "execute_result"
    }
   ],
   "source": [
    "regressor.get_n_leaves()"
   ]
  },
  {
   "cell_type": "markdown",
   "metadata": {},
   "source": [
    "## KNN"
   ]
  },
  {
   "cell_type": "code",
   "execution_count": 33,
   "metadata": {},
   "outputs": [],
   "source": [
    "from sklearn.neighbors import KNeighborsRegressor"
   ]
  },
  {
   "cell_type": "code",
   "execution_count": 34,
   "metadata": {},
   "outputs": [],
   "source": [
    "neigh = KNeighborsRegressor(n_neighbors=100, algorithm='kd_tree',weights ='distance', metric = 'manhattan')"
   ]
  },
  {
   "cell_type": "code",
   "execution_count": 35,
   "metadata": {},
   "outputs": [
    {
     "data": {
      "text/plain": [
       "KNeighborsRegressor(algorithm='kd_tree', metric='manhattan', n_neighbors=100,\n",
       "                    weights='distance')"
      ]
     },
     "execution_count": 35,
     "metadata": {},
     "output_type": "execute_result"
    }
   ],
   "source": [
    "neigh.fit(X_train, y_train)"
   ]
  },
  {
   "cell_type": "code",
   "execution_count": 36,
   "metadata": {},
   "outputs": [
    {
     "data": {
      "text/plain": [
       "0.10508380214830204"
      ]
     },
     "execution_count": 36,
     "metadata": {},
     "output_type": "execute_result"
    }
   ],
   "source": [
    "neigh.score(X_test, y_test)"
   ]
  },
  {
   "cell_type": "markdown",
   "metadata": {},
   "source": [
    "## Random Forest"
   ]
  },
  {
   "cell_type": "code",
   "execution_count": 86,
   "metadata": {},
   "outputs": [],
   "source": [
    "from sklearn.ensemble import RandomForestRegressor"
   ]
  },
  {
   "cell_type": "code",
   "execution_count": 87,
   "metadata": {},
   "outputs": [],
   "source": [
    "regr = RandomForestRegressor(max_depth=10, random_state=0)"
   ]
  },
  {
   "cell_type": "code",
   "execution_count": 88,
   "metadata": {},
   "outputs": [
    {
     "name": "stderr",
     "output_type": "stream",
     "text": [
      "/var/folders/28/24dngf7d6n36_8l0n_hsjj900000gn/T/ipykernel_66253/848189701.py:1: DataConversionWarning: A column-vector y was passed when a 1d array was expected. Please change the shape of y to (n_samples,), for example using ravel().\n",
      "  regr.fit(X_train, y_train)\n"
     ]
    },
    {
     "data": {
      "text/plain": [
       "RandomForestRegressor(max_depth=10, random_state=0)"
      ]
     },
     "execution_count": 88,
     "metadata": {},
     "output_type": "execute_result"
    }
   ],
   "source": [
    "regr.fit(X_train, y_train)"
   ]
  },
  {
   "cell_type": "code",
   "execution_count": 89,
   "metadata": {},
   "outputs": [
    {
     "data": {
      "text/plain": [
       "0.17427501925935807"
      ]
     },
     "execution_count": 89,
     "metadata": {},
     "output_type": "execute_result"
    }
   ],
   "source": [
    "regr.score(X_test, y_test)"
   ]
  },
  {
   "cell_type": "code",
   "execution_count": 90,
   "metadata": {},
   "outputs": [
    {
     "data": {
      "text/plain": [
       "{'bootstrap': True,\n",
       " 'ccp_alpha': 0.0,\n",
       " 'criterion': 'squared_error',\n",
       " 'max_depth': 10,\n",
       " 'max_features': 'auto',\n",
       " 'max_leaf_nodes': None,\n",
       " 'max_samples': None,\n",
       " 'min_impurity_decrease': 0.0,\n",
       " 'min_samples_leaf': 1,\n",
       " 'min_samples_split': 2,\n",
       " 'min_weight_fraction_leaf': 0.0,\n",
       " 'n_estimators': 100,\n",
       " 'n_jobs': None,\n",
       " 'oob_score': False,\n",
       " 'random_state': 0,\n",
       " 'verbose': 0,\n",
       " 'warm_start': False}"
      ]
     },
     "execution_count": 90,
     "metadata": {},
     "output_type": "execute_result"
    }
   ],
   "source": [
    "regr.get_params()"
   ]
  },
  {
   "cell_type": "markdown",
   "metadata": {},
   "source": [
    "## Extra Trees"
   ]
  },
  {
   "cell_type": "code",
   "execution_count": 73,
   "metadata": {},
   "outputs": [],
   "source": [
    "from sklearn.ensemble import ExtraTreesRegressor"
   ]
  },
  {
   "cell_type": "code",
   "execution_count": 74,
   "metadata": {},
   "outputs": [
    {
     "name": "stderr",
     "output_type": "stream",
     "text": [
      "/var/folders/28/24dngf7d6n36_8l0n_hsjj900000gn/T/ipykernel_68771/3580887855.py:2: DataConversionWarning: A column-vector y was passed when a 1d array was expected. Please change the shape of y to (n_samples,), for example using ravel().\n",
      "  reg.fit(X_train, y_train)\n"
     ]
    },
    {
     "data": {
      "text/plain": [
       "ExtraTreesRegressor(random_state=0)"
      ]
     },
     "execution_count": 74,
     "metadata": {},
     "output_type": "execute_result"
    }
   ],
   "source": [
    "reg = ExtraTreesRegressor(n_estimators=100, random_state=0)\n",
    "reg.fit(X_train, y_train)"
   ]
  },
  {
   "cell_type": "code",
   "execution_count": 75,
   "metadata": {},
   "outputs": [
    {
     "data": {
      "text/plain": [
       "0.18081013690456738"
      ]
     },
     "execution_count": 75,
     "metadata": {},
     "output_type": "execute_result"
    }
   ],
   "source": [
    "reg.score(X_test, y_test)"
   ]
  },
  {
   "cell_type": "code",
   "execution_count": 76,
   "metadata": {},
   "outputs": [
    {
     "data": {
      "text/plain": [
       "{'bootstrap': False,\n",
       " 'ccp_alpha': 0.0,\n",
       " 'criterion': 'squared_error',\n",
       " 'max_depth': None,\n",
       " 'max_features': 'auto',\n",
       " 'max_leaf_nodes': None,\n",
       " 'max_samples': None,\n",
       " 'min_impurity_decrease': 0.0,\n",
       " 'min_samples_leaf': 1,\n",
       " 'min_samples_split': 2,\n",
       " 'min_weight_fraction_leaf': 0.0,\n",
       " 'n_estimators': 100,\n",
       " 'n_jobs': None,\n",
       " 'oob_score': False,\n",
       " 'random_state': 0,\n",
       " 'verbose': 0,\n",
       " 'warm_start': False}"
      ]
     },
     "execution_count": 76,
     "metadata": {},
     "output_type": "execute_result"
    }
   ],
   "source": [
    "reg.get_params()"
   ]
  },
  {
   "cell_type": "markdown",
   "metadata": {},
   "source": [
    "#### Ajuste de hiperparametros"
   ]
  },
  {
   "cell_type": "code",
   "execution_count": 79,
   "metadata": {},
   "outputs": [
    {
     "name": "stderr",
     "output_type": "stream",
     "text": [
      "/Users/camilacollado/opt/miniconda3/envs/myenv/lib/python3.9/site-packages/sklearn/model_selection/_validation.py:680: DataConversionWarning: A column-vector y was passed when a 1d array was expected. Please change the shape of y to (n_samples,), for example using ravel().\n",
      "  estimator.fit(X_train, y_train, **fit_params)\n",
      "/Users/camilacollado/opt/miniconda3/envs/myenv/lib/python3.9/site-packages/sklearn/model_selection/_validation.py:680: DataConversionWarning: A column-vector y was passed when a 1d array was expected. Please change the shape of y to (n_samples,), for example using ravel().\n",
      "  estimator.fit(X_train, y_train, **fit_params)\n",
      "/Users/camilacollado/opt/miniconda3/envs/myenv/lib/python3.9/site-packages/sklearn/model_selection/_validation.py:680: DataConversionWarning: A column-vector y was passed when a 1d array was expected. Please change the shape of y to (n_samples,), for example using ravel().\n",
      "  estimator.fit(X_train, y_train, **fit_params)\n",
      "/Users/camilacollado/opt/miniconda3/envs/myenv/lib/python3.9/site-packages/sklearn/model_selection/_validation.py:680: DataConversionWarning: A column-vector y was passed when a 1d array was expected. Please change the shape of y to (n_samples,), for example using ravel().\n",
      "  estimator.fit(X_train, y_train, **fit_params)\n",
      "/Users/camilacollado/opt/miniconda3/envs/myenv/lib/python3.9/site-packages/sklearn/model_selection/_validation.py:680: DataConversionWarning: A column-vector y was passed when a 1d array was expected. Please change the shape of y to (n_samples,), for example using ravel().\n",
      "  estimator.fit(X_train, y_train, **fit_params)\n",
      "/Users/camilacollado/opt/miniconda3/envs/myenv/lib/python3.9/site-packages/sklearn/model_selection/_validation.py:680: DataConversionWarning: A column-vector y was passed when a 1d array was expected. Please change the shape of y to (n_samples,), for example using ravel().\n",
      "  estimator.fit(X_train, y_train, **fit_params)\n",
      "/Users/camilacollado/opt/miniconda3/envs/myenv/lib/python3.9/site-packages/sklearn/model_selection/_validation.py:680: DataConversionWarning: A column-vector y was passed when a 1d array was expected. Please change the shape of y to (n_samples,), for example using ravel().\n",
      "  estimator.fit(X_train, y_train, **fit_params)\n",
      "/Users/camilacollado/opt/miniconda3/envs/myenv/lib/python3.9/site-packages/sklearn/model_selection/_validation.py:680: DataConversionWarning: A column-vector y was passed when a 1d array was expected. Please change the shape of y to (n_samples,), for example using ravel().\n",
      "  estimator.fit(X_train, y_train, **fit_params)\n",
      "/Users/camilacollado/opt/miniconda3/envs/myenv/lib/python3.9/site-packages/sklearn/model_selection/_validation.py:680: DataConversionWarning: A column-vector y was passed when a 1d array was expected. Please change the shape of y to (n_samples,), for example using ravel().\n",
      "  estimator.fit(X_train, y_train, **fit_params)\n",
      "/Users/camilacollado/opt/miniconda3/envs/myenv/lib/python3.9/site-packages/sklearn/model_selection/_validation.py:680: DataConversionWarning: A column-vector y was passed when a 1d array was expected. Please change the shape of y to (n_samples,), for example using ravel().\n",
      "  estimator.fit(X_train, y_train, **fit_params)\n",
      "/Users/camilacollado/opt/miniconda3/envs/myenv/lib/python3.9/site-packages/sklearn/model_selection/_validation.py:680: DataConversionWarning: A column-vector y was passed when a 1d array was expected. Please change the shape of y to (n_samples,), for example using ravel().\n",
      "  estimator.fit(X_train, y_train, **fit_params)\n",
      "/Users/camilacollado/opt/miniconda3/envs/myenv/lib/python3.9/site-packages/sklearn/model_selection/_validation.py:680: DataConversionWarning: A column-vector y was passed when a 1d array was expected. Please change the shape of y to (n_samples,), for example using ravel().\n",
      "  estimator.fit(X_train, y_train, **fit_params)\n",
      "/Users/camilacollado/opt/miniconda3/envs/myenv/lib/python3.9/site-packages/sklearn/model_selection/_validation.py:680: DataConversionWarning: A column-vector y was passed when a 1d array was expected. Please change the shape of y to (n_samples,), for example using ravel().\n",
      "  estimator.fit(X_train, y_train, **fit_params)\n",
      "/Users/camilacollado/opt/miniconda3/envs/myenv/lib/python3.9/site-packages/sklearn/model_selection/_validation.py:680: DataConversionWarning: A column-vector y was passed when a 1d array was expected. Please change the shape of y to (n_samples,), for example using ravel().\n",
      "  estimator.fit(X_train, y_train, **fit_params)\n",
      "/Users/camilacollado/opt/miniconda3/envs/myenv/lib/python3.9/site-packages/sklearn/model_selection/_validation.py:680: DataConversionWarning: A column-vector y was passed when a 1d array was expected. Please change the shape of y to (n_samples,), for example using ravel().\n",
      "  estimator.fit(X_train, y_train, **fit_params)\n",
      "/Users/camilacollado/opt/miniconda3/envs/myenv/lib/python3.9/site-packages/sklearn/model_selection/_validation.py:680: DataConversionWarning: A column-vector y was passed when a 1d array was expected. Please change the shape of y to (n_samples,), for example using ravel().\n",
      "  estimator.fit(X_train, y_train, **fit_params)\n",
      "/Users/camilacollado/opt/miniconda3/envs/myenv/lib/python3.9/site-packages/sklearn/model_selection/_validation.py:680: DataConversionWarning: A column-vector y was passed when a 1d array was expected. Please change the shape of y to (n_samples,), for example using ravel().\n",
      "  estimator.fit(X_train, y_train, **fit_params)\n",
      "/Users/camilacollado/opt/miniconda3/envs/myenv/lib/python3.9/site-packages/sklearn/model_selection/_validation.py:680: DataConversionWarning: A column-vector y was passed when a 1d array was expected. Please change the shape of y to (n_samples,), for example using ravel().\n",
      "  estimator.fit(X_train, y_train, **fit_params)\n",
      "/Users/camilacollado/opt/miniconda3/envs/myenv/lib/python3.9/site-packages/sklearn/model_selection/_validation.py:680: DataConversionWarning: A column-vector y was passed when a 1d array was expected. Please change the shape of y to (n_samples,), for example using ravel().\n",
      "  estimator.fit(X_train, y_train, **fit_params)\n",
      "/Users/camilacollado/opt/miniconda3/envs/myenv/lib/python3.9/site-packages/sklearn/model_selection/_validation.py:680: DataConversionWarning: A column-vector y was passed when a 1d array was expected. Please change the shape of y to (n_samples,), for example using ravel().\n",
      "  estimator.fit(X_train, y_train, **fit_params)\n",
      "/Users/camilacollado/opt/miniconda3/envs/myenv/lib/python3.9/site-packages/sklearn/model_selection/_validation.py:680: DataConversionWarning: A column-vector y was passed when a 1d array was expected. Please change the shape of y to (n_samples,), for example using ravel().\n",
      "  estimator.fit(X_train, y_train, **fit_params)\n",
      "/Users/camilacollado/opt/miniconda3/envs/myenv/lib/python3.9/site-packages/sklearn/model_selection/_validation.py:680: DataConversionWarning: A column-vector y was passed when a 1d array was expected. Please change the shape of y to (n_samples,), for example using ravel().\n",
      "  estimator.fit(X_train, y_train, **fit_params)\n",
      "/Users/camilacollado/opt/miniconda3/envs/myenv/lib/python3.9/site-packages/sklearn/model_selection/_validation.py:680: DataConversionWarning: A column-vector y was passed when a 1d array was expected. Please change the shape of y to (n_samples,), for example using ravel().\n",
      "  estimator.fit(X_train, y_train, **fit_params)\n",
      "/Users/camilacollado/opt/miniconda3/envs/myenv/lib/python3.9/site-packages/sklearn/model_selection/_validation.py:680: DataConversionWarning: A column-vector y was passed when a 1d array was expected. Please change the shape of y to (n_samples,), for example using ravel().\n",
      "  estimator.fit(X_train, y_train, **fit_params)\n",
      "/Users/camilacollado/opt/miniconda3/envs/myenv/lib/python3.9/site-packages/sklearn/model_selection/_validation.py:680: DataConversionWarning: A column-vector y was passed when a 1d array was expected. Please change the shape of y to (n_samples,), for example using ravel().\n",
      "  estimator.fit(X_train, y_train, **fit_params)\n",
      "/Users/camilacollado/opt/miniconda3/envs/myenv/lib/python3.9/site-packages/sklearn/model_selection/_validation.py:680: DataConversionWarning: A column-vector y was passed when a 1d array was expected. Please change the shape of y to (n_samples,), for example using ravel().\n",
      "  estimator.fit(X_train, y_train, **fit_params)\n",
      "/Users/camilacollado/opt/miniconda3/envs/myenv/lib/python3.9/site-packages/sklearn/model_selection/_validation.py:680: DataConversionWarning: A column-vector y was passed when a 1d array was expected. Please change the shape of y to (n_samples,), for example using ravel().\n",
      "  estimator.fit(X_train, y_train, **fit_params)\n",
      "/Users/camilacollado/opt/miniconda3/envs/myenv/lib/python3.9/site-packages/sklearn/model_selection/_validation.py:680: DataConversionWarning: A column-vector y was passed when a 1d array was expected. Please change the shape of y to (n_samples,), for example using ravel().\n",
      "  estimator.fit(X_train, y_train, **fit_params)\n",
      "/Users/camilacollado/opt/miniconda3/envs/myenv/lib/python3.9/site-packages/sklearn/model_selection/_validation.py:680: DataConversionWarning: A column-vector y was passed when a 1d array was expected. Please change the shape of y to (n_samples,), for example using ravel().\n",
      "  estimator.fit(X_train, y_train, **fit_params)\n",
      "/Users/camilacollado/opt/miniconda3/envs/myenv/lib/python3.9/site-packages/sklearn/model_selection/_validation.py:680: DataConversionWarning: A column-vector y was passed when a 1d array was expected. Please change the shape of y to (n_samples,), for example using ravel().\n",
      "  estimator.fit(X_train, y_train, **fit_params)\n",
      "/Users/camilacollado/opt/miniconda3/envs/myenv/lib/python3.9/site-packages/sklearn/model_selection/_validation.py:680: DataConversionWarning: A column-vector y was passed when a 1d array was expected. Please change the shape of y to (n_samples,), for example using ravel().\n",
      "  estimator.fit(X_train, y_train, **fit_params)\n",
      "/Users/camilacollado/opt/miniconda3/envs/myenv/lib/python3.9/site-packages/sklearn/model_selection/_validation.py:680: DataConversionWarning: A column-vector y was passed when a 1d array was expected. Please change the shape of y to (n_samples,), for example using ravel().\n",
      "  estimator.fit(X_train, y_train, **fit_params)\n",
      "/Users/camilacollado/opt/miniconda3/envs/myenv/lib/python3.9/site-packages/sklearn/model_selection/_validation.py:680: DataConversionWarning: A column-vector y was passed when a 1d array was expected. Please change the shape of y to (n_samples,), for example using ravel().\n",
      "  estimator.fit(X_train, y_train, **fit_params)\n",
      "/Users/camilacollado/opt/miniconda3/envs/myenv/lib/python3.9/site-packages/sklearn/model_selection/_validation.py:680: DataConversionWarning: A column-vector y was passed when a 1d array was expected. Please change the shape of y to (n_samples,), for example using ravel().\n",
      "  estimator.fit(X_train, y_train, **fit_params)\n",
      "/Users/camilacollado/opt/miniconda3/envs/myenv/lib/python3.9/site-packages/sklearn/model_selection/_validation.py:680: DataConversionWarning: A column-vector y was passed when a 1d array was expected. Please change the shape of y to (n_samples,), for example using ravel().\n",
      "  estimator.fit(X_train, y_train, **fit_params)\n",
      "/Users/camilacollado/opt/miniconda3/envs/myenv/lib/python3.9/site-packages/sklearn/model_selection/_validation.py:680: DataConversionWarning: A column-vector y was passed when a 1d array was expected. Please change the shape of y to (n_samples,), for example using ravel().\n",
      "  estimator.fit(X_train, y_train, **fit_params)\n",
      "/Users/camilacollado/opt/miniconda3/envs/myenv/lib/python3.9/site-packages/sklearn/model_selection/_validation.py:680: DataConversionWarning: A column-vector y was passed when a 1d array was expected. Please change the shape of y to (n_samples,), for example using ravel().\n",
      "  estimator.fit(X_train, y_train, **fit_params)\n",
      "/Users/camilacollado/opt/miniconda3/envs/myenv/lib/python3.9/site-packages/sklearn/model_selection/_validation.py:680: DataConversionWarning: A column-vector y was passed when a 1d array was expected. Please change the shape of y to (n_samples,), for example using ravel().\n",
      "  estimator.fit(X_train, y_train, **fit_params)\n",
      "/Users/camilacollado/opt/miniconda3/envs/myenv/lib/python3.9/site-packages/sklearn/model_selection/_validation.py:680: DataConversionWarning: A column-vector y was passed when a 1d array was expected. Please change the shape of y to (n_samples,), for example using ravel().\n",
      "  estimator.fit(X_train, y_train, **fit_params)\n",
      "/Users/camilacollado/opt/miniconda3/envs/myenv/lib/python3.9/site-packages/sklearn/model_selection/_validation.py:680: DataConversionWarning: A column-vector y was passed when a 1d array was expected. Please change the shape of y to (n_samples,), for example using ravel().\n",
      "  estimator.fit(X_train, y_train, **fit_params)\n",
      "/Users/camilacollado/opt/miniconda3/envs/myenv/lib/python3.9/site-packages/sklearn/model_selection/_validation.py:680: DataConversionWarning: A column-vector y was passed when a 1d array was expected. Please change the shape of y to (n_samples,), for example using ravel().\n",
      "  estimator.fit(X_train, y_train, **fit_params)\n",
      "/Users/camilacollado/opt/miniconda3/envs/myenv/lib/python3.9/site-packages/sklearn/model_selection/_validation.py:680: DataConversionWarning: A column-vector y was passed when a 1d array was expected. Please change the shape of y to (n_samples,), for example using ravel().\n",
      "  estimator.fit(X_train, y_train, **fit_params)\n",
      "/Users/camilacollado/opt/miniconda3/envs/myenv/lib/python3.9/site-packages/sklearn/model_selection/_validation.py:680: DataConversionWarning: A column-vector y was passed when a 1d array was expected. Please change the shape of y to (n_samples,), for example using ravel().\n",
      "  estimator.fit(X_train, y_train, **fit_params)\n",
      "/Users/camilacollado/opt/miniconda3/envs/myenv/lib/python3.9/site-packages/sklearn/model_selection/_validation.py:680: DataConversionWarning: A column-vector y was passed when a 1d array was expected. Please change the shape of y to (n_samples,), for example using ravel().\n",
      "  estimator.fit(X_train, y_train, **fit_params)\n",
      "/Users/camilacollado/opt/miniconda3/envs/myenv/lib/python3.9/site-packages/sklearn/model_selection/_validation.py:680: DataConversionWarning: A column-vector y was passed when a 1d array was expected. Please change the shape of y to (n_samples,), for example using ravel().\n",
      "  estimator.fit(X_train, y_train, **fit_params)\n",
      "/Users/camilacollado/opt/miniconda3/envs/myenv/lib/python3.9/site-packages/sklearn/model_selection/_validation.py:680: DataConversionWarning: A column-vector y was passed when a 1d array was expected. Please change the shape of y to (n_samples,), for example using ravel().\n",
      "  estimator.fit(X_train, y_train, **fit_params)\n",
      "/Users/camilacollado/opt/miniconda3/envs/myenv/lib/python3.9/site-packages/sklearn/model_selection/_validation.py:680: DataConversionWarning: A column-vector y was passed when a 1d array was expected. Please change the shape of y to (n_samples,), for example using ravel().\n",
      "  estimator.fit(X_train, y_train, **fit_params)\n",
      "/Users/camilacollado/opt/miniconda3/envs/myenv/lib/python3.9/site-packages/sklearn/model_selection/_validation.py:680: DataConversionWarning: A column-vector y was passed when a 1d array was expected. Please change the shape of y to (n_samples,), for example using ravel().\n",
      "  estimator.fit(X_train, y_train, **fit_params)\n",
      "/Users/camilacollado/opt/miniconda3/envs/myenv/lib/python3.9/site-packages/sklearn/model_selection/_search.py:926: DataConversionWarning: A column-vector y was passed when a 1d array was expected. Please change the shape of y to (n_samples,), for example using ravel().\n",
      "  self.best_estimator_.fit(X, y, **fit_params)\n"
     ]
    },
    {
     "data": {
      "text/plain": [
       "GridSearchCV(cv=2, estimator=ExtraTreesRegressor(random_state=0),\n",
       "             param_grid=[{'max_depth': [6, 10],\n",
       "                          'min_samples_leaf': [1, 5, 15, 205],\n",
       "                          'n_estimators': [100, 200, 500]}])"
      ]
     },
     "execution_count": 79,
     "metadata": {},
     "output_type": "execute_result"
    }
   ],
   "source": [
    "parameters = [{'n_estimators': [100, 200, 500], 'max_depth':[6,10], 'min_samples_leaf':[1, 5, 15, 205]}]\n",
    "clf = GridSearchCV(reg, parameters, cv=2)\n",
    "clf.fit(X, y)\n",
    "\n",
    "#max_features"
   ]
  },
  {
   "cell_type": "code",
   "execution_count": 80,
   "metadata": {},
   "outputs": [
    {
     "data": {
      "text/plain": [
       "0.08149088064535903"
      ]
     },
     "execution_count": 80,
     "metadata": {},
     "output_type": "execute_result"
    }
   ],
   "source": [
    "clf.best_score_"
   ]
  },
  {
   "cell_type": "code",
   "execution_count": 81,
   "metadata": {},
   "outputs": [
    {
     "data": {
      "text/plain": [
       "{'max_depth': 10, 'min_samples_leaf': 1, 'n_estimators': 200}"
      ]
     },
     "execution_count": 81,
     "metadata": {},
     "output_type": "execute_result"
    }
   ],
   "source": [
    "clf.best_params_"
   ]
  },
  {
   "cell_type": "code",
   "execution_count": 86,
   "metadata": {},
   "outputs": [
    {
     "name": "stderr",
     "output_type": "stream",
     "text": [
      "/var/folders/28/24dngf7d6n36_8l0n_hsjj900000gn/T/ipykernel_68771/1558111246.py:3: DataConversionWarning: A column-vector y was passed when a 1d array was expected. Please change the shape of y to (n_samples,), for example using ravel().\n",
      "  reg.fit(X_train, y_train)\n"
     ]
    },
    {
     "data": {
      "text/plain": [
       "ExtraTreesRegressor(random_state=0)"
      ]
     },
     "execution_count": 86,
     "metadata": {},
     "output_type": "execute_result"
    }
   ],
   "source": [
    "reg = ExtraTreesRegressor(random_state=0)\n",
    "#, max_depth=10, n_estimators= 200)\n",
    "reg.fit(X_train, y_train)"
   ]
  },
  {
   "cell_type": "code",
   "execution_count": 87,
   "metadata": {},
   "outputs": [
    {
     "data": {
      "text/plain": [
       "0.18081013690456738"
      ]
     },
     "execution_count": 87,
     "metadata": {},
     "output_type": "execute_result"
    }
   ],
   "source": [
    "reg.score(X_test, y_test)"
   ]
  },
  {
   "cell_type": "markdown",
   "metadata": {},
   "source": [
    "## Light GBM"
   ]
  },
  {
   "cell_type": "code",
   "execution_count": 39,
   "metadata": {},
   "outputs": [
    {
     "name": "stdout",
     "output_type": "stream",
     "text": [
      "Collecting package metadata (current_repodata.json): done\n",
      "Solving environment: done\n",
      "\n",
      "\n",
      "==> WARNING: A newer version of conda exists. <==\n",
      "  current version: 4.12.0\n",
      "  latest version: 4.13.0\n",
      "\n",
      "Please update conda by running\n",
      "\n",
      "    $ conda update -n base -c defaults conda\n",
      "\n",
      "\n",
      "\n",
      "## Package Plan ##\n",
      "\n",
      "  environment location: /Users/camilacollado/opt/miniconda3/envs/myenv\n",
      "\n",
      "  added / updated specs:\n",
      "    - lightgbm\n",
      "\n",
      "\n",
      "The following packages will be downloaded:\n",
      "\n",
      "    package                    |            build\n",
      "    ---------------------------|-----------------\n",
      "    bzip2-1.0.8                |       h3422bc3_4         148 KB  conda-forge\n",
      "    certifi-2022.6.15          |   py39h2804cbe_0         155 KB  conda-forge\n",
      "    libzlib-1.2.12             |       ha287fd2_1          48 KB  conda-forge\n",
      "    lightgbm-3.3.2             |   py39h8685b90_0         1.0 MB  conda-forge\n",
      "    python-3.9.13              |hc596b02_0_cpython        12.2 MB  conda-forge\n",
      "    python_abi-3.9             |           2_cp39           4 KB  conda-forge\n",
      "    sqlite-3.39.0              |       h40dfcc0_0         1.6 MB  conda-forge\n",
      "    tk-8.6.12                  |       he1e0b03_0         3.2 MB  conda-forge\n",
      "    zlib-1.2.12                |       ha287fd2_1          77 KB  conda-forge\n",
      "    ------------------------------------------------------------\n",
      "                                           Total:        18.5 MB\n",
      "\n",
      "The following NEW packages will be INSTALLED:\n",
      "\n",
      "  bzip2              conda-forge/osx-arm64::bzip2-1.0.8-h3422bc3_4\n",
      "  libzlib            conda-forge/osx-arm64::libzlib-1.2.12-ha287fd2_1\n",
      "  lightgbm           conda-forge/osx-arm64::lightgbm-3.3.2-py39h8685b90_0\n",
      "  python_abi         conda-forge/osx-arm64::python_abi-3.9-2_cp39\n",
      "\n",
      "The following packages will be UPDATED:\n",
      "\n",
      "  python                pkgs/main::python-3.9.12-hbdb9e5c_0 --> conda-forge::python-3.9.13-hc596b02_0_cpython\n",
      "  sqlite                pkgs/main::sqlite-3.38.3-h1058600_0 --> conda-forge::sqlite-3.39.0-h40dfcc0_0\n",
      "  tk                        pkgs/main::tk-8.6.11-hb8d0fd4_1 --> conda-forge::tk-8.6.12-he1e0b03_0\n",
      "\n",
      "The following packages will be SUPERSEDED by a higher-priority channel:\n",
      "\n",
      "  certifi            pkgs/main::certifi-2022.6.15-py39hca0~ --> conda-forge::certifi-2022.6.15-py39h2804cbe_0\n",
      "  zlib                    pkgs/main::zlib-1.2.12-h5a0b063_2 --> conda-forge::zlib-1.2.12-ha287fd2_1\n",
      "\n",
      "\n",
      "\n",
      "Downloading and Extracting Packages\n",
      "libzlib-1.2.12       | 48 KB     | ##################################### | 100% \n",
      "tk-8.6.12            | 3.2 MB    | ##################################### | 100% \n",
      "zlib-1.2.12          | 77 KB     | ##################################### | 100% \n",
      "certifi-2022.6.15    | 155 KB    | ##################################### | 100% \n",
      "sqlite-3.39.0        | 1.6 MB    | ##################################### | 100% \n",
      "python_abi-3.9       | 4 KB      | ##################################### | 100% \n",
      "python-3.9.13        | 12.2 MB   | ##################################### | 100% \n",
      "lightgbm-3.3.2       | 1.0 MB    | ##################################### | 100% \n",
      "bzip2-1.0.8          | 148 KB    | ##################################### | 100% \n",
      "Preparing transaction: done\n",
      "Verifying transaction: done\n",
      "Executing transaction: done\n",
      "\n",
      "Note: you may need to restart the kernel to use updated packages.\n"
     ]
    }
   ],
   "source": [
    "#conda install -c conda-forge lightgbm"
   ]
  },
  {
   "cell_type": "code",
   "execution_count": 23,
   "metadata": {},
   "outputs": [],
   "source": [
    "import lightgbm as lgb\n",
    "from lightgbm import LGBMRegressor"
   ]
  },
  {
   "cell_type": "code",
   "execution_count": 24,
   "metadata": {},
   "outputs": [
    {
     "name": "stdout",
     "output_type": "stream",
     "text": [
      "Test Score: 0.18920082738994892\n"
     ]
    }
   ],
   "source": [
    "LGB = LGBMRegressor(random_state=0)\n",
    "LGB.fit(X_train, y_train)\n",
    "print(\"Test Score: {}\".format(LGB.score(X_test,y_test)))"
   ]
  },
  {
   "cell_type": "code",
   "execution_count": 25,
   "metadata": {},
   "outputs": [
    {
     "data": {
      "text/plain": [
       "{'boosting_type': 'gbdt',\n",
       " 'class_weight': None,\n",
       " 'colsample_bytree': 1.0,\n",
       " 'importance_type': 'split',\n",
       " 'learning_rate': 0.1,\n",
       " 'max_depth': -1,\n",
       " 'min_child_samples': 20,\n",
       " 'min_child_weight': 0.001,\n",
       " 'min_split_gain': 0.0,\n",
       " 'n_estimators': 100,\n",
       " 'n_jobs': -1,\n",
       " 'num_leaves': 31,\n",
       " 'objective': None,\n",
       " 'random_state': 0,\n",
       " 'reg_alpha': 0.0,\n",
       " 'reg_lambda': 0.0,\n",
       " 'silent': 'warn',\n",
       " 'subsample': 1.0,\n",
       " 'subsample_for_bin': 200000,\n",
       " 'subsample_freq': 0}"
      ]
     },
     "execution_count": 25,
     "metadata": {},
     "output_type": "execute_result"
    }
   ],
   "source": [
    "LGB.get_params()"
   ]
  },
  {
   "cell_type": "code",
   "execution_count": 26,
   "metadata": {},
   "outputs": [],
   "source": [
    "tabla= pd.DataFrame(LGB.feature_name_)"
   ]
  },
  {
   "cell_type": "code",
   "execution_count": 126,
   "metadata": {},
   "outputs": [
    {
     "data": {
      "text/html": [
       "<div>\n",
       "<style scoped>\n",
       "    .dataframe tbody tr th:only-of-type {\n",
       "        vertical-align: middle;\n",
       "    }\n",
       "\n",
       "    .dataframe tbody tr th {\n",
       "        vertical-align: top;\n",
       "    }\n",
       "\n",
       "    .dataframe thead th {\n",
       "        text-align: right;\n",
       "    }\n",
       "</style>\n",
       "<table border=\"1\" class=\"dataframe\">\n",
       "  <thead>\n",
       "    <tr style=\"text-align: right;\">\n",
       "      <th></th>\n",
       "      <th>Feature name</th>\n",
       "      <th>Feature importance</th>\n",
       "    </tr>\n",
       "  </thead>\n",
       "  <tbody>\n",
       "    <tr>\n",
       "      <th>10</th>\n",
       "      <td>Dev_freq_encode</td>\n",
       "      <td>506</td>\n",
       "    </tr>\n",
       "    <tr>\n",
       "      <th>0</th>\n",
       "      <td>MaximumInstalls</td>\n",
       "      <td>352</td>\n",
       "    </tr>\n",
       "    <tr>\n",
       "      <th>7</th>\n",
       "      <td>ReleasedDA</td>\n",
       "      <td>294</td>\n",
       "    </tr>\n",
       "    <tr>\n",
       "      <th>8</th>\n",
       "      <td>LastUpdatedDA</td>\n",
       "      <td>272</td>\n",
       "    </tr>\n",
       "    <tr>\n",
       "      <th>2</th>\n",
       "      <td>SizeMB</td>\n",
       "      <td>245</td>\n",
       "    </tr>\n",
       "    <tr>\n",
       "      <th>11</th>\n",
       "      <td>Android_freq_encode</td>\n",
       "      <td>224</td>\n",
       "    </tr>\n",
       "    <tr>\n",
       "      <th>16</th>\n",
       "      <td>Category_4</td>\n",
       "      <td>146</td>\n",
       "    </tr>\n",
       "    <tr>\n",
       "      <th>15</th>\n",
       "      <td>Category_3</td>\n",
       "      <td>128</td>\n",
       "    </tr>\n",
       "    <tr>\n",
       "      <th>4</th>\n",
       "      <td>AdSupported</td>\n",
       "      <td>125</td>\n",
       "    </tr>\n",
       "    <tr>\n",
       "      <th>5</th>\n",
       "      <td>InAppPurchases</td>\n",
       "      <td>114</td>\n",
       "    </tr>\n",
       "    <tr>\n",
       "      <th>14</th>\n",
       "      <td>Category_2</td>\n",
       "      <td>108</td>\n",
       "    </tr>\n",
       "    <tr>\n",
       "      <th>17</th>\n",
       "      <td>Category_5</td>\n",
       "      <td>108</td>\n",
       "    </tr>\n",
       "    <tr>\n",
       "      <th>13</th>\n",
       "      <td>Category_1</td>\n",
       "      <td>104</td>\n",
       "    </tr>\n",
       "    <tr>\n",
       "      <th>1</th>\n",
       "      <td>Price</td>\n",
       "      <td>93</td>\n",
       "    </tr>\n",
       "    <tr>\n",
       "      <th>12</th>\n",
       "      <td>Category_0</td>\n",
       "      <td>87</td>\n",
       "    </tr>\n",
       "    <tr>\n",
       "      <th>9</th>\n",
       "      <td>ContentRatingOrdinal</td>\n",
       "      <td>85</td>\n",
       "    </tr>\n",
       "    <tr>\n",
       "      <th>6</th>\n",
       "      <td>EditorsChoice</td>\n",
       "      <td>9</td>\n",
       "    </tr>\n",
       "    <tr>\n",
       "      <th>3</th>\n",
       "      <td>Free</td>\n",
       "      <td>0</td>\n",
       "    </tr>\n",
       "  </tbody>\n",
       "</table>\n",
       "</div>"
      ],
      "text/plain": [
       "            Feature name  Feature importance\n",
       "10       Dev_freq_encode                 506\n",
       "0        MaximumInstalls                 352\n",
       "7             ReleasedDA                 294\n",
       "8          LastUpdatedDA                 272\n",
       "2                 SizeMB                 245\n",
       "11   Android_freq_encode                 224\n",
       "16            Category_4                 146\n",
       "15            Category_3                 128\n",
       "4            AdSupported                 125\n",
       "5         InAppPurchases                 114\n",
       "14            Category_2                 108\n",
       "17            Category_5                 108\n",
       "13            Category_1                 104\n",
       "1                  Price                  93\n",
       "12            Category_0                  87\n",
       "9   ContentRatingOrdinal                  85\n",
       "6          EditorsChoice                   9\n",
       "3                   Free                   0"
      ]
     },
     "execution_count": 126,
     "metadata": {},
     "output_type": "execute_result"
    }
   ],
   "source": [
    "tabla = tabla.rename(columns={0:'Feature name'})\n",
    "tabla['Feature importance']=LGB.feature_importances_\n",
    "tabla.sort_values('Feature importance', ascending=False)"
   ]
  },
  {
   "cell_type": "markdown",
   "metadata": {},
   "source": [
    "#### Ajuste de hiperparametros"
   ]
  },
  {
   "cell_type": "code",
   "execution_count": 29,
   "metadata": {},
   "outputs": [],
   "source": [
    "from sklearn.model_selection import GridSearchCV"
   ]
  },
  {
   "cell_type": "code",
   "execution_count": null,
   "metadata": {},
   "outputs": [],
   "source": [
    "parameters = [{'boosting_type': ['gbdt', 'dart', 'goss','rf']}]\n",
    "clf = GridSearchCV(LGB, parameters, cv=3)\n",
    "clf.fit(X, y)"
   ]
  },
  {
   "cell_type": "code",
   "execution_count": null,
   "metadata": {},
   "outputs": [
    {
     "data": {
      "text/plain": [
       "0.19076995845034775"
      ]
     },
     "execution_count": 149,
     "metadata": {},
     "output_type": "execute_result"
    }
   ],
   "source": [
    "clf.best_score_"
   ]
  },
  {
   "cell_type": "code",
   "execution_count": null,
   "metadata": {},
   "outputs": [
    {
     "data": {
      "text/plain": [
       "{'boosting_type': 'goss'}"
      ]
     },
     "execution_count": 150,
     "metadata": {},
     "output_type": "execute_result"
    }
   ],
   "source": [
    "clf.best_params_"
   ]
  },
  {
   "cell_type": "markdown",
   "metadata": {},
   "source": [
    "goss = Gradient-based One-Side Sampling"
   ]
  },
  {
   "cell_type": "code",
   "execution_count": null,
   "metadata": {},
   "outputs": [],
   "source": [
    "LGB = LGBMRegressor(random_state=0, boosting_type='goss')"
   ]
  },
  {
   "cell_type": "code",
   "execution_count": 152,
   "metadata": {},
   "outputs": [
    {
     "data": {
      "text/plain": [
       "GridSearchCV(cv=3,\n",
       "             estimator=LGBMRegressor(boosting_type='goss', random_state=0),\n",
       "             param_grid=[{'learning_rate': [0.1, 0.05, 0.001, 0.2, 0.3],\n",
       "                          'n_estimators': [100, 300, 500]}])"
      ]
     },
     "execution_count": 152,
     "metadata": {},
     "output_type": "execute_result"
    }
   ],
   "source": [
    "parameters = [{'learning_rate': [0.1, 0.05, 0.001,0.2,0.3], 'n_estimators': [100, 300, 500]}]\n",
    "clf = GridSearchCV(LGB, parameters, cv=3)\n",
    "clf.fit(X, y)"
   ]
  },
  {
   "cell_type": "code",
   "execution_count": 153,
   "metadata": {},
   "outputs": [
    {
     "data": {
      "text/plain": [
       "0.20920736922691285"
      ]
     },
     "execution_count": 153,
     "metadata": {},
     "output_type": "execute_result"
    }
   ],
   "source": [
    "clf.best_score_"
   ]
  },
  {
   "cell_type": "code",
   "execution_count": 154,
   "metadata": {},
   "outputs": [
    {
     "data": {
      "text/plain": [
       "{'learning_rate': 0.2, 'n_estimators': 500}"
      ]
     },
     "execution_count": 154,
     "metadata": {},
     "output_type": "execute_result"
    }
   ],
   "source": [
    "clf.best_params_"
   ]
  },
  {
   "cell_type": "code",
   "execution_count": 159,
   "metadata": {},
   "outputs": [
    {
     "data": {
      "text/plain": [
       "{'mean_fit_time': array([ 2.63494674,  5.87006966,  8.77303235,  2.45196462,  6.21024259,\n",
       "         9.59941673,  2.58902637,  8.34828035, 13.85960094,  2.31619906,\n",
       "         5.25765689,  8.37111449,  2.15200901,  5.04488325,  8.40614629]),\n",
       " 'std_fit_time': array([0.08843277, 0.20559016, 0.23715963, 0.00725644, 0.3387019 ,\n",
       "        0.42760096, 0.03104221, 0.23853463, 0.25611534, 0.15305809,\n",
       "        0.12431939, 0.21891353, 0.11156025, 0.02642853, 0.18523281]),\n",
       " 'mean_score_time': array([0.55123727, 1.19844564, 1.70259595, 0.49806801, 1.34647711,\n",
       "        1.94265326, 0.31927896, 1.05154371, 1.88709434, 0.4137663 ,\n",
       "        1.0529054 , 1.77726158, 0.38055801, 1.01881989, 1.70982122]),\n",
       " 'std_score_time': array([0.04983352, 0.05767226, 0.03061637, 0.02292192, 0.11623821,\n",
       "        0.08511125, 0.02006333, 0.05972676, 0.06860585, 0.01976347,\n",
       "        0.01932664, 0.1133434 , 0.0256745 , 0.0427733 , 0.01193442]),\n",
       " 'param_learning_rate': masked_array(data=[0.1, 0.1, 0.1, 0.05, 0.05, 0.05, 0.001, 0.001, 0.001,\n",
       "                    0.2, 0.2, 0.2, 0.3, 0.3, 0.3],\n",
       "              mask=[False, False, False, False, False, False, False, False,\n",
       "                    False, False, False, False, False, False, False],\n",
       "        fill_value='?',\n",
       "             dtype=object),\n",
       " 'param_n_estimators': masked_array(data=[100, 300, 500, 100, 300, 500, 100, 300, 500, 100, 300,\n",
       "                    500, 100, 300, 500],\n",
       "              mask=[False, False, False, False, False, False, False, False,\n",
       "                    False, False, False, False, False, False, False],\n",
       "        fill_value='?',\n",
       "             dtype=object),\n",
       " 'params': [{'learning_rate': 0.1, 'n_estimators': 100},\n",
       "  {'learning_rate': 0.1, 'n_estimators': 300},\n",
       "  {'learning_rate': 0.1, 'n_estimators': 500},\n",
       "  {'learning_rate': 0.05, 'n_estimators': 100},\n",
       "  {'learning_rate': 0.05, 'n_estimators': 300},\n",
       "  {'learning_rate': 0.05, 'n_estimators': 500},\n",
       "  {'learning_rate': 0.001, 'n_estimators': 100},\n",
       "  {'learning_rate': 0.001, 'n_estimators': 300},\n",
       "  {'learning_rate': 0.001, 'n_estimators': 500},\n",
       "  {'learning_rate': 0.2, 'n_estimators': 100},\n",
       "  {'learning_rate': 0.2, 'n_estimators': 300},\n",
       "  {'learning_rate': 0.2, 'n_estimators': 500},\n",
       "  {'learning_rate': 0.3, 'n_estimators': 100},\n",
       "  {'learning_rate': 0.3, 'n_estimators': 300},\n",
       "  {'learning_rate': 0.3, 'n_estimators': 500}],\n",
       " 'split0_test_score': array([0.18989533, 0.20225477, 0.20809611, 0.17955998, 0.19585493,\n",
       "        0.20187405, 0.02557401, 0.06416332, 0.09084326, 0.19723451,\n",
       "        0.20611637, 0.20836167, 0.20004439, 0.20434012, 0.20202108]),\n",
       " 'split1_test_score': array([0.19337777, 0.20584765, 0.21078208, 0.18308743, 0.19879934,\n",
       "        0.20490348, 0.02601304, 0.06523041, 0.09244828, 0.2002212 ,\n",
       "        0.20941158, 0.21169836, 0.20321944, 0.20677635, 0.20400539]),\n",
       " 'split2_test_score': array([0.18903677, 0.201404  , 0.2069075 , 0.17928864, 0.19474626,\n",
       "        0.20027093, 0.02555851, 0.06412466, 0.09063738, 0.19613414,\n",
       "        0.20626246, 0.20756209, 0.19793852, 0.20264335, 0.20061638]),\n",
       " 'mean_test_score': array([0.19076996, 0.20316881, 0.20859523, 0.18064535, 0.19646685,\n",
       "        0.20234949, 0.02571519, 0.06450613, 0.09130964, 0.19786329,\n",
       "        0.20726347, 0.20920737, 0.20040078, 0.20458661, 0.20221429]),\n",
       " 'std_test_score': array([0.00187702, 0.00192581, 0.00162069, 0.00173036, 0.0017103 ,\n",
       "        0.00192088, 0.00021071, 0.00051238, 0.00080951, 0.00172676,\n",
       "        0.00152011, 0.00179139, 0.00217061, 0.00169627, 0.00139029]),\n",
       " 'rank_test_score': array([11,  5,  2, 12, 10,  6, 15, 14, 13,  9,  3,  1,  8,  4,  7],\n",
       "       dtype=int32)}"
      ]
     },
     "execution_count": 159,
     "metadata": {},
     "output_type": "execute_result"
    }
   ],
   "source": [
    "clf.cv_results_"
   ]
  },
  {
   "cell_type": "code",
   "execution_count": 161,
   "metadata": {},
   "outputs": [],
   "source": [
    "LGB2 = LGBMRegressor(random_state=0, boosting_type='goss', learning_rate=0.2)"
   ]
  },
  {
   "cell_type": "code",
   "execution_count": 163,
   "metadata": {},
   "outputs": [
    {
     "data": {
      "text/plain": [
       "GridSearchCV(cv=3,\n",
       "             estimator=LGBMRegressor(boosting_type='goss', learning_rate=0.2,\n",
       "                                     random_state=0),\n",
       "             param_grid=[{'n_estimators': [500, 750, 1000],\n",
       "                          'num_leaves': [11, 21, 31, 51]}])"
      ]
     },
     "execution_count": 163,
     "metadata": {},
     "output_type": "execute_result"
    }
   ],
   "source": [
    "parameters = [{'num_leaves': [11, 21, 31, 51], 'n_estimators': [500, 750, 1000]}]\n",
    "clf = GridSearchCV(LGB2, parameters, cv=3)\n",
    "clf.fit(X, y)"
   ]
  },
  {
   "cell_type": "code",
   "execution_count": 164,
   "metadata": {},
   "outputs": [
    {
     "data": {
      "text/plain": [
       "0.20934616341016346"
      ]
     },
     "execution_count": 164,
     "metadata": {},
     "output_type": "execute_result"
    }
   ],
   "source": [
    "clf.best_score_"
   ]
  },
  {
   "cell_type": "code",
   "execution_count": 165,
   "metadata": {},
   "outputs": [
    {
     "data": {
      "text/plain": [
       "{'n_estimators': 750, 'num_leaves': 31}"
      ]
     },
     "execution_count": 165,
     "metadata": {},
     "output_type": "execute_result"
    }
   ],
   "source": [
    "clf.best_params_"
   ]
  },
  {
   "cell_type": "code",
   "execution_count": 31,
   "metadata": {},
   "outputs": [],
   "source": [
    "LGB3 = LGBMRegressor(random_state=0, boosting_type='goss', learning_rate=0.2, num_leaves=31)"
   ]
  },
  {
   "cell_type": "code",
   "execution_count": 38,
   "metadata": {},
   "outputs": [
    {
     "data": {
      "text/plain": [
       "GridSearchCV(cv=3,\n",
       "             estimator=LGBMRegressor(boosting_type='goss', learning_rate=0.2,\n",
       "                                     random_state=0),\n",
       "             param_grid=[{'n_estimators': [690, 700, 720]}])"
      ]
     },
     "execution_count": 38,
     "metadata": {},
     "output_type": "execute_result"
    }
   ],
   "source": [
    "parameters = [{'n_estimators': [690, 700, 720]}]\n",
    "clf = GridSearchCV(LGB3, parameters, cv=3)\n",
    "clf.fit(X, y)"
   ]
  },
  {
   "cell_type": "code",
   "execution_count": 39,
   "metadata": {},
   "outputs": [
    {
     "data": {
      "text/plain": [
       "0.20937290211999196"
      ]
     },
     "execution_count": 39,
     "metadata": {},
     "output_type": "execute_result"
    }
   ],
   "source": [
    "clf.best_score_"
   ]
  },
  {
   "cell_type": "code",
   "execution_count": 40,
   "metadata": {},
   "outputs": [
    {
     "data": {
      "text/plain": [
       "{'n_estimators': 690}"
      ]
     },
     "execution_count": 40,
     "metadata": {},
     "output_type": "execute_result"
    }
   ],
   "source": [
    "clf.best_params_"
   ]
  },
  {
   "cell_type": "code",
   "execution_count": 41,
   "metadata": {},
   "outputs": [],
   "source": [
    "LGB31 = LGBMRegressor(random_state=0, boosting_type='goss', learning_rate=0.2, num_leaves=31, n_estimators=690 )"
   ]
  },
  {
   "cell_type": "code",
   "execution_count": 42,
   "metadata": {},
   "outputs": [
    {
     "data": {
      "text/plain": [
       "GridSearchCV(cv=3,\n",
       "             estimator=LGBMRegressor(boosting_type='goss', learning_rate=0.2,\n",
       "                                     n_estimators=690, random_state=0),\n",
       "             param_grid=[{'max_depth': [14, 16, 18]}])"
      ]
     },
     "execution_count": 42,
     "metadata": {},
     "output_type": "execute_result"
    }
   ],
   "source": [
    "parameters = [{'max_depth': [14, 16, 18]}]\n",
    "clf = GridSearchCV(LGB31, parameters, cv=3)\n",
    "clf.fit(X, y)"
   ]
  },
  {
   "cell_type": "code",
   "execution_count": 43,
   "metadata": {},
   "outputs": [
    {
     "data": {
      "text/plain": [
       "0.209773527749169"
      ]
     },
     "execution_count": 43,
     "metadata": {},
     "output_type": "execute_result"
    }
   ],
   "source": [
    "clf.best_score_"
   ]
  },
  {
   "cell_type": "code",
   "execution_count": 44,
   "metadata": {},
   "outputs": [
    {
     "data": {
      "text/plain": [
       "{'max_depth': 16}"
      ]
     },
     "execution_count": 44,
     "metadata": {},
     "output_type": "execute_result"
    }
   ],
   "source": [
    "clf.best_params_"
   ]
  },
  {
   "cell_type": "code",
   "execution_count": 52,
   "metadata": {},
   "outputs": [],
   "source": [
    "LGB4 = LGBMRegressor(random_state=0, learning_rate=0.2, num_leaves=31, n_estimators=700, max_depth=16)"
   ]
  },
  {
   "cell_type": "code",
   "execution_count": 53,
   "metadata": {},
   "outputs": [
    {
     "data": {
      "text/plain": [
       "LGBMRegressor(learning_rate=0.2, max_depth=16, n_estimators=700, random_state=0)"
      ]
     },
     "execution_count": 53,
     "metadata": {},
     "output_type": "execute_result"
    }
   ],
   "source": [
    "LGB4.fit(X_train, y_train)"
   ]
  },
  {
   "cell_type": "code",
   "execution_count": 54,
   "metadata": {},
   "outputs": [
    {
     "data": {
      "text/plain": [
       "0.21973652041873137"
      ]
     },
     "execution_count": 54,
     "metadata": {},
     "output_type": "execute_result"
    }
   ],
   "source": [
    "LGB4.score(X_test, y_test)"
   ]
  },
  {
   "cell_type": "code",
   "execution_count": 64,
   "metadata": {},
   "outputs": [
    {
     "name": "stdout",
     "output_type": "stream",
     "text": [
      "[LightGBM] [Warning] min_data_in_leaf is set=90, min_child_samples=20 will be ignored. Current value: min_data_in_leaf=90\n",
      "[LightGBM] [Warning] min_data_in_leaf is set=90, min_child_samples=20 will be ignored. Current value: min_data_in_leaf=90\n",
      "[LightGBM] [Warning] min_data_in_leaf is set=100, min_child_samples=20 will be ignored. Current value: min_data_in_leaf=100\n",
      "[LightGBM] [Warning] min_data_in_leaf is set=100, min_child_samples=20 will be ignored. Current value: min_data_in_leaf=100\n",
      "[LightGBM] [Warning] min_data_in_leaf is set=100, min_child_samples=20 will be ignored. Current value: min_data_in_leaf=100\n",
      "[LightGBM] [Warning] min_data_in_leaf is set=110, min_child_samples=20 will be ignored. Current value: min_data_in_leaf=110\n",
      "[LightGBM] [Warning] min_data_in_leaf is set=110, min_child_samples=20 will be ignored. Current value: min_data_in_leaf=110\n",
      "[LightGBM] [Warning] min_data_in_leaf is set=110, min_child_samples=20 will be ignored. Current value: min_data_in_leaf=110\n",
      "[LightGBM] [Warning] min_data_in_leaf is set=100, min_child_samples=20 will be ignored. Current value: min_data_in_leaf=100\n"
     ]
    },
    {
     "data": {
      "text/plain": [
       "GridSearchCV(cv=3,\n",
       "             estimator=LGBMRegressor(learning_rate=0.2, max_depth=16,\n",
       "                                     n_estimators=700, random_state=0),\n",
       "             param_grid=[{'min_data_in_leaf': [90, 100, 110]}])"
      ]
     },
     "execution_count": 64,
     "metadata": {},
     "output_type": "execute_result"
    }
   ],
   "source": [
    "parameters = [{'min_data_in_leaf': [90,100,110]}]\n",
    "clf = GridSearchCV(LGB4, parameters, cv=3)\n",
    "clf.fit(X, y)"
   ]
  },
  {
   "cell_type": "code",
   "execution_count": 65,
   "metadata": {},
   "outputs": [
    {
     "data": {
      "text/plain": [
       "0.2198376495849008"
      ]
     },
     "execution_count": 65,
     "metadata": {},
     "output_type": "execute_result"
    }
   ],
   "source": [
    "clf.best_score_"
   ]
  },
  {
   "cell_type": "code",
   "execution_count": 66,
   "metadata": {},
   "outputs": [
    {
     "data": {
      "text/plain": [
       "{'min_data_in_leaf': 100}"
      ]
     },
     "execution_count": 66,
     "metadata": {},
     "output_type": "execute_result"
    }
   ],
   "source": [
    "clf.best_params_"
   ]
  },
  {
   "cell_type": "code",
   "execution_count": 77,
   "metadata": {},
   "outputs": [],
   "source": [
    "LGB5=LGBMRegressor(random_state=0, learning_rate=0.2, num_leaves=31, n_estimators=700, max_depth=16, min_data_in_leaf= 100)"
   ]
  },
  {
   "cell_type": "code",
   "execution_count": 78,
   "metadata": {},
   "outputs": [
    {
     "name": "stdout",
     "output_type": "stream",
     "text": [
      "[LightGBM] [Warning] min_data_in_leaf is set=100, min_child_samples=20 will be ignored. Current value: min_data_in_leaf=100\n"
     ]
    },
    {
     "data": {
      "text/plain": [
       "LGBMRegressor(learning_rate=0.2, max_depth=16, min_data_in_leaf=100,\n",
       "              n_estimators=700, random_state=0)"
      ]
     },
     "execution_count": 78,
     "metadata": {},
     "output_type": "execute_result"
    }
   ],
   "source": [
    "LGB5.fit(X_train, y_train)"
   ]
  },
  {
   "cell_type": "code",
   "execution_count": 84,
   "metadata": {},
   "outputs": [
    {
     "data": {
      "text/plain": [
       "0.2198020886130283"
      ]
     },
     "execution_count": 84,
     "metadata": {},
     "output_type": "execute_result"
    }
   ],
   "source": [
    "LGB5.score(X_test, y_test)"
   ]
  },
  {
   "cell_type": "code",
   "execution_count": 85,
   "metadata": {},
   "outputs": [
    {
     "name": "stdout",
     "output_type": "stream",
     "text": [
      "[LightGBM] [Warning] min_data_in_leaf is set=100, min_child_samples=20 will be ignored. Current value: min_data_in_leaf=100\n",
      "[LightGBM] [Warning] min_data_in_leaf is set=100, min_child_samples=20 will be ignored. Current value: min_data_in_leaf=100\n",
      "[LightGBM] [Warning] min_data_in_leaf is set=100, min_child_samples=20 will be ignored. Current value: min_data_in_leaf=100\n",
      "[LightGBM] [Warning] min_data_in_leaf is set=100, min_child_samples=20 will be ignored. Current value: min_data_in_leaf=100\n",
      "[LightGBM] [Warning] min_data_in_leaf is set=100, min_child_samples=20 will be ignored. Current value: min_data_in_leaf=100\n",
      "[LightGBM] [Warning] min_data_in_leaf is set=100, min_child_samples=20 will be ignored. Current value: min_data_in_leaf=100\n",
      "[LightGBM] [Warning] min_data_in_leaf is set=100, min_child_samples=20 will be ignored. Current value: min_data_in_leaf=100\n",
      "[LightGBM] [Warning] min_data_in_leaf is set=100, min_child_samples=20 will be ignored. Current value: min_data_in_leaf=100\n",
      "[LightGBM] [Warning] min_data_in_leaf is set=100, min_child_samples=20 will be ignored. Current value: min_data_in_leaf=100\n",
      "[LightGBM] [Warning] min_data_in_leaf is set=100, min_child_samples=20 will be ignored. Current value: min_data_in_leaf=100\n",
      "[LightGBM] [Warning] min_data_in_leaf is set=100, min_child_samples=20 will be ignored. Current value: min_data_in_leaf=100\n",
      "[LightGBM] [Warning] min_data_in_leaf is set=100, min_child_samples=20 will be ignored. Current value: min_data_in_leaf=100\n",
      "[LightGBM] [Warning] min_data_in_leaf is set=100, min_child_samples=20 will be ignored. Current value: min_data_in_leaf=100\n",
      "[LightGBM] [Warning] min_data_in_leaf is set=100, min_child_samples=20 will be ignored. Current value: min_data_in_leaf=100\n",
      "[LightGBM] [Warning] min_data_in_leaf is set=100, min_child_samples=20 will be ignored. Current value: min_data_in_leaf=100\n",
      "[LightGBM] [Warning] min_data_in_leaf is set=100, min_child_samples=20 will be ignored. Current value: min_data_in_leaf=100\n",
      "[LightGBM] [Warning] min_data_in_leaf is set=100, min_child_samples=20 will be ignored. Current value: min_data_in_leaf=100\n",
      "[LightGBM] [Warning] min_data_in_leaf is set=100, min_child_samples=20 will be ignored. Current value: min_data_in_leaf=100\n",
      "[LightGBM] [Warning] min_data_in_leaf is set=100, min_child_samples=20 will be ignored. Current value: min_data_in_leaf=100\n"
     ]
    },
    {
     "data": {
      "text/plain": [
       "GridSearchCV(cv=3,\n",
       "             estimator=LGBMRegressor(learning_rate=0.2, max_depth=16,\n",
       "                                     min_data_in_leaf=100, n_estimators=700,\n",
       "                                     random_state=0),\n",
       "             param_grid=[{'boosting_type': ['gbdt', 'dart'],\n",
       "                          'max_bin': [255, 500, 700]}])"
      ]
     },
     "execution_count": 85,
     "metadata": {},
     "output_type": "execute_result"
    }
   ],
   "source": [
    "parameters = [{'max_bin': [255,500,700], 'boosting_type': ['gbdt', 'dart'] }]\n",
    "clf = GridSearchCV(LGB5, parameters, cv=3)\n",
    "clf.fit(X, y)"
   ]
  },
  {
   "cell_type": "code",
   "execution_count": 86,
   "metadata": {},
   "outputs": [
    {
     "data": {
      "text/plain": [
       "0.2198376495849008"
      ]
     },
     "execution_count": 86,
     "metadata": {},
     "output_type": "execute_result"
    }
   ],
   "source": [
    "clf.best_score_"
   ]
  },
  {
   "cell_type": "code",
   "execution_count": 87,
   "metadata": {},
   "outputs": [
    {
     "data": {
      "text/plain": [
       "{'boosting_type': 'gbdt', 'max_bin': 255}"
      ]
     },
     "execution_count": 87,
     "metadata": {},
     "output_type": "execute_result"
    }
   ],
   "source": [
    "clf.best_params_\n",
    "#quedaron como mejores los default"
   ]
  },
  {
   "cell_type": "code",
   "execution_count": 91,
   "metadata": {},
   "outputs": [
    {
     "data": {
      "text/plain": [
       "{'mean_fit_time': array([  6.82925971,   5.72457329,   5.73650789, 351.91638621,\n",
       "        518.8552111 , 217.95849331]),\n",
       " 'std_fit_time': array([3.43901400e-01, 6.31378808e-02, 3.88804609e-02, 1.05549753e+02,\n",
       "        4.39300529e+02, 8.12889541e+00]),\n",
       " 'mean_score_time': array([1.69405961, 1.71148062, 1.75469502, 3.28159332, 3.06689938,\n",
       "        3.404809  ]),\n",
       " 'std_score_time': array([0.06257234, 0.04624249, 0.04743169, 0.23774651, 0.08742011,\n",
       "        0.3337873 ]),\n",
       " 'param_boosting_type': masked_array(data=['gbdt', 'gbdt', 'gbdt', 'dart', 'dart', 'dart'],\n",
       "              mask=[False, False, False, False, False, False],\n",
       "        fill_value='?',\n",
       "             dtype=object),\n",
       " 'param_max_bin': masked_array(data=[255, 500, 700, 255, 500, 700],\n",
       "              mask=[False, False, False, False, False, False],\n",
       "        fill_value='?',\n",
       "             dtype=object),\n",
       " 'params': [{'boosting_type': 'gbdt', 'max_bin': 255},\n",
       "  {'boosting_type': 'gbdt', 'max_bin': 500},\n",
       "  {'boosting_type': 'gbdt', 'max_bin': 700},\n",
       "  {'boosting_type': 'dart', 'max_bin': 255},\n",
       "  {'boosting_type': 'dart', 'max_bin': 500},\n",
       "  {'boosting_type': 'dart', 'max_bin': 700}],\n",
       " 'split0_test_score': array([0.21969994, 0.21784878, 0.21866373, 0.20782128, 0.20803886,\n",
       "        0.20762096]),\n",
       " 'split1_test_score': array([0.22280843, 0.22163369, 0.2224347 , 0.21082888, 0.21065632,\n",
       "        0.21063921]),\n",
       " 'split2_test_score': array([0.21700458, 0.21729858, 0.21703462, 0.20609425, 0.20660064,\n",
       "        0.20686249]),\n",
       " 'mean_test_score': array([0.21983765, 0.21892702, 0.21937768, 0.20824814, 0.20843194,\n",
       "        0.20837422]),\n",
       " 'std_test_score': array([0.00237141, 0.00192704, 0.00226164, 0.00195633, 0.00167889,\n",
       "        0.00163125]),\n",
       " 'rank_test_score': array([1, 3, 2, 6, 4, 5], dtype=int32)}"
      ]
     },
     "execution_count": 91,
     "metadata": {},
     "output_type": "execute_result"
    }
   ],
   "source": [
    "clf.cv_results_"
   ]
  },
  {
   "cell_type": "markdown",
   "metadata": {},
   "source": [
    "Light GBM final: LGB5"
   ]
  },
  {
   "cell_type": "code",
   "execution_count": 90,
   "metadata": {},
   "outputs": [
    {
     "data": {
      "text/html": [
       "<div>\n",
       "<style scoped>\n",
       "    .dataframe tbody tr th:only-of-type {\n",
       "        vertical-align: middle;\n",
       "    }\n",
       "\n",
       "    .dataframe tbody tr th {\n",
       "        vertical-align: top;\n",
       "    }\n",
       "\n",
       "    .dataframe thead th {\n",
       "        text-align: right;\n",
       "    }\n",
       "</style>\n",
       "<table border=\"1\" class=\"dataframe\">\n",
       "  <thead>\n",
       "    <tr style=\"text-align: right;\">\n",
       "      <th></th>\n",
       "      <th>Feature name</th>\n",
       "      <th>Feature importance</th>\n",
       "    </tr>\n",
       "  </thead>\n",
       "  <tbody>\n",
       "    <tr>\n",
       "      <th>10</th>\n",
       "      <td>Dev_freq_encode</td>\n",
       "      <td>3152</td>\n",
       "    </tr>\n",
       "    <tr>\n",
       "      <th>0</th>\n",
       "      <td>MaximumInstalls</td>\n",
       "      <td>3028</td>\n",
       "    </tr>\n",
       "    <tr>\n",
       "      <th>7</th>\n",
       "      <td>ReleasedDA</td>\n",
       "      <td>2946</td>\n",
       "    </tr>\n",
       "    <tr>\n",
       "      <th>8</th>\n",
       "      <td>LastUpdatedDA</td>\n",
       "      <td>2935</td>\n",
       "    </tr>\n",
       "    <tr>\n",
       "      <th>2</th>\n",
       "      <td>SizeMB</td>\n",
       "      <td>2916</td>\n",
       "    </tr>\n",
       "    <tr>\n",
       "      <th>11</th>\n",
       "      <td>Android_freq_encode</td>\n",
       "      <td>1463</td>\n",
       "    </tr>\n",
       "    <tr>\n",
       "      <th>17</th>\n",
       "      <td>Category_5</td>\n",
       "      <td>584</td>\n",
       "    </tr>\n",
       "    <tr>\n",
       "      <th>4</th>\n",
       "      <td>AdSupported</td>\n",
       "      <td>561</td>\n",
       "    </tr>\n",
       "    <tr>\n",
       "      <th>16</th>\n",
       "      <td>Category_4</td>\n",
       "      <td>544</td>\n",
       "    </tr>\n",
       "    <tr>\n",
       "      <th>15</th>\n",
       "      <td>Category_3</td>\n",
       "      <td>518</td>\n",
       "    </tr>\n",
       "    <tr>\n",
       "      <th>13</th>\n",
       "      <td>Category_1</td>\n",
       "      <td>511</td>\n",
       "    </tr>\n",
       "    <tr>\n",
       "      <th>14</th>\n",
       "      <td>Category_2</td>\n",
       "      <td>505</td>\n",
       "    </tr>\n",
       "    <tr>\n",
       "      <th>1</th>\n",
       "      <td>Price</td>\n",
       "      <td>366</td>\n",
       "    </tr>\n",
       "    <tr>\n",
       "      <th>9</th>\n",
       "      <td>ContentRatingOrdinal</td>\n",
       "      <td>365</td>\n",
       "    </tr>\n",
       "    <tr>\n",
       "      <th>5</th>\n",
       "      <td>InAppPurchases</td>\n",
       "      <td>300</td>\n",
       "    </tr>\n",
       "    <tr>\n",
       "      <th>12</th>\n",
       "      <td>Category_0</td>\n",
       "      <td>294</td>\n",
       "    </tr>\n",
       "    <tr>\n",
       "      <th>6</th>\n",
       "      <td>EditorsChoice</td>\n",
       "      <td>12</td>\n",
       "    </tr>\n",
       "    <tr>\n",
       "      <th>3</th>\n",
       "      <td>Free</td>\n",
       "      <td>0</td>\n",
       "    </tr>\n",
       "  </tbody>\n",
       "</table>\n",
       "</div>"
      ],
      "text/plain": [
       "            Feature name  Feature importance\n",
       "10       Dev_freq_encode                3152\n",
       "0        MaximumInstalls                3028\n",
       "7             ReleasedDA                2946\n",
       "8          LastUpdatedDA                2935\n",
       "2                 SizeMB                2916\n",
       "11   Android_freq_encode                1463\n",
       "17            Category_5                 584\n",
       "4            AdSupported                 561\n",
       "16            Category_4                 544\n",
       "15            Category_3                 518\n",
       "13            Category_1                 511\n",
       "14            Category_2                 505\n",
       "1                  Price                 366\n",
       "9   ContentRatingOrdinal                 365\n",
       "5         InAppPurchases                 300\n",
       "12            Category_0                 294\n",
       "6          EditorsChoice                  12\n",
       "3                   Free                   0"
      ]
     },
     "execution_count": 90,
     "metadata": {},
     "output_type": "execute_result"
    }
   ],
   "source": [
    "tabla= pd.DataFrame(LGB5.feature_name_)\n",
    "tabla = tabla.rename(columns={0:'Feature name'})\n",
    "tabla['Feature importance']=LGB5.feature_importances_\n",
    "tabla.sort_values('Feature importance', ascending=False)"
   ]
  },
  {
   "cell_type": "markdown",
   "metadata": {},
   "source": [
    "## XGBoost"
   ]
  },
  {
   "cell_type": "code",
   "execution_count": 50,
   "metadata": {},
   "outputs": [
    {
     "name": "stdout",
     "output_type": "stream",
     "text": [
      "Requirement already satisfied: xgboost in /Users/camilacollado/opt/miniconda3/envs/myenv/lib/python3.9/site-packages (1.6.1)\n",
      "Requirement already satisfied: numpy in /Users/camilacollado/opt/miniconda3/envs/myenv/lib/python3.9/site-packages (from xgboost) (1.22.3)\n",
      "Requirement already satisfied: scipy in /Users/camilacollado/opt/miniconda3/envs/myenv/lib/python3.9/site-packages (from xgboost) (1.7.3)\n"
     ]
    }
   ],
   "source": [
    "! pip install xgboost\n",
    "import xgboost as xgb\n",
    "from xgboost.sklearn import XGBRegressor"
   ]
  },
  {
   "cell_type": "code",
   "execution_count": 54,
   "metadata": {},
   "outputs": [],
   "source": [
    "Xgb = XGBRegressor(random_state=0)\n"
   ]
  },
  {
   "cell_type": "code",
   "execution_count": null,
   "metadata": {},
   "outputs": [],
   "source": [
    "Xgb.fit(X_train,y_train)"
   ]
  },
  {
   "cell_type": "code",
   "execution_count": 56,
   "metadata": {},
   "outputs": [
    {
     "name": "stdout",
     "output_type": "stream",
     "text": [
      "Test Score: 0.1998805644142797\n"
     ]
    }
   ],
   "source": [
    "print(\"Test Score: {}\".format(Xgb.score(X_test,y_test)))"
   ]
  },
  {
   "cell_type": "code",
   "execution_count": null,
   "metadata": {},
   "outputs": [],
   "source": [
    "Xgb.get_params()"
   ]
  },
  {
   "cell_type": "markdown",
   "metadata": {},
   "source": [
    "#### Ajuste de hiperparametros"
   ]
  },
  {
   "cell_type": "code",
   "execution_count": 58,
   "metadata": {},
   "outputs": [],
   "source": [
    "from sklearn.model_selection import GridSearchCV"
   ]
  },
  {
   "cell_type": "code",
   "execution_count": 59,
   "metadata": {},
   "outputs": [
    {
     "name": "stdout",
     "output_type": "stream",
     "text": [
      "[17:19:02] WARNING: /Users/runner/work/xgboost/xgboost/python-package/build/temp.macosx-11.0-arm64-3.8/xgboost/src/learner.cc:627: \n",
      "Parameters: { \"colsample_bylevel\", \"colsample_bynode\", \"colsample_bytree\", \"gamma\", \"grow_policy\", \"interaction_constraints\", \"max_bin\", \"max_cat_to_onehot\", \"max_delta_step\", \"max_depth\", \"max_leaves\", \"min_child_weight\", \"monotone_constraints\", \"num_parallel_tree\", \"predictor\", \"sampling_method\", \"subsample\", \"tree_method\" } might not be used.\n",
      "\n",
      "  This could be a false alarm, with some parameters getting used by language bindings but\n",
      "  then being mistakenly passed down to XGBoost core, or some parameter actually being used\n",
      "  but getting flagged wrongly here. Please open an issue if you find any such cases.\n",
      "\n",
      "\n",
      "[17:19:04] WARNING: /Users/runner/work/xgboost/xgboost/python-package/build/temp.macosx-11.0-arm64-3.8/xgboost/src/learner.cc:627: \n",
      "Parameters: { \"colsample_bylevel\", \"colsample_bynode\", \"colsample_bytree\", \"gamma\", \"grow_policy\", \"interaction_constraints\", \"max_bin\", \"max_cat_to_onehot\", \"max_delta_step\", \"max_depth\", \"max_leaves\", \"min_child_weight\", \"monotone_constraints\", \"num_parallel_tree\", \"predictor\", \"sampling_method\", \"subsample\", \"tree_method\" } might not be used.\n",
      "\n",
      "  This could be a false alarm, with some parameters getting used by language bindings but\n",
      "  then being mistakenly passed down to XGBoost core, or some parameter actually being used\n",
      "  but getting flagged wrongly here. Please open an issue if you find any such cases.\n",
      "\n",
      "\n"
     ]
    },
    {
     "data": {
      "text/plain": [
       "GridSearchCV(cv=2,\n",
       "             estimator=XGBRegressor(base_score=0.5, booster='gbtree',\n",
       "                                    callbacks=None, colsample_bylevel=1,\n",
       "                                    colsample_bynode=1, colsample_bytree=1,\n",
       "                                    early_stopping_rounds=None,\n",
       "                                    enable_categorical=False, eval_metric=None,\n",
       "                                    gamma=0, gpu_id=-1, grow_policy='depthwise',\n",
       "                                    importance_type=None,\n",
       "                                    interaction_constraints='',\n",
       "                                    learning_rate=0.300000012, max_bin=256,\n",
       "                                    max_cat_to_onehot=4, max_delta_step=0,\n",
       "                                    max_depth=6, max_leaves=0,\n",
       "                                    min_child_weight=1, missing=nan,\n",
       "                                    monotone_constraints='()', n_estimators=100,\n",
       "                                    n_jobs=0, num_parallel_tree=1,\n",
       "                                    predictor='auto', random_state=0,\n",
       "                                    reg_alpha=0, reg_lambda=1, ...),\n",
       "             param_grid=[{'booster': ['gbtree', 'gblinear', 'dart']}])"
      ]
     },
     "execution_count": 59,
     "metadata": {},
     "output_type": "execute_result"
    }
   ],
   "source": [
    "parameters = [{'booster': ['gbtree', 'gblinear', 'dart']}]\n",
    "clf = GridSearchCV(Xgb, parameters, cv=2)\n",
    "clf.fit(X_train, y_train)"
   ]
  },
  {
   "cell_type": "code",
   "execution_count": 60,
   "metadata": {},
   "outputs": [
    {
     "data": {
      "text/plain": [
       "0.19676238464965123"
      ]
     },
     "execution_count": 60,
     "metadata": {},
     "output_type": "execute_result"
    }
   ],
   "source": [
    "clf.best_score_"
   ]
  },
  {
   "cell_type": "code",
   "execution_count": 61,
   "metadata": {},
   "outputs": [
    {
     "data": {
      "text/plain": [
       "{'booster': 'gbtree'}"
      ]
     },
     "execution_count": 61,
     "metadata": {},
     "output_type": "execute_result"
    }
   ],
   "source": [
    "clf.best_params_"
   ]
  },
  {
   "cell_type": "code",
   "execution_count": 62,
   "metadata": {},
   "outputs": [],
   "source": [
    "Xgb = XGBRegressor(random_state=0, booster='gbtree')"
   ]
  },
  {
   "cell_type": "code",
   "execution_count": 65,
   "metadata": {},
   "outputs": [
    {
     "data": {
      "text/plain": [
       "{'objective': 'reg:squarederror',\n",
       " 'base_score': None,\n",
       " 'booster': 'gbtree',\n",
       " 'callbacks': None,\n",
       " 'colsample_bylevel': None,\n",
       " 'colsample_bynode': None,\n",
       " 'colsample_bytree': None,\n",
       " 'early_stopping_rounds': None,\n",
       " 'enable_categorical': False,\n",
       " 'eval_metric': None,\n",
       " 'gamma': None,\n",
       " 'gpu_id': None,\n",
       " 'grow_policy': None,\n",
       " 'importance_type': None,\n",
       " 'interaction_constraints': None,\n",
       " 'learning_rate': None,\n",
       " 'max_bin': None,\n",
       " 'max_cat_to_onehot': None,\n",
       " 'max_delta_step': None,\n",
       " 'max_depth': None,\n",
       " 'max_leaves': None,\n",
       " 'min_child_weight': None,\n",
       " 'missing': nan,\n",
       " 'monotone_constraints': None,\n",
       " 'n_estimators': 100,\n",
       " 'n_jobs': None,\n",
       " 'num_parallel_tree': None,\n",
       " 'predictor': None,\n",
       " 'random_state': 0,\n",
       " 'reg_alpha': None,\n",
       " 'reg_lambda': None,\n",
       " 'sampling_method': None,\n",
       " 'scale_pos_weight': None,\n",
       " 'subsample': None,\n",
       " 'tree_method': None,\n",
       " 'validate_parameters': None,\n",
       " 'verbosity': None}"
      ]
     },
     "execution_count": 65,
     "metadata": {},
     "output_type": "execute_result"
    }
   ],
   "source": [
    "Xgb.get_params()"
   ]
  },
  {
   "cell_type": "code",
   "execution_count": 63,
   "metadata": {},
   "outputs": [
    {
     "data": {
      "text/plain": [
       "GridSearchCV(cv=2,\n",
       "             estimator=XGBRegressor(base_score=None, booster='gbtree',\n",
       "                                    callbacks=None, colsample_bylevel=None,\n",
       "                                    colsample_bynode=None,\n",
       "                                    colsample_bytree=None,\n",
       "                                    early_stopping_rounds=None,\n",
       "                                    enable_categorical=False, eval_metric=None,\n",
       "                                    gamma=None, gpu_id=None, grow_policy=None,\n",
       "                                    importance_type=None,\n",
       "                                    interaction_constraints=None,\n",
       "                                    learning_rate=None, max_bin=None,\n",
       "                                    max_cat_to_onehot=None, max_delta_step=None,\n",
       "                                    max_depth=None, max_leaves=None,\n",
       "                                    min_child_weight=None, missing=nan,\n",
       "                                    monotone_constraints=None, n_estimators=100,\n",
       "                                    n_jobs=None, num_parallel_tree=None,\n",
       "                                    predictor=None, random_state=0,\n",
       "                                    reg_alpha=None, reg_lambda=None, ...),\n",
       "             param_grid=[{'learning_rate': [0.01, 0.1, 0.2],\n",
       "                          'max_depth': [6, 10],\n",
       "                          'n_estimators': [100, 500, 1000]}])"
      ]
     },
     "execution_count": 63,
     "metadata": {},
     "output_type": "execute_result"
    }
   ],
   "source": [
    "parameters = [{'n_estimators': [100, 500, 1000], 'learning_rate': [0.01, 0.1, 0.2], 'max_depth':[6, 10]}]\n",
    "clf = GridSearchCV(Xgb, parameters, cv=2)\n",
    "clf.fit(X_train, y_train)"
   ]
  },
  {
   "cell_type": "code",
   "execution_count": 64,
   "metadata": {},
   "outputs": [
    {
     "data": {
      "text/plain": [
       "0.21362015271735424"
      ]
     },
     "execution_count": 64,
     "metadata": {},
     "output_type": "execute_result"
    }
   ],
   "source": [
    "clf.best_score_"
   ]
  },
  {
   "cell_type": "code",
   "execution_count": 66,
   "metadata": {},
   "outputs": [
    {
     "data": {
      "text/plain": [
       "{'learning_rate': 0.1, 'max_depth': 10, 'n_estimators': 500}"
      ]
     },
     "execution_count": 66,
     "metadata": {},
     "output_type": "execute_result"
    }
   ],
   "source": [
    "clf.best_params_"
   ]
  },
  {
   "cell_type": "code",
   "execution_count": 68,
   "metadata": {},
   "outputs": [],
   "source": [
    "Xgb2 = XGBRegressor(random_state=0, booster='gbtree', learning_rate=0.1, n_estimators=500, max_depth=10)"
   ]
  },
  {
   "cell_type": "code",
   "execution_count": 69,
   "metadata": {},
   "outputs": [
    {
     "data": {
      "text/plain": [
       "GridSearchCV(cv=2,\n",
       "             estimator=XGBRegressor(base_score=None, booster='gbtree',\n",
       "                                    callbacks=None, colsample_bylevel=None,\n",
       "                                    colsample_bynode=None,\n",
       "                                    colsample_bytree=None,\n",
       "                                    early_stopping_rounds=None,\n",
       "                                    enable_categorical=False, eval_metric=None,\n",
       "                                    gamma=None, gpu_id=None, grow_policy=None,\n",
       "                                    importance_type=None,\n",
       "                                    interaction_constraints=None,\n",
       "                                    learning_rate=0.1, max_bin=None,\n",
       "                                    max_cat_to_onehot=None, max_delta_step=None,\n",
       "                                    max_depth=10, max_leaves=None,\n",
       "                                    min_child_weight=None, missing=nan,\n",
       "                                    monotone_constraints=None, n_estimators=500,\n",
       "                                    n_jobs=None, num_parallel_tree=None,\n",
       "                                    predictor=None, random_state=0,\n",
       "                                    reg_alpha=None, reg_lambda=None, ...),\n",
       "             param_grid=[{'gamma': [0, 5, 10], 'subsample': [0.25, 0.5, 1]}])"
      ]
     },
     "execution_count": 69,
     "metadata": {},
     "output_type": "execute_result"
    }
   ],
   "source": [
    "parameters = [{'subsample': [0.25, 0.5, 1], 'gamma': [0, 5, 10]}]\n",
    "clf = GridSearchCV(Xgb2, parameters, cv=2)\n",
    "clf.fit(X, y)"
   ]
  },
  {
   "cell_type": "code",
   "execution_count": 70,
   "metadata": {},
   "outputs": [
    {
     "data": {
      "text/plain": [
       "0.21832026107296637"
      ]
     },
     "execution_count": 70,
     "metadata": {},
     "output_type": "execute_result"
    }
   ],
   "source": [
    "clf.best_score_"
   ]
  },
  {
   "cell_type": "code",
   "execution_count": 71,
   "metadata": {},
   "outputs": [
    {
     "data": {
      "text/plain": [
       "{'gamma': 0, 'subsample': 1}"
      ]
     },
     "execution_count": 71,
     "metadata": {},
     "output_type": "execute_result"
    }
   ],
   "source": [
    "clf.best_params_"
   ]
  }
 ],
 "metadata": {
  "kernelspec": {
   "display_name": "Python 3.9.12 ('myenv')",
   "language": "python",
   "name": "python3"
  },
  "language_info": {
   "codemirror_mode": {
    "name": "ipython",
    "version": 3
   },
   "file_extension": ".py",
   "mimetype": "text/x-python",
   "name": "python",
   "nbconvert_exporter": "python",
   "pygments_lexer": "ipython3",
   "version": "3.9.13"
  },
  "orig_nbformat": 4,
  "vscode": {
   "interpreter": {
    "hash": "edd467fd8d7117474e089a26f5bd398d3660f7166967f45b576367d88f838c12"
   }
  }
 },
 "nbformat": 4,
 "nbformat_minor": 2
}
