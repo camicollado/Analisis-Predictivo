{
 "cells": [
  {
   "cell_type": "markdown",
   "metadata": {},
   "source": [
    "# Prediccion del Rating de apps (intento classifier)"
   ]
  },
  {
   "cell_type": "code",
   "execution_count": 1,
   "metadata": {},
   "outputs": [],
   "source": [
    "import pandas as pd\n",
    "import numpy as np\n",
    "import matplotlib.pyplot as plt "
   ]
  },
  {
   "cell_type": "markdown",
   "metadata": {},
   "source": [
    "Dataset"
   ]
  },
  {
   "cell_type": "code",
   "execution_count": 2,
   "metadata": {},
   "outputs": [
    {
     "name": "stderr",
     "output_type": "stream",
     "text": [
      "/var/folders/28/24dngf7d6n36_8l0n_hsjj900000gn/T/ipykernel_85404/3023763804.py:1: FutureWarning: The error_bad_lines argument has been deprecated and will be removed in a future version. Use on_bad_lines in the future.\n",
      "\n",
      "\n",
      "  df = pd.read_csv(\"GooglePlayStoreFE.csv\", engine='python', encoding='utf-8', error_bad_lines=False)\n"
     ]
    }
   ],
   "source": [
    "df = pd.read_csv(\"GooglePlayStoreFE.csv\", engine='python', encoding='utf-8', error_bad_lines=False)"
   ]
  },
  {
   "cell_type": "code",
   "execution_count": 3,
   "metadata": {},
   "outputs": [],
   "source": [
    "df=df.drop(['Rating.Count'], axis=1)"
   ]
  },
  {
   "cell_type": "code",
   "execution_count": 4,
   "metadata": {},
   "outputs": [
    {
     "data": {
      "text/plain": [
       "Index(['Unnamed: 0', 'Rating', 'MaximumInstalls', 'Price', 'SizeMB', 'Free',\n",
       "       'AdSupported', 'InAppPurchases', 'EditorsChoice', 'ReleasedDA',\n",
       "       'LastUpdatedDA', 'Category', 'MinimumAndroid', 'DeveloperId',\n",
       "       'ContentRating'],\n",
       "      dtype='object')"
      ]
     },
     "execution_count": 4,
     "metadata": {},
     "output_type": "execute_result"
    }
   ],
   "source": [
    "df = df.rename(columns={'Maximum.Installs':'MaximumInstalls',\n",
    "                        'Size.mb':'SizeMB',\n",
    "                        'Ad.Supported':'AdSupported',\n",
    "                        'In.App.Purchases':'InAppPurchases',\n",
    "                        'Editors.Choice':'EditorsChoice',\n",
    "                        'Last.UpdatedDA':'LastUpdatedDA',\n",
    "                        'Minimum.Andorid':'MinimumAndroid',\n",
    "                        'Developer.Id':'DeveloperId',\n",
    "                        'Content.Rating':'ContentRating'})\n",
    "\n",
    "df.columns"
   ]
  },
  {
   "cell_type": "code",
   "execution_count": 5,
   "metadata": {},
   "outputs": [],
   "source": [
    "df = df.drop(df[df['Rating']==0].index)"
   ]
  },
  {
   "cell_type": "markdown",
   "metadata": {},
   "source": [
    "Encoding"
   ]
  },
  {
   "cell_type": "code",
   "execution_count": 6,
   "metadata": {},
   "outputs": [
    {
     "data": {
      "text/html": [
       "<div>\n",
       "<style scoped>\n",
       "    .dataframe tbody tr th:only-of-type {\n",
       "        vertical-align: middle;\n",
       "    }\n",
       "\n",
       "    .dataframe tbody tr th {\n",
       "        vertical-align: top;\n",
       "    }\n",
       "\n",
       "    .dataframe thead th {\n",
       "        text-align: right;\n",
       "    }\n",
       "</style>\n",
       "<table border=\"1\" class=\"dataframe\">\n",
       "  <thead>\n",
       "    <tr style=\"text-align: right;\">\n",
       "      <th></th>\n",
       "      <th>Unnamed: 0</th>\n",
       "      <th>Rating</th>\n",
       "      <th>MaximumInstalls</th>\n",
       "      <th>Price</th>\n",
       "      <th>SizeMB</th>\n",
       "      <th>Free</th>\n",
       "      <th>AdSupported</th>\n",
       "      <th>InAppPurchases</th>\n",
       "      <th>EditorsChoice</th>\n",
       "      <th>ReleasedDA</th>\n",
       "      <th>LastUpdatedDA</th>\n",
       "      <th>Category</th>\n",
       "      <th>MinimumAndroid</th>\n",
       "      <th>DeveloperId</th>\n",
       "      <th>ContentRating</th>\n",
       "      <th>ContentRatingOrdinal</th>\n",
       "    </tr>\n",
       "  </thead>\n",
       "  <tbody>\n",
       "    <tr>\n",
       "      <th>1</th>\n",
       "      <td>2</td>\n",
       "      <td>4.4</td>\n",
       "      <td>7662.0</td>\n",
       "      <td>0.0</td>\n",
       "      <td>2.9</td>\n",
       "      <td>1</td>\n",
       "      <td>1</td>\n",
       "      <td>0</td>\n",
       "      <td>0</td>\n",
       "      <td>405</td>\n",
       "      <td>55</td>\n",
       "      <td>Tools</td>\n",
       "      <td>5.0</td>\n",
       "      <td>Webserveis</td>\n",
       "      <td>Everyone</td>\n",
       "      <td>1</td>\n",
       "    </tr>\n",
       "    <tr>\n",
       "      <th>3</th>\n",
       "      <td>4</td>\n",
       "      <td>5.0</td>\n",
       "      <td>19.0</td>\n",
       "      <td>0.0</td>\n",
       "      <td>1.8</td>\n",
       "      <td>1</td>\n",
       "      <td>1</td>\n",
       "      <td>0</td>\n",
       "      <td>0</td>\n",
       "      <td>1024</td>\n",
       "      <td>991</td>\n",
       "      <td>Communication</td>\n",
       "      <td>4.0.3</td>\n",
       "      <td>Climate Smart Tech2</td>\n",
       "      <td>Everyone</td>\n",
       "      <td>1</td>\n",
       "    </tr>\n",
       "    <tr>\n",
       "      <th>5</th>\n",
       "      <td>6</td>\n",
       "      <td>4.5</td>\n",
       "      <td>2567.0</td>\n",
       "      <td>0.0</td>\n",
       "      <td>2.5</td>\n",
       "      <td>1</td>\n",
       "      <td>1</td>\n",
       "      <td>0</td>\n",
       "      <td>0</td>\n",
       "      <td>646</td>\n",
       "      <td>642</td>\n",
       "      <td>Libraries &amp; Demo</td>\n",
       "      <td>4.1</td>\n",
       "      <td>android developer779</td>\n",
       "      <td>Everyone</td>\n",
       "      <td>1</td>\n",
       "    </tr>\n",
       "    <tr>\n",
       "      <th>6</th>\n",
       "      <td>7</td>\n",
       "      <td>2.0</td>\n",
       "      <td>702.0</td>\n",
       "      <td>0.0</td>\n",
       "      <td>16.0</td>\n",
       "      <td>1</td>\n",
       "      <td>0</td>\n",
       "      <td>0</td>\n",
       "      <td>0</td>\n",
       "      <td>740</td>\n",
       "      <td>740</td>\n",
       "      <td>Lifestyle</td>\n",
       "      <td>5.0</td>\n",
       "      <td>Mozaix LLC</td>\n",
       "      <td>Everyone</td>\n",
       "      <td>1</td>\n",
       "    </tr>\n",
       "    <tr>\n",
       "      <th>7</th>\n",
       "      <td>8</td>\n",
       "      <td>4.7</td>\n",
       "      <td>62433.0</td>\n",
       "      <td>0.0</td>\n",
       "      <td>3.5</td>\n",
       "      <td>1</td>\n",
       "      <td>1</td>\n",
       "      <td>0</td>\n",
       "      <td>0</td>\n",
       "      <td>647</td>\n",
       "      <td>266</td>\n",
       "      <td>Personalization</td>\n",
       "      <td>4.1</td>\n",
       "      <td>Free 2021 Themes for Emoji keyboard</td>\n",
       "      <td>Everyone</td>\n",
       "      <td>1</td>\n",
       "    </tr>\n",
       "    <tr>\n",
       "      <th>...</th>\n",
       "      <td>...</td>\n",
       "      <td>...</td>\n",
       "      <td>...</td>\n",
       "      <td>...</td>\n",
       "      <td>...</td>\n",
       "      <td>...</td>\n",
       "      <td>...</td>\n",
       "      <td>...</td>\n",
       "      <td>...</td>\n",
       "      <td>...</td>\n",
       "      <td>...</td>\n",
       "      <td>...</td>\n",
       "      <td>...</td>\n",
       "      <td>...</td>\n",
       "      <td>...</td>\n",
       "      <td>...</td>\n",
       "    </tr>\n",
       "    <tr>\n",
       "      <th>2225309</th>\n",
       "      <td>2225310</td>\n",
       "      <td>4.3</td>\n",
       "      <td>7274660.0</td>\n",
       "      <td>0.0</td>\n",
       "      <td>37.0</td>\n",
       "      <td>1</td>\n",
       "      <td>1</td>\n",
       "      <td>1</td>\n",
       "      <td>0</td>\n",
       "      <td>2071</td>\n",
       "      <td>1577</td>\n",
       "      <td>Action</td>\n",
       "      <td>4.0.3</td>\n",
       "      <td>Upopa Games</td>\n",
       "      <td>Teen</td>\n",
       "      <td>3</td>\n",
       "    </tr>\n",
       "    <tr>\n",
       "      <th>2225310</th>\n",
       "      <td>2225311</td>\n",
       "      <td>4.0</td>\n",
       "      <td>814548.0</td>\n",
       "      <td>0.0</td>\n",
       "      <td>4.1</td>\n",
       "      <td>1</td>\n",
       "      <td>0</td>\n",
       "      <td>0</td>\n",
       "      <td>0</td>\n",
       "      <td>2393</td>\n",
       "      <td>2393</td>\n",
       "      <td>Music &amp; Audio</td>\n",
       "      <td>2.2</td>\n",
       "      <td>Single Cell Software</td>\n",
       "      <td>Everyone</td>\n",
       "      <td>1</td>\n",
       "    </tr>\n",
       "    <tr>\n",
       "      <th>2225314</th>\n",
       "      <td>2225315</td>\n",
       "      <td>3.4</td>\n",
       "      <td>1980.0</td>\n",
       "      <td>0.0</td>\n",
       "      <td>10.0</td>\n",
       "      <td>1</td>\n",
       "      <td>1</td>\n",
       "      <td>0</td>\n",
       "      <td>0</td>\n",
       "      <td>1135</td>\n",
       "      <td>929</td>\n",
       "      <td>Education</td>\n",
       "      <td>4.1</td>\n",
       "      <td>Julio Augusto Vera</td>\n",
       "      <td>Everyone</td>\n",
       "      <td>1</td>\n",
       "    </tr>\n",
       "    <tr>\n",
       "      <th>2225317</th>\n",
       "      <td>2225318</td>\n",
       "      <td>3.5</td>\n",
       "      <td>2635.0</td>\n",
       "      <td>0.0</td>\n",
       "      <td>10.0</td>\n",
       "      <td>1</td>\n",
       "      <td>1</td>\n",
       "      <td>0</td>\n",
       "      <td>0</td>\n",
       "      <td>1794</td>\n",
       "      <td>56</td>\n",
       "      <td>Music &amp; Audio</td>\n",
       "      <td>5.0</td>\n",
       "      <td>Bhakti</td>\n",
       "      <td>Everyone</td>\n",
       "      <td>1</td>\n",
       "    </tr>\n",
       "    <tr>\n",
       "      <th>2225318</th>\n",
       "      <td>2225319</td>\n",
       "      <td>5.0</td>\n",
       "      <td>354.0</td>\n",
       "      <td>0.0</td>\n",
       "      <td>5.2</td>\n",
       "      <td>1</td>\n",
       "      <td>1</td>\n",
       "      <td>0</td>\n",
       "      <td>0</td>\n",
       "      <td>691</td>\n",
       "      <td>681</td>\n",
       "      <td>Trivia</td>\n",
       "      <td>5.0</td>\n",
       "      <td>Y Yazılım</td>\n",
       "      <td>Everyone</td>\n",
       "      <td>1</td>\n",
       "    </tr>\n",
       "  </tbody>\n",
       "</table>\n",
       "<p>1196055 rows × 16 columns</p>\n",
       "</div>"
      ],
      "text/plain": [
       "         Unnamed: 0  Rating  MaximumInstalls  Price  SizeMB  Free  \\\n",
       "1                 2     4.4           7662.0    0.0     2.9     1   \n",
       "3                 4     5.0             19.0    0.0     1.8     1   \n",
       "5                 6     4.5           2567.0    0.0     2.5     1   \n",
       "6                 7     2.0            702.0    0.0    16.0     1   \n",
       "7                 8     4.7          62433.0    0.0     3.5     1   \n",
       "...             ...     ...              ...    ...     ...   ...   \n",
       "2225309     2225310     4.3        7274660.0    0.0    37.0     1   \n",
       "2225310     2225311     4.0         814548.0    0.0     4.1     1   \n",
       "2225314     2225315     3.4           1980.0    0.0    10.0     1   \n",
       "2225317     2225318     3.5           2635.0    0.0    10.0     1   \n",
       "2225318     2225319     5.0            354.0    0.0     5.2     1   \n",
       "\n",
       "         AdSupported  InAppPurchases  EditorsChoice  ReleasedDA  \\\n",
       "1                  1               0              0         405   \n",
       "3                  1               0              0        1024   \n",
       "5                  1               0              0         646   \n",
       "6                  0               0              0         740   \n",
       "7                  1               0              0         647   \n",
       "...              ...             ...            ...         ...   \n",
       "2225309            1               1              0        2071   \n",
       "2225310            0               0              0        2393   \n",
       "2225314            1               0              0        1135   \n",
       "2225317            1               0              0        1794   \n",
       "2225318            1               0              0         691   \n",
       "\n",
       "         LastUpdatedDA          Category MinimumAndroid  \\\n",
       "1                   55             Tools            5.0   \n",
       "3                  991     Communication          4.0.3   \n",
       "5                  642  Libraries & Demo            4.1   \n",
       "6                  740         Lifestyle            5.0   \n",
       "7                  266   Personalization            4.1   \n",
       "...                ...               ...            ...   \n",
       "2225309           1577            Action          4.0.3   \n",
       "2225310           2393     Music & Audio            2.2   \n",
       "2225314            929         Education            4.1   \n",
       "2225317             56     Music & Audio            5.0   \n",
       "2225318            681            Trivia            5.0   \n",
       "\n",
       "                                 DeveloperId ContentRating  \\\n",
       "1                                 Webserveis      Everyone   \n",
       "3                        Climate Smart Tech2      Everyone   \n",
       "5                       android developer779      Everyone   \n",
       "6                                 Mozaix LLC      Everyone   \n",
       "7        Free 2021 Themes for Emoji keyboard      Everyone   \n",
       "...                                      ...           ...   \n",
       "2225309                          Upopa Games          Teen   \n",
       "2225310                 Single Cell Software      Everyone   \n",
       "2225314                   Julio Augusto Vera      Everyone   \n",
       "2225317                               Bhakti      Everyone   \n",
       "2225318                            Y Yazılım      Everyone   \n",
       "\n",
       "         ContentRatingOrdinal  \n",
       "1                           1  \n",
       "3                           1  \n",
       "5                           1  \n",
       "6                           1  \n",
       "7                           1  \n",
       "...                       ...  \n",
       "2225309                     3  \n",
       "2225310                     1  \n",
       "2225314                     1  \n",
       "2225317                     1  \n",
       "2225318                     1  \n",
       "\n",
       "[1196055 rows x 16 columns]"
      ]
     },
     "execution_count": 6,
     "metadata": {},
     "output_type": "execute_result"
    }
   ],
   "source": [
    "cont = {'Everyone' : 1,\n",
    "        'Everyone 10+' : 2,\n",
    "        'Teen' : 3,\n",
    "        'Mature 17+' : 4,\n",
    "        'Adults only 18+' : 5}\n",
    "df['ContentRatingOrdinal']=df.ContentRating.map(cont)\n",
    "df"
   ]
  },
  {
   "cell_type": "code",
   "execution_count": 7,
   "metadata": {},
   "outputs": [
    {
     "data": {
      "text/html": [
       "<div>\n",
       "<style scoped>\n",
       "    .dataframe tbody tr th:only-of-type {\n",
       "        vertical-align: middle;\n",
       "    }\n",
       "\n",
       "    .dataframe tbody tr th {\n",
       "        vertical-align: top;\n",
       "    }\n",
       "\n",
       "    .dataframe thead th {\n",
       "        text-align: right;\n",
       "    }\n",
       "</style>\n",
       "<table border=\"1\" class=\"dataframe\">\n",
       "  <thead>\n",
       "    <tr style=\"text-align: right;\">\n",
       "      <th></th>\n",
       "      <th>Unnamed: 0</th>\n",
       "      <th>Rating</th>\n",
       "      <th>MaximumInstalls</th>\n",
       "      <th>Price</th>\n",
       "      <th>SizeMB</th>\n",
       "      <th>Free</th>\n",
       "      <th>AdSupported</th>\n",
       "      <th>InAppPurchases</th>\n",
       "      <th>EditorsChoice</th>\n",
       "      <th>ReleasedDA</th>\n",
       "      <th>LastUpdatedDA</th>\n",
       "      <th>Category</th>\n",
       "      <th>MinimumAndroid</th>\n",
       "      <th>DeveloperId</th>\n",
       "      <th>ContentRating</th>\n",
       "      <th>ContentRatingOrdinal</th>\n",
       "      <th>Dev_freq_encode</th>\n",
       "    </tr>\n",
       "  </thead>\n",
       "  <tbody>\n",
       "    <tr>\n",
       "      <th>1</th>\n",
       "      <td>2</td>\n",
       "      <td>4.4</td>\n",
       "      <td>7662.0</td>\n",
       "      <td>0.0</td>\n",
       "      <td>2.9</td>\n",
       "      <td>1</td>\n",
       "      <td>1</td>\n",
       "      <td>0</td>\n",
       "      <td>0</td>\n",
       "      <td>405</td>\n",
       "      <td>55</td>\n",
       "      <td>Tools</td>\n",
       "      <td>5.0</td>\n",
       "      <td>Webserveis</td>\n",
       "      <td>Everyone</td>\n",
       "      <td>1</td>\n",
       "      <td>7.524738e-06</td>\n",
       "    </tr>\n",
       "    <tr>\n",
       "      <th>3</th>\n",
       "      <td>4</td>\n",
       "      <td>5.0</td>\n",
       "      <td>19.0</td>\n",
       "      <td>0.0</td>\n",
       "      <td>1.8</td>\n",
       "      <td>1</td>\n",
       "      <td>1</td>\n",
       "      <td>0</td>\n",
       "      <td>0</td>\n",
       "      <td>1024</td>\n",
       "      <td>991</td>\n",
       "      <td>Communication</td>\n",
       "      <td>4.0.3</td>\n",
       "      <td>Climate Smart Tech2</td>\n",
       "      <td>Everyone</td>\n",
       "      <td>1</td>\n",
       "      <td>1.672164e-06</td>\n",
       "    </tr>\n",
       "    <tr>\n",
       "      <th>5</th>\n",
       "      <td>6</td>\n",
       "      <td>4.5</td>\n",
       "      <td>2567.0</td>\n",
       "      <td>0.0</td>\n",
       "      <td>2.5</td>\n",
       "      <td>1</td>\n",
       "      <td>1</td>\n",
       "      <td>0</td>\n",
       "      <td>0</td>\n",
       "      <td>646</td>\n",
       "      <td>642</td>\n",
       "      <td>Libraries &amp; Demo</td>\n",
       "      <td>4.1</td>\n",
       "      <td>android developer779</td>\n",
       "      <td>Everyone</td>\n",
       "      <td>1</td>\n",
       "      <td>1.672164e-06</td>\n",
       "    </tr>\n",
       "    <tr>\n",
       "      <th>6</th>\n",
       "      <td>7</td>\n",
       "      <td>2.0</td>\n",
       "      <td>702.0</td>\n",
       "      <td>0.0</td>\n",
       "      <td>16.0</td>\n",
       "      <td>1</td>\n",
       "      <td>0</td>\n",
       "      <td>0</td>\n",
       "      <td>0</td>\n",
       "      <td>740</td>\n",
       "      <td>740</td>\n",
       "      <td>Lifestyle</td>\n",
       "      <td>5.0</td>\n",
       "      <td>Mozaix LLC</td>\n",
       "      <td>Everyone</td>\n",
       "      <td>1</td>\n",
       "      <td>8.360820e-07</td>\n",
       "    </tr>\n",
       "    <tr>\n",
       "      <th>7</th>\n",
       "      <td>8</td>\n",
       "      <td>4.7</td>\n",
       "      <td>62433.0</td>\n",
       "      <td>0.0</td>\n",
       "      <td>3.5</td>\n",
       "      <td>1</td>\n",
       "      <td>1</td>\n",
       "      <td>0</td>\n",
       "      <td>0</td>\n",
       "      <td>647</td>\n",
       "      <td>266</td>\n",
       "      <td>Personalization</td>\n",
       "      <td>4.1</td>\n",
       "      <td>Free 2021 Themes for Emoji keyboard</td>\n",
       "      <td>Everyone</td>\n",
       "      <td>1</td>\n",
       "      <td>1.555112e-04</td>\n",
       "    </tr>\n",
       "    <tr>\n",
       "      <th>...</th>\n",
       "      <td>...</td>\n",
       "      <td>...</td>\n",
       "      <td>...</td>\n",
       "      <td>...</td>\n",
       "      <td>...</td>\n",
       "      <td>...</td>\n",
       "      <td>...</td>\n",
       "      <td>...</td>\n",
       "      <td>...</td>\n",
       "      <td>...</td>\n",
       "      <td>...</td>\n",
       "      <td>...</td>\n",
       "      <td>...</td>\n",
       "      <td>...</td>\n",
       "      <td>...</td>\n",
       "      <td>...</td>\n",
       "      <td>...</td>\n",
       "    </tr>\n",
       "    <tr>\n",
       "      <th>2225309</th>\n",
       "      <td>2225310</td>\n",
       "      <td>4.3</td>\n",
       "      <td>7274660.0</td>\n",
       "      <td>0.0</td>\n",
       "      <td>37.0</td>\n",
       "      <td>1</td>\n",
       "      <td>1</td>\n",
       "      <td>1</td>\n",
       "      <td>0</td>\n",
       "      <td>2071</td>\n",
       "      <td>1577</td>\n",
       "      <td>Action</td>\n",
       "      <td>4.0.3</td>\n",
       "      <td>Upopa Games</td>\n",
       "      <td>Teen</td>\n",
       "      <td>3</td>\n",
       "      <td>4.180410e-06</td>\n",
       "    </tr>\n",
       "    <tr>\n",
       "      <th>2225310</th>\n",
       "      <td>2225311</td>\n",
       "      <td>4.0</td>\n",
       "      <td>814548.0</td>\n",
       "      <td>0.0</td>\n",
       "      <td>4.1</td>\n",
       "      <td>1</td>\n",
       "      <td>0</td>\n",
       "      <td>0</td>\n",
       "      <td>0</td>\n",
       "      <td>2393</td>\n",
       "      <td>2393</td>\n",
       "      <td>Music &amp; Audio</td>\n",
       "      <td>2.2</td>\n",
       "      <td>Single Cell Software</td>\n",
       "      <td>Everyone</td>\n",
       "      <td>1</td>\n",
       "      <td>5.852574e-06</td>\n",
       "    </tr>\n",
       "    <tr>\n",
       "      <th>2225314</th>\n",
       "      <td>2225315</td>\n",
       "      <td>3.4</td>\n",
       "      <td>1980.0</td>\n",
       "      <td>0.0</td>\n",
       "      <td>10.0</td>\n",
       "      <td>1</td>\n",
       "      <td>1</td>\n",
       "      <td>0</td>\n",
       "      <td>0</td>\n",
       "      <td>1135</td>\n",
       "      <td>929</td>\n",
       "      <td>Education</td>\n",
       "      <td>4.1</td>\n",
       "      <td>Julio Augusto Vera</td>\n",
       "      <td>Everyone</td>\n",
       "      <td>1</td>\n",
       "      <td>8.360820e-07</td>\n",
       "    </tr>\n",
       "    <tr>\n",
       "      <th>2225317</th>\n",
       "      <td>2225318</td>\n",
       "      <td>3.5</td>\n",
       "      <td>2635.0</td>\n",
       "      <td>0.0</td>\n",
       "      <td>10.0</td>\n",
       "      <td>1</td>\n",
       "      <td>1</td>\n",
       "      <td>0</td>\n",
       "      <td>0</td>\n",
       "      <td>1794</td>\n",
       "      <td>56</td>\n",
       "      <td>Music &amp; Audio</td>\n",
       "      <td>5.0</td>\n",
       "      <td>Bhakti</td>\n",
       "      <td>Everyone</td>\n",
       "      <td>1</td>\n",
       "      <td>7.859170e-05</td>\n",
       "    </tr>\n",
       "    <tr>\n",
       "      <th>2225318</th>\n",
       "      <td>2225319</td>\n",
       "      <td>5.0</td>\n",
       "      <td>354.0</td>\n",
       "      <td>0.0</td>\n",
       "      <td>5.2</td>\n",
       "      <td>1</td>\n",
       "      <td>1</td>\n",
       "      <td>0</td>\n",
       "      <td>0</td>\n",
       "      <td>691</td>\n",
       "      <td>681</td>\n",
       "      <td>Trivia</td>\n",
       "      <td>5.0</td>\n",
       "      <td>Y Yazılım</td>\n",
       "      <td>Everyone</td>\n",
       "      <td>1</td>\n",
       "      <td>8.360820e-07</td>\n",
       "    </tr>\n",
       "  </tbody>\n",
       "</table>\n",
       "<p>1196055 rows × 17 columns</p>\n",
       "</div>"
      ],
      "text/plain": [
       "         Unnamed: 0  Rating  MaximumInstalls  Price  SizeMB  Free  \\\n",
       "1                 2     4.4           7662.0    0.0     2.9     1   \n",
       "3                 4     5.0             19.0    0.0     1.8     1   \n",
       "5                 6     4.5           2567.0    0.0     2.5     1   \n",
       "6                 7     2.0            702.0    0.0    16.0     1   \n",
       "7                 8     4.7          62433.0    0.0     3.5     1   \n",
       "...             ...     ...              ...    ...     ...   ...   \n",
       "2225309     2225310     4.3        7274660.0    0.0    37.0     1   \n",
       "2225310     2225311     4.0         814548.0    0.0     4.1     1   \n",
       "2225314     2225315     3.4           1980.0    0.0    10.0     1   \n",
       "2225317     2225318     3.5           2635.0    0.0    10.0     1   \n",
       "2225318     2225319     5.0            354.0    0.0     5.2     1   \n",
       "\n",
       "         AdSupported  InAppPurchases  EditorsChoice  ReleasedDA  \\\n",
       "1                  1               0              0         405   \n",
       "3                  1               0              0        1024   \n",
       "5                  1               0              0         646   \n",
       "6                  0               0              0         740   \n",
       "7                  1               0              0         647   \n",
       "...              ...             ...            ...         ...   \n",
       "2225309            1               1              0        2071   \n",
       "2225310            0               0              0        2393   \n",
       "2225314            1               0              0        1135   \n",
       "2225317            1               0              0        1794   \n",
       "2225318            1               0              0         691   \n",
       "\n",
       "         LastUpdatedDA          Category MinimumAndroid  \\\n",
       "1                   55             Tools            5.0   \n",
       "3                  991     Communication          4.0.3   \n",
       "5                  642  Libraries & Demo            4.1   \n",
       "6                  740         Lifestyle            5.0   \n",
       "7                  266   Personalization            4.1   \n",
       "...                ...               ...            ...   \n",
       "2225309           1577            Action          4.0.3   \n",
       "2225310           2393     Music & Audio            2.2   \n",
       "2225314            929         Education            4.1   \n",
       "2225317             56     Music & Audio            5.0   \n",
       "2225318            681            Trivia            5.0   \n",
       "\n",
       "                                 DeveloperId ContentRating  \\\n",
       "1                                 Webserveis      Everyone   \n",
       "3                        Climate Smart Tech2      Everyone   \n",
       "5                       android developer779      Everyone   \n",
       "6                                 Mozaix LLC      Everyone   \n",
       "7        Free 2021 Themes for Emoji keyboard      Everyone   \n",
       "...                                      ...           ...   \n",
       "2225309                          Upopa Games          Teen   \n",
       "2225310                 Single Cell Software      Everyone   \n",
       "2225314                   Julio Augusto Vera      Everyone   \n",
       "2225317                               Bhakti      Everyone   \n",
       "2225318                            Y Yazılım      Everyone   \n",
       "\n",
       "         ContentRatingOrdinal  Dev_freq_encode  \n",
       "1                           1     7.524738e-06  \n",
       "3                           1     1.672164e-06  \n",
       "5                           1     1.672164e-06  \n",
       "6                           1     8.360820e-07  \n",
       "7                           1     1.555112e-04  \n",
       "...                       ...              ...  \n",
       "2225309                     3     4.180410e-06  \n",
       "2225310                     1     5.852574e-06  \n",
       "2225314                     1     8.360820e-07  \n",
       "2225317                     1     7.859170e-05  \n",
       "2225318                     1     8.360820e-07  \n",
       "\n",
       "[1196055 rows x 17 columns]"
      ]
     },
     "execution_count": 7,
     "metadata": {},
     "output_type": "execute_result"
    }
   ],
   "source": [
    "fe=df.groupby('DeveloperId').size()/len(df)\n",
    "df.loc[:,'Dev_freq_encode']=df['DeveloperId'].map(fe)\n",
    "df"
   ]
  },
  {
   "cell_type": "code",
   "execution_count": 8,
   "metadata": {},
   "outputs": [
    {
     "data": {
      "text/html": [
       "<div>\n",
       "<style scoped>\n",
       "    .dataframe tbody tr th:only-of-type {\n",
       "        vertical-align: middle;\n",
       "    }\n",
       "\n",
       "    .dataframe tbody tr th {\n",
       "        vertical-align: top;\n",
       "    }\n",
       "\n",
       "    .dataframe thead th {\n",
       "        text-align: right;\n",
       "    }\n",
       "</style>\n",
       "<table border=\"1\" class=\"dataframe\">\n",
       "  <thead>\n",
       "    <tr style=\"text-align: right;\">\n",
       "      <th></th>\n",
       "      <th>Unnamed: 0</th>\n",
       "      <th>Rating</th>\n",
       "      <th>MaximumInstalls</th>\n",
       "      <th>Price</th>\n",
       "      <th>SizeMB</th>\n",
       "      <th>Free</th>\n",
       "      <th>AdSupported</th>\n",
       "      <th>InAppPurchases</th>\n",
       "      <th>EditorsChoice</th>\n",
       "      <th>ReleasedDA</th>\n",
       "      <th>LastUpdatedDA</th>\n",
       "      <th>Category</th>\n",
       "      <th>MinimumAndroid</th>\n",
       "      <th>DeveloperId</th>\n",
       "      <th>ContentRating</th>\n",
       "      <th>ContentRatingOrdinal</th>\n",
       "      <th>Dev_freq_encode</th>\n",
       "      <th>Android_freq_encode</th>\n",
       "    </tr>\n",
       "  </thead>\n",
       "  <tbody>\n",
       "    <tr>\n",
       "      <th>1</th>\n",
       "      <td>2</td>\n",
       "      <td>4.4</td>\n",
       "      <td>7662.0</td>\n",
       "      <td>0.0</td>\n",
       "      <td>2.9</td>\n",
       "      <td>1</td>\n",
       "      <td>1</td>\n",
       "      <td>0</td>\n",
       "      <td>0</td>\n",
       "      <td>405</td>\n",
       "      <td>55</td>\n",
       "      <td>Tools</td>\n",
       "      <td>5.0</td>\n",
       "      <td>Webserveis</td>\n",
       "      <td>Everyone</td>\n",
       "      <td>1</td>\n",
       "      <td>7.524738e-06</td>\n",
       "      <td>0.162943</td>\n",
       "    </tr>\n",
       "    <tr>\n",
       "      <th>3</th>\n",
       "      <td>4</td>\n",
       "      <td>5.0</td>\n",
       "      <td>19.0</td>\n",
       "      <td>0.0</td>\n",
       "      <td>1.8</td>\n",
       "      <td>1</td>\n",
       "      <td>1</td>\n",
       "      <td>0</td>\n",
       "      <td>0</td>\n",
       "      <td>1024</td>\n",
       "      <td>991</td>\n",
       "      <td>Communication</td>\n",
       "      <td>4.0.3</td>\n",
       "      <td>Climate Smart Tech2</td>\n",
       "      <td>Everyone</td>\n",
       "      <td>1</td>\n",
       "      <td>1.672164e-06</td>\n",
       "      <td>0.079761</td>\n",
       "    </tr>\n",
       "    <tr>\n",
       "      <th>5</th>\n",
       "      <td>6</td>\n",
       "      <td>4.5</td>\n",
       "      <td>2567.0</td>\n",
       "      <td>0.0</td>\n",
       "      <td>2.5</td>\n",
       "      <td>1</td>\n",
       "      <td>1</td>\n",
       "      <td>0</td>\n",
       "      <td>0</td>\n",
       "      <td>646</td>\n",
       "      <td>642</td>\n",
       "      <td>Libraries &amp; Demo</td>\n",
       "      <td>4.1</td>\n",
       "      <td>android developer779</td>\n",
       "      <td>Everyone</td>\n",
       "      <td>1</td>\n",
       "      <td>1.672164e-06</td>\n",
       "      <td>0.284611</td>\n",
       "    </tr>\n",
       "    <tr>\n",
       "      <th>6</th>\n",
       "      <td>7</td>\n",
       "      <td>2.0</td>\n",
       "      <td>702.0</td>\n",
       "      <td>0.0</td>\n",
       "      <td>16.0</td>\n",
       "      <td>1</td>\n",
       "      <td>0</td>\n",
       "      <td>0</td>\n",
       "      <td>0</td>\n",
       "      <td>740</td>\n",
       "      <td>740</td>\n",
       "      <td>Lifestyle</td>\n",
       "      <td>5.0</td>\n",
       "      <td>Mozaix LLC</td>\n",
       "      <td>Everyone</td>\n",
       "      <td>1</td>\n",
       "      <td>8.360820e-07</td>\n",
       "      <td>0.162943</td>\n",
       "    </tr>\n",
       "    <tr>\n",
       "      <th>7</th>\n",
       "      <td>8</td>\n",
       "      <td>4.7</td>\n",
       "      <td>62433.0</td>\n",
       "      <td>0.0</td>\n",
       "      <td>3.5</td>\n",
       "      <td>1</td>\n",
       "      <td>1</td>\n",
       "      <td>0</td>\n",
       "      <td>0</td>\n",
       "      <td>647</td>\n",
       "      <td>266</td>\n",
       "      <td>Personalization</td>\n",
       "      <td>4.1</td>\n",
       "      <td>Free 2021 Themes for Emoji keyboard</td>\n",
       "      <td>Everyone</td>\n",
       "      <td>1</td>\n",
       "      <td>1.555112e-04</td>\n",
       "      <td>0.284611</td>\n",
       "    </tr>\n",
       "    <tr>\n",
       "      <th>...</th>\n",
       "      <td>...</td>\n",
       "      <td>...</td>\n",
       "      <td>...</td>\n",
       "      <td>...</td>\n",
       "      <td>...</td>\n",
       "      <td>...</td>\n",
       "      <td>...</td>\n",
       "      <td>...</td>\n",
       "      <td>...</td>\n",
       "      <td>...</td>\n",
       "      <td>...</td>\n",
       "      <td>...</td>\n",
       "      <td>...</td>\n",
       "      <td>...</td>\n",
       "      <td>...</td>\n",
       "      <td>...</td>\n",
       "      <td>...</td>\n",
       "      <td>...</td>\n",
       "    </tr>\n",
       "    <tr>\n",
       "      <th>2225309</th>\n",
       "      <td>2225310</td>\n",
       "      <td>4.3</td>\n",
       "      <td>7274660.0</td>\n",
       "      <td>0.0</td>\n",
       "      <td>37.0</td>\n",
       "      <td>1</td>\n",
       "      <td>1</td>\n",
       "      <td>1</td>\n",
       "      <td>0</td>\n",
       "      <td>2071</td>\n",
       "      <td>1577</td>\n",
       "      <td>Action</td>\n",
       "      <td>4.0.3</td>\n",
       "      <td>Upopa Games</td>\n",
       "      <td>Teen</td>\n",
       "      <td>3</td>\n",
       "      <td>4.180410e-06</td>\n",
       "      <td>0.079761</td>\n",
       "    </tr>\n",
       "    <tr>\n",
       "      <th>2225310</th>\n",
       "      <td>2225311</td>\n",
       "      <td>4.0</td>\n",
       "      <td>814548.0</td>\n",
       "      <td>0.0</td>\n",
       "      <td>4.1</td>\n",
       "      <td>1</td>\n",
       "      <td>0</td>\n",
       "      <td>0</td>\n",
       "      <td>0</td>\n",
       "      <td>2393</td>\n",
       "      <td>2393</td>\n",
       "      <td>Music &amp; Audio</td>\n",
       "      <td>2.2</td>\n",
       "      <td>Single Cell Software</td>\n",
       "      <td>Everyone</td>\n",
       "      <td>1</td>\n",
       "      <td>5.852574e-06</td>\n",
       "      <td>0.013077</td>\n",
       "    </tr>\n",
       "    <tr>\n",
       "      <th>2225314</th>\n",
       "      <td>2225315</td>\n",
       "      <td>3.4</td>\n",
       "      <td>1980.0</td>\n",
       "      <td>0.0</td>\n",
       "      <td>10.0</td>\n",
       "      <td>1</td>\n",
       "      <td>1</td>\n",
       "      <td>0</td>\n",
       "      <td>0</td>\n",
       "      <td>1135</td>\n",
       "      <td>929</td>\n",
       "      <td>Education</td>\n",
       "      <td>4.1</td>\n",
       "      <td>Julio Augusto Vera</td>\n",
       "      <td>Everyone</td>\n",
       "      <td>1</td>\n",
       "      <td>8.360820e-07</td>\n",
       "      <td>0.284611</td>\n",
       "    </tr>\n",
       "    <tr>\n",
       "      <th>2225317</th>\n",
       "      <td>2225318</td>\n",
       "      <td>3.5</td>\n",
       "      <td>2635.0</td>\n",
       "      <td>0.0</td>\n",
       "      <td>10.0</td>\n",
       "      <td>1</td>\n",
       "      <td>1</td>\n",
       "      <td>0</td>\n",
       "      <td>0</td>\n",
       "      <td>1794</td>\n",
       "      <td>56</td>\n",
       "      <td>Music &amp; Audio</td>\n",
       "      <td>5.0</td>\n",
       "      <td>Bhakti</td>\n",
       "      <td>Everyone</td>\n",
       "      <td>1</td>\n",
       "      <td>7.859170e-05</td>\n",
       "      <td>0.162943</td>\n",
       "    </tr>\n",
       "    <tr>\n",
       "      <th>2225318</th>\n",
       "      <td>2225319</td>\n",
       "      <td>5.0</td>\n",
       "      <td>354.0</td>\n",
       "      <td>0.0</td>\n",
       "      <td>5.2</td>\n",
       "      <td>1</td>\n",
       "      <td>1</td>\n",
       "      <td>0</td>\n",
       "      <td>0</td>\n",
       "      <td>691</td>\n",
       "      <td>681</td>\n",
       "      <td>Trivia</td>\n",
       "      <td>5.0</td>\n",
       "      <td>Y Yazılım</td>\n",
       "      <td>Everyone</td>\n",
       "      <td>1</td>\n",
       "      <td>8.360820e-07</td>\n",
       "      <td>0.162943</td>\n",
       "    </tr>\n",
       "  </tbody>\n",
       "</table>\n",
       "<p>1196055 rows × 18 columns</p>\n",
       "</div>"
      ],
      "text/plain": [
       "         Unnamed: 0  Rating  MaximumInstalls  Price  SizeMB  Free  \\\n",
       "1                 2     4.4           7662.0    0.0     2.9     1   \n",
       "3                 4     5.0             19.0    0.0     1.8     1   \n",
       "5                 6     4.5           2567.0    0.0     2.5     1   \n",
       "6                 7     2.0            702.0    0.0    16.0     1   \n",
       "7                 8     4.7          62433.0    0.0     3.5     1   \n",
       "...             ...     ...              ...    ...     ...   ...   \n",
       "2225309     2225310     4.3        7274660.0    0.0    37.0     1   \n",
       "2225310     2225311     4.0         814548.0    0.0     4.1     1   \n",
       "2225314     2225315     3.4           1980.0    0.0    10.0     1   \n",
       "2225317     2225318     3.5           2635.0    0.0    10.0     1   \n",
       "2225318     2225319     5.0            354.0    0.0     5.2     1   \n",
       "\n",
       "         AdSupported  InAppPurchases  EditorsChoice  ReleasedDA  \\\n",
       "1                  1               0              0         405   \n",
       "3                  1               0              0        1024   \n",
       "5                  1               0              0         646   \n",
       "6                  0               0              0         740   \n",
       "7                  1               0              0         647   \n",
       "...              ...             ...            ...         ...   \n",
       "2225309            1               1              0        2071   \n",
       "2225310            0               0              0        2393   \n",
       "2225314            1               0              0        1135   \n",
       "2225317            1               0              0        1794   \n",
       "2225318            1               0              0         691   \n",
       "\n",
       "         LastUpdatedDA          Category MinimumAndroid  \\\n",
       "1                   55             Tools            5.0   \n",
       "3                  991     Communication          4.0.3   \n",
       "5                  642  Libraries & Demo            4.1   \n",
       "6                  740         Lifestyle            5.0   \n",
       "7                  266   Personalization            4.1   \n",
       "...                ...               ...            ...   \n",
       "2225309           1577            Action          4.0.3   \n",
       "2225310           2393     Music & Audio            2.2   \n",
       "2225314            929         Education            4.1   \n",
       "2225317             56     Music & Audio            5.0   \n",
       "2225318            681            Trivia            5.0   \n",
       "\n",
       "                                 DeveloperId ContentRating  \\\n",
       "1                                 Webserveis      Everyone   \n",
       "3                        Climate Smart Tech2      Everyone   \n",
       "5                       android developer779      Everyone   \n",
       "6                                 Mozaix LLC      Everyone   \n",
       "7        Free 2021 Themes for Emoji keyboard      Everyone   \n",
       "...                                      ...           ...   \n",
       "2225309                          Upopa Games          Teen   \n",
       "2225310                 Single Cell Software      Everyone   \n",
       "2225314                   Julio Augusto Vera      Everyone   \n",
       "2225317                               Bhakti      Everyone   \n",
       "2225318                            Y Yazılım      Everyone   \n",
       "\n",
       "         ContentRatingOrdinal  Dev_freq_encode  Android_freq_encode  \n",
       "1                           1     7.524738e-06             0.162943  \n",
       "3                           1     1.672164e-06             0.079761  \n",
       "5                           1     1.672164e-06             0.284611  \n",
       "6                           1     8.360820e-07             0.162943  \n",
       "7                           1     1.555112e-04             0.284611  \n",
       "...                       ...              ...                  ...  \n",
       "2225309                     3     4.180410e-06             0.079761  \n",
       "2225310                     1     5.852574e-06             0.013077  \n",
       "2225314                     1     8.360820e-07             0.284611  \n",
       "2225317                     1     7.859170e-05             0.162943  \n",
       "2225318                     1     8.360820e-07             0.162943  \n",
       "\n",
       "[1196055 rows x 18 columns]"
      ]
     },
     "execution_count": 8,
     "metadata": {},
     "output_type": "execute_result"
    }
   ],
   "source": [
    "fe2=df.groupby('MinimumAndroid').size()/len(df)\n",
    "df.loc[:,'Android_freq_encode']=df['MinimumAndroid'].map(fe2)\n",
    "df"
   ]
  },
  {
   "cell_type": "code",
   "execution_count": 9,
   "metadata": {},
   "outputs": [
    {
     "data": {
      "text/html": [
       "<div>\n",
       "<style scoped>\n",
       "    .dataframe tbody tr th:only-of-type {\n",
       "        vertical-align: middle;\n",
       "    }\n",
       "\n",
       "    .dataframe tbody tr th {\n",
       "        vertical-align: top;\n",
       "    }\n",
       "\n",
       "    .dataframe thead th {\n",
       "        text-align: right;\n",
       "    }\n",
       "</style>\n",
       "<table border=\"1\" class=\"dataframe\">\n",
       "  <thead>\n",
       "    <tr style=\"text-align: right;\">\n",
       "      <th></th>\n",
       "      <th>Unnamed: 0</th>\n",
       "      <th>Rating</th>\n",
       "      <th>MaximumInstalls</th>\n",
       "      <th>Price</th>\n",
       "      <th>SizeMB</th>\n",
       "      <th>Free</th>\n",
       "      <th>AdSupported</th>\n",
       "      <th>InAppPurchases</th>\n",
       "      <th>EditorsChoice</th>\n",
       "      <th>ReleasedDA</th>\n",
       "      <th>...</th>\n",
       "      <th>ContentRating</th>\n",
       "      <th>ContentRatingOrdinal</th>\n",
       "      <th>Dev_freq_encode</th>\n",
       "      <th>Android_freq_encode</th>\n",
       "      <th>Category_0</th>\n",
       "      <th>Category_1</th>\n",
       "      <th>Category_2</th>\n",
       "      <th>Category_3</th>\n",
       "      <th>Category_4</th>\n",
       "      <th>Category_5</th>\n",
       "    </tr>\n",
       "  </thead>\n",
       "  <tbody>\n",
       "    <tr>\n",
       "      <th>1</th>\n",
       "      <td>2</td>\n",
       "      <td>4.4</td>\n",
       "      <td>7662.0</td>\n",
       "      <td>0.0</td>\n",
       "      <td>2.9</td>\n",
       "      <td>1</td>\n",
       "      <td>1</td>\n",
       "      <td>0</td>\n",
       "      <td>0</td>\n",
       "      <td>405</td>\n",
       "      <td>...</td>\n",
       "      <td>Everyone</td>\n",
       "      <td>1</td>\n",
       "      <td>7.524738e-06</td>\n",
       "      <td>0.162943</td>\n",
       "      <td>0</td>\n",
       "      <td>0</td>\n",
       "      <td>0</td>\n",
       "      <td>0</td>\n",
       "      <td>0</td>\n",
       "      <td>1</td>\n",
       "    </tr>\n",
       "    <tr>\n",
       "      <th>3</th>\n",
       "      <td>4</td>\n",
       "      <td>5.0</td>\n",
       "      <td>19.0</td>\n",
       "      <td>0.0</td>\n",
       "      <td>1.8</td>\n",
       "      <td>1</td>\n",
       "      <td>1</td>\n",
       "      <td>0</td>\n",
       "      <td>0</td>\n",
       "      <td>1024</td>\n",
       "      <td>...</td>\n",
       "      <td>Everyone</td>\n",
       "      <td>1</td>\n",
       "      <td>1.672164e-06</td>\n",
       "      <td>0.079761</td>\n",
       "      <td>0</td>\n",
       "      <td>0</td>\n",
       "      <td>0</td>\n",
       "      <td>0</td>\n",
       "      <td>1</td>\n",
       "      <td>0</td>\n",
       "    </tr>\n",
       "    <tr>\n",
       "      <th>5</th>\n",
       "      <td>6</td>\n",
       "      <td>4.5</td>\n",
       "      <td>2567.0</td>\n",
       "      <td>0.0</td>\n",
       "      <td>2.5</td>\n",
       "      <td>1</td>\n",
       "      <td>1</td>\n",
       "      <td>0</td>\n",
       "      <td>0</td>\n",
       "      <td>646</td>\n",
       "      <td>...</td>\n",
       "      <td>Everyone</td>\n",
       "      <td>1</td>\n",
       "      <td>1.672164e-06</td>\n",
       "      <td>0.284611</td>\n",
       "      <td>0</td>\n",
       "      <td>0</td>\n",
       "      <td>0</td>\n",
       "      <td>0</td>\n",
       "      <td>1</td>\n",
       "      <td>1</td>\n",
       "    </tr>\n",
       "    <tr>\n",
       "      <th>6</th>\n",
       "      <td>7</td>\n",
       "      <td>2.0</td>\n",
       "      <td>702.0</td>\n",
       "      <td>0.0</td>\n",
       "      <td>16.0</td>\n",
       "      <td>1</td>\n",
       "      <td>0</td>\n",
       "      <td>0</td>\n",
       "      <td>0</td>\n",
       "      <td>740</td>\n",
       "      <td>...</td>\n",
       "      <td>Everyone</td>\n",
       "      <td>1</td>\n",
       "      <td>8.360820e-07</td>\n",
       "      <td>0.162943</td>\n",
       "      <td>0</td>\n",
       "      <td>0</td>\n",
       "      <td>0</td>\n",
       "      <td>1</td>\n",
       "      <td>0</td>\n",
       "      <td>0</td>\n",
       "    </tr>\n",
       "    <tr>\n",
       "      <th>7</th>\n",
       "      <td>8</td>\n",
       "      <td>4.7</td>\n",
       "      <td>62433.0</td>\n",
       "      <td>0.0</td>\n",
       "      <td>3.5</td>\n",
       "      <td>1</td>\n",
       "      <td>1</td>\n",
       "      <td>0</td>\n",
       "      <td>0</td>\n",
       "      <td>647</td>\n",
       "      <td>...</td>\n",
       "      <td>Everyone</td>\n",
       "      <td>1</td>\n",
       "      <td>1.555112e-04</td>\n",
       "      <td>0.284611</td>\n",
       "      <td>0</td>\n",
       "      <td>0</td>\n",
       "      <td>0</td>\n",
       "      <td>1</td>\n",
       "      <td>0</td>\n",
       "      <td>1</td>\n",
       "    </tr>\n",
       "    <tr>\n",
       "      <th>...</th>\n",
       "      <td>...</td>\n",
       "      <td>...</td>\n",
       "      <td>...</td>\n",
       "      <td>...</td>\n",
       "      <td>...</td>\n",
       "      <td>...</td>\n",
       "      <td>...</td>\n",
       "      <td>...</td>\n",
       "      <td>...</td>\n",
       "      <td>...</td>\n",
       "      <td>...</td>\n",
       "      <td>...</td>\n",
       "      <td>...</td>\n",
       "      <td>...</td>\n",
       "      <td>...</td>\n",
       "      <td>...</td>\n",
       "      <td>...</td>\n",
       "      <td>...</td>\n",
       "      <td>...</td>\n",
       "      <td>...</td>\n",
       "      <td>...</td>\n",
       "    </tr>\n",
       "    <tr>\n",
       "      <th>2225309</th>\n",
       "      <td>2225310</td>\n",
       "      <td>4.3</td>\n",
       "      <td>7274660.0</td>\n",
       "      <td>0.0</td>\n",
       "      <td>37.0</td>\n",
       "      <td>1</td>\n",
       "      <td>1</td>\n",
       "      <td>1</td>\n",
       "      <td>0</td>\n",
       "      <td>2071</td>\n",
       "      <td>...</td>\n",
       "      <td>Teen</td>\n",
       "      <td>3</td>\n",
       "      <td>4.180410e-06</td>\n",
       "      <td>0.079761</td>\n",
       "      <td>1</td>\n",
       "      <td>0</td>\n",
       "      <td>1</td>\n",
       "      <td>0</td>\n",
       "      <td>0</td>\n",
       "      <td>0</td>\n",
       "    </tr>\n",
       "    <tr>\n",
       "      <th>2225310</th>\n",
       "      <td>2225311</td>\n",
       "      <td>4.0</td>\n",
       "      <td>814548.0</td>\n",
       "      <td>0.0</td>\n",
       "      <td>4.1</td>\n",
       "      <td>1</td>\n",
       "      <td>0</td>\n",
       "      <td>0</td>\n",
       "      <td>0</td>\n",
       "      <td>2393</td>\n",
       "      <td>...</td>\n",
       "      <td>Everyone</td>\n",
       "      <td>1</td>\n",
       "      <td>5.852574e-06</td>\n",
       "      <td>0.013077</td>\n",
       "      <td>0</td>\n",
       "      <td>1</td>\n",
       "      <td>0</td>\n",
       "      <td>1</td>\n",
       "      <td>0</td>\n",
       "      <td>0</td>\n",
       "    </tr>\n",
       "    <tr>\n",
       "      <th>2225314</th>\n",
       "      <td>2225315</td>\n",
       "      <td>3.4</td>\n",
       "      <td>1980.0</td>\n",
       "      <td>0.0</td>\n",
       "      <td>10.0</td>\n",
       "      <td>1</td>\n",
       "      <td>1</td>\n",
       "      <td>0</td>\n",
       "      <td>0</td>\n",
       "      <td>1135</td>\n",
       "      <td>...</td>\n",
       "      <td>Everyone</td>\n",
       "      <td>1</td>\n",
       "      <td>8.360820e-07</td>\n",
       "      <td>0.284611</td>\n",
       "      <td>0</td>\n",
       "      <td>1</td>\n",
       "      <td>1</td>\n",
       "      <td>0</td>\n",
       "      <td>0</td>\n",
       "      <td>0</td>\n",
       "    </tr>\n",
       "    <tr>\n",
       "      <th>2225317</th>\n",
       "      <td>2225318</td>\n",
       "      <td>3.5</td>\n",
       "      <td>2635.0</td>\n",
       "      <td>0.0</td>\n",
       "      <td>10.0</td>\n",
       "      <td>1</td>\n",
       "      <td>1</td>\n",
       "      <td>0</td>\n",
       "      <td>0</td>\n",
       "      <td>1794</td>\n",
       "      <td>...</td>\n",
       "      <td>Everyone</td>\n",
       "      <td>1</td>\n",
       "      <td>7.859170e-05</td>\n",
       "      <td>0.162943</td>\n",
       "      <td>0</td>\n",
       "      <td>1</td>\n",
       "      <td>0</td>\n",
       "      <td>1</td>\n",
       "      <td>0</td>\n",
       "      <td>0</td>\n",
       "    </tr>\n",
       "    <tr>\n",
       "      <th>2225318</th>\n",
       "      <td>2225319</td>\n",
       "      <td>5.0</td>\n",
       "      <td>354.0</td>\n",
       "      <td>0.0</td>\n",
       "      <td>5.2</td>\n",
       "      <td>1</td>\n",
       "      <td>1</td>\n",
       "      <td>0</td>\n",
       "      <td>0</td>\n",
       "      <td>691</td>\n",
       "      <td>...</td>\n",
       "      <td>Everyone</td>\n",
       "      <td>1</td>\n",
       "      <td>8.360820e-07</td>\n",
       "      <td>0.162943</td>\n",
       "      <td>0</td>\n",
       "      <td>1</td>\n",
       "      <td>1</td>\n",
       "      <td>1</td>\n",
       "      <td>1</td>\n",
       "      <td>0</td>\n",
       "    </tr>\n",
       "  </tbody>\n",
       "</table>\n",
       "<p>1196055 rows × 24 columns</p>\n",
       "</div>"
      ],
      "text/plain": [
       "         Unnamed: 0  Rating  MaximumInstalls  Price  SizeMB  Free  \\\n",
       "1                 2     4.4           7662.0    0.0     2.9     1   \n",
       "3                 4     5.0             19.0    0.0     1.8     1   \n",
       "5                 6     4.5           2567.0    0.0     2.5     1   \n",
       "6                 7     2.0            702.0    0.0    16.0     1   \n",
       "7                 8     4.7          62433.0    0.0     3.5     1   \n",
       "...             ...     ...              ...    ...     ...   ...   \n",
       "2225309     2225310     4.3        7274660.0    0.0    37.0     1   \n",
       "2225310     2225311     4.0         814548.0    0.0     4.1     1   \n",
       "2225314     2225315     3.4           1980.0    0.0    10.0     1   \n",
       "2225317     2225318     3.5           2635.0    0.0    10.0     1   \n",
       "2225318     2225319     5.0            354.0    0.0     5.2     1   \n",
       "\n",
       "         AdSupported  InAppPurchases  EditorsChoice  ReleasedDA  ...  \\\n",
       "1                  1               0              0         405  ...   \n",
       "3                  1               0              0        1024  ...   \n",
       "5                  1               0              0         646  ...   \n",
       "6                  0               0              0         740  ...   \n",
       "7                  1               0              0         647  ...   \n",
       "...              ...             ...            ...         ...  ...   \n",
       "2225309            1               1              0        2071  ...   \n",
       "2225310            0               0              0        2393  ...   \n",
       "2225314            1               0              0        1135  ...   \n",
       "2225317            1               0              0        1794  ...   \n",
       "2225318            1               0              0         691  ...   \n",
       "\n",
       "         ContentRating ContentRatingOrdinal Dev_freq_encode  \\\n",
       "1             Everyone                    1    7.524738e-06   \n",
       "3             Everyone                    1    1.672164e-06   \n",
       "5             Everyone                    1    1.672164e-06   \n",
       "6             Everyone                    1    8.360820e-07   \n",
       "7             Everyone                    1    1.555112e-04   \n",
       "...                ...                  ...             ...   \n",
       "2225309           Teen                    3    4.180410e-06   \n",
       "2225310       Everyone                    1    5.852574e-06   \n",
       "2225314       Everyone                    1    8.360820e-07   \n",
       "2225317       Everyone                    1    7.859170e-05   \n",
       "2225318       Everyone                    1    8.360820e-07   \n",
       "\n",
       "        Android_freq_encode Category_0  Category_1  Category_2  Category_3  \\\n",
       "1                  0.162943          0           0           0           0   \n",
       "3                  0.079761          0           0           0           0   \n",
       "5                  0.284611          0           0           0           0   \n",
       "6                  0.162943          0           0           0           1   \n",
       "7                  0.284611          0           0           0           1   \n",
       "...                     ...        ...         ...         ...         ...   \n",
       "2225309            0.079761          1           0           1           0   \n",
       "2225310            0.013077          0           1           0           1   \n",
       "2225314            0.284611          0           1           1           0   \n",
       "2225317            0.162943          0           1           0           1   \n",
       "2225318            0.162943          0           1           1           1   \n",
       "\n",
       "         Category_4  Category_5  \n",
       "1                 0           1  \n",
       "3                 1           0  \n",
       "5                 1           1  \n",
       "6                 0           0  \n",
       "7                 0           1  \n",
       "...             ...         ...  \n",
       "2225309           0           0  \n",
       "2225310           0           0  \n",
       "2225314           0           0  \n",
       "2225317           0           0  \n",
       "2225318           1           0  \n",
       "\n",
       "[1196055 rows x 24 columns]"
      ]
     },
     "execution_count": 9,
     "metadata": {},
     "output_type": "execute_result"
    }
   ],
   "source": [
    "import category_encoders as ce\n",
    "encoder = ce.BinaryEncoder(cols=['Category'])\n",
    "dfbin = encoder.fit_transform(df['Category'])\n",
    "df = pd.concat([df,dfbin], axis=1)\n",
    "df"
   ]
  },
  {
   "cell_type": "code",
   "execution_count": 10,
   "metadata": {},
   "outputs": [],
   "source": [
    "df_original = df"
   ]
  },
  {
   "cell_type": "code",
   "execution_count": 11,
   "metadata": {},
   "outputs": [
    {
     "data": {
      "text/plain": [
       "Index(['Unnamed: 0', 'Rating', 'MaximumInstalls', 'Price', 'SizeMB', 'Free',\n",
       "       'AdSupported', 'InAppPurchases', 'EditorsChoice', 'ReleasedDA',\n",
       "       'LastUpdatedDA', 'Category', 'MinimumAndroid', 'DeveloperId',\n",
       "       'ContentRating', 'ContentRatingOrdinal', 'Dev_freq_encode',\n",
       "       'Android_freq_encode', 'Category_0', 'Category_1', 'Category_2',\n",
       "       'Category_3', 'Category_4', 'Category_5'],\n",
       "      dtype='object')"
      ]
     },
     "execution_count": 11,
     "metadata": {},
     "output_type": "execute_result"
    }
   ],
   "source": [
    "df_original.columns"
   ]
  },
  {
   "cell_type": "code",
   "execution_count": 12,
   "metadata": {},
   "outputs": [],
   "source": [
    "df= df.drop(['Unnamed: 0', 'Category', 'MinimumAndroid', 'DeveloperId', 'ContentRating'], axis=1)"
   ]
  },
  {
   "cell_type": "markdown",
   "metadata": {},
   "source": [
    "Redondeo de Rating"
   ]
  },
  {
   "cell_type": "code",
   "execution_count": 13,
   "metadata": {},
   "outputs": [
    {
     "data": {
      "text/plain": [
       "1          4.0\n",
       "3          5.0\n",
       "5          4.0\n",
       "6          2.0\n",
       "7          5.0\n",
       "          ... \n",
       "2225309    4.0\n",
       "2225310    4.0\n",
       "2225314    3.0\n",
       "2225317    4.0\n",
       "2225318    5.0\n",
       "Name: RatingR, Length: 1196055, dtype: float64"
      ]
     },
     "execution_count": 13,
     "metadata": {},
     "output_type": "execute_result"
    }
   ],
   "source": [
    "df['RatingR']=round(df['Rating'])\n",
    "df['RatingR']"
   ]
  },
  {
   "cell_type": "code",
   "execution_count": 14,
   "metadata": {},
   "outputs": [
    {
     "name": "stdout",
     "output_type": "stream",
     "text": [
      "[4. 5. 2. 3. 1.]\n"
     ]
    }
   ],
   "source": [
    "print(df['RatingR'].unique())"
   ]
  },
  {
   "cell_type": "code",
   "execution_count": 15,
   "metadata": {},
   "outputs": [
    {
     "data": {
      "text/plain": [
       "([<matplotlib.axis.XTick at 0x173f7faf0>,\n",
       "  <matplotlib.axis.XTick at 0x173f7fac0>,\n",
       "  <matplotlib.axis.XTick at 0x1733e8af0>,\n",
       "  <matplotlib.axis.XTick at 0x169f85df0>,\n",
       "  <matplotlib.axis.XTick at 0x1751e3460>],\n",
       " [Text(0, 0, ''),\n",
       "  Text(0, 0, ''),\n",
       "  Text(0, 0, ''),\n",
       "  Text(0, 0, ''),\n",
       "  Text(0, 0, '')])"
      ]
     },
     "execution_count": 15,
     "metadata": {},
     "output_type": "execute_result"
    },
    {
     "data": {
      "image/png": "[encoded data removed]",
      "text/plain": [
       "<Figure size 432x288 with 1 Axes>"
      ]
     },
     "metadata": {
      "needs_background": "light"
     },
     "output_type": "display_data"
    }
   ],
   "source": [
    "i=range(1,6)\n",
    "plt.hist(df['RatingR'], bins=5,color='#4aa796', rwidth=0.85)\n",
    "plt.title('Histograma de RatingR')\n",
    "plt.xlabel('RatingR')\n",
    "plt.ylabel('Frecuencia')\n",
    "plt.xticks(i)"
   ]
  },
  {
   "cell_type": "markdown",
   "metadata": {},
   "source": [
    "Separación test & train"
   ]
  },
  {
   "cell_type": "code",
   "execution_count": 16,
   "metadata": {},
   "outputs": [],
   "source": [
    "from sklearn.model_selection import train_test_split"
   ]
  },
  {
   "cell_type": "code",
   "execution_count": 17,
   "metadata": {},
   "outputs": [],
   "source": [
    "X= df[['MaximumInstalls','Price','SizeMB', 'Free', 'AdSupported', 'InAppPurchases', 'EditorsChoice',\n",
    "       'ReleasedDA', 'LastUpdatedDA','ContentRatingOrdinal',\n",
    "       'Dev_freq_encode', 'Android_freq_encode', 'Category_0', 'Category_1',\n",
    "       'Category_2', 'Category_3', 'Category_4', 'Category_5']]\n",
    "y= df[['RatingR']]\n",
    "X_train, X_test, y_train, y_test = train_test_split(X, y, test_size=0.2)"
   ]
  },
  {
   "cell_type": "code",
   "execution_count": 18,
   "metadata": {},
   "outputs": [
    {
     "name": "stdout",
     "output_type": "stream",
     "text": [
      "(956844, 18)\n",
      "(956844, 1)\n",
      "(239211, 18)\n",
      "(239211, 1)\n"
     ]
    }
   ],
   "source": [
    "print(X_train.shape)\n",
    "print(y_train.shape)\n",
    "print(X_test.shape)\n",
    "print(y_test.shape)"
   ]
  },
  {
   "cell_type": "markdown",
   "metadata": {},
   "source": [
    "### Histogram Gradient Boosting Classifier"
   ]
  },
  {
   "cell_type": "code",
   "execution_count": 19,
   "metadata": {},
   "outputs": [],
   "source": [
    "from sklearn.ensemble import HistGradientBoostingClassifier\n",
    "from sklearn.metrics import accuracy_score"
   ]
  },
  {
   "cell_type": "code",
   "execution_count": 20,
   "metadata": {},
   "outputs": [],
   "source": [
    "m= HistGradientBoostingClassifier(random_state=0)"
   ]
  },
  {
   "cell_type": "code",
   "execution_count": 21,
   "metadata": {},
   "outputs": [
    {
     "name": "stderr",
     "output_type": "stream",
     "text": [
      "/Users/camilacollado/opt/miniconda3/envs/myenv/lib/python3.9/site-packages/sklearn/utils/validation.py:993: DataConversionWarning: A column-vector y was passed when a 1d array was expected. Please change the shape of y to (n_samples, ), for example using ravel().\n",
      "  y = column_or_1d(y, warn=True)\n"
     ]
    },
    {
     "data": {
      "text/plain": [
       "HistGradientBoostingClassifier(random_state=0)"
      ]
     },
     "execution_count": 21,
     "metadata": {},
     "output_type": "execute_result"
    }
   ],
   "source": [
    "m.fit(X_train, y_train)"
   ]
  },
  {
   "cell_type": "code",
   "execution_count": 22,
   "metadata": {},
   "outputs": [
    {
     "data": {
      "text/plain": [
       "0.6383318492878672"
      ]
     },
     "execution_count": 22,
     "metadata": {},
     "output_type": "execute_result"
    }
   ],
   "source": [
    "m.score(X_test, y_test)"
   ]
  },
  {
   "cell_type": "code",
   "execution_count": 23,
   "metadata": {},
   "outputs": [
    {
     "data": {
      "text/plain": [
       "{'categorical_features': None,\n",
       " 'early_stopping': 'auto',\n",
       " 'l2_regularization': 0.0,\n",
       " 'learning_rate': 0.1,\n",
       " 'loss': 'auto',\n",
       " 'max_bins': 255,\n",
       " 'max_depth': None,\n",
       " 'max_iter': 100,\n",
       " 'max_leaf_nodes': 31,\n",
       " 'min_samples_leaf': 20,\n",
       " 'monotonic_cst': None,\n",
       " 'n_iter_no_change': 10,\n",
       " 'random_state': 0,\n",
       " 'scoring': 'loss',\n",
       " 'tol': 1e-07,\n",
       " 'validation_fraction': 0.1,\n",
       " 'verbose': 0,\n",
       " 'warm_start': False}"
      ]
     },
     "execution_count": 23,
     "metadata": {},
     "output_type": "execute_result"
    }
   ],
   "source": [
    "m.get_params()"
   ]
  },
  {
   "cell_type": "markdown",
   "metadata": {},
   "source": [
    "**Balanced accuracy score**"
   ]
  },
  {
   "cell_type": "code",
   "execution_count": 24,
   "metadata": {},
   "outputs": [],
   "source": [
    "from sklearn.metrics import balanced_accuracy_score"
   ]
  },
  {
   "cell_type": "code",
   "execution_count": 26,
   "metadata": {},
   "outputs": [],
   "source": [
    "y_predm=m.predict(X_test)"
   ]
  },
  {
   "cell_type": "code",
   "execution_count": 27,
   "metadata": {},
   "outputs": [
    {
     "data": {
      "text/plain": [
       "0.2750987775505781"
      ]
     },
     "execution_count": 27,
     "metadata": {},
     "output_type": "execute_result"
    }
   ],
   "source": [
    "balanced_accuracy_score(y_test, y_predm)"
   ]
  },
  {
   "cell_type": "markdown",
   "metadata": {},
   "source": [
    "Mejores parámetros (regresion)"
   ]
  },
  {
   "cell_type": "code",
   "execution_count": 28,
   "metadata": {},
   "outputs": [],
   "source": [
    "m3=HistGradientBoostingClassifier(learning_rate=0.2, random_state=0,min_samples_leaf=200, max_depth=16, max_leaf_nodes=10001)"
   ]
  },
  {
   "cell_type": "code",
   "execution_count": 29,
   "metadata": {},
   "outputs": [
    {
     "name": "stderr",
     "output_type": "stream",
     "text": [
      "/Users/camilacollado/opt/miniconda3/envs/myenv/lib/python3.9/site-packages/sklearn/utils/validation.py:993: DataConversionWarning: A column-vector y was passed when a 1d array was expected. Please change the shape of y to (n_samples, ), for example using ravel().\n",
      "  y = column_or_1d(y, warn=True)\n"
     ]
    },
    {
     "data": {
      "text/plain": [
       "HistGradientBoostingClassifier(learning_rate=0.2, max_depth=16,\n",
       "                               max_leaf_nodes=10001, min_samples_leaf=200,\n",
       "                               random_state=0)"
      ]
     },
     "execution_count": 29,
     "metadata": {},
     "output_type": "execute_result"
    }
   ],
   "source": [
    "m3.fit(X_train, y_train)"
   ]
  },
  {
   "cell_type": "code",
   "execution_count": 30,
   "metadata": {},
   "outputs": [
    {
     "data": {
      "text/plain": [
       "0.6437914644393443"
      ]
     },
     "execution_count": 30,
     "metadata": {},
     "output_type": "execute_result"
    }
   ],
   "source": [
    "m3.score(X_test, y_test)"
   ]
  },
  {
   "cell_type": "code",
   "execution_count": 31,
   "metadata": {},
   "outputs": [],
   "source": [
    "y_predm3 = m3.predict(X_test)"
   ]
  },
  {
   "cell_type": "code",
   "execution_count": 32,
   "metadata": {},
   "outputs": [
    {
     "data": {
      "text/plain": [
       "0.6437914644393443"
      ]
     },
     "execution_count": 32,
     "metadata": {},
     "output_type": "execute_result"
    }
   ],
   "source": [
    "accuracy_score(y_test, y_predm3)"
   ]
  },
  {
   "cell_type": "code",
   "execution_count": 33,
   "metadata": {},
   "outputs": [
    {
     "data": {
      "text/plain": [
       "0.2875246533097324"
      ]
     },
     "execution_count": 33,
     "metadata": {},
     "output_type": "execute_result"
    }
   ],
   "source": [
    "balanced_accuracy_score(y_test, y_predm3)"
   ]
  },
  {
   "cell_type": "markdown",
   "metadata": {},
   "source": [
    "Ajuste de hiperparámetros"
   ]
  },
  {
   "cell_type": "code",
   "execution_count": 34,
   "metadata": {},
   "outputs": [],
   "source": [
    "from sklearn.model_selection import GridSearchCV"
   ]
  },
  {
   "cell_type": "code",
   "execution_count": 35,
   "metadata": {},
   "outputs": [
    {
     "name": "stderr",
     "output_type": "stream",
     "text": [
      "/Users/camilacollado/opt/miniconda3/envs/myenv/lib/python3.9/site-packages/sklearn/utils/validation.py:993: DataConversionWarning: A column-vector y was passed when a 1d array was expected. Please change the shape of y to (n_samples, ), for example using ravel().\n",
      "  y = column_or_1d(y, warn=True)\n",
      "/Users/camilacollado/opt/miniconda3/envs/myenv/lib/python3.9/site-packages/sklearn/utils/validation.py:993: DataConversionWarning: A column-vector y was passed when a 1d array was expected. Please change the shape of y to (n_samples, ), for example using ravel().\n",
      "  y = column_or_1d(y, warn=True)\n",
      "/Users/camilacollado/opt/miniconda3/envs/myenv/lib/python3.9/site-packages/sklearn/utils/validation.py:993: DataConversionWarning: A column-vector y was passed when a 1d array was expected. Please change the shape of y to (n_samples, ), for example using ravel().\n",
      "  y = column_or_1d(y, warn=True)\n",
      "/Users/camilacollado/opt/miniconda3/envs/myenv/lib/python3.9/site-packages/sklearn/utils/validation.py:993: DataConversionWarning: A column-vector y was passed when a 1d array was expected. Please change the shape of y to (n_samples, ), for example using ravel().\n",
      "  y = column_or_1d(y, warn=True)\n",
      "/Users/camilacollado/opt/miniconda3/envs/myenv/lib/python3.9/site-packages/sklearn/utils/validation.py:993: DataConversionWarning: A column-vector y was passed when a 1d array was expected. Please change the shape of y to (n_samples, ), for example using ravel().\n",
      "  y = column_or_1d(y, warn=True)\n",
      "/Users/camilacollado/opt/miniconda3/envs/myenv/lib/python3.9/site-packages/sklearn/utils/validation.py:993: DataConversionWarning: A column-vector y was passed when a 1d array was expected. Please change the shape of y to (n_samples, ), for example using ravel().\n",
      "  y = column_or_1d(y, warn=True)\n",
      "/Users/camilacollado/opt/miniconda3/envs/myenv/lib/python3.9/site-packages/sklearn/utils/validation.py:993: DataConversionWarning: A column-vector y was passed when a 1d array was expected. Please change the shape of y to (n_samples, ), for example using ravel().\n",
      "  y = column_or_1d(y, warn=True)\n",
      "/Users/camilacollado/opt/miniconda3/envs/myenv/lib/python3.9/site-packages/sklearn/utils/validation.py:993: DataConversionWarning: A column-vector y was passed when a 1d array was expected. Please change the shape of y to (n_samples, ), for example using ravel().\n",
      "  y = column_or_1d(y, warn=True)\n",
      "/Users/camilacollado/opt/miniconda3/envs/myenv/lib/python3.9/site-packages/sklearn/utils/validation.py:993: DataConversionWarning: A column-vector y was passed when a 1d array was expected. Please change the shape of y to (n_samples, ), for example using ravel().\n",
      "  y = column_or_1d(y, warn=True)\n",
      "/Users/camilacollado/opt/miniconda3/envs/myenv/lib/python3.9/site-packages/sklearn/utils/validation.py:993: DataConversionWarning: A column-vector y was passed when a 1d array was expected. Please change the shape of y to (n_samples, ), for example using ravel().\n",
      "  y = column_or_1d(y, warn=True)\n",
      "/Users/camilacollado/opt/miniconda3/envs/myenv/lib/python3.9/site-packages/sklearn/utils/validation.py:993: DataConversionWarning: A column-vector y was passed when a 1d array was expected. Please change the shape of y to (n_samples, ), for example using ravel().\n",
      "  y = column_or_1d(y, warn=True)\n",
      "/Users/camilacollado/opt/miniconda3/envs/myenv/lib/python3.9/site-packages/sklearn/utils/validation.py:993: DataConversionWarning: A column-vector y was passed when a 1d array was expected. Please change the shape of y to (n_samples, ), for example using ravel().\n",
      "  y = column_or_1d(y, warn=True)\n",
      "/Users/camilacollado/opt/miniconda3/envs/myenv/lib/python3.9/site-packages/sklearn/utils/validation.py:993: DataConversionWarning: A column-vector y was passed when a 1d array was expected. Please change the shape of y to (n_samples, ), for example using ravel().\n",
      "  y = column_or_1d(y, warn=True)\n",
      "/Users/camilacollado/opt/miniconda3/envs/myenv/lib/python3.9/site-packages/sklearn/utils/validation.py:993: DataConversionWarning: A column-vector y was passed when a 1d array was expected. Please change the shape of y to (n_samples, ), for example using ravel().\n",
      "  y = column_or_1d(y, warn=True)\n",
      "/Users/camilacollado/opt/miniconda3/envs/myenv/lib/python3.9/site-packages/sklearn/utils/validation.py:993: DataConversionWarning: A column-vector y was passed when a 1d array was expected. Please change the shape of y to (n_samples, ), for example using ravel().\n",
      "  y = column_or_1d(y, warn=True)\n",
      "/Users/camilacollado/opt/miniconda3/envs/myenv/lib/python3.9/site-packages/sklearn/utils/validation.py:993: DataConversionWarning: A column-vector y was passed when a 1d array was expected. Please change the shape of y to (n_samples, ), for example using ravel().\n",
      "  y = column_or_1d(y, warn=True)\n",
      "/Users/camilacollado/opt/miniconda3/envs/myenv/lib/python3.9/site-packages/sklearn/utils/validation.py:993: DataConversionWarning: A column-vector y was passed when a 1d array was expected. Please change the shape of y to (n_samples, ), for example using ravel().\n",
      "  y = column_or_1d(y, warn=True)\n",
      "/Users/camilacollado/opt/miniconda3/envs/myenv/lib/python3.9/site-packages/sklearn/utils/validation.py:993: DataConversionWarning: A column-vector y was passed when a 1d array was expected. Please change the shape of y to (n_samples, ), for example using ravel().\n",
      "  y = column_or_1d(y, warn=True)\n",
      "/Users/camilacollado/opt/miniconda3/envs/myenv/lib/python3.9/site-packages/sklearn/utils/validation.py:993: DataConversionWarning: A column-vector y was passed when a 1d array was expected. Please change the shape of y to (n_samples, ), for example using ravel().\n",
      "  y = column_or_1d(y, warn=True)\n",
      "/Users/camilacollado/opt/miniconda3/envs/myenv/lib/python3.9/site-packages/sklearn/utils/validation.py:993: DataConversionWarning: A column-vector y was passed when a 1d array was expected. Please change the shape of y to (n_samples, ), for example using ravel().\n",
      "  y = column_or_1d(y, warn=True)\n",
      "/Users/camilacollado/opt/miniconda3/envs/myenv/lib/python3.9/site-packages/sklearn/utils/validation.py:993: DataConversionWarning: A column-vector y was passed when a 1d array was expected. Please change the shape of y to (n_samples, ), for example using ravel().\n",
      "  y = column_or_1d(y, warn=True)\n",
      "/Users/camilacollado/opt/miniconda3/envs/myenv/lib/python3.9/site-packages/sklearn/utils/validation.py:993: DataConversionWarning: A column-vector y was passed when a 1d array was expected. Please change the shape of y to (n_samples, ), for example using ravel().\n",
      "  y = column_or_1d(y, warn=True)\n",
      "/Users/camilacollado/opt/miniconda3/envs/myenv/lib/python3.9/site-packages/sklearn/utils/validation.py:993: DataConversionWarning: A column-vector y was passed when a 1d array was expected. Please change the shape of y to (n_samples, ), for example using ravel().\n",
      "  y = column_or_1d(y, warn=True)\n",
      "/Users/camilacollado/opt/miniconda3/envs/myenv/lib/python3.9/site-packages/sklearn/utils/validation.py:993: DataConversionWarning: A column-vector y was passed when a 1d array was expected. Please change the shape of y to (n_samples, ), for example using ravel().\n",
      "  y = column_or_1d(y, warn=True)\n",
      "/Users/camilacollado/opt/miniconda3/envs/myenv/lib/python3.9/site-packages/sklearn/utils/validation.py:993: DataConversionWarning: A column-vector y was passed when a 1d array was expected. Please change the shape of y to (n_samples, ), for example using ravel().\n",
      "  y = column_or_1d(y, warn=True)\n",
      "/Users/camilacollado/opt/miniconda3/envs/myenv/lib/python3.9/site-packages/sklearn/utils/validation.py:993: DataConversionWarning: A column-vector y was passed when a 1d array was expected. Please change the shape of y to (n_samples, ), for example using ravel().\n",
      "  y = column_or_1d(y, warn=True)\n",
      "/Users/camilacollado/opt/miniconda3/envs/myenv/lib/python3.9/site-packages/sklearn/utils/validation.py:993: DataConversionWarning: A column-vector y was passed when a 1d array was expected. Please change the shape of y to (n_samples, ), for example using ravel().\n",
      "  y = column_or_1d(y, warn=True)\n",
      "/Users/camilacollado/opt/miniconda3/envs/myenv/lib/python3.9/site-packages/sklearn/utils/validation.py:993: DataConversionWarning: A column-vector y was passed when a 1d array was expected. Please change the shape of y to (n_samples, ), for example using ravel().\n",
      "  y = column_or_1d(y, warn=True)\n",
      "/Users/camilacollado/opt/miniconda3/envs/myenv/lib/python3.9/site-packages/sklearn/utils/validation.py:993: DataConversionWarning: A column-vector y was passed when a 1d array was expected. Please change the shape of y to (n_samples, ), for example using ravel().\n",
      "  y = column_or_1d(y, warn=True)\n",
      "/Users/camilacollado/opt/miniconda3/envs/myenv/lib/python3.9/site-packages/sklearn/utils/validation.py:993: DataConversionWarning: A column-vector y was passed when a 1d array was expected. Please change the shape of y to (n_samples, ), for example using ravel().\n",
      "  y = column_or_1d(y, warn=True)\n",
      "/Users/camilacollado/opt/miniconda3/envs/myenv/lib/python3.9/site-packages/sklearn/utils/validation.py:993: DataConversionWarning: A column-vector y was passed when a 1d array was expected. Please change the shape of y to (n_samples, ), for example using ravel().\n",
      "  y = column_or_1d(y, warn=True)\n",
      "/Users/camilacollado/opt/miniconda3/envs/myenv/lib/python3.9/site-packages/sklearn/utils/validation.py:993: DataConversionWarning: A column-vector y was passed when a 1d array was expected. Please change the shape of y to (n_samples, ), for example using ravel().\n",
      "  y = column_or_1d(y, warn=True)\n",
      "/Users/camilacollado/opt/miniconda3/envs/myenv/lib/python3.9/site-packages/sklearn/utils/validation.py:993: DataConversionWarning: A column-vector y was passed when a 1d array was expected. Please change the shape of y to (n_samples, ), for example using ravel().\n",
      "  y = column_or_1d(y, warn=True)\n"
     ]
    },
    {
     "data": {
      "text/plain": [
       "GridSearchCV(cv=2, estimator=HistGradientBoostingClassifier(random_state=0),\n",
       "             param_grid=[{'learning_rate': [0.2, 0.3], 'max_depth': [12, 16],\n",
       "                          'max_leaf_nodes': [9001, 10001],\n",
       "                          'min_samples_leaf': [190, 200]}])"
      ]
     },
     "execution_count": 35,
     "metadata": {},
     "output_type": "execute_result"
    }
   ],
   "source": [
    "parameters = [{'learning_rate': [0.2, 0.3], 'max_depth':[12, 16],\n",
    "'min_samples_leaf':[190,200],'max_leaf_nodes':[9001, 10001]}]\n",
    "clf = GridSearchCV(m, parameters, cv=2)\n",
    "clf.fit(X_train, y_train)"
   ]
  },
  {
   "cell_type": "code",
   "execution_count": 36,
   "metadata": {},
   "outputs": [
    {
     "data": {
      "text/plain": [
       "0.6420137451873033"
      ]
     },
     "execution_count": 36,
     "metadata": {},
     "output_type": "execute_result"
    }
   ],
   "source": [
    "clf.best_score_"
   ]
  },
  {
   "cell_type": "code",
   "execution_count": 37,
   "metadata": {},
   "outputs": [
    {
     "data": {
      "text/plain": [
       "{'learning_rate': 0.2,\n",
       " 'max_depth': 12,\n",
       " 'max_leaf_nodes': 9001,\n",
       " 'min_samples_leaf': 200}"
      ]
     },
     "execution_count": 37,
     "metadata": {},
     "output_type": "execute_result"
    }
   ],
   "source": [
    "clf.best_params_"
   ]
  },
  {
   "cell_type": "code",
   "execution_count": 38,
   "metadata": {},
   "outputs": [],
   "source": [
    "m4= HistGradientBoostingClassifier(random_state=0, learning_rate=0.2, \n",
    "max_depth=12, min_samples_leaf=200, max_leaf_nodes=9001)"
   ]
  },
  {
   "cell_type": "code",
   "execution_count": 39,
   "metadata": {},
   "outputs": [
    {
     "name": "stderr",
     "output_type": "stream",
     "text": [
      "/Users/camilacollado/opt/miniconda3/envs/myenv/lib/python3.9/site-packages/sklearn/utils/validation.py:993: DataConversionWarning: A column-vector y was passed when a 1d array was expected. Please change the shape of y to (n_samples, ), for example using ravel().\n",
      "  y = column_or_1d(y, warn=True)\n"
     ]
    },
    {
     "data": {
      "text/plain": [
       "HistGradientBoostingClassifier(learning_rate=0.2, max_depth=12,\n",
       "                               max_leaf_nodes=9001, min_samples_leaf=200,\n",
       "                               random_state=0)"
      ]
     },
     "execution_count": 39,
     "metadata": {},
     "output_type": "execute_result"
    }
   ],
   "source": [
    "m4.fit(X_train, y_train)"
   ]
  },
  {
   "cell_type": "code",
   "execution_count": 40,
   "metadata": {},
   "outputs": [
    {
     "data": {
      "text/plain": [
       "0.6440422890251702"
      ]
     },
     "execution_count": 40,
     "metadata": {},
     "output_type": "execute_result"
    }
   ],
   "source": [
    "m4.score(X_test, y_test)"
   ]
  },
  {
   "cell_type": "code",
   "execution_count": 41,
   "metadata": {},
   "outputs": [],
   "source": [
    "y_predm4 = m4.predict(X_test)"
   ]
  },
  {
   "cell_type": "code",
   "execution_count": 42,
   "metadata": {},
   "outputs": [
    {
     "data": {
      "text/plain": [
       "0.6440422890251702"
      ]
     },
     "execution_count": 42,
     "metadata": {},
     "output_type": "execute_result"
    }
   ],
   "source": [
    "accuracy_score(y_test, y_predm4)"
   ]
  },
  {
   "cell_type": "code",
   "execution_count": 43,
   "metadata": {},
   "outputs": [
    {
     "data": {
      "text/plain": [
       "0.28510884219261945"
      ]
     },
     "execution_count": 43,
     "metadata": {},
     "output_type": "execute_result"
    }
   ],
   "source": [
    "balanced_accuracy_score(y_test, y_predm4)"
   ]
  },
  {
   "cell_type": "markdown",
   "metadata": {},
   "source": [
    "Light GBM Classifier"
   ]
  },
  {
   "cell_type": "code",
   "execution_count": 44,
   "metadata": {},
   "outputs": [],
   "source": [
    "from lightgbm import LGBMClassifier"
   ]
  },
  {
   "cell_type": "code",
   "execution_count": 45,
   "metadata": {},
   "outputs": [],
   "source": [
    "m5=LGBMClassifier(is_unbalance=True)"
   ]
  },
  {
   "cell_type": "code",
   "execution_count": 46,
   "metadata": {},
   "outputs": [
    {
     "name": "stderr",
     "output_type": "stream",
     "text": [
      "/Users/camilacollado/opt/miniconda3/envs/myenv/lib/python3.9/site-packages/sklearn/preprocessing/_label.py:98: DataConversionWarning: A column-vector y was passed when a 1d array was expected. Please change the shape of y to (n_samples, ), for example using ravel().\n",
      "  y = column_or_1d(y, warn=True)\n",
      "/Users/camilacollado/opt/miniconda3/envs/myenv/lib/python3.9/site-packages/sklearn/preprocessing/_label.py:133: DataConversionWarning: A column-vector y was passed when a 1d array was expected. Please change the shape of y to (n_samples, ), for example using ravel().\n",
      "  y = column_or_1d(y, warn=True)\n"
     ]
    },
    {
     "data": {
      "text/plain": [
       "LGBMClassifier(is_unbalance=True)"
      ]
     },
     "execution_count": 46,
     "metadata": {},
     "output_type": "execute_result"
    }
   ],
   "source": [
    "m5.fit(X_train, y_train)"
   ]
  },
  {
   "cell_type": "code",
   "execution_count": 47,
   "metadata": {},
   "outputs": [
    {
     "data": {
      "text/plain": [
       "0.6392640806651868"
      ]
     },
     "execution_count": 47,
     "metadata": {},
     "output_type": "execute_result"
    }
   ],
   "source": [
    "m5.score(X_test, y_test)"
   ]
  },
  {
   "cell_type": "code",
   "execution_count": 48,
   "metadata": {},
   "outputs": [],
   "source": [
    "y_predm5 = m5.predict(X_test)"
   ]
  },
  {
   "cell_type": "code",
   "execution_count": 49,
   "metadata": {},
   "outputs": [
    {
     "data": {
      "text/plain": [
       "0.6392640806651868"
      ]
     },
     "execution_count": 49,
     "metadata": {},
     "output_type": "execute_result"
    }
   ],
   "source": [
    "accuracy_score(y_test, y_predm5)"
   ]
  },
  {
   "cell_type": "code",
   "execution_count": 50,
   "metadata": {},
   "outputs": [
    {
     "data": {
      "text/plain": [
       "0.27578503961274414"
      ]
     },
     "execution_count": 50,
     "metadata": {},
     "output_type": "execute_result"
    }
   ],
   "source": [
    "balanced_accuracy_score(y_test, y_predm5)"
   ]
  },
  {
   "cell_type": "markdown",
   "metadata": {},
   "source": [
    "Over sampling (imbalanced)"
   ]
  },
  {
   "cell_type": "code",
   "execution_count": 52,
   "metadata": {},
   "outputs": [
    {
     "name": "stdout",
     "output_type": "stream",
     "text": [
      "Collecting package metadata (current_repodata.json): done\n",
      "Solving environment: done\n",
      "\n",
      "\n",
      "==> WARNING: A newer version of conda exists. <==\n",
      "  current version: 4.12.0\n",
      "  latest version: 4.13.0\n",
      "\n",
      "Please update conda by running\n",
      "\n",
      "    $ conda update -n base -c defaults conda\n",
      "\n",
      "\n",
      "\n",
      "## Package Plan ##\n",
      "\n",
      "  environment location: /Users/camilacollado/opt/miniconda3/envs/myenv\n",
      "\n",
      "  added / updated specs:\n",
      "    - imbalanced-learn\n",
      "\n",
      "\n",
      "The following packages will be downloaded:\n",
      "\n",
      "    package                    |            build\n",
      "    ---------------------------|-----------------\n",
      "    imbalanced-learn-0.7.0     |             py_1          97 KB  conda-forge\n",
      "    ------------------------------------------------------------\n",
      "                                           Total:          97 KB\n",
      "\n",
      "The following NEW packages will be INSTALLED:\n",
      "\n",
      "  imbalanced-learn   conda-forge/noarch::imbalanced-learn-0.7.0-py_1\n",
      "\n",
      "\n",
      "\n",
      "Downloading and Extracting Packages\n",
      "imbalanced-learn-0.7 | 97 KB     | ##################################### | 100% \n",
      "Preparing transaction: done\n",
      "Verifying transaction: done\n",
      "Executing transaction: done\n",
      "\n",
      "Note: you may need to restart the kernel to use updated packages.\n"
     ]
    }
   ],
   "source": [
    "#conda install -c conda-forge imbalanced-learn"
   ]
  },
  {
   "cell_type": "code",
   "execution_count": 53,
   "metadata": {},
   "outputs": [],
   "source": [
    "from imblearn.over_sampling import RandomOverSampler"
   ]
  },
  {
   "cell_type": "code",
   "execution_count": 54,
   "metadata": {},
   "outputs": [],
   "source": [
    "ros = RandomOverSampler(random_state=42)\n",
    "X_res, y_res = ros.fit_resample(X, y)"
   ]
  },
  {
   "cell_type": "code",
   "execution_count": 55,
   "metadata": {},
   "outputs": [],
   "source": [
    "X_trainR, X_testR, y_trainR, y_testR = train_test_split(X_res, y_res, test_size=0.2)"
   ]
  },
  {
   "cell_type": "code",
   "execution_count": 63,
   "metadata": {},
   "outputs": [
    {
     "name": "stdout",
     "output_type": "stream",
     "text": [
      "(2696900, 18)\n",
      "(2696900, 1)\n",
      "(674225, 18)\n",
      "(674225, 1)\n"
     ]
    }
   ],
   "source": [
    "print(X_trainR.shape)\n",
    "print(y_trainR.shape)\n",
    "print(X_testR.shape)\n",
    "print(y_testR.shape)"
   ]
  },
  {
   "cell_type": "markdown",
   "metadata": {},
   "source": [
    "Probar un modelo con la base del oversampling"
   ]
  },
  {
   "cell_type": "code",
   "execution_count": 56,
   "metadata": {},
   "outputs": [
    {
     "name": "stderr",
     "output_type": "stream",
     "text": [
      "/Users/camilacollado/opt/miniconda3/envs/myenv/lib/python3.9/site-packages/sklearn/utils/validation.py:993: DataConversionWarning: A column-vector y was passed when a 1d array was expected. Please change the shape of y to (n_samples, ), for example using ravel().\n",
      "  y = column_or_1d(y, warn=True)\n"
     ]
    },
    {
     "data": {
      "text/plain": [
       "HistGradientBoostingClassifier(learning_rate=0.2, max_depth=12,\n",
       "                               max_leaf_nodes=9001, min_samples_leaf=200,\n",
       "                               random_state=0)"
      ]
     },
     "execution_count": 56,
     "metadata": {},
     "output_type": "execute_result"
    }
   ],
   "source": [
    "m4.fit(X_trainR, y_trainR)"
   ]
  },
  {
   "cell_type": "code",
   "execution_count": 57,
   "metadata": {},
   "outputs": [
    {
     "data": {
      "text/plain": [
       "0.7236960955170751"
      ]
     },
     "execution_count": 57,
     "metadata": {},
     "output_type": "execute_result"
    }
   ],
   "source": [
    "m4.score(X_testR, y_testR)"
   ]
  },
  {
   "cell_type": "code",
   "execution_count": 60,
   "metadata": {},
   "outputs": [],
   "source": [
    "y_predm4R = m4.predict(X_testR)"
   ]
  },
  {
   "cell_type": "code",
   "execution_count": 61,
   "metadata": {},
   "outputs": [
    {
     "data": {
      "text/plain": [
       "0.7236960955170751"
      ]
     },
     "execution_count": 61,
     "metadata": {},
     "output_type": "execute_result"
    }
   ],
   "source": [
    "accuracy_score(y_testR, y_predm4R)"
   ]
  },
  {
   "cell_type": "code",
   "execution_count": 62,
   "metadata": {},
   "outputs": [
    {
     "data": {
      "text/plain": [
       "0.723829250092666"
      ]
     },
     "execution_count": 62,
     "metadata": {},
     "output_type": "execute_result"
    }
   ],
   "source": [
    "balanced_accuracy_score(y_testR, y_predm4R)"
   ]
  },
  {
   "cell_type": "markdown",
   "metadata": {},
   "source": [
    "Matriz de confusión"
   ]
  },
  {
   "cell_type": "code",
   "execution_count": 65,
   "metadata": {},
   "outputs": [],
   "source": [
    "from sklearn.metrics import confusion_matrix, ConfusionMatrixDisplay"
   ]
  },
  {
   "cell_type": "code",
   "execution_count": 66,
   "metadata": {},
   "outputs": [
    {
     "data": {
      "image/png": "[encoded data removed]",
      "text/plain": [
       "<Figure size 432x288 with 2 Axes>"
      ]
     },
     "metadata": {
      "needs_background": "light"
     },
     "output_type": "display_data"
    }
   ],
   "source": [
    "predictions = m4.predict(X_test)\n",
    "cm = confusion_matrix(y_testR, y_predm4R, labels=m.classes_)\n",
    "disp = ConfusionMatrixDisplay(confusion_matrix=cm, display_labels=m.classes_)\n",
    "disp.plot()\n",
    "plt.show()"
   ]
  },
  {
   "cell_type": "markdown",
   "metadata": {},
   "source": [
    "Métricas"
   ]
  },
  {
   "cell_type": "code",
   "execution_count": 67,
   "metadata": {},
   "outputs": [],
   "source": [
    "y_true=y_testR\n",
    "y_pred=y_predm4R"
   ]
  },
  {
   "cell_type": "markdown",
   "metadata": {},
   "source": [
    "**Accuracy / Exactitud** (proporción de predicciones que el modelo clasificó correctamente)"
   ]
  },
  {
   "cell_type": "code",
   "execution_count": 68,
   "metadata": {},
   "outputs": [
    {
     "data": {
      "text/plain": [
       "0.7236960955170751"
      ]
     },
     "execution_count": 68,
     "metadata": {},
     "output_type": "execute_result"
    }
   ],
   "source": [
    "accuracy_score(y_true, y_pred)"
   ]
  },
  {
   "cell_type": "markdown",
   "metadata": {},
   "source": [
    "**Recall / Sensibilidad** (qué proporción de positivos reales se identificó correctamente)"
   ]
  },
  {
   "cell_type": "code",
   "execution_count": 69,
   "metadata": {},
   "outputs": [
    {
     "data": {
      "text/plain": [
       "array([1.        , 0.90005718, 0.56478479, 0.46939275, 0.68491153])"
      ]
     },
     "execution_count": 69,
     "metadata": {},
     "output_type": "execute_result"
    }
   ],
   "source": [
    "from sklearn.metrics import recall_score\n",
    "recall_score(y_true, y_pred, average=None)"
   ]
  },
  {
   "cell_type": "code",
   "execution_count": 70,
   "metadata": {},
   "outputs": [
    {
     "data": {
      "text/html": [
       "<div>\n",
       "<style scoped>\n",
       "    .dataframe tbody tr th:only-of-type {\n",
       "        vertical-align: middle;\n",
       "    }\n",
       "\n",
       "    .dataframe tbody tr th {\n",
       "        vertical-align: top;\n",
       "    }\n",
       "\n",
       "    .dataframe thead th {\n",
       "        text-align: right;\n",
       "    }\n",
       "</style>\n",
       "<table border=\"1\" class=\"dataframe\">\n",
       "  <thead>\n",
       "    <tr style=\"text-align: right;\">\n",
       "      <th></th>\n",
       "      <th>Class</th>\n",
       "      <th>Recall</th>\n",
       "    </tr>\n",
       "  </thead>\n",
       "  <tbody>\n",
       "    <tr>\n",
       "      <th>0</th>\n",
       "      <td>1.0</td>\n",
       "      <td>1.000000</td>\n",
       "    </tr>\n",
       "    <tr>\n",
       "      <th>1</th>\n",
       "      <td>2.0</td>\n",
       "      <td>0.900057</td>\n",
       "    </tr>\n",
       "    <tr>\n",
       "      <th>2</th>\n",
       "      <td>3.0</td>\n",
       "      <td>0.564785</td>\n",
       "    </tr>\n",
       "    <tr>\n",
       "      <th>3</th>\n",
       "      <td>4.0</td>\n",
       "      <td>0.469393</td>\n",
       "    </tr>\n",
       "    <tr>\n",
       "      <th>4</th>\n",
       "      <td>5.0</td>\n",
       "      <td>0.684912</td>\n",
       "    </tr>\n",
       "  </tbody>\n",
       "</table>\n",
       "</div>"
      ],
      "text/plain": [
       "   Class    Recall\n",
       "0    1.0  1.000000\n",
       "1    2.0  0.900057\n",
       "2    3.0  0.564785\n",
       "3    4.0  0.469393\n",
       "4    5.0  0.684912"
      ]
     },
     "execution_count": 70,
     "metadata": {},
     "output_type": "execute_result"
    }
   ],
   "source": [
    "tabla= pd.DataFrame(m.classes_, columns={'Class'})\n",
    "tabla['Recall']=recall_score(y_true, y_pred, average=None)\n",
    "tabla"
   ]
  },
  {
   "cell_type": "markdown",
   "metadata": {},
   "source": [
    "**Precision** (de todas las identificaciones positivas cuantas fueron realmente correctas)"
   ]
  },
  {
   "cell_type": "code",
   "execution_count": 71,
   "metadata": {},
   "outputs": [
    {
     "data": {
      "text/plain": [
       "array([0.988826  , 0.72320672, 0.63038646, 0.562846  , 0.6750509 ])"
      ]
     },
     "execution_count": 71,
     "metadata": {},
     "output_type": "execute_result"
    }
   ],
   "source": [
    "from sklearn.metrics import precision_score\n",
    "precision_score(y_true, y_pred, average=None)"
   ]
  },
  {
   "cell_type": "code",
   "execution_count": 72,
   "metadata": {},
   "outputs": [
    {
     "data": {
      "text/html": [
       "<div>\n",
       "<style scoped>\n",
       "    .dataframe tbody tr th:only-of-type {\n",
       "        vertical-align: middle;\n",
       "    }\n",
       "\n",
       "    .dataframe tbody tr th {\n",
       "        vertical-align: top;\n",
       "    }\n",
       "\n",
       "    .dataframe thead th {\n",
       "        text-align: right;\n",
       "    }\n",
       "</style>\n",
       "<table border=\"1\" class=\"dataframe\">\n",
       "  <thead>\n",
       "    <tr style=\"text-align: right;\">\n",
       "      <th></th>\n",
       "      <th>Class</th>\n",
       "      <th>Precision</th>\n",
       "    </tr>\n",
       "  </thead>\n",
       "  <tbody>\n",
       "    <tr>\n",
       "      <th>0</th>\n",
       "      <td>1.0</td>\n",
       "      <td>0.988826</td>\n",
       "    </tr>\n",
       "    <tr>\n",
       "      <th>1</th>\n",
       "      <td>2.0</td>\n",
       "      <td>0.723207</td>\n",
       "    </tr>\n",
       "    <tr>\n",
       "      <th>2</th>\n",
       "      <td>3.0</td>\n",
       "      <td>0.630386</td>\n",
       "    </tr>\n",
       "    <tr>\n",
       "      <th>3</th>\n",
       "      <td>4.0</td>\n",
       "      <td>0.562846</td>\n",
       "    </tr>\n",
       "    <tr>\n",
       "      <th>4</th>\n",
       "      <td>5.0</td>\n",
       "      <td>0.675051</td>\n",
       "    </tr>\n",
       "  </tbody>\n",
       "</table>\n",
       "</div>"
      ],
      "text/plain": [
       "   Class  Precision\n",
       "0    1.0   0.988826\n",
       "1    2.0   0.723207\n",
       "2    3.0   0.630386\n",
       "3    4.0   0.562846\n",
       "4    5.0   0.675051"
      ]
     },
     "execution_count": 72,
     "metadata": {},
     "output_type": "execute_result"
    }
   ],
   "source": [
    "tabla1= pd.DataFrame(m.classes_, columns={'Class'})\n",
    "tabla1['Precision']=precision_score(y_true, y_pred, average=None)\n",
    "tabla1"
   ]
  },
  {
   "cell_type": "markdown",
   "metadata": {},
   "source": [
    "**Puntaje F1** (maximo 1, minimo 0)"
   ]
  },
  {
   "cell_type": "code",
   "execution_count": 73,
   "metadata": {},
   "outputs": [],
   "source": [
    "from sklearn.metrics import f1_score"
   ]
  },
  {
   "cell_type": "code",
   "execution_count": 74,
   "metadata": {},
   "outputs": [
    {
     "data": {
      "text/plain": [
       "0.716695326193371"
      ]
     },
     "execution_count": 74,
     "metadata": {},
     "output_type": "execute_result"
    }
   ],
   "source": [
    "f1_score(y_true, y_pred, average='weighted')"
   ]
  },
  {
   "cell_type": "markdown",
   "metadata": {},
   "source": [
    "F Beta"
   ]
  },
  {
   "cell_type": "code",
   "execution_count": 75,
   "metadata": {},
   "outputs": [],
   "source": [
    "from sklearn.metrics import fbeta_score"
   ]
  },
  {
   "cell_type": "code",
   "execution_count": 77,
   "metadata": {},
   "outputs": [
    {
     "data": {
      "text/plain": [
       "0.7236960955170751"
      ]
     },
     "execution_count": 77,
     "metadata": {},
     "output_type": "execute_result"
    }
   ],
   "source": [
    "fbeta_score(y_true, y_pred, average='micro', beta=0.5)"
   ]
  },
  {
   "cell_type": "code",
   "execution_count": 78,
   "metadata": {},
   "outputs": [
    {
     "data": {
      "text/plain": [
       "0.7156395184050005"
      ]
     },
     "execution_count": 78,
     "metadata": {},
     "output_type": "execute_result"
    }
   ],
   "source": [
    "fbeta_score(y_true, y_pred, average='macro', beta=0.5) #no tiene en cuenta label imbalance "
   ]
  },
  {
   "cell_type": "markdown",
   "metadata": {},
   "source": [
    "Curva ROC"
   ]
  },
  {
   "cell_type": "code",
   "execution_count": 82,
   "metadata": {},
   "outputs": [
    {
     "name": "stdout",
     "output_type": "stream",
     "text": [
      "Collecting scikit-plot\n",
      "  Downloading scikit_plot-0.3.7-py3-none-any.whl (33 kB)\n",
      "Requirement already satisfied: scipy>=0.9 in /Users/camilacollado/opt/miniconda3/envs/myenv/lib/python3.9/site-packages (from scikit-plot) (1.7.3)\n",
      "Requirement already satisfied: joblib>=0.10 in /Users/camilacollado/opt/miniconda3/envs/myenv/lib/python3.9/site-packages (from scikit-plot) (1.1.0)\n",
      "Requirement already satisfied: scikit-learn>=0.18 in /Users/camilacollado/opt/miniconda3/envs/myenv/lib/python3.9/site-packages (from scikit-plot) (1.0.2)\n",
      "Requirement already satisfied: matplotlib>=1.4.0 in /Users/camilacollado/opt/miniconda3/envs/myenv/lib/python3.9/site-packages (from scikit-plot) (3.5.1)\n",
      "Requirement already satisfied: numpy>=1.17 in /Users/camilacollado/opt/miniconda3/envs/myenv/lib/python3.9/site-packages (from matplotlib>=1.4.0->scikit-plot) (1.22.3)\n",
      "Requirement already satisfied: python-dateutil>=2.7 in /Users/camilacollado/opt/miniconda3/envs/myenv/lib/python3.9/site-packages (from matplotlib>=1.4.0->scikit-plot) (2.8.2)\n",
      "Requirement already satisfied: pyparsing>=2.2.1 in /Users/camilacollado/opt/miniconda3/envs/myenv/lib/python3.9/site-packages (from matplotlib>=1.4.0->scikit-plot) (3.0.4)\n",
      "Requirement already satisfied: packaging>=20.0 in /Users/camilacollado/opt/miniconda3/envs/myenv/lib/python3.9/site-packages (from matplotlib>=1.4.0->scikit-plot) (21.3)\n",
      "Requirement already satisfied: cycler>=0.10 in /Users/camilacollado/opt/miniconda3/envs/myenv/lib/python3.9/site-packages (from matplotlib>=1.4.0->scikit-plot) (0.11.0)\n",
      "Requirement already satisfied: kiwisolver>=1.0.1 in /Users/camilacollado/opt/miniconda3/envs/myenv/lib/python3.9/site-packages (from matplotlib>=1.4.0->scikit-plot) (1.3.2)\n",
      "Requirement already satisfied: pillow>=6.2.0 in /Users/camilacollado/opt/miniconda3/envs/myenv/lib/python3.9/site-packages (from matplotlib>=1.4.0->scikit-plot) (9.0.1)\n",
      "Requirement already satisfied: fonttools>=4.22.0 in /Users/camilacollado/opt/miniconda3/envs/myenv/lib/python3.9/site-packages (from matplotlib>=1.4.0->scikit-plot) (4.25.0)\n",
      "Requirement already satisfied: six>=1.5 in /Users/camilacollado/opt/miniconda3/envs/myenv/lib/python3.9/site-packages (from python-dateutil>=2.7->matplotlib>=1.4.0->scikit-plot) (1.16.0)\n",
      "Requirement already satisfied: threadpoolctl>=2.0.0 in /Users/camilacollado/opt/miniconda3/envs/myenv/lib/python3.9/site-packages (from scikit-learn>=0.18->scikit-plot) (2.2.0)\n",
      "Installing collected packages: scikit-plot\n",
      "Successfully installed scikit-plot-0.3.7\n",
      "Note: you may need to restart the kernel to use updated packages.\n"
     ]
    }
   ],
   "source": [
    "#pip install scikit-plot"
   ]
  },
  {
   "cell_type": "code",
   "execution_count": 83,
   "metadata": {},
   "outputs": [],
   "source": [
    "from scikitplot.metrics import plot_roc"
   ]
  },
  {
   "cell_type": "code",
   "execution_count": 85,
   "metadata": {},
   "outputs": [],
   "source": [
    "y_pred_proba = m4.predict_proba(X_testR)"
   ]
  },
  {
   "cell_type": "code",
   "execution_count": 86,
   "metadata": {},
   "outputs": [
    {
     "data": {
      "image/png": "[encoded data removed]",
      "text/plain": [
       "<Figure size 432x288 with 1 Axes>"
      ]
     },
     "metadata": {
      "needs_background": "light"
     },
     "output_type": "display_data"
    }
   ],
   "source": [
    "plot_roc(y_true, y_pred_proba, plot_micro=False, plot_macro=False)\n",
    "plt.show()"
   ]
  }
 ],
 "metadata": {
  "kernelspec": {
   "display_name": "Python 3.9.13 ('myenv')",
   "language": "python",
   "name": "python3"
  },
  "language_info": {
   "codemirror_mode": {
    "name": "ipython",
    "version": 3
   },
   "file_extension": ".py",
   "mimetype": "text/x-python",
   "name": "python",
   "nbconvert_exporter": "python",
   "pygments_lexer": "ipython3",
   "version": "3.9.13"
  },
  "orig_nbformat": 4,
  "vscode": {
   "interpreter": {
    "hash": "edd467fd8d7117474e089a26f5bd398d3660f7166967f45b576367d88f838c12"
   }
  }
 },
 "nbformat": 4,
 "nbformat_minor": 2
}
